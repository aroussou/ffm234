{
 "cells": [
  {
   "cell_type": "markdown",
   "metadata": {},
   "source": [
    "<!-- dom:TITLE: FFM234, Klassisk fysik och vektorfält - Veckans tal -->\n",
    "# FFM234, Klassisk fysik och vektorfält - Veckans tal\n",
    "<!-- dom:AUTHOR: Christin Rhen, Chalmers -->\n",
    "<!-- Author: -->  \n",
    "**Christin Rhen, Chalmers**\n",
    "\n",
    "Date: **Aug 10, 2019**\n",
    "\n",
    "<!-- --- begin exercise --- -->\n",
    "\n",
    "## Uppgift 9.4.10: Vektorfält från Greensfunktion\n",
    "\n",
    "På en sfär med radien $a$ befinner sig en ytkälla med tätheten $\\sigma(\\vec r)=\\sigma_0\\cos\\theta$, där $\\theta$ är vinkeln från en punkt på sfären. Bestäm vektorfältet för en punkt på symmetriaxeln.\n",
    "\n",
    "<!-- --- begin hint in exercise --- -->\n",
    "\n",
    "**Hint.**\n",
    "* Betrakta punkter $\\vec{r} = z\\hat{z}$, dvs längs symmetriaxeln.\n",
    "\n",
    "* Teckna Greensfunktionen $G(\\vec{r},\\vec{r}\\,') = (4\\pi|\\vec{r}-\\vec{r}\\,'|)^{-1}$ och fundera på hur avståndet kan uttryckas när $\\vec{r}=z\\hat{z}$.\n",
    "\n",
    "* Ytkällan motsvarar en laddningsfördelning $\\rho(\\vec{r}) = \\sigma_0 \\cos\\theta \\delta(r-a)$.\n",
    "\n",
    "* Resultatet blir en ganska krånglig integral där variablsubstitutionen $t = z^2 +a^2−2za\\cos\\theta'$ kan komma väl till pass.\n",
    "\n",
    "* Notera sedan att man får olika fall beroende på tecknen på $(z+a)$ och $(z-a)$.\n",
    "\n",
    "<!-- --- end hint in exercise --- -->\n",
    "\n",
    "\n",
    "<!-- --- begin answer of exercise --- -->\n",
    "**Answer.**"
   ]
  },
  {
   "cell_type": "markdown",
   "metadata": {},
   "source": [
    "<!-- Equation labels as ordinary links -->\n",
    "<div id=\"_auto1\"></div>\n",
    "\n",
    "$$\n",
    "\\begin{equation}\n",
    "\\vec F = \\left\\{\n",
    "\\begin{array}{ll}\n",
    "-\\frac{\\sigma_0}3\\hat z, & |z| < a \\\\\n",
    "\\frac{2\\sigma_0a^3}{3|z|^3}\\hat z, & |z|>a\n",
    "\\end{array}\n",
    "\\right.\n",
    "\\label{_auto1} \\tag{1}\n",
    "\\end{equation}\n",
    "$$"
   ]
  },
  {
   "cell_type": "markdown",
   "metadata": {},
   "source": [
    "<!-- --- end answer of exercise --- -->\n",
    "\n",
    "\n",
    "<!-- --- begin solution of exercise --- -->\n",
    "**Solution.**\n",
    "Eftersom att punkten $\\vec r$ befinner sig på ytkällans symmetriaxel, kan vi definiera ett kartesiskt koordinatsystem så att denna symmetriaxel sammanfaller med $z$-axeln. Då blir $\\theta$ samma vinkel som den vi normalt kallar $\\theta$ i sfäriska koordinater, och $\\vec r=z\\hat z$.\n",
    "\n",
    "Vektorfältet $\\vec F(\\vec r)=-\\nabla\\phi(\\vec r)$, där potentialen $\\phi(\\vec r)$ ges av"
   ]
  },
  {
   "cell_type": "markdown",
   "metadata": {},
   "source": [
    "<!-- Equation labels as ordinary links -->\n",
    "<div id=\"_auto2\"></div>\n",
    "\n",
    "$$\n",
    "\\begin{equation}\n",
    "    \\phi(\\vec r)=\\int_{\\mathrm R^3}G(\\vec r,\\vec r')\\rho(\\vec r')\\mathrm dV'.\n",
    "\\label{_auto2} \\tag{2}\n",
    "\\end{equation}\n",
    "$$"
   ]
  },
  {
   "cell_type": "markdown",
   "metadata": {},
   "source": [
    "Eftersom att vi är i tre dimensioner är Greensfunktionen $G(\\vec r,\\vec r')=[4\\pi|\\vec r-\\vec r'|]^{-1}$. Den angivna laddningstätheten är en ytkälla, så $\\rho(\\vec r\\,')=\\delta(r'-a)\\sigma_0\\cos\\theta'$. Vi betraktar $\\vec{r} = z\\hat{z}$ och får alltså"
   ]
  },
  {
   "cell_type": "markdown",
   "metadata": {},
   "source": [
    "<!-- Equation labels as ordinary links -->\n",
    "<div id=\"_auto3\"></div>\n",
    "\n",
    "$$\n",
    "\\begin{equation}\n",
    "    \\phi(z\\hat z)=\\int_{\\mathbb R^3}\\frac{\\delta(r'-a)\\sigma_0\\cos\\theta'}{4\\pi\\sqrt{z^2+r'^2-2zr'\\cos\\theta'}}r'^2\\sin\\theta'\\mathrm dr'\\mathrm d\\theta'\\mathrm d\\varphi'\n",
    "\\label{_auto3} \\tag{3}\n",
    "\\end{equation}\n",
    "$$"
   ]
  },
  {
   "cell_type": "markdown",
   "metadata": {},
   "source": [
    "<!-- Equation labels as ordinary links -->\n",
    "<div id=\"_auto4\"></div>\n",
    "\n",
    "$$\n",
    "\\begin{equation} \n",
    "    =\\frac{\\sigma_0a^2}2\\int_0^\\pi \\frac{\\cos\\theta'\\sin\\theta'}{\\sqrt{z^2+a^2-2za\\cos\\theta'}}\\mathrm d\\theta'.\n",
    "\\label{_auto4} \\tag{4}\n",
    "\\end{equation}\n",
    "$$"
   ]
  },
  {
   "cell_type": "markdown",
   "metadata": {},
   "source": [
    "Vi gör nu variabelsubstitutionen"
   ]
  },
  {
   "cell_type": "markdown",
   "metadata": {},
   "source": [
    "$$\n",
    "\\begin{gather}\n",
    "t=z^2+a^2-2za\\cos\\theta',\\nonumber\\\\\n",
    "\\mathrm dt=2za\\sin\\theta'\\mathrm d\\theta',\\nonumber\\\\\n",
    "\\theta'=0\\to t=(z-a)^2,\\nonumber\\\\\n",
    "\\theta'=\\pi\\to t=(z+a)^2.\n",
    "\\end{gather}\n",
    "$$"
   ]
  },
  {
   "cell_type": "markdown",
   "metadata": {},
   "source": [
    "Nämnaren i integranden blir nu $\\sqrt t$, och $\\sin\\theta'$ i täljaren blir en del av $\\mathrm dt$. Det kvarvarande $\\cos\\theta'$ i täljaren får vi genom att lösa ut $\\cos\\theta'$ ur definitionen av $t$. \n",
    "\n",
    "Integralen är nu"
   ]
  },
  {
   "cell_type": "markdown",
   "metadata": {},
   "source": [
    "<!-- Equation labels as ordinary links -->\n",
    "<div id=\"_auto5\"></div>\n",
    "\n",
    "$$\n",
    "\\begin{equation}\n",
    "    \\phi(\\vec r)=\\frac{\\sigma_0}{4z^2}\\int_{(z-a)^2}^{(z+a)^2} \\frac{z^2+a^2-t}{2\\sqrt t}\\mathrm dt\n",
    "\\label{_auto5} \\tag{5}\n",
    "\\end{equation}\n",
    "$$"
   ]
  },
  {
   "cell_type": "markdown",
   "metadata": {},
   "source": [
    "<!-- Equation labels as ordinary links -->\n",
    "<div id=\"_auto6\"></div>\n",
    "\n",
    "$$\n",
    "\\begin{equation} \n",
    "    =\\frac{\\sigma_0}{4z^2}\\left[(z^2+a^2)\\int_{(z-a)^2}^{(z+a)^2} \\frac1{2\\sqrt t}\\mathrm dt-\\int_{(z-a)^2}^{(z+a)^2} \\frac{\\sqrt t}2\\mathrm dt\\right]\n",
    "\\label{_auto6} \\tag{6}\n",
    "\\end{equation}\n",
    "$$"
   ]
  },
  {
   "cell_type": "markdown",
   "metadata": {},
   "source": [
    "<!-- Equation labels as ordinary links -->\n",
    "<div id=\"_auto7\"></div>\n",
    "\n",
    "$$\n",
    "\\begin{equation} \n",
    "    =\\frac{\\sigma_0}{4z^2}\\left[(z^2+a^2)\\Big[\\sqrt t\\Big]_{(z-a)^2}^{(z+a)^2} -\\frac13\\Big[t^{3/2}\\Big]_{(z-a)^2}^{(z+a)^2}\\right]\n",
    "\\label{_auto7} \\tag{7}\n",
    "\\end{equation}\n",
    "$$"
   ]
  },
  {
   "cell_type": "markdown",
   "metadata": {},
   "source": [
    "<!-- Equation labels as ordinary links -->\n",
    "<div id=\"phi\"></div>\n",
    "\n",
    "$$\n",
    "\\begin{equation} \n",
    "    =\\frac{\\sigma_0}{4z^2}\\left[(z^2+a^2)\\Big[|z+a|-|z-a|\\Big]-\\frac13\\Big[|z+a|^3-|z-a|^3)\\Big]\\right].\n",
    "\\label{phi} \\tag{8}\n",
    "\\end{equation}\n",
    "$$"
   ]
  },
  {
   "cell_type": "markdown",
   "metadata": {},
   "source": [
    "Kom ihåg att för alla reella tal $x$ så är $\\sqrt{x^2}=|x|$. Vi får alltså fyra fall - $|z|>a$ och $|z|<a$ kombinerat med $z>0$ och $z<0$ - som måste behandlas var för sig. \n",
    "\n",
    "### Inuti sfären\n",
    "\n",
    "Eftersom att $a>z$ så är $|z+a|=z+a$ och $|z-a|=a-z$, oavsett om $z$ är positiv eller negativ. Två av de fyra fallen kan alltså studeras samtidigt. \n",
    "\n",
    "Insättning av absolutbeloppen ovan i ekvation ([phi](#phi)) ger, efter en smula algebra, att $\\phi(\\vec r)=\\sigma_0 z/3$. Vektorfältet blir då"
   ]
  },
  {
   "cell_type": "markdown",
   "metadata": {},
   "source": [
    "<!-- Equation labels as ordinary links -->\n",
    "<div id=\"_auto8\"></div>\n",
    "\n",
    "$$\n",
    "\\begin{equation}\n",
    "    \\vec F =-\\hat z\\frac{\\partial\\phi}{\\partial z}=-\\frac{\\sigma_0}3\\hat z.\n",
    "\\label{_auto8} \\tag{9}\n",
    "\\end{equation}\n",
    "$$"
   ]
  },
  {
   "cell_type": "markdown",
   "metadata": {},
   "source": [
    "### Utanför sfären\n",
    "\n",
    "Här måste positiva och negativa $z$ studeras var för sig.\n",
    "\n",
    "När $z>a>0$ är $|z+a|=z+a$ och $|r-a|=r-a$. Substitution i ([phi](#phi)) och förenkling av resultatet ger att $\\phi(\\vec r)=\\sigma_0a^3/3z^2$. Vektorfältet blir"
   ]
  },
  {
   "cell_type": "markdown",
   "metadata": {},
   "source": [
    "<!-- Equation labels as ordinary links -->\n",
    "<div id=\"z+\"></div>\n",
    "\n",
    "$$\n",
    "\\begin{equation}\n",
    "    \\vec F =-\\hat z\\frac{\\partial\\phi}{\\partial r}=\\frac{2\\sigma_0a^3}{3z^3}\\hat z,\\quad z>0. \\label{z+} \\tag{10}\n",
    "\\end{equation}\n",
    "$$"
   ]
  },
  {
   "cell_type": "markdown",
   "metadata": {},
   "source": [
    "När $|z|>a$ men $z<0$ så blir $|z+a|=-(z+a)$ och $|z-a|=-(z-a)$. Den här gången blir $\\phi(\\vec r)=-\\sigma_0a^3/3z^2$ och"
   ]
  },
  {
   "cell_type": "markdown",
   "metadata": {},
   "source": [
    "<!-- Equation labels as ordinary links -->\n",
    "<div id=\"z-\"></div>\n",
    "\n",
    "$$\n",
    "\\begin{equation}\n",
    "    \\vec F =-\\hat z\\frac{\\partial\\phi}{\\partial r}=-\\frac{2\\sigma_0a^3}{3z^3}\\hat z,\\quad z<0.\\label{z-} \\tag{11}\n",
    "\\end{equation}\n",
    "$$"
   ]
  },
  {
   "cell_type": "markdown",
   "metadata": {},
   "source": [
    "Notera att alla kvantiteter utom $z$ i ([z+](#z+)) och ([z-](#z-)) är konstanter; de ändrar alltså aldrig tecken. Därför kan vi kombinera dessa två ekvationer, och uttrycka fältet överallt utanför sfären som"
   ]
  },
  {
   "cell_type": "markdown",
   "metadata": {},
   "source": [
    "<!-- Equation labels as ordinary links -->\n",
    "<div id=\"_auto9\"></div>\n",
    "\n",
    "$$\n",
    "\\begin{equation}\n",
    "    \\vec F =-\\hat z\\frac{\\partial\\phi}{\\partial r}=-\\frac{2\\sigma_0a^3}{3|z|^3}\\hat z.\n",
    "\\label{_auto9} \\tag{12}\n",
    "\\end{equation}\n",
    "$$"
   ]
  },
  {
   "cell_type": "markdown",
   "metadata": {},
   "source": [
    "### Kontroll: ytladdning\n",
    "\n",
    "Notera att vårt fält, betraktat längs symmetriaxeln, har en diskontinuitet vid $z=\\pm a$. Denna motsvarar ytladdningen. T.ex., vid $\\theta = 0$ (dvs $z=+a$) har vi enligt uppgiftsformuleringen en ytladdning med styrkan $\\sigma_0$. Detta kan vi verifiera genom att räkna ut"
   ]
  },
  {
   "cell_type": "markdown",
   "metadata": {},
   "source": [
    "<!-- Equation labels as ordinary links -->\n",
    "<div id=\"_auto10\"></div>\n",
    "\n",
    "$$\n",
    "\\begin{equation}\n",
    "\\hat{z} \\cdot \\left( \\vec{F}_+ - \\vec{F}_- \\right)_{z=a} = \\frac{2\\sigma_0}{3} - \\frac{-\\sigma_0}{3} = \\sigma_0.\n",
    "\\label{_auto10} \\tag{13}\n",
    "\\end{equation}\n",
    "$$"
   ]
  },
  {
   "cell_type": "markdown",
   "metadata": {},
   "source": [
    "<!-- --- end solution of exercise --- -->\n",
    "\n",
    "<!-- --- end exercise --- -->"
   ]
  }
 ],
 "metadata": {},
 "nbformat": 4,
 "nbformat_minor": 2
}
