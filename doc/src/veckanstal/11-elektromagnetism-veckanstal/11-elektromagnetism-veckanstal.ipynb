{
 "cells": [
  {
   "cell_type": "markdown",
   "metadata": {},
   "source": [
    "<!-- dom:TITLE: FFM234, Klassisk fysik och vektorfält - Veckans tal -->\n",
    "# FFM234, Klassisk fysik och vektorfält - Veckans tal\n",
    "<!-- dom:AUTHOR: [Christian Forssén](http://fy.chalmers.se/subatom/nt/), Institutionen för fysik, Chalmers -->\n",
    "<!-- Author: -->  \n",
    "**[Christian Forssén](http://fy.chalmers.se/subatom/nt/), Institutionen för fysik, Chalmers**\n",
    "\n",
    "Date: **Aug 10, 2019**\n",
    "\n",
    "<!-- --- begin exercise --- -->\n",
    "\n",
    "## Uppgift 11.8.8\n",
    "\n",
    "Bestäm $\\vec{E}$-fältet överallt i rummet från en sfäriskt symmetrisk laddningsfördelning bestående av två delar, nämligen en rymdladdning $\\rho(r) = \\rho_0$ för $r< a/2$ och $\\rho = 0$ för $r > a/2$ och en ytladdning $\\sigma = -\\rho_0 a/24$ på sfären $r = a$.\n",
    "\n",
    "<!-- --- begin hint in exercise --- -->\n",
    "\n",
    "**Hint.**\n",
    "* Utnyttja den sfäriska symmetrin i problemet som gör att $\\vec{E} = E_r \\hat{r}$.\n",
    "\n",
    "* Använd Maxwells första ekvation som säger att $\\nabla \\cdot \\vec{E} = \\rho / \\epsilon_0$, där $\\rho$ är laddningstätheten.\n",
    "\n",
    "* En volymsintegral av laddningstätheten (t.ex. över en sfär med radien $r$) ger den inneslutna laddningen.\n",
    "\n",
    "* Motsvarande volymsintegral över VL av Maxwells första ekv (dvs över divergensen av $\\vec{E}$-fältet) kan skrivas om med Gauss sats.\n",
    "\n",
    "* En ytladdning har enheten laddning/area. Dvs den totala laddningen på det yttre skalet fås genom att integrera över ytan.\n",
    "\n",
    "<!-- --- end hint in exercise --- -->\n",
    "\n",
    "\n",
    "<!-- --- begin answer of exercise --- -->\n",
    "**Answer.**"
   ]
  },
  {
   "cell_type": "markdown",
   "metadata": {},
   "source": [
    "<!-- Equation labels as ordinary links -->\n",
    "<div id=\"_auto1\"></div>\n",
    "\n",
    "$$\n",
    "\\begin{equation}\n",
    "E\\left(r\\right) = \\frac{\\rho_0}{3 \\epsilon_0} r \\quad  \\mathrm{för~} r < \\frac{a}{2} \n",
    "\\label{_auto1} \\tag{1}\n",
    "\\end{equation}\n",
    "$$"
   ]
  },
  {
   "cell_type": "markdown",
   "metadata": {},
   "source": [
    "<!-- Equation labels as ordinary links -->\n",
    "<div id=\"_auto2\"></div>\n",
    "\n",
    "$$\n",
    "\\begin{equation} \n",
    "E\\left(r\\right) =\\frac{\\rho_0}{24\\epsilon_0} \\frac{a^3}{r^2} \\quad  \\mathrm{för~} \\frac{a}{2} < r < a \n",
    "\\label{_auto2} \\tag{2}\n",
    "\\end{equation}\n",
    "$$"
   ]
  },
  {
   "cell_type": "markdown",
   "metadata": {},
   "source": [
    "<!-- Equation labels as ordinary links -->\n",
    "<div id=\"_auto3\"></div>\n",
    "\n",
    "$$\n",
    "\\begin{equation} \n",
    "E\\left(r\\right) = 0 \\quad  \\mathrm{för~} r > a\n",
    "\\label{_auto3} \\tag{3}\n",
    "\\end{equation}\n",
    "$$"
   ]
  },
  {
   "cell_type": "markdown",
   "metadata": {},
   "source": [
    "<!-- --- end answer of exercise --- -->\n",
    "\n",
    "\n",
    "<!-- --- begin solution of exercise --- -->\n",
    "**Solution.**\n",
    "Att göra\n",
    "\n",
    "<!-- --- end solution of exercise --- -->\n",
    "\n",
    "<!-- Closing remarks for this Exercise -->\n",
    "\n",
    "### Remarks\n",
    "\n",
    "Uppgiften illustrerar användandet av Maxwells ekvationer och hur vi kan utnyttja en integralsats.\n",
    "\n",
    "\n",
    "<!-- --- end exercise --- -->"
   ]
  }
 ],
 "metadata": {},
 "nbformat": 4,
 "nbformat_minor": 2
}
