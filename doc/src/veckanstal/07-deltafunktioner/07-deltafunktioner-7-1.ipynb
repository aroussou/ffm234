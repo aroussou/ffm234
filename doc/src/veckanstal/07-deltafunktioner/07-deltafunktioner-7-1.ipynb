{
 "cells": [
  {
   "cell_type": "markdown",
   "metadata": {},
   "source": [
    "<!-- dom:TITLE: FFM234, Klassisk fysik och vektorfält - Veckans tal -->\n",
    "# FFM234, Klassisk fysik och vektorfält - Veckans tal\n",
    "<!-- dom:AUTHOR: Christin Rhen, Chalmers -->\n",
    "<!-- Author: -->  \n",
    "**Christin Rhen, Chalmers**\n",
    "\n",
    "Date: **Aug 10, 2019**\n",
    "\n",
    "<!-- --- begin exercise --- -->\n",
    "\n",
    "## Uppgift 7.5.1: Stegfunktioner och deltafunktioner\n",
    "\n",
    "Konstruera approximationerna till stegfunktionen svarande mot approximationerna av deltafunktionen i ekv. (7.6), (7.7) och (7.8)!\n",
    "\n",
    "<!-- --- begin hint in exercise --- -->\n",
    "\n",
    "**Hint.**\n",
    "* Varje given deltafunktions-approximation kan integreras och ger då en motsvarande stegfunktions-approximation. \n",
    "\n",
    "* Utför integralen först och låt sedan $\\epsilon \\to 0$. Glöm inte att skissa funktionerna.\n",
    "\n",
    "* I fallet med den Gaussiska deltafunktions-approximationen får man en primitiv funktion som innehåller den s.k. felfunktionen $\\mathrm{erf}(x)$.\n",
    "\n",
    "<!-- --- end hint in exercise --- -->\n",
    "\n",
    "\n",
    "<!-- --- begin answer of exercise --- -->\n",
    "**Answer.**\n",
    "I samtliga fall har man $\\sigma_\\epsilon (x)=\\int_{-\\infty}^x h_\\epsilon (y)dy$, där $h_\\epsilon(x)$ är approximationen av $\\delta(x)$. Svarande mot (7.6) har man en styckvis linjär och kontinuerlig funktion som är 0 för $x<-\\frac{\\epsilon}{2}$, 1 för $x>\\frac{\\epsilon}{2}$ och växer linjärt däremellan. Svarande mot (7.7) har man $\\sigma_\\epsilon(x)=\\frac{1}{2}\\left(1+\\mathrm{erf}(\\frac{x}{\\epsilon})\\right)$ och mot (7.8) har man $\\sigma_\\epsilon(x)=\\frac{1}{2}+\\frac{1}{\\pi}\\tanh(\\frac{x}{\\epsilon})$.\n",
    "\n",
    "<!-- --- end answer of exercise --- -->\n",
    "\n",
    "\n",
    "<!-- --- begin solution of exercise --- -->\n",
    "**Solution.**\n",
    "Stegfunktionen kan definieras som (ekvation (7.10) i kurskompendiet)"
   ]
  },
  {
   "cell_type": "markdown",
   "metadata": {},
   "source": [
    "<!-- Equation labels as ordinary links -->\n",
    "<div id=\"step\"></div>\n",
    "\n",
    "$$\n",
    "\\begin{equation}\n",
    "    H(x) =\\int_{-\\infty}^x\\mathrm dt\\ \\delta(t)=\\left\\{\\begin{array}{cc}\n",
    "        0 & x < 0 \\\\\n",
    "        1 & x > 0\n",
    "    \\end{array} \\right..\n",
    "    \\label{step} \\tag{1}\n",
    "\\end{equation}\n",
    "$$"
   ]
  },
  {
   "cell_type": "markdown",
   "metadata": {},
   "source": [
    "Exakt vilket värde $H(0)$ antar varierar i litteraturen. Vanligt är att $H(0)$ är odefinierat eller lika med $1/2$. \n",
    "\n",
    "Varje given deltafunktions-approximation kan alltså integreras enligt ekvation ([step](#step)) och ger då en motsvarande stegfunktions-approximation. Till exempel kan"
   ]
  },
  {
   "cell_type": "markdown",
   "metadata": {},
   "source": [
    "<!-- Equation labels as ordinary links -->\n",
    "<div id=\"_auto1\"></div>\n",
    "\n",
    "$$\n",
    "\\begin{equation}\n",
    "    \\delta(x)=\\lim_{\\epsilon\\rightarrow 0}h_\\epsilon(x) =\\lim_{\\epsilon\\rightarrow 0}\\left\\{\\begin{array}{cc}\n",
    "        1/\\epsilon & |x| < \\epsilon/2 \\\\\n",
    "        0 & |x| > \\epsilon/2\n",
    "    \\end{array} \\right.\n",
    "\\label{_auto1} \\tag{2}\n",
    "\\end{equation}\n",
    "$$"
   ]
  },
  {
   "cell_type": "markdown",
   "metadata": {},
   "source": [
    "integreras trivialt till (med eget val av integrationskonstant)"
   ]
  },
  {
   "cell_type": "markdown",
   "metadata": {},
   "source": [
    "<!-- Equation labels as ordinary links -->\n",
    "<div id=\"_auto2\"></div>\n",
    "\n",
    "$$\n",
    "\\begin{equation}\n",
    "    H(x)=\\lim_{\\epsilon\\rightarrow 0}\\left\\{\\begin{array}{cc}\n",
    "        0 & x < -\\epsilon/2 \\\\\n",
    "        \\frac{x}{\\epsilon}+\\frac{1}{2} & -\\epsilon/2<x<\\epsilon/2 \\\\\n",
    "        1 & x > \\epsilon/2\n",
    "    \\end{array} \\right..\n",
    "\\label{_auto2} \\tag{3}\n",
    "\\end{equation}\n",
    "$$"
   ]
  },
  {
   "cell_type": "markdown",
   "metadata": {},
   "source": [
    "För den Gaussiska deltafunktions-approximationen $h_\\epsilon(x) =\\exp\\left[-x^2/\\epsilon^2\\right]/\\epsilon\\sqrt\\pi$ får vi stegfunktionen (med eget val av integrationskonstant)"
   ]
  },
  {
   "cell_type": "markdown",
   "metadata": {},
   "source": [
    "<!-- Equation labels as ordinary links -->\n",
    "<div id=\"_auto3\"></div>\n",
    "\n",
    "$$\n",
    "\\begin{equation}\n",
    "H(x)=\\lim_{\\epsilon\\rightarrow 0}\\frac{1}{2}\\left[1+\\mathrm{erf}\\left(\\frac{ x}{\\epsilon}\\right)\\right].\n",
    "\\label{_auto3} \\tag{4}\n",
    "\\end{equation}\n",
    "$$"
   ]
  },
  {
   "cell_type": "markdown",
   "metadata": {},
   "source": [
    "Här är felfunktionen"
   ]
  },
  {
   "cell_type": "markdown",
   "metadata": {},
   "source": [
    "<!-- Equation labels as ordinary links -->\n",
    "<div id=\"_auto4\"></div>\n",
    "\n",
    "$$\n",
    "\\begin{equation}\n",
    "    \\mathrm{erf}(x)=\\frac2{\\sqrt\\pi}\\int_0^x\\mathrm dt\\ e^{-t^2}.\n",
    "\\label{_auto4} \\tag{5}\n",
    "\\end{equation}\n",
    "$$"
   ]
  },
  {
   "cell_type": "markdown",
   "metadata": {},
   "source": [
    "Slutligen har vi den Lorentzianska approximationen $h_\\epsilon(x)=\\epsilon\\pi^{-1}(x^2+\\epsilon^2)^{-1}$, som även den är rättfram att integrera. Resultatet är (med eget val av integrationskonstant)"
   ]
  },
  {
   "cell_type": "markdown",
   "metadata": {},
   "source": [
    "<!-- Equation labels as ordinary links -->\n",
    "<div id=\"_auto5\"></div>\n",
    "\n",
    "$$\n",
    "\\begin{equation}\n",
    "H(x)=\\lim_{\\epsilon\\rightarrow 0}\\left[\\tfrac12+\\tfrac12\\tanh\\left(\\tfrac x\\epsilon\\right)\\right].\n",
    "\\label{_auto5} \\tag{6}\n",
    "\\end{equation}\n",
    "$$"
   ]
  },
  {
   "cell_type": "markdown",
   "metadata": {},
   "source": [
    "Utseendet på dessa funktioner skissas i figurerna [fig:711](#fig:711) och [fig:712](#fig:712) för några olika värden på $\\epsilon$.\n",
    "\n",
    "<!-- dom:FIGURE:[fig/fig711.png, width=600 frac=0.6] Primitiva funktionen till den Gaussiska approximationen av deltafunktionen i gränsen $\\epsilon \\to 0$. <div id=\"fig:711\"></div> -->\n",
    "<!-- begin figure -->\n",
    "<div id=\"fig:711\"></div>\n",
    "\n",
    "<p>Primitiva funktionen till den Gaussiska approximationen av deltafunktionen i gränsen $\\epsilon \\to 0$.</p>\n",
    "<img src=\"fig/fig711.png\" width=600>\n",
    "\n",
    "<!-- end figure -->\n",
    "\n",
    "\n",
    "<!-- dom:FIGURE:[fig/fig712.png, width=600 frac=0.6] Primitiva funktionen till den Lorentziska approximationen av deltafunktionen i gränsen $\\epsilon \\to 0$. <div id=\"fig:712\"></div> -->\n",
    "<!-- begin figure -->\n",
    "<div id=\"fig:712\"></div>\n",
    "\n",
    "<p>Primitiva funktionen till den Lorentziska approximationen av deltafunktionen i gränsen $\\epsilon \\to 0$.</p>\n",
    "<img src=\"fig/fig712.png\" width=600>\n",
    "\n",
    "<!-- end figure -->\n",
    "\n",
    "\n",
    "<!-- --- end solution of exercise --- -->\n",
    "\n",
    "<!-- Closing remarks for this Exercise -->\n",
    "\n",
    "### Remarks\n",
    "\n",
    "Uppgiften illustrerar hur en stegfunktion resulterar som en primitiv funktion till en deltafunktion. Vi undersöker olika distributioner för vilka integralen kan utföras analytiskt och studerar sedan gränsen då $\\epsilon \\to 0$.\n",
    "\n",
    "\n",
    "<!-- --- end exercise --- -->"
   ]
  }
 ],
 "metadata": {},
 "nbformat": 4,
 "nbformat_minor": 2
}
