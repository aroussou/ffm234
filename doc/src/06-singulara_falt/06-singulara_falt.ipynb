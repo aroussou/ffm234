{
 "cells": [
  {
   "cell_type": "markdown",
   "metadata": {},
   "source": [
    "<!-- dom:TITLE: FFM232, Klassisk fysik och vektorfält - Föreläsningsanteckningar -->\n",
    "# FFM232, Klassisk fysik och vektorfält - Föreläsningsanteckningar\n",
    "<!-- dom:AUTHOR: [Christian Forssén](http://fy.chalmers.se/subatom/tsp/), Institutionen för fysik, Chalmers, Göteborg, Sverige -->\n",
    "<!-- Author: --> **[Christian Forssén](http://fy.chalmers.se/subatom/tsp/), Institutionen för fysik, Chalmers, Göteborg, Sverige**\n",
    "\n",
    "Date: **Sep 22, 2016**\n",
    "\n",
    "## Repetition: Integralsatser\n",
    "\n",
    "* Gauss sats"
   ]
  },
  {
   "cell_type": "markdown",
   "metadata": {},
   "source": [
    "$$\n",
    "\\begin{equation}\n",
    "  \\int_V \\nabla \\cdot \\vec{F} \\mbox{d}V = \\oint_{\\partial V} \\vec{F} \\cdot \\mbox{d} \\vec{S}.\n",
    "\\end{equation}\n",
    "$$"
   ]
  },
  {
   "cell_type": "markdown",
   "metadata": {},
   "source": [
    "* Stokes sats"
   ]
  },
  {
   "cell_type": "markdown",
   "metadata": {},
   "source": [
    "$$\n",
    "\\begin{equation}\n",
    "  \\int_S \\left( \\nabla \\times \\vec{F}\\right) \\cdot \\mbox{d}\\vec{S} = \\oint_{\\partial S} \\vec{F}\\cdot\n",
    "\\mbox{d}\\vec{r},\n",
    "\\end{equation}\n",
    "$$"
   ]
  },
  {
   "cell_type": "markdown",
   "metadata": {},
   "source": [
    "Gäller för kontinuerligt deriverbara vektorfält. Vad händer om fältet har en singularitet?\n",
    "\n",
    "# 6. Singulära fält\n",
    "\n",
    "Det finns tre viktiga typer av singulariteter, vilka dyker upp för speciella vektorfält:\n",
    "\n",
    "* Punktkälla \n",
    "\n",
    "* Linjeälla \n",
    "\n",
    "* Virveltråd\n",
    "\n",
    "## Punktkällor\n",
    "\n",
    "Ett fält av formen"
   ]
  },
  {
   "cell_type": "markdown",
   "metadata": {},
   "source": [
    "$$\n",
    "\\begin{equation}\n",
    "  \\vec{F} = \\frac{q}{4 \\pi r^2}\\hat{e}_{r}\n",
    "\\end{equation}\n",
    "$$"
   ]
  },
  {
   "cell_type": "markdown",
   "metadata": {},
   "source": [
    "kallas för fältet från en punktkälla med styrkan $q$. Med lämplig tolkning av konstanten $q$ kan detta t.ex. föreställa det elektriska fältet från en laddning i origo, eller gravitationsfältet från en massa i origo.  \n",
    "\n",
    "[Comment 1: Notera att detta fält är singulärt i origo. Skissa gärna fältlinjerna.]\n",
    "\n",
    "Detta fält är rotationsfritt (åtminstone för $r>0$)"
   ]
  },
  {
   "cell_type": "markdown",
   "metadata": {},
   "source": [
    "$$\n",
    "\\begin{equation}\n",
    "\\nabla\\times\\vec F = \\frac{1}{r^2\\sin\\theta}\n",
    "\\begin{vmatrix}\n",
    "\\hat{e}_r&r\\hat{e}_\\theta&r\\sin\\theta\\hat{e}_\\varphi \\\\ \n",
    "\n",
    "\n",
    "\\frac{\\partial}{\\partial r}&\n",
    "\\frac{\\partial}{\\partial \\theta}&\n",
    "\\frac{\\partial}{\\partial \\varphi} \\\\ \n",
    "F_r(r)&0&0\n",
    "\\end{vmatrix}=0\n",
    "\\end{equation}\n",
    "$$"
   ]
  },
  {
   "cell_type": "markdown",
   "metadata": {},
   "source": [
    "Rotationsfriheten är också en direkt följd av att $\\vec F = - \\nabla \\phi$ med den skalära potentialen"
   ]
  },
  {
   "cell_type": "markdown",
   "metadata": {},
   "source": [
    "$$\n",
    "\\begin{equation}\n",
    "\\phi=\\frac{q}{4\\pi r}\n",
    "\\end{equation}\n",
    "$$"
   ]
  },
  {
   "cell_type": "markdown",
   "metadata": {},
   "source": [
    "Vektorfältet $\\vec F$ är också divergensfritt (för $r>0$)"
   ]
  },
  {
   "cell_type": "markdown",
   "metadata": {},
   "source": [
    "$$\n",
    "\\begin{equation}\n",
    "\\nabla\\cdot\\vec F=\\frac{1}{r^2}\n",
    " \\frac{\\partial}{\\partial r}\\left(r^2 \\frac{q}{4\\pi\n",
    "r^2}\\right)=0, \\quad r>0\n",
    "\\end{equation}\n",
    "$$"
   ]
  },
  {
   "cell_type": "markdown",
   "metadata": {},
   "source": [
    "[Comment 2: Trots frånvaron av divergens får vi ett resultat skilt från\n",
    "noll om vi beräknar normalytintegralen av $\\vec F$ över en yta som\n",
    "omsluter origo. Detta görs enklast genom att utföra\n",
    "integralen över en sfär med radien $a$.]\n",
    "\n",
    "Normalytintegralen för en yta (sfäriskt skal, radie $a$) som omsluter origo:"
   ]
  },
  {
   "cell_type": "markdown",
   "metadata": {},
   "source": [
    "<!-- Equation labels as ordinary links -->\n",
    "<div id=\"eq:punktkalla\"></div>\n",
    "\n",
    "$$\n",
    "\\begin{equation}\n",
    "\\label{eq:punktkalla} \\tag{1}\n",
    "\\int_S\\vec F\\cdot d\\vec S= \n",
    "\\frac{q}{4\\pi a^2} 4\\pi a^2=q\n",
    "\\end{equation}\n",
    "$$"
   ]
  },
  {
   "cell_type": "markdown",
   "metadata": {},
   "source": [
    "medan Gauss sats skulle ge $\\int_V \\nabla \\cdot \\vec{F} \\mbox{d}V = 0 $!\n",
    "\n",
    "[Comment 3: En viktig slutsats är att det vore fel att naivt tillämpa Gauss sats på en volym innehållande origo, trots att fältet ser divergensfritt ut. Det beror på att det är singulärt där. Med vår nuvarande kunskap får vi acceptera att vi måste undvika\n",
    "punkter där fält är singulära när vi använder integralsatser.]\n",
    "\n",
    "Mer allmänt:"
   ]
  },
  {
   "cell_type": "markdown",
   "metadata": {},
   "source": [
    "$$\n",
    "\\begin{equation}\n",
    "\\oint_S \\vec F\\cdot d\\vec S= \n",
    "\\left\\{\n",
    "\\begin{array}{ll}\n",
    "0 & \\mathrm{om~ytan~inte~omsluter~origo.} \\\\ \n",
    "q & \\mathrm{om~ytan~omsluter~origo.}\n",
    "\\end{array}\n",
    "\\right.\n",
    "\\end{equation}\n",
    "$$"
   ]
  },
  {
   "cell_type": "markdown",
   "metadata": {},
   "source": [
    "Anledningen till att vi inte kan använda Gauss sats är"
   ]
  },
  {
   "cell_type": "markdown",
   "metadata": {},
   "source": [
    "$$\n",
    "\\begin{equation}\n",
    "\\nabla \\cdot \\vec{F} = \n",
    "\\left\\{\n",
    "\\begin{array}{ll}\n",
    "0 & r \\neq 0 \\\\ \n",
    "\\infty & r=0 \\mathrm{~(bättre~definition~kommer~senare)}\n",
    "\\end{array}\n",
    "\\right.\n",
    "\\end{equation}\n",
    "$$"
   ]
  },
  {
   "cell_type": "markdown",
   "metadata": {},
   "source": [
    "### Flöde från punktkälla genom allmän yta\n",
    "\n",
    "En mer förfinad version av ekv. [(1)](#eq:punktkalla) för normalytintegralen av fältet från en punktkälla över en godtycklig yta $S$ kan fås genom att dela upp normalytelementet i $r$-, $\\theta$- och $\\varphi$-ytor. Den relevanta projektionen är den på $r$-ytan eftersom fältet har den riktningen"
   ]
  },
  {
   "cell_type": "markdown",
   "metadata": {},
   "source": [
    "$$\n",
    "\\begin{equation}\n",
    "\\mbox{d}\\vec{S}_r = \\pm \\hat{e}_r h_\\theta h_\\varphi \\mbox{d}\\theta \\mbox{d}\\varphi \n",
    "\\end{equation}\n",
    "$$"
   ]
  },
  {
   "cell_type": "markdown",
   "metadata": {},
   "source": [
    "där tecknet beror på om normalen för $S$ är utåtriktad (positiv) eller inåtriktad (negativ). Detta ger"
   ]
  },
  {
   "cell_type": "markdown",
   "metadata": {},
   "source": [
    "$$\n",
    "\\begin{equation}\n",
    "\\frac{q}{4\\pi} \\int_S \\frac{\\hat{e}_r\\cdot d\\vec S}{r^2} = \\pm \\frac{q}{4\\pi} \\iint \\sin\\theta \\mbox{d}\\theta \\mbox{d}\\varphi = q \\frac{\\Omega}{4\\pi} \n",
    "\\end{equation}\n",
    "$$"
   ]
  },
  {
   "cell_type": "markdown",
   "metadata": {},
   "source": [
    "där $\\Omega$ är den rymdvinkel ytan $S$ tar upp sedd från origo. Läs mer om begreppet rymdvinkel: <http://mathworld.wolfram.com/SolidAngle.html>\n",
    "\n",
    "T.ex. blir rymdvinkeln för en yta som omsluter origo"
   ]
  },
  {
   "cell_type": "markdown",
   "metadata": {},
   "source": [
    "$$\n",
    "\\begin{equation}\n",
    "\\int_{\\theta=0}^\\pi \\int_{\\varphi=0}^{2\\pi} \\sin\\theta \\mbox{d}\\theta \\mbox{d}\\varphi = 4\\pi.\n",
    "\\end{equation}\n",
    "$$"
   ]
  },
  {
   "cell_type": "markdown",
   "metadata": {},
   "source": [
    "## Linjekällor\n",
    "\n",
    "Ett fält av typen"
   ]
  },
  {
   "cell_type": "markdown",
   "metadata": {},
   "source": [
    "$$\n",
    "\\begin{equation}\n",
    "  \\vec{F} = \\frac{k}{2 \\pi \\rho} \\hat{e}_{\\rho}\n",
    "\\end{equation}\n",
    "$$"
   ]
  },
  {
   "cell_type": "markdown",
   "metadata": {},
   "source": [
    "svarar fysikaliskt till exempel emot en laddning som är jämnt fördelad längs med en linje (i det här fallet $z$-axeln). Storheten $k$ motsvarar då laddning/längdenhet. Linjekällan är då källan till ett fält som överallt pekar radiellt ut från $z$-axeln \n",
    "\n",
    "[Rita 4: Fält för linjekälla genom $z$-axeln.].\n",
    "\n",
    "Fältet är divergensfritt $\\nabla \\cdot \\vec{F} = 0$, förutom för $\\varrho=0$.\n",
    "\n",
    "Det kan erhållas från potentialen"
   ]
  },
  {
   "cell_type": "markdown",
   "metadata": {},
   "source": [
    "$$\n",
    "\\begin{equation}\n",
    "\t\\phi=-\\frac{k}{2\\pi}\\log\\frac{\\varrho}{\\varrho_0}\n",
    "\\end{equation}\n",
    "$$"
   ]
  },
  {
   "cell_type": "markdown",
   "metadata": {},
   "source": [
    "Med konstant källtäthet fås normalytintegralen för en cylinder med längden $L$ som omsluter linjekällan längs $z$-axeln"
   ]
  },
  {
   "cell_type": "markdown",
   "metadata": {},
   "source": [
    "$$\n",
    "\\begin{equation}\n",
    "\t\\int_S \\vec{F} \\cdot \\mbox{d}\\vec{S} = k L\n",
    "\\end{equation}\n",
    "$$"
   ]
  },
  {
   "cell_type": "markdown",
   "metadata": {},
   "source": [
    "[Comment 5: Mer generellt blir normalytintegralen av fältstyrkan över en smal tub nära en godtycklig kurva lika med den inneslutna källan $q(C)=\\int_C k(\\vec{r}) ds$, där $C$ är den del av kurvan som innesluts av tuben.]\n",
    "\n",
    "## Ytkälla\n",
    "\n",
    "På motsvarande sätt kan vi tala om ytkällor i tre dimensioner. Fältet"
   ]
  },
  {
   "cell_type": "markdown",
   "metadata": {},
   "source": [
    "$$\n",
    "\\begin{equation} \n",
    "\\vec F=\\frac{\\sigma}{2}\\mathrm{sign}(z)\\hat{z}\n",
    "\\end{equation}\n",
    "$$"
   ]
  },
  {
   "cell_type": "markdown",
   "metadata": {},
   "source": [
    "motsvar en ytkälla i $xy$-planet (vid $z=0$), där $\\sigma$, i det elektrostatiska fallet, skulle kallas för en ytladdningstäthet.\n",
    "\n",
    "Närvaron av en ytkälla på ytan $S$ med styrkan $\\sigma$ är liktydigt med att\n",
    "normalkomponenten av $\\vec F$ har en diskontinuitet enligt $\\hat n\\cdot(\\vec F_+-\\vec F_-)=\\sigma$, där $\\vec F_+$ är fältets värde på den sida dit normalen pekar, och $\\vec F_-$ dess värde på motsatta sidan.\n",
    "\n",
    "\n",
    "### Källtäthet\n",
    "\n",
    "\n",
    "Vi har nu sett hur olika singulariteter kan vara källor till ett fält $\\vec{F}$.  Analogt med detta kan vi tolka $\\nabla \\cdot \\vec{F}$ som en utbredd källa till $\\vec{F}$.  Därför kallar man ibland $\\nabla \\cdot \\vec{F} = \\rho$ för källtäthet.\n",
    "\n",
    "* Singulära källor: $\\nabla \\cdot \\vec{F} = 0$ utom på vissa ställen \n",
    "\n",
    "## Virveltråd\n",
    "\n",
    "Fältlinjerna till det singulära fältet"
   ]
  },
  {
   "cell_type": "markdown",
   "metadata": {},
   "source": [
    "$$\n",
    "\\begin{equation}\n",
    "  \\vec{F} = \\frac{J}{2 \\pi \\rho} \\hat{e}_{\\varphi}\n",
    "\\end{equation}\n",
    "$$"
   ]
  },
  {
   "cell_type": "markdown",
   "metadata": {},
   "source": [
    "bildar koncentriska cirklar kring $z$-axeln.  Därför säger vi att det finns en virveltråd med styrkan $J$ på $z$-axeln.  \n",
    "\n",
    "Divergensfritt: $\\nabla \\cdot \\vec{F} = 0$.\n",
    "\n",
    "Rotationen av fältet:"
   ]
  },
  {
   "cell_type": "markdown",
   "metadata": {},
   "source": [
    "$$\n",
    "\\begin{equation}\n",
    "\\nabla\\times\\vec F=\\frac{1}{\\varrho}\n",
    "\t\\begin{vmatrix}\n",
    "        \\hat{e}_\\varrho&\\varrho\\hat{e}_\\varphi&\\hat z \\\\ \n",
    "        \\frac{\\partial}{\\partial \\varrho} & \n",
    "\\frac{\\partial}{\\partial \\varphi}\n",
    "        & \n",
    "\\frac{\\partial}{\\partial z} \\\\ \n",
    "        0 & \\varrho \\frac{J}{2\\pi\\varrho} & 0\n",
    "    \\end{vmatrix} = 0, \\quad \\mathrm{för~} \\varrho > 0.\n",
    "\\end{equation}\n",
    "$$"
   ]
  },
  {
   "cell_type": "markdown",
   "metadata": {},
   "source": [
    "Stokes sats skulle ge"
   ]
  },
  {
   "cell_type": "markdown",
   "metadata": {},
   "source": [
    "$$\n",
    "\\begin{equation}\n",
    "\t\\oint_{\\partial S} \\vec{F} \\cdot \\mbox{d} \\vec{r} = \\int_S \\left( \\nabla \\times \\vec{F} \\right) \\cdot \\mbox{d} \\vec{S} = 0,\n",
    "\\end{equation}\n",
    "$$"
   ]
  },
  {
   "cell_type": "markdown",
   "metadata": {},
   "source": [
    "men vad skulle ske om ytan $S$ gick genom singulariteten?\n",
    "\n",
    "[Rita 6: en cirkel med radien $a$ runt $z$-axeln, $\\mbox{d}\\vec{r} = a \\hat{e}_\\varphi \\mbox{d} \\varphi$]\n",
    "\n",
    "Linjeintegralen blir"
   ]
  },
  {
   "cell_type": "markdown",
   "metadata": {},
   "source": [
    "$$\n",
    "\\begin{equation}\n",
    "\\int_C\\vec F\\cdot \\mbox{d}\\vec r = \\int_{\\varphi=0}^{2\\pi} \\frac{J}{2 \\pi a} a \\mbox{d} \\varphi = J.\n",
    "\\end{equation}\n",
    "$$"
   ]
  },
  {
   "cell_type": "markdown",
   "metadata": {},
   "source": [
    "Generellt gäller detta resultat för en kurva $C$ som omsluter $z$-axeln ett varv i positiv led, medan integralen blir noll för kurvor som inte omsluter $z$-axeln. \n",
    "\n",
    "Det vanligaste exemplet är det statiska magnetiska fältet från en ström. Dvs fältet är $\\vec{B}$ och $J$ motsvarar den elektriska strömmen.\n",
    "\n",
    "### Virveltäthet\n",
    "\n",
    "Vi har nu sett hur en virveltråd kan alstra en virvel i ett vektorfält. Det kan också uppstå virvlar i fält som saknar singulariteter, och för att få ett mått på omfattningen av sådana virvlar inför man virveltätheten $\\nabla \\times \\vec{F}$.\n",
    "\n",
    "* Singulära virvlar: $\\nabla \\times \\vec{F} = 0$ utom på vissa ställen \n",
    "\n",
    "---------------------------------------------\n",
    "\n",
    "### Exempel: 6.3\n",
    "\n",
    "Beräkna integralen $\\oint_C \\vec F \\cdot d\\vec{r}$, $C$: $x^2 + \\frac{y^2}{4} = a^2$ och $z = 0$ (som genomlöps i positiv riktning) och"
   ]
  },
  {
   "cell_type": "markdown",
   "metadata": {},
   "source": [
    "$$\n",
    "\\begin{equation}\n",
    "  \\vec F = F_0 \\left[\\frac{\\varrho \\sin 2\\varphi}{2a} \\hat{e}_\\varrho\n",
    "+ \\left(\\frac{a}{\\varrho} - \\frac{\\varrho \\sin^2 \\varphi}{a}\\right)\\hat{e}_\\varphi\n",
    "\\right]\n",
    "\\end{equation}\n",
    "$$"
   ]
  },
  {
   "cell_type": "markdown",
   "metadata": {},
   "source": [
    "$F_0$ och $a$ är konstanter.\n",
    "\n",
    "*Lösning*:  \n",
    "\n",
    "[Comment 7: Kurvan $C$ är en ellips med centrum i origo och halvaxlarna\n",
    "$a$ och $2a$. Enligt högerhandsregeln väljer vi $\\hat z$ som\n",
    "normal till ellipsskivan.]\n",
    "\n",
    "$C$ kan parametriseras $(x,y) = (a\\cos\\varphi,2a\\sin\\varphi)$.\n",
    "\n",
    "Dela upp $\\vec{F} = \\vec{F}_1 + \\vec{F}_2$ där $\\vec F_1=F_0 \\frac{a}{\\varrho}\\hat{e}_\\varphi$ innehåller fältets singularitet\n",
    "(motsvarar en virveltråd på $z$-axeln med styrkan $2\\pi F_0a$). \n",
    "\n",
    "Kurvan $C$ omsluter virveltråden en gång i positiv led så att $\\oint_C \\vec{F}_1 \\cdot d\\vec{r} = 1 \\cdot 2\\pi F_0a$\n",
    "\n",
    "Bidraget från $\\vec F_2$ fås enklast med hjälp av Stokes sats. Rotationen blir"
   ]
  },
  {
   "cell_type": "markdown",
   "metadata": {},
   "source": [
    "$$\n",
    "\\begin{equation}\n",
    "  \\nabla \\times\\vec{F}_2 = \\frac{F_0}{\\rho} \n",
    "  \t\\begin{vmatrix}\n",
    "\t\\hat{e}_\\varrho & \\varrho \\hat{e}_\\varphi & \\hat z \\\\ \n",
    "\t\\frac{\\partial}{\\partial \\varrho} & \\frac{\\partial}{\\partial \\varphi} &\n",
    "                       \\frac{\\partial}{\\partial z} \\\\ \n",
    "\t\\frac{\\varrho \\sin 2\\varphi}{2a} & -\\frac{\\varrho^2\\sin^2 \\varphi}{a} & 0\n",
    "\t\\end{vmatrix} =- \\frac{F_0}{a}\\hat z\n",
    "\\end{equation}\n",
    "$$"
   ]
  },
  {
   "cell_type": "markdown",
   "metadata": {},
   "source": [
    "Detta ger"
   ]
  },
  {
   "cell_type": "markdown",
   "metadata": {},
   "source": [
    "$$\n",
    "\\begin{equation}\n",
    "\\oint_C \\vec{F}_2 \\cdot \\mbox{d}\\vec{r} = \\int_S \\left( - \\frac{F_0}{a}\\hat z \\right) \\cdot \\hat{z} \\mbox{d}S = - \\frac{F_0}{a} \\pi \\cdot a \\cdot 2a = - 2 \\pi F_0 a\n",
    "\\end{equation}\n",
    "$$"
   ]
  },
  {
   "cell_type": "markdown",
   "metadata": {},
   "source": [
    "Värdet på den totala integralen blir alltså $\\oint_C (\\vec{F}_1 + \\vec{F}_2) \\cdot \\mbox{d}\\vec{r} = 0$.\n",
    "\n",
    "## Superposition: beräkning av fält från allmänna källfördelningar\n",
    "\n",
    "### Punktkälla i origo\n",
    "\n",
    "Fältet i punkten $\\vec{r}$"
   ]
  },
  {
   "cell_type": "markdown",
   "metadata": {},
   "source": [
    "$$\n",
    "\\begin{equation}\n",
    "  \\vec{F}(\\vec{r}) = \\frac{q}{4 \\pi r^2} \\hat{e}_r,\n",
    "\\end{equation}\n",
    "$$"
   ]
  },
  {
   "cell_type": "markdown",
   "metadata": {},
   "source": [
    "vilket fås av potentialen"
   ]
  },
  {
   "cell_type": "markdown",
   "metadata": {},
   "source": [
    "$$\n",
    "\\begin{equation}\n",
    "  \\phi(\\vec{r}) = \\frac{q}{4 \\pi r},\n",
    "\\end{equation}\n",
    "$$"
   ]
  },
  {
   "cell_type": "markdown",
   "metadata": {},
   "source": [
    "eftersom"
   ]
  },
  {
   "cell_type": "markdown",
   "metadata": {},
   "source": [
    "$$\n",
    "\\begin{equation}\n",
    "  \\vec{F}(\\vec{r}) = -\\nabla \\phi(\\vec{r}) = - \\hat{e}_r \\partial_r \\frac{q}{4 \\pi r} = \\frac{q}{4 \\pi r^2} \\hat{e}_r.\n",
    "\\end{equation}\n",
    "$$"
   ]
  },
  {
   "cell_type": "markdown",
   "metadata": {},
   "source": [
    "### Punktkälla i punkten $\\vec{r}\\,'$\n",
    "\n",
    "Potentialen i punkten $\\vec{r}$ blir uppenbart lika med"
   ]
  },
  {
   "cell_type": "markdown",
   "metadata": {},
   "source": [
    "$$\n",
    "\\begin{equation}\n",
    "  \\phi(\\vec{r}) = \\frac{q}{4 \\pi \\left| \\vec{r} - \\vec{r}\\,' \\right|}.\n",
    "\\end{equation}\n",
    "$$"
   ]
  },
  {
   "cell_type": "markdown",
   "metadata": {},
   "source": [
    "Detta ger fältet"
   ]
  },
  {
   "cell_type": "markdown",
   "metadata": {},
   "source": [
    "$$\n",
    "\\begin{equation}\n",
    "  \\vec{F}(\\vec{r}) = -\\nabla \\phi(\\vec{r}) = - \\left( \\hat{x}\\partial_x + \\hat{y}\\partial_y + \\hat{z}\\partial_z \\right) \\frac{q}{4 \\pi \\sqrt{(x-x')^2 + (y-y')^2 + (z-z')^2}} \\nonumber \n",
    "\\end{equation}\n",
    "$$"
   ]
  },
  {
   "cell_type": "markdown",
   "metadata": {},
   "source": [
    "$$\n",
    "\\begin{equation}  \n",
    "  = - \\frac{q}{4 \\pi} \\left( -\\frac{1}{2} \\right) \\frac{ 2(x-x')\\hat{x} + 2(y-y')\\hat{y} + 2(z-z')\\hat{z}}{ \\left[ (x-x')^2 + (y-y')^2 + (z-z')^2 \\right]^{3/2}} \\nonumber \n",
    "\\end{equation}\n",
    "$$"
   ]
  },
  {
   "cell_type": "markdown",
   "metadata": {},
   "source": [
    "$$\n",
    "\\begin{equation}  \n",
    "  = \\frac{q (\\vec{r} - \\vec{r}\\,' )}{4 \\pi \\left| \\vec{r} - \\vec{r}\\,' \\right|^3}.\n",
    "\\end{equation}\n",
    "$$"
   ]
  },
  {
   "cell_type": "markdown",
   "metadata": {},
   "source": [
    "### Allmän linjekälla\n",
    "\n",
    "Betrakta en linjekälla längs kurvan $C$ som ges av $\\vec{r} = \\vec{r}(\\tau)$. Linjekällan har linjekälltätheten $k(\\tau)$, som alltså inte nödvändigtvis är konstant.\n",
    "\n",
    "VI kan dela upp linjen i infinitesimala linjeelement $\\mbox{d}s$, vardera med laddningen $\\mbox{d}q = k\\left(\\vec{r}(\\tau)\\right) \\mbox{d}s$ (som alltså blir en funktion av $\\tau$). Vi kan betrakta dessa linjelement som punktkällor. Bidraget från en sådan källa till potentialen i en (godtycklig) punkt $\\vec{r}$ är"
   ]
  },
  {
   "cell_type": "markdown",
   "metadata": {},
   "source": [
    "$$\n",
    "\\begin{equation}\n",
    "\\mbox{d}\\phi(\\vec{r}) = \\frac{k\\left(\\vec{r}\\,'(\\tau)\\right) \\mbox{d}s'}{4 \\pi \\left| \\vec{r} - \\vec{r}\\,' \\right|}\n",
    "\\end{equation}\n",
    "$$"
   ]
  },
  {
   "cell_type": "markdown",
   "metadata": {},
   "source": [
    "Genom att summera alla dessa bidrag, dvs integrera längs linjen $C$, får vi den totala potentialen i punkten $\\vec{r}$"
   ]
  },
  {
   "cell_type": "markdown",
   "metadata": {},
   "source": [
    "$$\n",
    "\\begin{equation}\n",
    "\\phi(\\vec{r}) = \\int_C \\frac{k\\left(\\vec{r}\\,'\\right) \\mbox{d}s'}{4 \\pi \\left| \\vec{r} - \\vec{r}\\,' \\right|}.\n",
    "\\end{equation}\n",
    "$$"
   ]
  },
  {
   "cell_type": "markdown",
   "metadata": {},
   "source": [
    "Notera att $\\vec{r}\\,' = \\vec{r}\\,'(\\tau)$ och att $\\mbox{d}s' = \\left| \\frac{\\mbox{d}\\vec{r}\\,'}{\\mbox{d}\\tau} \\right| \\mbox{d}\\tau$\n",
    "\n",
    "### Allmän ytkälla\n",
    "\n",
    "Betrakta en ytkälla längs kurvan $S$ som ges av $\\vec{r} = \\vec{r}(s,t)$. Ytkällan har ytkälltätheten $\\sigma\\left( \\vec{r}(s,t) \\right)$.\n",
    "\n",
    "Genom att summera alla bidrag från infinitesimala ytelement får vi den totala potentialen i punkten $\\vec{r}$"
   ]
  },
  {
   "cell_type": "markdown",
   "metadata": {},
   "source": [
    "$$\n",
    "\\begin{equation}\n",
    "\\phi(\\vec{r}) = \\int_S \\frac{\\sigma\\left(\\vec{r}\\,'\\right) \\mbox{d}S'}{4 \\pi \\left| \\vec{r} - \\vec{r}\\,' \\right|}.\n",
    "\\end{equation}\n",
    "$$"
   ]
  },
  {
   "cell_type": "markdown",
   "metadata": {},
   "source": [
    "### Allmän rymdkälla\n",
    "\n",
    "En allmän rymdkälla har en rymdkälltätheten som ges av $\\rho\\left( \\vec{r} \\right) = \\nabla \\cdot \\vec{F} \\left( \\vec{r} \\right)$. Återigen kan vi använda superposition för att få den totala potentialen i punkten $\\vec{r}$"
   ]
  },
  {
   "cell_type": "markdown",
   "metadata": {},
   "source": [
    "$$\n",
    "\\begin{equation}\n",
    "\\phi(\\vec{r}) = \\int_V \\frac{\\rho\\left(\\vec{r}\\,'\\right) \\mbox{d}V'}{4 \\pi \\left| \\vec{r} - \\vec{r}\\,' \\right|}.\n",
    "\\end{equation}\n",
    "$$"
   ]
  },
  {
   "cell_type": "markdown",
   "metadata": {},
   "source": [
    "### Exempel: 6.4\n",
    "\n",
    "Vad är potentialen från en ytkälla med konstant täthet $\\sigma_0$, belägen på cirkelskivan med radie $a$ i $(x,y)$-planet med $z$-axeln som symmetriaxel? Speciellt, vad är\n",
    "potentialen på $z$-axeln?\n",
    "\n",
    "*Lösning*:\n",
    "Beteckna ortvektorn för en punkt på källan med $\\vec{r}\\,'$  och ortvektorn för punkten vi vill veta potentialen i med $\\vec{r}$. \n",
    "\n",
    "Problemets symmetri gör det lämpligt att använda cylindriska koordinater. Vi får lägesvektorn $\\vec{r} = \\rho \\hat{\\rho} + z \\hat{z}$ för punkten. Punkter på källan kan beskrivas med lägesvektorn $\\vec{r}\\,' = \\rho' \\hat{\\rho}$ (notera att $z'=0$ eftersom ytkällan ligger i $xy$-planet).\n",
    "\n",
    "<!-- dom:FIGURE:[fig/ex6_4.pdf, width=800 frac=0.8] -->\n",
    "<!-- begin figure -->\n",
    "\n",
    "<p></p>\n",
    "<img src=\"fig/ex6_4.pdf\" width=800>\n",
    "\n",
    "<!-- end figure -->\n",
    "\n",
    "\n",
    "Vi får avståndet mellan de två punkterna som"
   ]
  },
  {
   "cell_type": "markdown",
   "metadata": {},
   "source": [
    "$$\n",
    "\\begin{equation}\n",
    "|\\vec{r}-\\vec{r}\\,'|\n",
    "= \\sqrt{d^2 + z^2}\n",
    "=\\sqrt{\\varrho^2+\\varrho'^2-2\\varrho\\varrho'\\cos(\\varphi-\\varphi')+z^2}\n",
    "\\end{equation}\n",
    "$$"
   ]
  },
  {
   "cell_type": "markdown",
   "metadata": {},
   "source": [
    "med hjälp av cosinusteoremet.\n",
    "Med superposition kan vi teckna ett explicit uttryck för potentialen:"
   ]
  },
  {
   "cell_type": "markdown",
   "metadata": {},
   "source": [
    "$$\n",
    "\\begin{equation}\n",
    "\\phi(\\vec{r})=\\int_0^a d\\varrho'\\int_0^{2\\pi}d\\varphi'\\,\n",
    "\\varrho'\\frac{\\sigma_0}{4\\pi \\sqrt{\\varrho^2+\\varrho'^2-2\\varrho\\varrho'\\cos(\\varphi-\\varphi')+z^2}}\n",
    "\\end{equation}\n",
    "$$"
   ]
  },
  {
   "cell_type": "markdown",
   "metadata": {},
   "source": [
    "Om $\\vec{r}$ ligger på $z$-axeln förenklas uttrycket till"
   ]
  },
  {
   "cell_type": "markdown",
   "metadata": {},
   "source": [
    "$$\n",
    "\\begin{equation}\n",
    "\\phi(0,0,z) = \\int_0^a d\\varrho'\\int_0^{2\\pi}\\mbox{d}\\varphi'\\,\n",
    "\\varrho'\\frac{\\sigma_0}{4\\pi \\sqrt{\\varrho'^2+z^2}}\n",
    "=\\frac{\\sigma_0}{2}\\left[\\sqrt{\\varrho'^2+z^2}\\right]_{\\varrho'=0}^a \n",
    "\\end{equation}\n",
    "$$"
   ]
  },
  {
   "cell_type": "markdown",
   "metadata": {},
   "source": [
    "$$\n",
    "\\begin{equation}  \n",
    "=\\frac{\\sigma_0}{2}\\left(\\sqrt{z^2+a^2}-|z|\\right).\n",
    "\\end{equation}\n",
    "$$"
   ]
  },
  {
   "cell_type": "markdown",
   "metadata": {},
   "source": [
    "Vi kan kontrollera vad som händer då $|z|\\rightarrow+\\infty$. Då är"
   ]
  },
  {
   "cell_type": "markdown",
   "metadata": {},
   "source": [
    "$$\n",
    "\\begin{equation}\n",
    "\\sqrt{z^2+a^2}-|z|=|z|(\\sqrt{1+a^2/z^2}-1) = |z|\n",
    "\\left( 1+\\frac{a^2}{2z^2}+\\mathcal{O}(\\frac{a^3}{z^3})-1\\right) \\approx \\frac{a^2}{2|z|},\n",
    "\\end{equation}\n",
    "$$"
   ]
  },
  {
   "cell_type": "markdown",
   "metadata": {},
   "source": [
    "så $\\phi(0,0,z)\\approx \\frac{a^2\\sigma_0}{4|z|}$, vilket är fältet från en punktkälla med styrka $\\pi a^2\\sigma_0$. Befinner vi oss långt bort från ytkällan (dvs $z \\gg a$) så ser fältet ut som fältet från en punktkälla. Det verkar rimligt!\n",
    "\n",
    "## Greensfunktion\n",
    "\n",
    "Funktionen"
   ]
  },
  {
   "cell_type": "markdown",
   "metadata": {},
   "source": [
    "$$\n",
    "\\begin{equation}\n",
    "G\\left( \\vec{r},\\vec{r}\\,' \\right) = \\frac{1}{4 \\pi \\left| \\vec{r} - \\vec{r}\\,' \\right|},\n",
    "\\end{equation}\n",
    "$$"
   ]
  },
  {
   "cell_type": "markdown",
   "metadata": {},
   "source": [
    "kallas *Greensfunktionen* och kan sägas motsvara bidraget till potentialen i punkten $\\vec{r}$ från en punktkälla med styrkan 1 belägen i punkten $\\vec{r}\\,'$. Dessa funktioner dyker upp igen i kapitel 9. Vi kan alltså skriva fältet från en allmän rymdkälla"
   ]
  },
  {
   "cell_type": "markdown",
   "metadata": {},
   "source": [
    "$$\n",
    "\\begin{equation}\n",
    "\\phi(\\vec{r}) = \\int_V \\rho\\left(\\vec{r}\\,'\\right) G\\left( \\vec{r},\\vec{r}\\,' \\right) \\mbox{d}V'.\n",
    "\\end{equation}\n",
    "$$"
   ]
  },
  {
   "cell_type": "markdown",
   "metadata": {},
   "source": [
    "## Multipoler\n",
    "\n",
    "Fältet"
   ]
  },
  {
   "cell_type": "markdown",
   "metadata": {},
   "source": [
    "$$\n",
    "\\begin{equation}\n",
    "  \\vec{F} = \\frac{q}{4 \\pi r^2} \\hat{e}_{r}\n",
    "\\end{equation}\n",
    "$$"
   ]
  },
  {
   "cell_type": "markdown",
   "metadata": {},
   "source": [
    "kallas för ett monopolfält.  Det kan finnas fält vars styrka avtar snabbare med $r$, men sådana fält innehåller praktiskt taget alltid ett vinkelberoende. Ett exempel på ett sådant fält är dipolfältet, dvs. två lika och motsatta laddningar nära varandra. \n",
    "\n",
    "Lägg en laddning $q = \\frac{\\mu}{\\varepsilon}$ på $(x,y,z)=(0,0,\\varepsilon)$ och en laddning\n",
    "$-q = -\\frac{\\mu}{\\varepsilon}$ i origo. Potentialen från de båda laddningarna tillsammans blir"
   ]
  },
  {
   "cell_type": "markdown",
   "metadata": {},
   "source": [
    "$$\n",
    "\\begin{equation}\n",
    "\\phi(\\vec{r})=\\frac{\\mu/\\varepsilon}{4\\pi|\\vec{r}-\\varepsilon\\hat z|}-\\frac{\\mu/\\varepsilon}{4\\pi r}\n",
    "\\end{equation}\n",
    "$$"
   ]
  },
  {
   "cell_type": "markdown",
   "metadata": {},
   "source": [
    "Vi kan skriva $|\\vec{r}-\\varepsilon \\hat z|=\\sqrt{\\varrho^2+(z-\\varepsilon)^2}$, och om\n",
    "$\\varepsilon$ är litet ($\\varepsilon/\\varrho,\\varepsilon/z \\ll 1$) blir detta $\\sqrt{\\varrho^2+z^2-2\\varepsilon\n",
    "z}=\\sqrt{r^2-2\\varepsilon z}\\approx r(1-\\frac{\\varepsilon z}{r^2})$. Så $\\frac{1}{|\\vec{r}-\\varepsilon\\hat z|}\\approx \\frac{1}{r}(1+\\frac{\\varepsilon z}{r^2})$.\n",
    "\n",
    "[Comment 8: Här har vi använt Taylorutvecklingarna $\\sqrt{1-x} = 1 - \\frac{x}{2} + \\mathcal{O}(x^2)$ samt $\\frac{1}{1-x} = 1 + x + \\mathcal{O}(x^2)$.]\n",
    "\n",
    "Potentialen blir"
   ]
  },
  {
   "cell_type": "markdown",
   "metadata": {},
   "source": [
    "$$\n",
    "\\begin{equation}\n",
    "\\phi(\\vec{r})\\approx\\frac{\\mu}{4\\pi\\varepsilon}\\left[\\frac{1}{r}\\left(1+\\frac{\\varepsilon z}{r^2}\\right)-\\frac{1}{r}\\right]=\\frac{\\mu z}{4\\pi r^3}=\\frac{\\mu\\cos\\theta}{4 \\pi r^2}\n",
    "\\end{equation}\n",
    "$$"
   ]
  },
  {
   "cell_type": "markdown",
   "metadata": {},
   "source": [
    "Mer generellt kan man skriva $\\phi=\\frac{\\vec\\mu\\cdot\\vec{r}}{4 \\pi r^3}$. I vårt fall var alltså $\\vec\\mu=\\mu\\hat z$ dipolmomentet (som alltså ges av produkten av laddningen $\\frac{\\mu}{\\varepsilon}$ och separationsvektorn $\\varepsilon\\hat z$).\n",
    "\n",
    "Fältet blir"
   ]
  },
  {
   "cell_type": "markdown",
   "metadata": {},
   "source": [
    "$$\n",
    "\\begin{equation}\n",
    "  \\vec{F} = \\frac{\\mu}{4 \\pi r^3} \\left(\\cos \\theta \\hat{e}_{r} + \\sin \\theta\n",
    "\\hat{e}_{\\theta}\\right).\n",
    "\\end{equation}\n",
    "$$"
   ]
  },
  {
   "cell_type": "markdown",
   "metadata": {},
   "source": [
    "Notera att fältlinjerna är vinkelräta mot nivåkurvorna (eftersom $\\vec{F} = -\\nabla \\phi$). I detta fall kommer de alltså att vara cirklar med centrum längs $x$-axeln.\n",
    "\n",
    "Om man integrerar dipolfältet över en sfär ser man att integralen blir 0.  Detta beror på att man kan se fältet som sammansatt av en positiv och en negativ laddning på ett litet avstånd från varandra. Det går också att definiera kvadrupolfält, oktopolfält och så vidare."
   ]
  },
  {
   "cell_type": "code",
   "execution_count": 1,
   "metadata": {
    "collapsed": false
   },
   "outputs": [],
   "source": [
    "%matplotlib inline\n",
    "\n",
    "import numpy as np\n",
    "import pylab as p\n",
    "\n",
    "# Make an x,z grid\n",
    "grid = np.linspace(-6,6,200)\n",
    "x, z = np.meshgrid(grid,grid)\n",
    "mu=4*np.pi  # dipole strength (in z-direction)\n",
    "# and the 2D cross section of the potential (scalar field)\n",
    "phi = mu * z / (4 * np.pi * (x**2+z**2)**(3/2))\n",
    "# End initialization\n",
    "\n",
    "# Start contour plot\n",
    "from matplotlib import colors\n",
    "p.figure(figsize=(6,6))\n",
    "heights = np.linspace(-0.6,0.6,7)\n",
    "CS = p.contour(x,z,phi,heights,colors='k')\n",
    "p.clabel(CS, inline=1, fontsize=10,fmt='%3.1f')\n",
    "p.xlabel(r'$x$')\n",
    "p.ylabel(r'$z$')\n",
    "# End contour plot\n",
    "\n",
    "# Start fieldline plot\n",
    "Fx = mu / (4 * np.pi * (x**2+z**2)**(5/2)) * 2*x*z\n",
    "Fz = mu / (4 * np.pi * (x**2+z**2)**(5/2)) * (z**2-x**2)\n",
    "p.streamplot(x,z,Fx,Fz)"
   ]
  },
  {
   "cell_type": "markdown",
   "metadata": {},
   "source": [
    "<!-- dom:FIGURE:[fig/dipole_fieldplot.png, width=600 frac=0.8] -->\n",
    "<!-- begin figure -->\n",
    "\n",
    "<p></p>\n",
    "<img src=\"fig/dipole_fieldplot.png\" width=600>\n",
    "\n",
    "<!-- end figure -->"
   ]
  }
 ],
 "metadata": {},
 "nbformat": 4,
 "nbformat_minor": 0
}
