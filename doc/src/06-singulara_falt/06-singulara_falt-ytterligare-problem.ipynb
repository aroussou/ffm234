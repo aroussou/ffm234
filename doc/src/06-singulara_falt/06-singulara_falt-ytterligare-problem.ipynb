{
 "cells": [
  {
   "cell_type": "markdown",
   "metadata": {},
   "source": [
    "<!-- dom:TITLE: FFM232, Klassisk fysik och vektorfält - Föreläsningsanteckningar -->\n",
    "# FFM232, Klassisk fysik och vektorfält - Föreläsningsanteckningar\n",
    "<!-- dom:AUTHOR: [Christian Forssén](http://fy.chalmers.se/subatom/nt/), Institutionen för fundamental fysik, Chalmers, Göteborg, Sverige -->\n",
    "<!-- Author: --> **[Christian Forssén](http://fy.chalmers.se/subatom/nt/), Institutionen för fundamental fysik, Chalmers, Göteborg, Sverige**\n",
    "\n",
    "Date: **Sep 30, 2015**\n",
    "\n",
    "## Ytterligare räkneproblem\n",
    "\n",
    "Här ges några exempel hur vi kan använda Gauss och Stokes satser på vektorfält med singulariteter. \n",
    "\n",
    "Här hanterar vi singulariteten genom att lägga in \n",
    "* en liten sfär med radien $\\epsilon$ kring en punktkälla.\n",
    "\n",
    "* en cylinder kring $z$-axeln för en linjekälla.\n",
    "\n",
    "* en cirkel med radien $\\epsilon$ runt $z$-axeln för en virveltråd.\n",
    "\n",
    "---------------------------------------------\n",
    "\n",
    "### Exempel: Punktkälla\n",
    "\n",
    "\n",
    "Beräkna integralen"
   ]
  },
  {
   "cell_type": "markdown",
   "metadata": {},
   "source": [
    "$$\n",
    "\\begin{equation}\n",
    "  \\int_S \\vec{F} \\cdot \\mbox{d}\\vec{S} \n",
    "\\end{equation}\n",
    "$$"
   ]
  },
  {
   "cell_type": "markdown",
   "metadata": {},
   "source": [
    "där $S$ är ytan"
   ]
  },
  {
   "cell_type": "markdown",
   "metadata": {},
   "source": [
    "$$\n",
    "\\begin{equation}\n",
    "  \\rho = a - z, \\,\\,\\,0 \\le z \\le a\n",
    "\\end{equation}\n",
    "$$"
   ]
  },
  {
   "cell_type": "markdown",
   "metadata": {},
   "source": [
    "med en normal som pekar uppåt, och fältet ges av"
   ]
  },
  {
   "cell_type": "markdown",
   "metadata": {},
   "source": [
    "$$\n",
    "\\begin{equation}\n",
    "  \\vec{F} = F_0 \\left[\\left(\\frac{a^2}{r^2} + \\frac{r^2 \\cos^3 \\theta}{a^2}\n",
    "\\right) \\hat{e}_{r} - \\frac{r^2 \\cos^2 \\theta \\sin \\theta}{a^2} \\hat{z}\n",
    "\\right].\n",
    "\\end{equation}\n",
    "$$"
   ]
  },
  {
   "cell_type": "markdown",
   "metadata": {},
   "source": [
    "$F_0$ och $a$ är konstanter.\n",
    "\n",
    "### Lösning\n",
    "\n",
    "Vi börjar med att studera ytan $S$ som är en kon med  spetsen i $z = a$.  Konen har sin öppna bottenyta vid $z = 0$. \n",
    "\n",
    "Om vi tittar på fältet, så ser vi genast att det har en punktkälla i origo.  För att tolka de övriga termerna så skriver vi om fältet som"
   ]
  },
  {
   "cell_type": "markdown",
   "metadata": {},
   "source": [
    "$$\n",
    "\\begin{equation}\n",
    "  \\vec{F} = F_0 \\frac{a^2}{r^2}\\hat{e}_{r} + F_0 \\frac{r^2\\cos^2 \\theta}{a^2}\n",
    "\\left(\\cos \\theta \\hat{e}_{r} - \\sin \\theta \\hat{e}_{\\theta}\\right).\n",
    "\\end{equation}\n",
    "$$"
   ]
  },
  {
   "cell_type": "markdown",
   "metadata": {},
   "source": [
    "Uttrycket inom parentesen är basvektorn $\\hat{z}$, och $r\\cos \\theta = z$.  Vi kan därför dela upp fältet i två delar, en del som vi skriver i sfäriska koordinater, och som är singulär, och en andra del som vi skriver i kartesiska koordinater:"
   ]
  },
  {
   "cell_type": "markdown",
   "metadata": {},
   "source": [
    "$$\n",
    "\\begin{equation}\n",
    "  \\vec{F} = F_0 \\left(\\frac{a^2}{r^2} \\hat{e}_{r} + \\frac{z^2}{a^2} \n",
    "\\hat{e}_{z}\\right)\n",
    "\\end{equation}\n",
    "$$"
   ]
  },
  {
   "cell_type": "markdown",
   "metadata": {},
   "source": [
    "Divergensen av $\\vec{F}$ blir"
   ]
  },
  {
   "cell_type": "markdown",
   "metadata": {},
   "source": [
    "$$\n",
    "\\begin{equation}\n",
    "  \\nabla \\cdot \\vec{F} = \\frac{2 F_0 z}{a^2}.\n",
    "\\end{equation}\n",
    "$$"
   ]
  },
  {
   "cell_type": "markdown",
   "metadata": {},
   "source": [
    "För att använda Gauss sats behöver vi dels isolera singulariteten i origo genom att lägga in en halvsfär, $S_\\epsilon$, med radien $\\epsilon$ runt origo för $z >0$ och med en normalvektor som pekar mot origo.  \n",
    "Dessutom måste vi sluta konen, vilket vi gör genom att lägga till en cirkelskiva, $S_1$,\n",
    "med ytterradien $a$ och normalvektorn $-\\hat{e}_{z}$ i $xy$-planet.\n",
    "\n",
    "Gauss sats ger oss nu"
   ]
  },
  {
   "cell_type": "markdown",
   "metadata": {},
   "source": [
    "$$\n",
    "\\begin{equation}\n",
    "  \\int_S {\\bf F\\cdot \\mbox{d}S} + \\int_{S_\\epsilon} \\vec{F} \\cdot \\mbox{d}\\vec{S}\n",
    "+ \\int_{S_1} \\vec{F} \\cdot \\mbox{d}\\vec{S} = \\int_V {\\bf \\nabla \\cdot F} \\mbox{d}V.\n",
    "\\end{equation}\n",
    "$$"
   ]
  },
  {
   "cell_type": "markdown",
   "metadata": {},
   "source": [
    "Vi börjar med att beräkna volymsintegralen"
   ]
  },
  {
   "cell_type": "markdown",
   "metadata": {},
   "source": [
    "$$\n",
    "\\begin{equation}\n",
    "  \\int_V \\nabla \\cdot \\vec{F} \\mbox{d}V = \\int_V \\frac{2\\pi F_0 z}{a^2}\n",
    "\\mbox{d}V.\n",
    "\\end{equation}\n",
    "$$"
   ]
  },
  {
   "cell_type": "markdown",
   "metadata": {},
   "source": [
    "Vi noterar här att vad vi gör är att integrera över cirkelskivor med radien $a -z$, så vår integral kan skrivas"
   ]
  },
  {
   "cell_type": "markdown",
   "metadata": {},
   "source": [
    "$$\n",
    "\\begin{equation}\n",
    "  \\int_0^a \\frac{2 F_0 z}{a^2} \\pi \\left(a-z\\right)^2 \\mbox{d}z = \n",
    "\\frac{2\\pi F_0}{a^2}\\left[\\frac{z^4}{4} -\\frac{2}{3} a z^3 + \\frac{a^2 z^2}{2}\n",
    "\\right]_0^a = \\frac{2\\pi F_0}{a^2} \\frac{a^4}{12} = \\frac{\\pi F_0 a^2}{6}.\n",
    "\\end{equation}\n",
    "$$"
   ]
  },
  {
   "cell_type": "markdown",
   "metadata": {},
   "source": [
    "Sedan betraktar vi integralen över $S_\\epsilon$ (lägg märke till att \n",
    "$r = \\epsilon$ på $S_\\epsilon$)."
   ]
  },
  {
   "cell_type": "markdown",
   "metadata": {},
   "source": [
    "$$\n",
    "\\begin{equation}\n",
    "  \\int_{S_\\epsilon} \\vec{F} \\cdot \\mbox{d}\\vec{S} = \\int_{S_\\epsilon} \n",
    "F_0 \\left(\\frac{a^2}{\\epsilon^2} \\hat{e}_{r} + \n",
    "\\frac{\\epsilon^2 \\cos^2 \\theta}{a^2} \\hat{e}_{z}\\right) \\cdot \\left(-\n",
    "\\hat{e}_{r}\\right) \\mbox{d}S = - F_0 \\left(\\int_S \\frac{a^2}{\\epsilon^2}\n",
    "\\mbox{d}S + \\int_S \\frac{\\epsilon^2 \\cos^3 \\theta}{a^2}\\mbox{d}S\\right) =\n",
    "\\nonumber \n",
    "\\end{equation}\n",
    "$$"
   ]
  },
  {
   "cell_type": "markdown",
   "metadata": {},
   "source": [
    "$$\n",
    "\\begin{equation} \n",
    "- F_0 \\left( \\frac{a^2}{\\epsilon^2} 2\\pi \\epsilon^2 + \\frac{\\epsilon^2}{a^2}\n",
    "\\int_S \\cos^3 \\theta \\mbox{d}S\\right) \\to - 2\\pi a^2 F_0 \\,\\,\\,\\,\\mathrm{då }\n",
    "\\epsilon \\to 0.\n",
    "\\end{equation}\n",
    "$$"
   ]
  },
  {
   "cell_type": "markdown",
   "metadata": {},
   "source": [
    "Slutligen har vi integralen över $S_1$"
   ]
  },
  {
   "cell_type": "markdown",
   "metadata": {},
   "source": [
    "$$\n",
    "\\begin{equation}\n",
    "  \\int_{S_1} \\vec{F} \\cdot \\mbox{d}\\vec{S} = \\int_{S_1} F_0 \\left(\\frac{a^2}{r^2}\n",
    "\\hat{e}_{r} + \\frac{z^2}{a^2} \\hat{e}_{z}\\right)\\cdot\\left(-\\hat{e}_{z}\n",
    "\\right)\\mbox{d}S.\n",
    "\\end{equation}\n",
    "$$"
   ]
  },
  {
   "cell_type": "markdown",
   "metadata": {},
   "source": [
    "Tänk nu på att $\\hat{e}_{r} \\cdot \\hat{z} = 0$ i $xy$-planet, och att $z = 0$ därstädes.  Därav följer att integralen är 0. Det följer nu att vår eftersökta integral blir"
   ]
  },
  {
   "cell_type": "markdown",
   "metadata": {},
   "source": [
    "$$\n",
    "\\begin{equation}\n",
    "  \\int_S \\vec{F} \\cdot \\mbox{d}\\vec{S} = \\frac{\\pi F_0 a^2}{6} + 2\\pi F_0 a^2\n",
    "= \\frac{13\\pi F_0 a^2}{6}.\n",
    "\\end{equation}\n",
    "$$"
   ]
  },
  {
   "cell_type": "markdown",
   "metadata": {},
   "source": [
    "---------------------------------------------\n",
    "\n",
    "### Exempel: Linjekälla\n",
    "\n",
    "\n",
    "Beräkna integralen"
   ]
  },
  {
   "cell_type": "markdown",
   "metadata": {},
   "source": [
    "$$\n",
    "\\begin{equation}\n",
    "  \\int_S \\vec{F} \\cdot \\mbox{d}\\vec{S},\n",
    "\\end{equation}\n",
    "$$"
   ]
  },
  {
   "cell_type": "markdown",
   "metadata": {},
   "source": [
    "där ytan $S$ ges av $r = 2a$, $0 \\le \\varphi < 2\\pi$ och $\\frac{\\pi}{4} \\le \\theta \\le \\frac{3\\pi}{4}$ och har normalen $\\hat{e}_{r}$, och fältet ges av"
   ]
  },
  {
   "cell_type": "markdown",
   "metadata": {},
   "source": [
    "$$\n",
    "\\begin{equation}\n",
    "  \\vec{F} = F_0 \\left[\\left(\\frac{a}{\\rho} + \\frac{\\rho}{a}\\right) \n",
    "\\hat{e}_{\\rho} + \\frac{z}{a} \\hat{e}_{z}\\right].\n",
    "\\end{equation}\n",
    "$$"
   ]
  },
  {
   "cell_type": "markdown",
   "metadata": {},
   "source": [
    "$F_0$ och $a$ är här konstanter.\n",
    "\n",
    "### Lösning\n",
    "\n",
    "Ytan $S$ är den mittersta delen av en sfär. Den avgränsas vid $z = \\pm \\sqrt{2} a$.\n",
    "\n",
    "Fältet $\\vec{F}$ är singulärt för $\\rho = 0$, det vill säga längs $z$-axeln.  Fältets divergens är"
   ]
  },
  {
   "cell_type": "markdown",
   "metadata": {},
   "source": [
    "$$\n",
    "\\begin{equation}\n",
    "  \\nabla \\cdot \\vec{F} = F_0 \\left[\\frac{1}{\\rho} \\frac{\\partial}{\\partial \\rho}\n",
    "\\left(a+ \\frac{\\rho^2}{a}\\right) + \\frac{\\partial}{\\partial z} \\left(\\frac{z}{a}\n",
    "\\right)\\right] = F_0 \\left(\\frac{1}{\\rho}\\frac{2\\rho}{a} + \\frac{1}{a}\\right) =\n",
    "\\frac{3 F_0}{a}.\n",
    "\\end{equation}\n",
    "$$"
   ]
  },
  {
   "cell_type": "markdown",
   "metadata": {},
   "source": [
    "Vi sluter volymen genom att lägga till en cylinder, $S_\\epsilon$ kring $z$-axeln mellan $-\\sqrt{2}a \\le z \\le \\sqrt{2}a$ och med radien $\\epsilon$.  Normalen för $S_\\epsilon$ är $-\\hat{e}_{\\rho}$.  Dessutom lägger vi till cirkulära skivor, $S_+$ och $S_-$, vid $z = \\pm \\sqrt{2}$ med normaler $\\pm \\hat{e}_{z}$.\n",
    "\n",
    "Vi kan nu skriva Gauss sats som"
   ]
  },
  {
   "cell_type": "markdown",
   "metadata": {},
   "source": [
    "$$\n",
    "\\begin{equation}\n",
    "\\int_S \\vec{F} \\cdot \\mbox{d}\\vec{S} + \\int_{S_\\epsilon} \\vec{F} \\cdot \\mbox{d}\\vec{S} +\n",
    "\\int_{S_+} \\vec{F} \\cdot \\mbox{d}\\vec{S} + \\int_{S_-} \\vec{F} \\cdot \\mbox{d}\\vec{S} =\n",
    "\\int_V \\nabla \\cdot \\vec{F} \\mbox{d}S.\n",
    "\\end{equation}\n",
    "$$"
   ]
  },
  {
   "cell_type": "markdown",
   "metadata": {},
   "source": [
    "Vi börjar med volymsintegralen"
   ]
  },
  {
   "cell_type": "markdown",
   "metadata": {},
   "source": [
    "$$\n",
    "\\begin{equation}\n",
    "  \\int_V \\nabla \\cdot \\vec{F} \\mbox{d}S = \\int_S \\frac{3 F_0}{a} \\mbox{d}V.\n",
    "\\end{equation}\n",
    "$$"
   ]
  },
  {
   "cell_type": "markdown",
   "metadata": {},
   "source": [
    "Vi kan se den här integralen som om vi integrerar över cirkelskivor med radien $\\sqrt{4 a^2 -z^2}$ för $-\\sqrt{2}a \\le z \\le \\sqrt{2}a$"
   ]
  },
  {
   "cell_type": "markdown",
   "metadata": {},
   "source": [
    "$$\n",
    "\\begin{equation}\n",
    "  \\int_{-\\sqrt{2}a}^{\\sqrt{2}a} \\frac{3F_0}{a} \\pi \\left(4a^2 - z^2\\right)\n",
    "\\mbox{d}z = \\frac{3F_0}{a} \n",
    "\\left[4a^2z - \\frac{z^3}{3}\\right]_{-\\sqrt{2}a}^{\\sqrt{2}a}\n",
    "\\nonumber \n",
    "\\end{equation}\n",
    "$$"
   ]
  },
  {
   "cell_type": "markdown",
   "metadata": {},
   "source": [
    "$$\n",
    "\\begin{equation} \n",
    "= \\frac{3F_0}{a} \\left(4\\sqrt{2}a^3 - \\frac{2}{3}\\sqrt{2}a^3 +\n",
    "4\\sqrt{2}a^3 - \\frac{2}{3}\\sqrt{2}a^3\\right) \\nonumber \n",
    "\\end{equation}\n",
    "$$"
   ]
  },
  {
   "cell_type": "markdown",
   "metadata": {},
   "source": [
    "$$\n",
    "\\begin{equation} \n",
    "= 20 \\sqrt{2} F_0 a^2.\n",
    "\\end{equation}\n",
    "$$"
   ]
  },
  {
   "cell_type": "markdown",
   "metadata": {},
   "source": [
    "Vi tar nu hand om ytintegralerna.  Först $S_\\epsilon$, där $\\rho = \\epsilon$ på $S_\\epsilon$"
   ]
  },
  {
   "cell_type": "markdown",
   "metadata": {},
   "source": [
    "$$\n",
    "\\begin{equation}\n",
    "  \\int_{S_\\epsilon} \\vec{F} \\cdot \\mbox{d}\\vec{S} = \\int_{S_\\epsilon}  F_0 \\left[\n",
    "\\left(\\frac{a}{\\epsilon} + \\frac{\\epsilon}{a}\\right) \\hat{e}_{\\rho} + \n",
    "\\frac{z}{a}\\hat{e}_{z}\\right) \\cdot \\left(-\\hat{e}_{\\rho}\\right) \\mbox{d}S \\nonumber \n",
    "\\end{equation}\n",
    "$$"
   ]
  },
  {
   "cell_type": "markdown",
   "metadata": {},
   "source": [
    "$$\n",
    "\\begin{equation} \n",
    " = \\int_{S_\\epsilon} F_0 \\left(\\frac{a}{\\epsilon} + \\frac{\\epsilon}{a}\\right)\n",
    "\\mbox{d}S = F_0 \\left(\\frac{a}{\\epsilon} + \\frac{\\epsilon}{a}\\right)\n",
    "\\int_{S_\\epsilon} \\mbox{d}S \\nonumber \n",
    "\\end{equation}\n",
    "$$"
   ]
  },
  {
   "cell_type": "markdown",
   "metadata": {},
   "source": [
    "$$\n",
    "\\begin{equation} \n",
    "= F_0 \\left(\\frac{a}{\\epsilon} + \\frac{\\epsilon}{a}\\right) 2\\pi \\epsilon 2\\sqrt{2}\n",
    "a \\to 4\\sqrt{2} \\pi F_0 a^2 \\,\\,\\,\\,\\mbox{då }\\,\\,\\,\\,\\epsilon \\to 0\n",
    "\\end{equation}\n",
    "$$"
   ]
  },
  {
   "cell_type": "markdown",
   "metadata": {},
   "source": [
    "På ytan $S_+$  har vi"
   ]
  },
  {
   "cell_type": "markdown",
   "metadata": {},
   "source": [
    "$$\n",
    "\\begin{equation}\n",
    "  \\int_{S_+} \\vec{F} \\cdot \\mbox{d}\\vec{S} = \\int_{S_+} F_0 \\left[\\left(\\frac{a}{\\rho}\n",
    "+ \\frac{\\rho}{a} \\right) \\hat{e}_{\\rho} + \\frac{z}{a}\\hat{e}_{z}\\right]\n",
    "\\cdot \\hat{e}_{z} \\mbox{d}S = \\int_{S_+} F_0 \\frac{z}{a} \\mbox{d}S.\n",
    "\\end{equation}\n",
    "$$"
   ]
  },
  {
   "cell_type": "markdown",
   "metadata": {},
   "source": [
    "På $S_+$ är $z = \\sqrt{2}a$, vilket också är skivans ytterradie"
   ]
  },
  {
   "cell_type": "markdown",
   "metadata": {},
   "source": [
    "$$\n",
    "\\begin{equation}\n",
    "  \\int_{S_+} \\vec{F} \\cdot \\mbox{d}\\vec{S} = F_0 \\sqrt{2} \\pi 2a^2 = 2\\sqrt{2} a^2F_0.\\end{equation}\n",
    "$$"
   ]
  },
  {
   "cell_type": "markdown",
   "metadata": {},
   "source": [
    "Vi inser att av symmetriskäl får integralen över $S_-$ samma värde.\n",
    "\n",
    "Summerar vi nu ihop integralerna får vi"
   ]
  },
  {
   "cell_type": "markdown",
   "metadata": {},
   "source": [
    "$$\n",
    "\\begin{equation}\n",
    "  \\int_S \\vec{F} \\cdot \\mbox{d}\\vec{S} = 20 \\sqrt{2} F_0 a^2 - 4 \\sqrt{2} F_0 a^2\n",
    "- 2 \\times 2 \\sqrt{2} F_0 a^2 = 12\\sqrt{2} F_0 a^2.\n",
    "\\end{equation}\n",
    "$$"
   ]
  },
  {
   "cell_type": "markdown",
   "metadata": {},
   "source": [
    "---------------------------------------------\n",
    "\n",
    "### Exempel: Virveltråd\n",
    "\n",
    "\n",
    "Beräkna integralen"
   ]
  },
  {
   "cell_type": "markdown",
   "metadata": {},
   "source": [
    "$$\n",
    "\\begin{equation}\n",
    "  \\oint_C \\vec{F} \\cdot \\mbox{d}\\vec{r},\n",
    "\\end{equation}\n",
    "$$"
   ]
  },
  {
   "cell_type": "markdown",
   "metadata": {},
   "source": [
    "där kurvan $C$ ges av"
   ]
  },
  {
   "cell_type": "markdown",
   "metadata": {},
   "source": [
    "$$\n",
    "\\begin{equation}\n",
    "  x^2 + \\frac{y^2}{4} = a^2,\\,\\,\\,\\mbox{och}\\,\\,\\,z = 0,\n",
    "\\end{equation}\n",
    "$$"
   ]
  },
  {
   "cell_type": "markdown",
   "metadata": {},
   "source": [
    "som genomlöps i positiv riktning, och fältet ges av"
   ]
  },
  {
   "cell_type": "markdown",
   "metadata": {},
   "source": [
    "$$\n",
    "\\begin{equation}\n",
    "  \\vec{F} = F_0 \\left[\\frac{\\rho \\sin 2\\varphi}{2a} \\hat{e}_{\\rho}\n",
    "+ \\left(\\frac{a}{\\rho} - \\frac{\\rho \\sin^2 \\varphi}{a}\\right)\\hat{e}_{\\varphi}\n",
    "\\right].\n",
    "\\end{equation}\n",
    "$$"
   ]
  },
  {
   "cell_type": "markdown",
   "metadata": {},
   "source": [
    "$F_0$ och $a$ är konstanter.\n",
    "\n",
    "### Lösning\n",
    "\n",
    "Kurvan $C$ är en ellips med centrum i origo och halvaxlarna $a$ och $2a$. Enligt högerhandsregeln så väljer vi $\\hat{e}_{z}$ som normalen till ellipsskivan.\n",
    "\n",
    "Fältet $\\vec{F}$ är singulärt på $z$-axeln.  Fältets rotation blir"
   ]
  },
  {
   "cell_type": "markdown",
   "metadata": {},
   "source": [
    "$$\n",
    "\\begin{equation}\n",
    "  \\nabla \\times \\vec{F} = \\frac{F_0}{\\rho} \\left|\n",
    "  \\begin{array}{ccc}\n",
    "\\hat{e}_{\\rho} & \\rho \\hat{e}_{\\varphi} & \\hat{e}_{z} \\\\\n",
    "\\frac{\\partial}{\\partial \\rho} & \\frac{\\partial}{\\partial \\varphi} &\n",
    "\\frac{\\partial}{\\partial z} \\\\\n",
    "\\frac{\\rho \\sin 2\\varphi}{2a} & a- \n",
    "\\frac{\\rho^2\\sin 2 \\varphi}{a} & 0\\\\\n",
    "\\end{array}\n",
    "\\right| = \\frac{F_0}{\\rho} \\left(-\\frac{2\\rho \\sin^2\\varphi}{a} -\n",
    "\\frac{\\rho\\cos 2\\varphi}{a}\\right) \\hat{e}_{z} =\n",
    "- \\frac{F_0}{a}\\hat{e}_{z}.\n",
    "\\end{equation}\n",
    "$$"
   ]
  },
  {
   "cell_type": "markdown",
   "metadata": {},
   "source": [
    "För att använda Stokes sats lägger in en cirkel, $C_\\epsilon$ med radien $\\epsilon$ runt origo.  Vi orienterar $C_\\epsilon$ så att vi följer den medurs, det vill säga dess tangentvektor blir $-\\hat{e}_{\\varphi}$. Stokes sats ger oss sedan"
   ]
  },
  {
   "cell_type": "markdown",
   "metadata": {},
   "source": [
    "$$\n",
    "\\begin{equation}\n",
    "  \\oint_C \\vec{F} \\cdot \\mbox{d}\\vec{r} + \\oint_{C_\\epsilon} \\vec{F} \\cdot \\mbox{d}\\vec{r}\n",
    "= \\int_S {\\bf \\nabla \\times F \\cdot \\mbox{d}S}.\n",
    "\\end{equation}\n",
    "$$"
   ]
  },
  {
   "cell_type": "markdown",
   "metadata": {},
   "source": [
    "Först beräknar vi ytintegralen"
   ]
  },
  {
   "cell_type": "markdown",
   "metadata": {},
   "source": [
    "$$\n",
    "\\begin{equation}\n",
    "  \\int_S \\nabla \\times \\vec{F} \\cdot \\mbox{d}\\vec{S} = \\int_S -\\frac{F_0}{a} \\hat{z} \\cdot \\hat{z} \\mbox{d}S = - \\frac{F_0}{a} \\pi a\\times 2a = -2\\pi F_0 a,\n",
    "\\end{equation}\n",
    "$$"
   ]
  },
  {
   "cell_type": "markdown",
   "metadata": {},
   "source": [
    "där vi har utnyttjat att ellipsens area är $2\\pi a^2$.  Sedan beräknar vi integralen längs kurvan $C_\\epsilon$ där $\\rho = \\epsilon$"
   ]
  },
  {
   "cell_type": "markdown",
   "metadata": {},
   "source": [
    "$$\n",
    "\\begin{equation}\n",
    "  \\oint_{C_\\epsilon} \\vec{F} \\cdot \\mbox{d}\\vec{r} = \\oint_{C_\\epsilon} F_0 \n",
    "\\left[\\frac{\\rho \\sin 2\\varphi}{2a} \\hat{e}_{\\rho} + \\left(\\frac{a}{\\rho}-\n",
    "\\frac{\\rho \\sin^2\\varphi}{a}\\right) \\hat{e}_{\\varphi}\\right] \\cdot \n",
    "\\left(-\\hat{e}_{\\varphi}\\right) \\mbox{d}r \\nonumber \n",
    "\\end{equation}\n",
    "$$"
   ]
  },
  {
   "cell_type": "markdown",
   "metadata": {},
   "source": [
    "$$\n",
    "\\begin{equation} \n",
    "= -F_0\\left( \n",
    "\\oint_{C_\\epsilon}\\frac{a}{\\epsilon} \\mbox{d}r - \\oint_{C_\\epsilon}\n",
    "\\frac{\\epsilon \\sin^2 \\varphi}{a} \\mbox{d}r\\right) \\nonumber \n",
    "\\end{equation}\n",
    "$$"
   ]
  },
  {
   "cell_type": "markdown",
   "metadata": {},
   "source": [
    "$$\n",
    "\\begin{equation}  \n",
    "= -F_0 \n",
    "\\left(\\frac{a}{\\epsilon} 2\\pi \\epsilon - \\frac{\\epsilon}{a} \\oint_{C_\\epsilon}\n",
    "\\sin^2 \\varphi \\mbox{d}r\\right) \\to -2\\pi F_0 a \\,\\,\\,\\,\\mbox{då } \\,\\,\\,\\,\n",
    "\\epsilon \\to 0.\n",
    "\\end{equation}\n",
    "$$"
   ]
  },
  {
   "cell_type": "markdown",
   "metadata": {},
   "source": [
    "Det följer att integralen blir"
   ]
  },
  {
   "cell_type": "markdown",
   "metadata": {},
   "source": [
    "$$\n",
    "\\begin{equation}\n",
    "  \\int_C \\vec{F} \\cdot \\mbox{d}\\vec{r} = 0.\n",
    "\\end{equation}\n",
    "$$"
   ]
  },
  {
   "cell_type": "markdown",
   "metadata": {},
   "source": [
    "---------------------------------------------"
   ]
  }
 ],
 "metadata": {},
 "nbformat": 4,
 "nbformat_minor": 0
}
