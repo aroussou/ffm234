{
 "cells": [
  {
   "cell_type": "markdown",
   "metadata": {},
   "source": [
    "<!-- dom:TITLE: FFM232, Klassisk fysik och vektorfält - Föreläsningsanteckningar -->\n",
    "# FFM232, Klassisk fysik och vektorfält - Föreläsningsanteckningar\n",
    "<!-- dom:AUTHOR: [Christian Forssén](http://fy.chalmers.se/subatom/tsp/), Institutionen för fysik, Chalmers, Göteborg, Sverige -->\n",
    "<!-- Author: --> **[Christian Forssén](http://fy.chalmers.se/subatom/tsp/), Institutionen för fysik, Chalmers, Göteborg, Sverige**\n",
    "\n",
    "Date: **Sep 9, 2016**\n",
    "\n",
    "# 4. Integralsatser\n",
    "\n",
    "Minnesregel för strukturen på alla integralsatser"
   ]
  },
  {
   "cell_type": "markdown",
   "metadata": {},
   "source": [
    "$$\n",
    "\\begin{equation}\n",
    "  \\int_{V_D} (\\mathrm{derivata~av~fält}) = \\int_{(\\partial V)_{D-1}} (\\mathrm{fält})\n",
    "\\end{equation}\n",
    "$$"
   ]
  },
  {
   "cell_type": "markdown",
   "metadata": {},
   "source": [
    "Enkelt exempel: integration av funktion av en variabel:"
   ]
  },
  {
   "cell_type": "markdown",
   "metadata": {},
   "source": [
    "$$\n",
    "\\begin{equation}\n",
    "\\int_a^b \\frac{\\mbox{d}f}{\\mbox{d}x} \\mbox{d}x = \\left[ f(x) \\right]_a^b = f(b)-f(a)\n",
    "\\end{equation}\n",
    "$$"
   ]
  },
  {
   "cell_type": "markdown",
   "metadata": {},
   "source": [
    "Randen av den endimensionella volymen $[a,b]$ är de två punkterna $a$ och $b$, så tolkningen av högerledet i det schematiska uttrycket ovan blir en summa över dessa två punkter.\n",
    "\n",
    "## Gauss sats\n",
    "\n",
    "Man kan alltid beräkna integraler enligt metoderna på förra föreläsningen, men i vissa fall kan man tillämpa integralsatser som förenklar beräkningarna.\n",
    "\n",
    "Ett viktigt exempel på en sådan sats är Gauss sats.  \n",
    "\n",
    "*Sats:*  Antag att $\\vec{F}$ är ett kontinuerligt deriverbart vektorfält definierat i en volym $V$. $\\partial V = S$ är den slutna ytan som bildar randen till $V$ och $\\mbox{d}\\vec{S} = \\hat{n} \\mbox{d}S$ där $\\hat{n}$ är den utåtriktade enhetsnormalen. Då gäller att"
   ]
  },
  {
   "cell_type": "markdown",
   "metadata": {},
   "source": [
    "$$\n",
    "\\begin{equation}\n",
    "  \\int_V \\nabla \\cdot \\vec{F} \\mbox{d}V = \\oint_{\\partial V} \\vec{F} \\cdot \\mbox{d} \\vec{S}.\n",
    "\\end{equation}\n",
    "$$"
   ]
  },
  {
   "cell_type": "markdown",
   "metadata": {},
   "source": [
    "Kvantiteten"
   ]
  },
  {
   "cell_type": "markdown",
   "metadata": {},
   "source": [
    "$$\n",
    "\\begin{equation}\n",
    "\\nabla  \\cdot \\vec{F} = \\frac{\\partial F_x}{\\partial x} +\n",
    "\\frac{\\partial F_y}{\\partial y} + \\frac{\\partial F_z}{\\partial z}\n",
    "\\end{equation}\n",
    "$$"
   ]
  },
  {
   "cell_type": "markdown",
   "metadata": {},
   "source": [
    "kallar vi för divergensen av $\\vec{F}$. Om man tänker sig att $\\vec{F}$ är hastigheten för en vätska, så kan man se divergensen av $\\vec{F}$ i en punkt som ett mått på hur mycket vätska som strömmar ut från den punkten.\n",
    "\n",
    "Lägg märke till att volymen $V$ i Gauss sats måste vara sammanhängande, men att det inte är nödvändigt att $S$ är sammanhängande.  $S$ kan mycket väl bestå av ett ändligt antal var för sig glatta ytsegment, så länge som de bara tillsammans bildar en sluten yta. Vidare kommer vi tills vidare att begränsa oss till \"hyfsat snälla\" fält. Mer om detta längre fram i kursen.\n",
    "\n",
    "En fysikalisk tolkning av Gauss sats är att högerledet representerar flödet ut genom en yta $S$ och att vänsterledet representerar närvaror av källor till detta flöde innanför ytan. Integranden $\\nabla \\cdot \\vec{F}$ kallas också för källtäthet.\n",
    "\n",
    "---------------------------------------------\n",
    "\n",
    "### Exempel: Gauss sats (tentamen 2011-08-25, variant)\n",
    "\n",
    "---------------------\n",
    "\n",
    "Beräkna normalytintegralen"
   ]
  },
  {
   "cell_type": "markdown",
   "metadata": {},
   "source": [
    "$$\n",
    "\\begin{equation}\n",
    "\\int_S \\vec{F} \\cdot \\mbox{d}\\vec{S},\n",
    "\\end{equation}\n",
    "$$"
   ]
  },
  {
   "cell_type": "markdown",
   "metadata": {},
   "source": [
    "där $\\vec{F} = -F_0 z \\hat{z} / a$ och $S$ är ytan $x^2 + y^2 = (z-4a)^2$ och $0\\le z \\le 4a$ med normalen snett uppåt (alltså positiv z-komponent).\n",
    "\n",
    "*Lösning:* \n",
    "* Bestäm utseendet på ytan $S$ och rita en tydlig figur.\n",
    "\n",
    "* Undersök fältet $\\vec{F}$. Singulariteter? Beräkna $\\nabla \\cdot \\vec{F}$.\n",
    "\n",
    "* Slut ytan $S$. Undvik singulariteter inuti den inneslutna volymen.\n",
    "\n",
    "* Teckna Gauss sats och beräkna integralen.\n",
    "\n",
    "* Har normalen rätt riktning?\n",
    "\n",
    "Vår ytan är en kon med spetsen i $z=4a$ och en öppning nedåt. Den är alltså inte sluten! Fältet är utan singulariteter och divergensen är $\\nabla \\cdot \\vec{F} = -F_0 / a$.\n",
    "\n",
    "Vi kan sluta ytan genom att lägga till en bottenplatta, $S_{z=0}$, i $xy$-planet. Detta blir en cirkelskiva med $z=0$ och radie $4a$. Normalvektorn blir $-\\hat{z}$ för at peka ut från den inneslutna volymen. På den slutna ytan $S+S_{z=0}$ kan vi sedan tillämpa Gauss sats"
   ]
  },
  {
   "cell_type": "markdown",
   "metadata": {},
   "source": [
    "$$\n",
    "\\begin{equation}\n",
    "  \\oint_{S+S_{z=0}} \\vec{F} \\cdot \\mbox{d}\\vec{S} = \\int_V \\nabla \\cdot \\vec{F}\n",
    "\\mbox{d}V = -\\frac{F_0}{a}\\int_V\\mbox{d}V = -\\frac{F_0}{a} \\frac{1}{3} \\pi (4a)^2 4a.\n",
    "\\end{equation}\n",
    "$$"
   ]
  },
  {
   "cell_type": "markdown",
   "metadata": {},
   "source": [
    "Vi kan nu separat beräkna"
   ]
  },
  {
   "cell_type": "markdown",
   "metadata": {},
   "source": [
    "$$\n",
    "\\begin{equation}\n",
    "  \\int_{S_{z=0}} \\vec{F} \\cdot \\mbox{d}\\vec{S} = 0,\n",
    "\\end{equation}\n",
    "$$"
   ]
  },
  {
   "cell_type": "markdown",
   "metadata": {},
   "source": [
    "eftersom $\\vec{F}=0$ då $z=0$.  Slutligen har vi alltså"
   ]
  },
  {
   "cell_type": "markdown",
   "metadata": {},
   "source": [
    "$$\n",
    "\\begin{equation}\n",
    "  \\int_S \\vec{F} \\cdot \\mbox{d}\\vec{S} = -\\frac{64\\pi}{3} F_0 a^2.\n",
    "\\end{equation}\n",
    "$$"
   ]
  },
  {
   "cell_type": "markdown",
   "metadata": {},
   "source": [
    "---------------------------------------------\n",
    "\n",
    "## Kontinuitetsekvationen\n",
    "\n",
    "Tänk oss ett fall med en strömmande fluid där vi antar att den totala massan är bevarad.\n",
    "* Densitetsfält $\\rho(\\vec{r},t)$\n",
    "\n",
    "* Hastighetsfält $\\vec{v}(\\vec{r},t)$\n",
    "\n",
    "* Massflödestäthet $\\vec{j}(\\vec{r},t) = \\rho(\\vec{r},t) \\vec{v}(\\vec{r},t)$\n",
    "\n",
    "Definiera en yta $\\mbox{d}\\vec{S}$ med normalriktning $\\hat{n}$. Då blir $\\vec{j} \\cdot \\hat{n} = \\mathrm{massa}/\\mathrm{tidsenhet} \\cdot \\mathrm{areaenhet}$ genom ytan.\n",
    "\n",
    "Inne i en volym $V$ finns massan $m_V = \\int_V \\rho \\mbox{d}V$. Vi kan räkna ut $\\frac{\\mbox{d}m_V}{\\mbox{d}t}$ på två sätt:\n",
    "* Från integralen ovan: $\\frac{\\mbox{d}m_V}{\\mbox{d}t} = \\int_V \\frac{\\partial \\rho}{\\partial t} \\mbox{d}V$.\n",
    "\n",
    "* Hur mycket massa flödar in i volymen per tidsenhet"
   ]
  },
  {
   "cell_type": "markdown",
   "metadata": {},
   "source": [
    "$$\n",
    "\\begin{equation}\n",
    "\\frac{\\mbox{d}m_V}{\\mbox{d}t} =\n",
    "-\\left\\{ \\mathrm{det~som~flödar~ut} \\right\\}\n",
    "= -\\int_{\\partial V} \\vec{j} \\cdot \\mbox{d}\\vec{S} \\nonumber \n",
    "\\end{equation}\n",
    "$$"
   ]
  },
  {
   "cell_type": "markdown",
   "metadata": {},
   "source": [
    "$$\n",
    "\\begin{equation} \n",
    "= \\left\\{ \\mathrm{Gauss~sats} \\right\\} = -\\int_V \\nabla \\cdot \\vec{j} \\mbox{d} V \n",
    "\\end{equation}\n",
    "$$"
   ]
  },
  {
   "cell_type": "markdown",
   "metadata": {},
   "source": [
    "Sammantaget så innebär det att $\\int_V \\left( \\frac{\\partial \\rho}{\\partial t} + \\nabla \\cdot \\vec{j} \\right) \\mbox{d}V = 0$ för alla volymer $V$. Därför får vi kontinuitetsekvationen (som uttrycker en storhets bevarande)"
   ]
  },
  {
   "cell_type": "markdown",
   "metadata": {},
   "source": [
    "$$\n",
    "\\begin{equation}\n",
    "\\frac{\\partial \\rho}{\\partial t} + \\nabla \\cdot \\vec{j} = 0.\n",
    "\\end{equation}\n",
    "$$"
   ]
  },
  {
   "cell_type": "markdown",
   "metadata": {},
   "source": [
    "## Stokes sats\n",
    "\n",
    "Först given på skrivningen för Smith's priset i februari 1854 i Cambridge.  (Bästa student J. C. Maxwell).\n",
    "\n",
    "*Sats:*  Den slutna kurvan $C$ är randen till ytan $S$. Då gäller för ett kontinuerligt deriverbart vektorfält $\\vec{F}$ på $S$ att"
   ]
  },
  {
   "cell_type": "markdown",
   "metadata": {},
   "source": [
    "$$\n",
    "\\begin{equation}\n",
    "  \\int_S \\left( \\nabla \\times \\vec{F}\\right) \\cdot \\mbox{d}\\vec{S} = \\oint_{\\partial S} \\vec{F}\\cdot\n",
    "\\mbox{d}\\vec{r},\n",
    "\\end{equation}\n",
    "$$"
   ]
  },
  {
   "cell_type": "markdown",
   "metadata": {},
   "source": [
    "där $\\partial S = C$ är randen till $S$ och $\\mbox{d}\\vec{S} = \\hat{n} \\mbox{d} S$. Normalriktningen ($\\hat{n}$) och randens riktning ($C$) är orienterade enligt högerhandsregeln.\n",
    "\n",
    "En viktig observation är att man kan välja olika ytor $S$ som alla\n",
    "har samma rand. Integralen i vänsterledet är alltså oberoende\n",
    "av vilken man väljer. Tag två ytor $S_1$ och $S_2$ med samma\n",
    "rand. Genom att sätta samman dem, och vända riktning på\n",
    "normalen till den ena får vi en sluten yta $S$ med\n",
    "$\\partial S=\\emptyset$. Vi har alltså"
   ]
  },
  {
   "cell_type": "markdown",
   "metadata": {},
   "source": [
    "$$\n",
    "\\begin{equation}\n",
    "\\oint_S(\\nabla\\times\\vec{F})\\cdot \\mbox{d}\\vec{S} = \\left(\\int_{S_1}-\\int_{S_2}\\right)(\\nabla\\times\\vec{F})\\cdot\n",
    "\\mbox{d}\\vec{S}=0. \n",
    "\\end{equation}\n",
    "$$"
   ]
  },
  {
   "cell_type": "markdown",
   "metadata": {},
   "source": [
    "Eftersom ytan är sluten kan vi använda Gauss sats, som säger att detta skall vara lika med\n",
    "$\\int_V\\nabla\\cdot(\\nabla\\times\\vec{F})\\mbox{d}V$ där $\\partial V=S$. Integranden här är identiskt noll. Så vänsterledets i Stokes sats oberoende av vilken yta man väljer kan via Gauss sats ses som en konsekvens av identiteten"
   ]
  },
  {
   "cell_type": "markdown",
   "metadata": {},
   "source": [
    "$$\n",
    "\\begin{equation}\n",
    "\\nabla\\cdot(\\nabla\\times\\vec F)=0.\n",
    "\\end{equation}\n",
    "$$"
   ]
  },
  {
   "cell_type": "markdown",
   "metadata": {},
   "source": [
    "## Inifinitesimala volymer och ytor: uttryck för divergens och rotation\n",
    "\n",
    "Vi kan använda Gauss och Stokes satser på inifinitesimala volymer och ytor för att finna koordinatoberoende definition av divergens och rotation på ett fält.\n",
    "\n",
    "### Divergens i kroklinjiga koordinater\n",
    "\n",
    "Med hjälp av ytintegralen kan vi konstruera en koordinatoberoende definition av divergensen i punkten $P$ ($u_1u_2u_3$). Betrakta en volym $\\delta V$ runt $P$, som är så liten att $\\nabla \\cdot \\vec{F}$ kan betraktas som konstant, och använd Gauss sats"
   ]
  },
  {
   "cell_type": "markdown",
   "metadata": {},
   "source": [
    "$$\n",
    "\\begin{equation}\n",
    "  \\nabla \\cdot \\vec{F} =\\lim_{\\delta V \\to 0} \\frac{1}{\\delta V} \\int_{\\delta V} \\nabla \\cdot \\vec{F} \\mbox{d} V \\quad \\Rightarrow \\nonumber \n",
    "\\end{equation}\n",
    "$$"
   ]
  },
  {
   "cell_type": "markdown",
   "metadata": {},
   "source": [
    "$$\n",
    "\\begin{equation} \n",
    "  = \\lim_{\\delta V \\to 0} \\frac{1}{\\delta V} \\oint_{\\partial (\\delta\n",
    "V)} \\vec{F} \\cdot \\mbox{d}\\vec{S},\n",
    "\\end{equation}\n",
    "$$"
   ]
  },
  {
   "cell_type": "markdown",
   "metadata": {},
   "source": [
    "* $\\partial (\\delta V)$ är den infinitesimala volymens begränsningsyta. \n",
    "\n",
    "* Dessa  begränsningsytor väljs som koordinatytor för $u_1,u_2,u_3$ \n",
    "\n",
    "* Vi skriver $\\vec{F} = F_1 \\hat{e}_1 + F_2 \\hat{e}_2 + F_3 \\hat{e}_3$. \n",
    "\n",
    "Betrakta först integralen över $u_1$-ytorna. Storleken på ytelementet blir $h_2 h_3 \\mbox{d}u_2 \\mbox{d}u_3$ och riktningen blir $+\\hat{e}_1$ och $-\\hat{e}_1$ på de två sidorna. Produkten $\\vec{F} \\cdot \\mbox{d} \\vec{S}$ kommer därmed ha storleken $(F_1 h_2 h_3) \\mbox{d}u_2 \\mbox{d}u_3$ och vi får inte glömma att storheterna inom parantesen kan ha ett $u_1$-beroende"
   ]
  },
  {
   "cell_type": "markdown",
   "metadata": {},
   "source": [
    "$$\n",
    "\\begin{equation}\n",
    "\\int_{u_1-\\mathrm{ytorna}} \\vec{F} \\cdot \\mbox{d} \\vec{S} = \\Big( (F_1 h_2 h_3)_{u_1 + \\mathrm{d} u_1/2} - (F_1 h_2 h_3)_{u_1-\\mathrm{d} u_1/2} \\Big)  \\mbox{d}u_2 \\mbox{d}u_3 \\nonumber \n",
    "\\end{equation}\n",
    "$$"
   ]
  },
  {
   "cell_type": "markdown",
   "metadata": {},
   "source": [
    "$$\n",
    "\\begin{equation} \n",
    "= \\frac{\\partial (F_1 h_2 h_3)}{\\partial u_1} \\mbox{d}u_1 \\mbox{d}u_2 \\mbox{d}u_3.\n",
    "\\end{equation}\n",
    "$$"
   ]
  },
  {
   "cell_type": "markdown",
   "metadata": {},
   "source": [
    "Eftersom volymen $\\delta V = h_1 h_2 h_3 \\mbox{d}u_1 \\mbox{d}u_2 \\mbox{d}u_3$ blir det totalt"
   ]
  },
  {
   "cell_type": "markdown",
   "metadata": {},
   "source": [
    "$$\n",
    "\\begin{equation}\n",
    "\\nabla \\cdot \\vec{F} = \\lim_{\\delta V \\to 0}  \\frac{\\mbox{d}u_1 \\mbox{d}u_2 \\mbox{d}u_3}{h_1 h_2 h_3 \\mbox{d}u_1 \\mbox{d}u_2 \\mbox{d}u_3} \\left( \\frac{\\partial}{\\partial u_1} (F_1 h_2 h_3) + \\frac{\\partial}{\\partial u_2} (F_2 h_1 h_3) + \\frac{\\partial}{\\partial u_3} (F_3 h_1 h_2) \\right) \\nonumber \n",
    "\\end{equation}\n",
    "$$"
   ]
  },
  {
   "cell_type": "markdown",
   "metadata": {},
   "source": [
    "$$\n",
    "\\begin{equation} \n",
    "= \\frac{1}{h_1 h_2 h_3} \\sum_{i=1}^3 \\frac{\\partial}{\\partial u_i} \\left[ \\frac{h_1 h_2 h_3}{h_i} F_i \\right].\n",
    "\\end{equation}\n",
    "$$"
   ]
  },
  {
   "cell_type": "markdown",
   "metadata": {},
   "source": [
    "### Exempel: sfäriska koordinater\n",
    "\n",
    "* skalfaktorer $h_r=1$, $h_\\theta=r$, $h_\\varphi = r \\sin\\theta$\n",
    "\n",
    "* Ett vektorfält $\\vec{F} = F_r \\hat{e}_r + F_\\theta \\hat{e}_\\theta + F_\\varphi \\hat{e}_\\varphi$\n",
    "\n",
    "Divergensen blir"
   ]
  },
  {
   "cell_type": "markdown",
   "metadata": {},
   "source": [
    "$$\n",
    "\\begin{equation}\n",
    "\\nabla \\cdot \\vec{F} = \\frac{1}{r^2 \\sin\\theta} \\left( \\frac{\\partial}{\\partial r} \\left( r^2 \\sin\\theta F_r \\right) + \\frac{\\partial}{\\partial \\theta} \\left( r \\sin\\theta F_\\theta \\right) + \\frac{\\partial}{\\partial \\varphi} \\left( r F_\\varphi \\right) \\right) \\nonumber \n",
    "\\end{equation}\n",
    "$$"
   ]
  },
  {
   "cell_type": "markdown",
   "metadata": {},
   "source": [
    "$$\n",
    "\\begin{equation} \n",
    "= \\frac{1}{r^2} \\frac{\\partial}{\\partial r} \\left( r^2 F_r \\right) + \\frac{1}{r \\sin\\theta} \\frac{\\partial}{\\partial \\theta} \\left( \\sin\\theta F_\\theta \\right) + \\frac{1}{r \\sin\\theta} \\frac{\\partial F_\\varphi}{\\partial \\varphi}.\n",
    "\\end{equation}\n",
    "$$"
   ]
  },
  {
   "cell_type": "markdown",
   "metadata": {},
   "source": [
    "### Rotation i kroklinjiga koordinater\n",
    "\n",
    "Med hjälp av en kurvintegral kan vi konstruera en koordinatoberoende definition av rotationen. För ett infinitesimalt litet ytelement $d\\vec{S} = \\hat{n} dS$ har vi"
   ]
  },
  {
   "cell_type": "markdown",
   "metadata": {},
   "source": [
    "$$\n",
    "\\begin{equation}\n",
    "  \\hat{n} \\cdot \\left( \\nabla \\times \\vec{F} \\right) =  \\lim_{\\delta S \\to 0} \\frac{1}{\\delta S} \\int_{\\delta S} \\nabla \\times \\vec{F} \\cdot \\mbox{d} \\vec{S} \\quad \\Rightarrow \\nonumber \n",
    "\\end{equation}\n",
    "$$"
   ]
  },
  {
   "cell_type": "markdown",
   "metadata": {},
   "source": [
    "$$\n",
    "\\begin{equation} \n",
    "  = \\lim_{\\delta S \\to 0} \n",
    "\\frac{1}{\\delta S} \\oint_{\\partial (\\delta S)} \\vec{F} \\cdot \\mbox{d}\\vec{r},\n",
    "\\end{equation}\n",
    "$$"
   ]
  },
  {
   "cell_type": "markdown",
   "metadata": {},
   "source": [
    "där $\\delta S$ är ett litet ytelement med normalen $\\hat{n}$ och uttrycket ovan alltså ger komponenten av $\\nabla \\times \\vec{F}$ längs enhetsvektorn $\\hat{n}$.\n",
    "* Vi får (exempelvis) $u_1$-komponenten av $\\nabla \\times \\vec{F}$ genom att låta $\\delta S$ vara en $u_1$-yta.\n",
    "\n",
    "* Randen $\\partial(\\delta S)$ utgörs då av koordinatlinjerna för $u_2$ och $u_3$.\n",
    "\n",
    "* Lägg ihop de fyra bidragen och dela med $\\delta S = h_2 h_3 \\mbox{d}u_2 \\mbox{d}u_3$.\n",
    "\n",
    "* Upprepa detta för $u_2$ och $u_3$ komponenterna.\n",
    "\n",
    "Slutresultatet blir"
   ]
  },
  {
   "cell_type": "markdown",
   "metadata": {},
   "source": [
    "$$\n",
    "\\begin{equation}\n",
    "\\nabla \\times \\vec{F} = = \\frac{1}{h_1 h_2 h_3} \\left|\n",
    "\\begin{matrix}\n",
    "h_1 \\hat{e}_1 & h_2\\hat{e}_2 & h_3\\hat{e}_3\\cr\n",
    "\\frac{\\partial }{\\partial u_1} & \\frac{\\partial }{\\partial u_2} & \\frac{\\partial }{\\partial u_3}\\cr\n",
    "h_1F_1 & h_2F_2 & h_3F_3 \\cr\n",
    "\\end{matrix} \\right| .\n",
    "\\end{equation}\n",
    "$$"
   ]
  },
  {
   "cell_type": "markdown",
   "metadata": {},
   "source": [
    "### Laplaceoperatorn i kroklinjiga koordinater\n",
    "\n",
    "Slutligen kan kan man använda uttrycken för gradient och divergens för att få  Laplaceoperatorn på en skalär i kroklinjiga koordinater:"
   ]
  },
  {
   "cell_type": "markdown",
   "metadata": {},
   "source": [
    "$$\n",
    "\\begin{equation}\n",
    "\\Delta\\phi=\\nabla \\cdot (\\nabla\\phi)\n",
    "=\\frac{1}{h_1h_2h_3}\\sum_{i=1}^3\n",
    "\\frac{\\partial}{\\partial u_i} \\left( \\frac{h_1h_2h_3}{h_i^2} \\frac{\\partial\\phi}{\\partial u_i} \\right).\n",
    "\\end{equation}\n",
    "$$"
   ]
  },
  {
   "cell_type": "markdown",
   "metadata": {},
   "source": [
    "### Exempel (Gauss sats): Tentamen 2003-08-18\n",
    "\n",
    "-----------------------\n",
    "\n",
    "Beräkna integralen"
   ]
  },
  {
   "cell_type": "markdown",
   "metadata": {},
   "source": [
    "$$\n",
    "\\begin{equation}\n",
    "  \\int_S \\vec{F}\\cdot \\mbox{d}\\vec{S},\n",
    "\\end{equation}\n",
    "$$"
   ]
  },
  {
   "cell_type": "markdown",
   "metadata": {},
   "source": [
    "där $S$ är ytan"
   ]
  },
  {
   "cell_type": "markdown",
   "metadata": {},
   "source": [
    "$$\n",
    "\\begin{equation}\n",
    "  x^2 + y^2 + z^2 = a^2,  \\quad z> 0,\n",
    "\\end{equation}\n",
    "$$"
   ]
  },
  {
   "cell_type": "markdown",
   "metadata": {},
   "source": [
    "och fältet $\\vec{F}$ ges av"
   ]
  },
  {
   "cell_type": "markdown",
   "metadata": {},
   "source": [
    "$$\n",
    "\\begin{equation}\n",
    "  \\vec{F} = \\frac{F_0}{a^2} \\left(ax, ay, x^2+y^2\\right).\n",
    "\\end{equation}\n",
    "$$"
   ]
  },
  {
   "cell_type": "markdown",
   "metadata": {},
   "source": [
    "$a$ och $F_0$ är konstanter.\n",
    "\n",
    "*Lösning:* \n",
    "Vi konstaterar först att ytan"
   ]
  },
  {
   "cell_type": "markdown",
   "metadata": {},
   "source": [
    "$$\n",
    "\\begin{equation}\n",
    "  x^2 + y^2 + z^2 = a^2, \\quad z>0\n",
    "\\end{equation}\n",
    "$$"
   ]
  },
  {
   "cell_type": "markdown",
   "metadata": {},
   "source": [
    "är en halvsfär med radien $a$.  \n",
    "\n",
    "Fältet $\\vec{F}$ är reguljärt överallt, och det har divergensen"
   ]
  },
  {
   "cell_type": "markdown",
   "metadata": {},
   "source": [
    "$$\n",
    "\\begin{equation}\n",
    "  \\nabla \\cdot \\vec{F} = \\frac{F_0}{a^2}\\left(\\frac{\\partial}{\\partial x}\n",
    "\\left(ax\\right) + \\frac{\\partial}{\\partial y} \\left(ay\\right) +\n",
    "\\frac{\\partial}{\\partial z} \\left(x^2 + y^2\\right)\\right) = \\frac{F_0}{a^2}\n",
    "\\left(a+a\\right) = 2 \\frac{F_0}{a}.\n",
    "\\end{equation}\n",
    "$$"
   ]
  },
  {
   "cell_type": "markdown",
   "metadata": {},
   "source": [
    "Allt vi behöver göra för att kunna tillämpa Gauss sats är därför att sluta ytan genom att lägga till en bottenyta $S_1$ med normalen $-\\hat{z}$, samtidigt som vi sätter normalen till $S$ till $\\hat{e}_r$.  Gauss sats ger oss nu att"
   ]
  },
  {
   "cell_type": "markdown",
   "metadata": {},
   "source": [
    "$$\n",
    "\\begin{equation}\n",
    "  \\oint_{S+S_1} \\vec{F}\\cdot \\mbox{d}\\vec{S} = \\int_S \\vec{F}\\cdot \\mbox{d}\\vec{S} +\n",
    "\\int_{S_1} \\vec{F}\\cdot \\mbox{d}\\vec{S} = \\int_V \\nabla \\cdot \\vec{F} \\mbox{d}V =\n",
    "\\int_V 2 \\frac{F_0}{a} \\mbox{d}V \\nonumber \n",
    "\\end{equation}\n",
    "$$"
   ]
  },
  {
   "cell_type": "markdown",
   "metadata": {},
   "source": [
    "$$\n",
    "\\begin{equation} \n",
    " = 2\\frac{F_0}{a} \\frac{2\\pi a^3}{3} =\n",
    "\\frac{4\\pi F_0 a^2}{3}.\n",
    "\\end{equation}\n",
    "$$"
   ]
  },
  {
   "cell_type": "markdown",
   "metadata": {},
   "source": [
    "Vi övergår nu till att beräkna integralen över $S_1$:"
   ]
  },
  {
   "cell_type": "markdown",
   "metadata": {},
   "source": [
    "$$\n",
    "\\begin{equation}\n",
    "  \\int_{S_1} \\vec{F}\\cdot \\mbox{d}\\vec{S} = \\int_{S_1} \\vec{F} \\cdot \\left(-\n",
    "\\hat{z} \\right) \\mbox{d}S = \\int_{S_1} - \\frac{F_0}{a^2} \\left(x^2 + y^2\n",
    "\\right) \\mbox{d}S.\n",
    "\\end{equation}\n",
    "$$"
   ]
  },
  {
   "cell_type": "markdown",
   "metadata": {},
   "source": [
    "Det är nu praktiskt att skriva om integralen på cylinderkoordinater"
   ]
  },
  {
   "cell_type": "markdown",
   "metadata": {},
   "source": [
    "$$\n",
    "\\begin{equation}\n",
    "  \\int_{S_1} \\vec{F}\\cdot \\mbox{d}\\vec{S} = - \\frac{F_0}{a^2} \\int_0^a\n",
    "\\int_0^{2\\pi} \\rho^2 \\rho \\mbox{d}\\varphi \\mbox{d}\\rho = -2\\pi \n",
    "\\frac{F_0}{a^2} \\left[\\frac{\\rho^4}{4}\\right]_0^a = - \\frac{\\pi F_0 a^2}{2}.\n",
    "\\end{equation}\n",
    "$$"
   ]
  },
  {
   "cell_type": "markdown",
   "metadata": {},
   "source": [
    "Vi kan nu få fram ett värde på vår sökta integral"
   ]
  },
  {
   "cell_type": "markdown",
   "metadata": {},
   "source": [
    "$$\n",
    "\\begin{equation}\n",
    "  \\int_S \\vec{F}\\cdot \\mbox{d}\\vec{S} = \\oint_{S+S_1} \\vec{F}\\cdot \\mbox{d}\\vec{S}\n",
    "-\\int_{S_1} \\vec{F}\\cdot \\mbox{d}\\vec{S} = \\frac{4\\pi F_0 a^2}{3} + \n",
    "\\frac{\\pi F_0 a^2}{2} = \\frac{11\\pi F_0 a^2}{6}.\n",
    "\\end{equation}\n",
    "$$"
   ]
  },
  {
   "cell_type": "markdown",
   "metadata": {},
   "source": [
    "---------------------------------------------\n",
    "\n",
    "### Exempel (Stokes sats): Tentamen 2003-08-18\n",
    "\n",
    "-----------------------\n",
    "\n",
    "Beräkna integralen"
   ]
  },
  {
   "cell_type": "markdown",
   "metadata": {},
   "source": [
    "$$\n",
    "\\begin{equation}\n",
    "  \\oint_C \\vec{F}\\cdot \\mbox{d}\\vec{r},\n",
    "\\end{equation}\n",
    "$$"
   ]
  },
  {
   "cell_type": "markdown",
   "metadata": {},
   "source": [
    "där kurvan $C$ ges av skärningen mellan ytorna"
   ]
  },
  {
   "cell_type": "markdown",
   "metadata": {},
   "source": [
    "$$\n",
    "\\begin{equation}\n",
    "  r^2\\sin^2 \\theta \\left(4 \\cos^2 \\varphi + \\sin^2 \\varphi\\right) = 4 a^2,\n",
    "\\end{equation}\n",
    "$$"
   ]
  },
  {
   "cell_type": "markdown",
   "metadata": {},
   "source": [
    "och"
   ]
  },
  {
   "cell_type": "markdown",
   "metadata": {},
   "source": [
    "$$\n",
    "\\begin{equation}\n",
    "  z = 0.\n",
    "\\end{equation}\n",
    "$$"
   ]
  },
  {
   "cell_type": "markdown",
   "metadata": {},
   "source": [
    "Kurvan omsluts i moturs riktning sett ovanifrån (dvs högerorienterad relativt $z$-axeln). \n",
    "Vidare ges fältet $\\vec{F}$ av"
   ]
  },
  {
   "cell_type": "markdown",
   "metadata": {},
   "source": [
    "$$\n",
    "\\begin{equation}\n",
    "  \\vec{F} = F_0 \\left[\\left(\\frac{a}{r} + \\frac{r}{2a}\\sin^2 \\theta \\sin 2\\varphi\n",
    "\\right) \\hat{r} + \\left(\\frac{a}{r} \\cot \\theta + \\frac{r}{4a} \n",
    "\\sin 2 \\theta \\sin 2 \\varphi\\right) \\hat{e}_\\theta -\n",
    "\\frac{r}{a} \\sin \\theta \\sin^2 \\varphi \\hat{e}_\\varphi \\right].\n",
    "\\end{equation}\n",
    "$$"
   ]
  },
  {
   "cell_type": "markdown",
   "metadata": {},
   "source": [
    "$F_0$ och $a$ är konstanter. \n",
    "\n",
    "*Lösning*:   \n",
    "Strategi:\n",
    "* Bestäm kurvan $C$ och rita en tydlig figur\n",
    "\n",
    "* Undersök fältet $\\vec{F}$, singulariteter? Räkna ut $\\nabla \\times \\vec{F}$, singulariteter?\n",
    "\n",
    "* Slut kurvan $C$ och bestäm ytan $S$ (ofta flera möjligheter). Undvik singulariteter på ytan.\n",
    "\n",
    "* Teckna Stokes sats och beräkna de integraler som uppträder\n",
    "\n",
    "* Kontrollera en gång till att delkurvorna och ytan $S$ har konsistenta riktningar.\n",
    "\n",
    "Vi följer lösningsstrategin\n",
    "* Bestäm kurvan $C$ och rita en tydlig figur\n",
    "\n",
    "Formen på denna kurva tolkas kanske enklast i kartesiska koordinater"
   ]
  },
  {
   "cell_type": "markdown",
   "metadata": {},
   "source": [
    "$$\n",
    "\\begin{equation}\n",
    "\\left\\{\n",
    "\\begin{array}{ll}\n",
    "x = r \\sin\\theta \\cos\\varphi & \\\\\n",
    "y = r \\sin\\theta \\sin\\varphi & \\\\\n",
    "z = r\\cos\\theta\n",
    "\\end{array}\n",
    "\\right.\n",
    "\\end{equation}\n",
    "$$"
   ]
  },
  {
   "cell_type": "markdown",
   "metadata": {},
   "source": [
    "Vi börjar alltså med att skriva om"
   ]
  },
  {
   "cell_type": "markdown",
   "metadata": {},
   "source": [
    "$$\n",
    "\\begin{equation}\n",
    "  r^2 \\sin^2 \\theta \\left(4 \\cos^2 \\varphi + \\sin^2 \\varphi\\right) = 4 a^2\n",
    "\\end{equation}\n",
    "i kartesiska koordinater\n",
    "\\begin{equation}\n",
    "  4x^2 + y^2 = 4a^2,\n",
    "\\end{equation}\n",
    "$$"
   ]
  },
  {
   "cell_type": "markdown",
   "metadata": {},
   "source": [
    "vilket är mantelytan till en elliptisk cylinder med halvaxlarna $a$ och $2a$. Skärningen med $z=0$ planet blir då en ellips i $xy$-planet med mittpunkt i origo och med halvaxlarna $a$ och $2a$.\n",
    "* Undersök fältet $\\vec{F}$, singulariteter? Räkna ut $\\nabla \\times \\vec{F}$, singulariteter?\n",
    "\n",
    "Vi skriver om fältet genom att gruppera termerna enligt gemensam pre-faktor. Sedan noterar vi att de två termerna blir väldigt enkla om de uttrycks i varsitt koordinatsystem"
   ]
  },
  {
   "cell_type": "markdown",
   "metadata": {},
   "source": [
    "$$\n",
    "\\begin{equation}\n",
    "  \\vec{F} = F_0 \\left[\\left(\\frac{a}{r} + \\frac{r}{2a} \\sin^2 \\theta \n",
    "\\sin 2\\varphi\\right) \\hat{e}_r + \\left(\\frac{a}{r} \\cot \\theta + \n",
    "\\frac{r}{4a} \\sin 2\\theta \\sin 2\\varphi\\right) \\hat{e}_\\theta -\n",
    "\\frac{r}{a} \\sin \\theta \\sin^2 \\varphi \\hat{e}_\\varphi \\right]\n",
    "\\nonumber \n",
    "\\end{equation}\n",
    "$$"
   ]
  },
  {
   "cell_type": "markdown",
   "metadata": {},
   "source": [
    "$$\n",
    "\\begin{equation} \n",
    "= F_0 \\left[\\frac{a}{r\\sin \\theta} \\left(\\sin \\theta \\hat{e}_r + \n",
    "\\cos \\theta \\hat{e}_\\theta \\right) + \\frac{r}{a} \\sin \\theta \\sin \\varphi\n",
    "\\left( \\sin \\theta \\cos \\varphi \\hat{e}_r + \\cos \\theta \\cos \\varphi \n",
    "\\hat{e}_\\theta - \\sin \\varphi \\hat{e}_\\varphi \\right) \\right]\n",
    "\\nonumber \n",
    "\\end{equation}\n",
    "$$"
   ]
  },
  {
   "cell_type": "markdown",
   "metadata": {},
   "source": [
    "$$\n",
    "\\begin{equation} \n",
    "= F_0 \\left(\\frac{a}{\\rho} \\hat{e}_\\rho + \\frac{y}{a} \\hat{x} \\right).\n",
    "\\end{equation}\n",
    "$$"
   ]
  },
  {
   "cell_type": "markdown",
   "metadata": {},
   "source": [
    "Där vi alltså har använt att projektionen i $xy$-planet är $\\rho = r \\sin\\theta$ och att $\\hat{e}_\\rho = \\sin\\theta \\hat{e}_r + \\cos\\theta \\hat{e}_\\theta$ och $\\hat{x} = \\cos\\varphi \\hat{e}_\\rho - \\sin\\varphi \\hat{e}_\\varphi$.\n",
    "\n",
    "Notera att vi har skrivit $\\vec{F} = \\vec{F}_1 + \\vec{F}_2$ där vi uttryckt de två termerna i olika koordinatsystem. Den första termen är uttryckt i ett cylindriskt koordinatsystem och den andra i ett kartesiskt.\n",
    "\n",
    "Vi konstaterar nu att $\\vec{F}$ är singulär för $\\rho = 0$ (genom $\\vec{F}_1$-termen).\n",
    "\n",
    "Sedan beräknar vi rotationen. Det är inget problem att vi har skrivit vektorn som summan av två termer eftersom $\\nabla \\times (\\vec{F}_1 + \\vec{F}_2) = \\nabla \\times \\vec{F}_1 + \\nabla \\times \\vec{F}_2$. Kom bara ihåg att använda rätt uttryck för rotationsoperatorn fär de olika koordinatsystemen."
   ]
  },
  {
   "cell_type": "markdown",
   "metadata": {},
   "source": [
    "$$\n",
    "\\begin{equation}\n",
    "  \\nabla \\times \\vec{F} = \\nabla \\times \\left( F_\\rho \\hat{e}_\\rho + F_x \\hat{x} \\right) = 0 + \\nabla \\times F_x \\hat{x} = - \\frac{\\partial}{\\partial y}\\left(F_0\\frac{y}{a}\\right) \n",
    "\\hat{z} = - \\frac{F_0}{a} \\hat{z}.\n",
    "\\end{equation}\n",
    "$$"
   ]
  },
  {
   "cell_type": "markdown",
   "metadata": {},
   "source": [
    "Vi noterar att denna ej beror på $\\rho$ och ej är singulär. Faktum är att det var ganska uppenbart att den första termen skulle ha noll rotation (skissa gärna fältlinjerna).\n",
    "\n",
    "* Slut kurvan $C$ och bestäm ytan $S$ (ofta flera möjligheter). Undvik singulariteter på ytan.\n",
    "\n",
    "Kurvan $C$ omsluter redan en yta, men singulariteten gör det svårt att applicera Stokes sats. Notera att det faktum att singulariteten sitter längs hela $z$-axeln (en sk linjesingularitet) gör det omöjligt att konstruera en yta utan singularitet med bara $C$ som rand.\n",
    "\n",
    "Istället inför vi en inre rand för att kunna använda Stokes sats. Omge $z$-axeln med en liten cirkel, $C_\\epsilon$ med radien $\\epsilon$. Lägg märke till att medan vi följer $C$ i moturs riktning, så måste  vi följa $C_\\epsilon$ i medurs riktning. \n",
    "[Comment 1: Högerhandsregeln. Stå på ytan med tummen upp i normalens riktning och titta på randen. Fingrarna ger riktningen.] \n",
    "* Teckna Stokes sats och beräkna de integraler som uppträder\n",
    "\n",
    "Stokes sats ger oss att"
   ]
  },
  {
   "cell_type": "markdown",
   "metadata": {},
   "source": [
    "$$\n",
    "\\begin{equation}\n",
    "  \\oint_C \\vec{F}\\cdot \\mbox{d}\\vec{r} + \\oint_{C_\\epsilon} \\vec{F}\\cdot \\mbox{d}\\vec{r}\n",
    "= \\int_{S_\\epsilon} \\nabla \\times \\vec{F} \\cdot \\mbox{d}\\vec{S},\n",
    "\\end{equation}\n",
    "$$"
   ]
  },
  {
   "cell_type": "markdown",
   "metadata": {},
   "source": [
    "där $S_\\epsilon$ är en yta som har $C$ och $C_\\epsilon$ till rand.  Denna yta har \n",
    "normalvektorn $\\hat{z}$. I gränsen $\\epsilon \\to 0$ kommer $S_\\epsilon \\to S$.\n",
    "\n",
    "Ytintegralen, i gränsen $\\epsilon \\to 0$, blir då"
   ]
  },
  {
   "cell_type": "markdown",
   "metadata": {},
   "source": [
    "$$\n",
    "\\begin{equation}\n",
    "  \\lim_{\\epsilon \\to 0} \\int_{S_\\epsilon} \\nabla \\times \\vec{F} \\cdot \\mbox{d}\\vec{S} = -\\frac{F_0}{a} \\int_S \\mbox{d}S\n",
    "= - \\frac{F_0}{a} \\pi (a) (2a) = -2\\pi F_0 a.\n",
    "\\end{equation}\n",
    "$$"
   ]
  },
  {
   "cell_type": "markdown",
   "metadata": {},
   "source": [
    "För att räkna ut integralen över $C_\\epsilon$ parametriserar vi kurvan med vinkeln $\\varphi$. Eftersom vi skall gå moturs längs en cirkel med radien $\\epsilon$ inser vi att $\\mbox{d}\\vec{r} = - \\epsilon \\hat{e}_\\varphi \\mbox{d}\\varphi$ så att integralen blir"
   ]
  },
  {
   "cell_type": "markdown",
   "metadata": {},
   "source": [
    "$$\n",
    "\\begin{equation}\n",
    "  \\int_{C_\\epsilon} \\vec{F}\\cdot \\mbox{d}\\vec{r} = \\int_0^{2\\pi} F_0 \n",
    "\\left(\\frac{a}{\\rho} \\hat{e}_\\rho + \\frac{y}{a} \\hat{x} \\right) \\cdot\n",
    "\\left(-\\hat{e}_\\varphi \\right) \\epsilon \\mbox{d}\\varphi \\nonumber \n",
    "\\end{equation}\n",
    "$$"
   ]
  },
  {
   "cell_type": "markdown",
   "metadata": {},
   "source": [
    "$$\n",
    "\\begin{equation} \n",
    "= F_0 \\int_0^{2\\pi} \\frac{\\epsilon \\sin \\varphi}{a} \\sin\n",
    "\\varphi \\mbox{d} \\varphi \\to 0 \\quad \\mbox{då} \\quad \\epsilon \\to 0.\n",
    "\\end{equation}\n",
    "$$"
   ]
  },
  {
   "cell_type": "markdown",
   "metadata": {},
   "source": [
    "Alltså följer det att"
   ]
  },
  {
   "cell_type": "markdown",
   "metadata": {},
   "source": [
    "$$\n",
    "\\begin{equation}\n",
    "\\int_C \\vec{F} \\cdot \\mbox{d}\\vec{r} = \\int_{C+C_\\epsilon} \\vec{F}\\cdot \\mbox{d}\\vec{r} =\n",
    "-2\\pi F_0 a.\n",
    "\\end{equation}\n",
    "$$"
   ]
  },
  {
   "cell_type": "markdown",
   "metadata": {},
   "source": [
    "* Kontrollera en gång till att delkurvorna och ytan $S$ har konsistenta riktningar. Det är även en god idé att kontrollera enheten som skall vara enheten på $F_0$ gånger längd (eftersom vi utfört en kurvintegral).\n",
    "\n",
    "---------------------------------------------\n",
    "\n",
    "## Ytterligare räkneproblem\n",
    "\n",
    "### Exempel: Ytintegral med öppning\n",
    "\n",
    "---------------------------------------------\n",
    "\n",
    "Beräkna integralen"
   ]
  },
  {
   "cell_type": "markdown",
   "metadata": {},
   "source": [
    "$$\n",
    "\\begin{equation}\n",
    "\\int_S \\vec{F} \\cdot \\mbox{d}\\vec{S},\n",
    "\\end{equation}\n",
    "$$"
   ]
  },
  {
   "cell_type": "markdown",
   "metadata": {},
   "source": [
    "där $\\vec{F} = F_0/a \\left( x\\hat{x} + y\\hat{y} \\right)$ och $S$ är ytan $2a -\\sqrt{x^2 - y^2} = z$ och $0\\le z \\le 2a$ med normalen snett uppåt (alltså positiv z-komponent).\n",
    "\n",
    "Vi kan då börja med att beräkna $\\nabla \\cdot \\vec{F} = 2F_0/a$. Eftersom divergensen har ett så enkelt uttryck är det lockande att  använda Gauss sats, men ytan $S$ är en kon med spetsen i $z = 2a$ och öppningen nedåt; den är alltså inte en sluten yta.  Vi kan dock sluta den genom att lägga till en cirkelskiva, $S_\\epsilon$ i $xy$-planet med radien $2a$ och normalvektorn $-\\hat{z}$. På den slutna ytan $S+S_\\epsilon$ kan vi sedan tillämpa Gauss sats"
   ]
  },
  {
   "cell_type": "markdown",
   "metadata": {},
   "source": [
    "$$\n",
    "\\begin{equation}\n",
    "  \\oint_{S+S_\\epsilon} \\vec{F} \\cdot \\mbox{d}\\vec{S} = \\int_V \\nabla \\cdot \\vec{F}\n",
    "\\mbox{d}V = \\frac{2F_0}{a}\\int_V\\mbox{d}V.\n",
    "\\end{equation}\n",
    "$$"
   ]
  },
  {
   "cell_type": "markdown",
   "metadata": {},
   "source": [
    "Volymen av konen är"
   ]
  },
  {
   "cell_type": "markdown",
   "metadata": {},
   "source": [
    "$$\n",
    "\\begin{equation}\n",
    "  \\int_V\\mbox{d}V = \\frac{1}{3} \\pi \\left(2a\\right)^2 2a = \\frac{8\\pi a^3}{3},\n",
    "\\end{equation}\n",
    "$$"
   ]
  },
  {
   "cell_type": "markdown",
   "metadata": {},
   "source": [
    "och alltså blir integralen"
   ]
  },
  {
   "cell_type": "markdown",
   "metadata": {},
   "source": [
    "$$\n",
    "\\begin{equation}\n",
    "  \\oint_{S+S_\\epsilon} \\vec{F} \\cdot \\mbox{d}\\vec{S} = \\frac{2F_0}{a} \n",
    "\\frac{8\\pi a^3}{3} = \\frac{16\\pi F_0 a^2}{3}.\n",
    "\\end{equation}\n",
    "$$"
   ]
  },
  {
   "cell_type": "markdown",
   "metadata": {},
   "source": [
    "Vi kan nu separat beräkna"
   ]
  },
  {
   "cell_type": "markdown",
   "metadata": {},
   "source": [
    "$$\n",
    "\\begin{equation}\n",
    "  \\int_{S_\\epsilon} \\vec{F} \\cdot \\mbox{d}\\vec{S},\n",
    "\\end{equation}\n",
    "$$"
   ]
  },
  {
   "cell_type": "markdown",
   "metadata": {},
   "source": [
    "men här lägger vi märke till att $\\vec{F}$ saknar en $z$-komponent,  så $\\vec{F} \\cdot \\hat{z} = 0$, och integralen över $S_\\epsilon$ blir också noll.  Slutligen har vi alltså"
   ]
  },
  {
   "cell_type": "markdown",
   "metadata": {},
   "source": [
    "$$\n",
    "\\begin{equation}\n",
    "  \\int_S \\vec{F} \\cdot \\mbox{d}\\vec{S} = \\frac{16\\pi F_0 a^2}{3}.\n",
    "\\end{equation}\n",
    "$$"
   ]
  },
  {
   "cell_type": "markdown",
   "metadata": {},
   "source": [
    "---------------------------------------------\n",
    "\n",
    "### Exempel: kurvintegral längs komplicerad ellips\n",
    "\n",
    "-----------------------------\n",
    "\n",
    "[Comment 2: PLK Kap. 2.5 Uppg. 3:]  Beräkna integralen"
   ]
  },
  {
   "cell_type": "markdown",
   "metadata": {},
   "source": [
    "$$\n",
    "\\begin{equation}\n",
    "  \\oint_\\Gamma \\vec{F} \\cdot \\mbox{d}\\vec{r},\n",
    "\\end{equation}\n",
    "$$"
   ]
  },
  {
   "cell_type": "markdown",
   "metadata": {},
   "source": [
    "där"
   ]
  },
  {
   "cell_type": "markdown",
   "metadata": {},
   "source": [
    "$$\n",
    "\\begin{equation}\n",
    "  \\vec{F} = \\left[x^2-a\\left(y+z\\right)\\right]\\hat{x} + \\left(y^2-az\\right)\n",
    "\\hat{y} + \\left[z^2-a\\left(x+y\\right)\\right] \\hat{z},\n",
    "\\end{equation}\n",
    "$$"
   ]
  },
  {
   "cell_type": "markdown",
   "metadata": {},
   "source": [
    "och $\\Gamma$ är den kurva som utgör skärningen mellan cylindern"
   ]
  },
  {
   "cell_type": "markdown",
   "metadata": {},
   "source": [
    "$$\n",
    "\\begin{equation}\n",
    " \\left(x-a\\right)^2 +y^2 = a^2,\\quad z \\ge 0,\n",
    "\\end{equation}\n",
    "$$"
   ]
  },
  {
   "cell_type": "markdown",
   "metadata": {},
   "source": [
    "och sfären"
   ]
  },
  {
   "cell_type": "markdown",
   "metadata": {},
   "source": [
    "$$\n",
    "\\begin{equation}\n",
    "  x^2 + y^2 + z^2 = R^2, \\quad R> 2a,\n",
    "\\end{equation}\n",
    "$$"
   ]
  },
  {
   "cell_type": "markdown",
   "metadata": {},
   "source": [
    "där $a$ är en konstant med dimensionen längd.\n",
    "\n",
    "*Lösning:*  Vi kan först konstatera att skärningen mellan cylinder och sfär är en ellips vars exakta form är något komplicerad att fastställa.  Eftersom kurvan $\\Gamma$ är en sluten kurva är det lockande att använda Stokes sats, så vi beräknar rotationen"
   ]
  },
  {
   "cell_type": "markdown",
   "metadata": {},
   "source": [
    "$$\n",
    "\\begin{equation}\n",
    "  \\nabla \\times \\vec{F} = \\left|\\begin{array}{ccc}\n",
    "\\hat{x}  \\hat{y}  \\hat{z} \n",
    "\\end{equation}\n",
    "$$"
   ]
  },
  {
   "cell_type": "markdown",
   "metadata": {},
   "source": [
    "$$\n",
    "\\begin{equation} \n",
    "\\frac{\\partial}{\\partial x}  \\frac{\\partial}{\\partial y}  \n",
    "\\frac{\\partial}{\\partial z} \n",
    "\\end{equation}\n",
    "$$"
   ]
  },
  {
   "cell_type": "markdown",
   "metadata": {},
   "source": [
    "$$\n",
    "\\begin{equation} \n",
    "x^2-a\\left(y+z\\right)  y^2-az  z^2-a\\left(x+y\\right) \n",
    "\\end{equation}\n",
    "$$"
   ]
  },
  {
   "cell_type": "markdown",
   "metadata": {},
   "source": [
    "$$\n",
    "\\begin{equation} \n",
    "\\end{array}\\right| \\nonumber \n",
    "\\end{equation}\n",
    "$$"
   ]
  },
  {
   "cell_type": "markdown",
   "metadata": {},
   "source": [
    "$$\n",
    "\\begin{equation} \n",
    "= \\left(-a+a\\right) \\hat{x} + \\left(-a+a\\right) \\hat{y} + a\\hat{z}\n",
    "= a\\hat{z}.\n",
    "\\end{equation}\n",
    "$$"
   ]
  },
  {
   "cell_type": "markdown",
   "metadata": {},
   "source": [
    "Alltså är rotationen av $\\vec{F}$ en rent vertikal vektor.  \n",
    "\n",
    "Vi kan nu använda Stokes sats"
   ]
  },
  {
   "cell_type": "markdown",
   "metadata": {},
   "source": [
    "$$\n",
    "\\begin{equation}\n",
    "  \\oint_\\Gamma \\vec{F} \\cdot \\mbox{d}\\vec{r} = \\int_S \\nabla \\times \\vec{F} \\cdot\n",
    "\\mbox{d}\\vec{S}.\n",
    "\\end{equation}\n",
    "$$"
   ]
  },
  {
   "cell_type": "markdown",
   "metadata": {},
   "source": [
    "Lägg märke till att ytan skall orienteras så att den följer högerhandsregeln.  Detta betyder att om vi följer kurvan $\\Gamma$ moturs så skall normalen $\\hat{n}$ till $S$ peka uppåt."
   ]
  },
  {
   "cell_type": "markdown",
   "metadata": {},
   "source": [
    "$$\n",
    "\\begin{equation}\n",
    "  \\int_S \\nabla \\times \\vec{F} \\cdot \\mbox{d}\\vec{S} = \\int_S a \\hat{z} \\cdot \n",
    "\\hat{n} \\mbox{d}S = a \\int_S \\hat{z} \\cdot \\hat{n} \\mbox{d}S.\n",
    "\\end{equation}\n",
    "$$"
   ]
  },
  {
   "cell_type": "markdown",
   "metadata": {},
   "source": [
    "Skalärprodukten i den sista integralen betyder att vi projicerar ner arean $S$ på ett plan vinkelrät mot $\\hat{z}$, det vill säga på $xy$-planet.  I detta planet är skärningen cylinderns tvärsnittsyta, en cirkel med radien $a$, och integralen blir cirkelarean $\\pi a^2$. Alltså blir integralen till slut"
   ]
  },
  {
   "cell_type": "markdown",
   "metadata": {},
   "source": [
    "$$\n",
    "\\begin{equation}\n",
    "  \\oint_\\Gamma \\vec{F} \\cdot \\mbox{d}\\vec{r} = a \\pi a^2 = \\pi a^3.\n",
    "\\end{equation}\n",
    "$$"
   ]
  },
  {
   "cell_type": "markdown",
   "metadata": {},
   "source": [
    "---------------------------------------------\n",
    "\n",
    "### Exempel: kurvintegral för ett kraftfält\n",
    "\n",
    "------------------------------------\n",
    "\n",
    "[Comment 3: PLK Kap. 2.5, Uppg. 2:]  En partikel påverkas av kraftfältet"
   ]
  },
  {
   "cell_type": "markdown",
   "metadata": {},
   "source": [
    "$$\n",
    "\\begin{equation}\n",
    "  \\vec{F} = F_0 \\left[\\left(\\frac{\\pi y}{a} + \\sin \\frac{\\pi z}{a}\\right)\n",
    "\\hat{x} + \\frac{x}{a} \\hat{y} + \\frac{\\pi x}{a} \\cos \\frac{\\pi z}{a}\n",
    "\\hat{z}\\right].\n",
    "\\end{equation}\n",
    "$$"
   ]
  },
  {
   "cell_type": "markdown",
   "metadata": {},
   "source": [
    "Vilket arbete uträttar fältet då partikeln rör sig i positiv riktning kring den cirkel som ges av skärningen mellan"
   ]
  },
  {
   "cell_type": "markdown",
   "metadata": {},
   "source": [
    "$$\n",
    "\\begin{equation}\n",
    "  x^2 + y^2 + z^2 = a^2\n",
    "\\end{equation}\n",
    "$$"
   ]
  },
  {
   "cell_type": "markdown",
   "metadata": {},
   "source": [
    "och"
   ]
  },
  {
   "cell_type": "markdown",
   "metadata": {},
   "source": [
    "$$\n",
    "\\begin{equation}\n",
    "  x = z?\n",
    "\\end{equation}\n",
    "$$"
   ]
  },
  {
   "cell_type": "markdown",
   "metadata": {},
   "source": [
    "*Lösning:*  \n",
    "För att få ut arbetet behöver vi beräkna integralen"
   ]
  },
  {
   "cell_type": "markdown",
   "metadata": {},
   "source": [
    "$$\n",
    "\\begin{equation}\n",
    "  \\oint_C \\vec{F} \\cdot \\mbox{d}\\vec{S}.\n",
    "\\end{equation}\n",
    "$$"
   ]
  },
  {
   "cell_type": "markdown",
   "metadata": {},
   "source": [
    "Vi börjar med att bestämma skärningskurvan $C$.  $x^2 + y^2 + z^2 = a^2$ är en sfär med radien $a$ och centrum i origo, medan $x = z$ är ett plan med normalvektorn"
   ]
  },
  {
   "cell_type": "markdown",
   "metadata": {},
   "source": [
    "$$\n",
    "\\begin{equation}\n",
    "  \\hat{n} = \\frac{1}{\\sqrt{2}} \\left(-1,0,1\\right).\n",
    "\\end{equation}\n",
    "$$"
   ]
  },
  {
   "cell_type": "markdown",
   "metadata": {},
   "source": [
    "Skärningen mellan de båda ytorna blir en cirkel med radien $a$.  Den motsvarande cirkelskivan har också normalvektorn $\\hat{n}$.  Med det val som vi har gjort av normalvektorn, så gäller Stokes sats om partikeln rör sig moturs längs cirkeln.\n",
    "\n",
    "Vi beräknar nu rotationen"
   ]
  },
  {
   "cell_type": "markdown",
   "metadata": {},
   "source": [
    "$$\n",
    "\\begin{equation}\n",
    "  \\nabla \\times \\vec{F} = F_0 \\left|\\begin{array}{ccc}\n",
    "\\hat{x}  \\hat{y}  \\hat{z} \n",
    "\\end{equation}\n",
    "$$"
   ]
  },
  {
   "cell_type": "markdown",
   "metadata": {},
   "source": [
    "$$\n",
    "\\begin{equation} \n",
    "\\frac{\\partial}{\\partial x}  \\frac{\\partial}{\\partial y} \n",
    "\\frac{\\partial}{\\partial z} \n",
    "\\end{equation}\n",
    "$$"
   ]
  },
  {
   "cell_type": "markdown",
   "metadata": {},
   "source": [
    "$$\n",
    "\\begin{equation} \n",
    "\\frac{\\pi y}{a} + \\sin \\frac{\\pi z}{a}  \\frac{x}{a}  \\frac{\\pi x}{a}\n",
    "\\cos \\frac{\\pi z}{a} \n",
    "\\end{equation}\n",
    "$$"
   ]
  },
  {
   "cell_type": "markdown",
   "metadata": {},
   "source": [
    "$$\n",
    "\\begin{equation} \n",
    "\\end{array} \n",
    "\\right|  \\nonumber \n",
    "\\end{equation}\n",
    "$$"
   ]
  },
  {
   "cell_type": "markdown",
   "metadata": {},
   "source": [
    "$$\n",
    "\\begin{equation} \n",
    "= 0 \\hat{x} + F_0 \\left(\\frac{\\pi}{a} \\cos\\frac{\\pi z}{a} - \\frac{\\pi}{a}\n",
    "\\cos\\frac{\\pi z}{a}\\right) \\hat{y} + F_0\\left(\\frac{1}{a} - \\frac{\\pi}{a}\n",
    "\\right) \\hat{z} = F_0 \\frac{1 - \\pi}{a} \\hat{z}.\n",
    "\\end{equation}\n",
    "$$"
   ]
  },
  {
   "cell_type": "markdown",
   "metadata": {},
   "source": [
    "Stokes sats ger oss sedan"
   ]
  },
  {
   "cell_type": "markdown",
   "metadata": {},
   "source": [
    "$$\n",
    "\\begin{equation}\n",
    "  \\oint_C \\vec{F} \\cdot \\mbox{d}\\vec{r} = \\int_S \\nabla \\times \\vec{F} \\cdot \\mbox{d}\n",
    "\\vec{S} = \\int_S F_0 \\frac{1 - \\pi}{a} \\hat{z} \\cdot \\frac{1}{\\sqrt{2}} \n",
    "\\left(-1,0,1\\right) \\mbox{d}S = \\frac{1 - \\pi}{\\sqrt{2}a} F_0\n",
    "\\int_S \\mbox{d}S \\nonumber \n",
    "\\end{equation}\n",
    "$$"
   ]
  },
  {
   "cell_type": "markdown",
   "metadata": {},
   "source": [
    "$$\n",
    "\\begin{equation}  \n",
    "= \\frac{1 - \\pi}{\\sqrt{2}a} \\pi a^2 F_0 =  \\frac{\\pi \\left(1-\\pi\\right)a}{\\sqrt{2}} F_0,\n",
    "\\end{equation}\n",
    "$$"
   ]
  },
  {
   "cell_type": "markdown",
   "metadata": {},
   "source": [
    "vilket är svaret.\n",
    "\n",
    "---------------------------------------------\n",
    "\n",
    "### Exempel: Ytintegral halvcylinder\n",
    "\n",
    "---------------------------------------------\n",
    "\n",
    "[Comment 4: PLK Kap. 2.4, Uppg. 7:]  Låt $S$ vara ytan $y^2 + z^2 = 1, -1 \\le x \\le 1, z \\ge 0$ med normalvektor riktad uppåt.  Beräkna"
   ]
  },
  {
   "cell_type": "markdown",
   "metadata": {},
   "source": [
    "$$\n",
    "\\begin{equation}\n",
    "  \\int_S \\vec{F} \\cdot \\mbox{d}\\vec{S},\n",
    "\\end{equation}\n",
    "$$"
   ]
  },
  {
   "cell_type": "markdown",
   "metadata": {},
   "source": [
    "där $\\vec{F} = \\left( x, x^2yz^2, x^2 y^2 z\\right)$.\n",
    "\n",
    "*Lösning:*  \n",
    "Ytan $S$ är en den övre halvan av en cylinder med $x$-axeln som symmetriaxel.  För att tillämpa Gauss sats behöver vi sluta denna yta, vilket vi kan göra genom att lägga till  två halvcirklar, $S_1$ och $S_3$ vid $x = 1$ och $x = -1$, samt en bottenyta, $S_2$.  Normalvektorn till dessa ytor skall väljas som en kontinuerlig fortsättning av normalvektorn på $S$.  Detta innebär att $S_1$ och $S_3$ får normalvektorerna $\\hat{x}$ och $-\\hat{x}$, samt att normalvektorn till $S_2$ blir $-\\hat{z}$.  Vi ser nu att  normalvektorn överallt pekar ut från den volym som innesluts av $S$, $S_1$, $S_2$ och $S_3$, vilket är vad som krävs för att vi skall kunna använda Gauss sats.\n",
    "\n",
    "Vi kan nu beräkna divergensen"
   ]
  },
  {
   "cell_type": "markdown",
   "metadata": {},
   "source": [
    "$$\n",
    "\\begin{equation}\n",
    "  \\nabla \\cdot \\vec{F} = \\frac{\\partial x}{\\partial x} + \n",
    "\\frac{\\partial}{\\partial y}\\left(x^2yz^2\\right) + \\frac{\\partial}{\\partial z}\n",
    "\\left(x^2y^2z\\right) = 1 + x^2z^2 + x^2 y^2 = 1 + x^2\\rho^2,\n",
    "\\end{equation}\n",
    "$$"
   ]
  },
  {
   "cell_type": "markdown",
   "metadata": {},
   "source": [
    "där vi har infört $\\rho^2 = y^2 + z^2$.  Vi inför alltså en form av cylindriska koordinater som utgår från $x$-axeln istället för som vanligt från $z$-axeln.  Vi kan nu beräkna volymsintegralen"
   ]
  },
  {
   "cell_type": "markdown",
   "metadata": {},
   "source": [
    "$$\n",
    "\\begin{equation}\n",
    "  \\int_V \\nabla \\cdot \\vec{F} \\mbox{d}V = \\int_V \\mbox{d}V + \n",
    "\\int_{-1}^1\\int_0^1\\int_0^\\pi x^2 \\rho^2 \\mbox{d}\\varphi \\rho \\mbox{d}\\rho\n",
    "\\mbox{d}x.\n",
    "\\end{equation}\n",
    "$$"
   ]
  },
  {
   "cell_type": "markdown",
   "metadata": {},
   "source": [
    "Tänk här på att vi bara integrerar över en halvcylinder, så att integrationsintervallet för $\\varphi$ går från 0 till $\\pi$.  Den första integralen är bara halvcylindersn volym, så nu får vi"
   ]
  },
  {
   "cell_type": "markdown",
   "metadata": {},
   "source": [
    "$$\n",
    "\\begin{equation}\n",
    "  \\int_V \\nabla \\cdot \\vec{F} \\mbox{d}V = \\frac{1}{2} 2 \\pi + \\pi  \\left[\\frac{x^3}{3}\\right]_{-1}^1 \\left[\\frac{\\rho^4}{4}\\right]_0^1 =\n",
    "\\pi + \\pi\\left(\\frac{1}{3} + \\frac{1}{3}\\right) \\frac{1}{4} = \\frac{7\\pi}{6}.\n",
    "\\end{equation}\n",
    "$$"
   ]
  },
  {
   "cell_type": "markdown",
   "metadata": {},
   "source": [
    "Vi får nu ta hand om de enskilda begränsningsytorna."
   ]
  },
  {
   "cell_type": "markdown",
   "metadata": {},
   "source": [
    "$$\n",
    "\\begin{equation}\n",
    "\\int_{S_1} \\vec{F} \\cdot \\mbox{d}\\vec{S} = \\int_{S_1} x\\mbox{d}S = \n",
    "\\int_{S_1} \\mbox{d}S =\n",
    "\\frac{\\pi}{2},\n",
    "\\end{equation}\n",
    "$$"
   ]
  },
  {
   "cell_type": "markdown",
   "metadata": {},
   "source": [
    "eftersom $x = 1$ på $S_1$.  På samma sätt får vi på $S_3$"
   ]
  },
  {
   "cell_type": "markdown",
   "metadata": {},
   "source": [
    "$$\n",
    "\\begin{equation}\n",
    "  \\int_{S_3} \\vec{F} \\cdot \\mbox{d}\\vec{S} = \\int_{S_3} -x \\mbox{d}S = \\frac{\\pi}{2},\n",
    "\\end{equation}\n",
    "$$"
   ]
  },
  {
   "cell_type": "markdown",
   "metadata": {},
   "source": [
    "då $x = -1$ på $S_3$. Slutligen så finner vi att på $S_2$ så är"
   ]
  },
  {
   "cell_type": "markdown",
   "metadata": {},
   "source": [
    "$$\n",
    "\\begin{equation}\n",
    "  \\int_{S_2} \\vec{F} \\cdot \\mbox{d}\\vec{S} = \\int_{S_2} -x^2y^2z \\mbox{d}S = 0,\n",
    "\\end{equation}\n",
    "$$"
   ]
  },
  {
   "cell_type": "markdown",
   "metadata": {},
   "source": [
    "ty $z = 0$ på $S_2$.\n",
    "\n",
    "Om vi ställer samman dessa uträkningar har vi"
   ]
  },
  {
   "cell_type": "markdown",
   "metadata": {},
   "source": [
    "$$\n",
    "\\begin{equation}\n",
    "  \\int_S \\vec{F} \\cdot \\mbox{d}\\vec{S} + \\int_{S_1} \\vec{F} \\cdot \\mbox{d}\\vec{S} + \n",
    "\\int_{S_2} \\vec{F} \\cdot \\mbox{d}\\vec{S} + \\int_{S_3} \\vec{F} \\cdot \\mbox{d}\\vec{S} =\n",
    "\\int_V \\nabla \\cdot \\vec{F} \\mbox{d}V,\n",
    "\\end{equation}\n",
    "$$"
   ]
  },
  {
   "cell_type": "markdown",
   "metadata": {},
   "source": [
    "och om vi här löser ut integralen över $S$ samt sätter in värdena för de enskilda integralerna får vi"
   ]
  },
  {
   "cell_type": "markdown",
   "metadata": {},
   "source": [
    "$$\n",
    "\\begin{equation}\n",
    "  \\int_S \\vec{F} \\cdot \\mbox{d}\\vec{S} = \\frac{7\\pi}{6} - \\frac{\\pi}{2} -\n",
    "\\frac{\\pi}{2} = \\frac{\\pi}{6}.\n",
    "\\end{equation}\n",
    "$$"
   ]
  },
  {
   "cell_type": "markdown",
   "metadata": {},
   "source": [
    "*Kommentar:*  \n",
    "För att ytintegralen skall vara definierad måste en yta vara orienterbar, det vill säga de skall gå att kontinuerligt transportera normalvektorn från en del av ytan till en annan.  Det finns exempel på ytor som inte är orienterbara, till exempel Möbius-band, och för sådana ytor kan man inte definiera en ytintegral.\n",
    "\n",
    "---------------------------------------------\n",
    "\n",
    "### Exempel: Ytintegral med koordinatbyte\n",
    "\n",
    "---------------------------------\n",
    "\n",
    "Beräkna ytintegralen"
   ]
  },
  {
   "cell_type": "markdown",
   "metadata": {},
   "source": [
    "$$\n",
    "\\begin{equation}\n",
    "  \\oint_S \\left(a^2\\hat{x} +ay\\hat{y} + z^2\\hat{z}\\right) \n",
    "\\cdot \\mbox{d}\\vec{S}\n",
    "\\end{equation}\n",
    "$$"
   ]
  },
  {
   "cell_type": "markdown",
   "metadata": {},
   "source": [
    "över den slutna ytan $S:\\quad x^2 + y^2 + z^2 = 2az$.\n",
    "\n",
    "*Lösning:*  \n",
    "Vi börjar med att studera ytan $S$. Den kan skrivas om som"
   ]
  },
  {
   "cell_type": "markdown",
   "metadata": {},
   "source": [
    "$$\n",
    "\\begin{equation}\n",
    "  x^2 + y^2 + z^2 - 2az = 0.\n",
    "\\end{equation}\n",
    "$$"
   ]
  },
  {
   "cell_type": "markdown",
   "metadata": {},
   "source": [
    "Efter kvadratkomplettering har vi"
   ]
  },
  {
   "cell_type": "markdown",
   "metadata": {},
   "source": [
    "$$\n",
    "\\begin{equation}\n",
    "  x^2 + y^2 + \\left(z -a\\right)^2 = a^2.\n",
    "\\end{equation}\n",
    "$$"
   ]
  },
  {
   "cell_type": "markdown",
   "metadata": {},
   "source": [
    "Detta är en sfär med radien $a$ och centrum i $(0,0,a)$.  Lägg märke till att eftersom ytan redan är sluten, så råder det inte någon tvekan om hur normalvektorn är riktad.  Konventionen säger oss att normalvektorn för en sluten yta alltid pekar ut från den inneslutna volymen.\n",
    "\n",
    "I och med att vi redan har en sluten yta, så är det lockande att använda Gauss sats, och därför beräknar vi divergensen"
   ]
  },
  {
   "cell_type": "markdown",
   "metadata": {},
   "source": [
    "$$\n",
    "\\begin{equation}\n",
    "  \\nabla \\cdot \\left(a^2 \\hat{x} + ay \\hat{y} + z^2 \\hat{z}\n",
    "\\right) = a + 2z.\n",
    "\\end{equation}\n",
    "$$"
   ]
  },
  {
   "cell_type": "markdown",
   "metadata": {},
   "source": [
    "Innan vi tar itu med volymsintegralen byter vi $z$-koordinaten till $z' = z -a$, så att sfären i de nya koordinaterna får sitt centrum i origo.  I dessa koordinater blir divergensen $3a +2z'$.  Enligt Gauss sats blir vår ytintegral nu"
   ]
  },
  {
   "cell_type": "markdown",
   "metadata": {},
   "source": [
    "$$\n",
    "\\begin{equation}\n",
    "  \\oint_S \\left(a^2\\hat{x} + ay \\hat{y} + z^2 \\hat{z}\\right)\n",
    "\\cdot \\mbox{d}\\vec{S} = \\int_{V'} \\left(3a + 2z'\\right) \\mbox{d}V.\n",
    "\\end{equation}\n",
    "$$"
   ]
  },
  {
   "cell_type": "markdown",
   "metadata": {},
   "source": [
    "Vi byter nu till sfäriska koordinater"
   ]
  },
  {
   "cell_type": "markdown",
   "metadata": {},
   "source": [
    "$$\n",
    "\\begin{equation}\n",
    "  \\int_0^{2\\pi} \\int_0^\\pi \\int_0^a \\left(3a + 2r\\cos \\theta\\right) r^2\n",
    "\\sin \\theta \\mbox{d}r \\mbox{d}\\theta \\mbox{d}\\varphi = 2\\pi \\int_0^a\n",
    "\\left[-3ar^2 \\cos \\theta + r^3 \\sin^2 \\theta \\right]_0^\\pi \\mbox{d}r\n",
    "\\nonumber \n",
    "\\end{equation}\n",
    "$$"
   ]
  },
  {
   "cell_type": "markdown",
   "metadata": {},
   "source": [
    "$$\n",
    "\\begin{equation} \n",
    "= 2\\pi \\int_0^a 6ar^2 \\mbox{d}r = 2 \\pi \\left[2ar^3\\right]_0^a = 4\\pi a^4,\n",
    "\\end{equation}\n",
    "$$"
   ]
  },
  {
   "cell_type": "markdown",
   "metadata": {},
   "source": [
    "vilket är värdet på vår ursprungliga ytintegral."
   ]
  }
 ],
 "metadata": {},
 "nbformat": 4,
 "nbformat_minor": 0
}
