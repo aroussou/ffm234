{
 "cells": [
  {
   "cell_type": "markdown",
   "metadata": {},
   "source": [
    "<!-- dom:TITLE: FFM232, Klassisk fysik och vektorfält - Föreläsningsanteckningar -->\n",
    "# FFM232, Klassisk fysik och vektorfält - Föreläsningsanteckningar\n",
    "<!-- dom:AUTHOR: [Christian Forssén](http://fy.chalmers.se/subatom/tsp/), Institutionen för fysik, Chalmers, Göteborg, Sverige -->\n",
    "<!-- Author: --> **[Christian Forssén](http://fy.chalmers.se/subatom/tsp/), Institutionen för fysik, Chalmers, Göteborg, Sverige**\n",
    "\n",
    "Date: **Oct 10, 2016**\n",
    "\n",
    "# 10. Värmeledning, diffusionsekvation\n",
    "\n",
    "Betrakta ett temperaturfält $T(\\vec{r},t)$\n",
    "* På ett område $V$.\n",
    "\n",
    "* Med randvillkor längs $\\partial V$.\n",
    "\n",
    "* I närvaro av eventuella värmekällor.\n",
    "\n",
    "* Med ett explicit tidsberoende.\n",
    "\n",
    "Vi söker nu en differentialekvation för detta fält.\n",
    "\n",
    "## Värmeledning (diffusion)\n",
    "\n",
    "[Comment 1: Vi vet att värme strömmar från varmare till kallare.  Det innebär att\n",
    "vi har ett flöde av värmeenergi i en riktning som är motsatt $\\vec{\\nabla} T$.]\n",
    "\n",
    "### Antagande 1:\n",
    "\n",
    "Värmeströmmen kan skrivas"
   ]
  },
  {
   "cell_type": "markdown",
   "metadata": {},
   "source": [
    "$$\n",
    "\\begin{equation}\n",
    "  \\vec{q} = -\\lambda\\vec{\\nabla} T,\n",
    "\\end{equation}\n",
    "$$"
   ]
  },
  {
   "cell_type": "markdown",
   "metadata": {},
   "source": [
    "där $\\lambda$ är värmekonduktiviteten (värmeledningsförmågan), och $\\vec{q}$ är själva \n",
    "värmeflödet med enheten J\\,s$^{-1}$\\,m$^{-2}$.\n",
    "\n",
    "### Antagande 2:\n",
    "\n",
    "Värmetätheten $\\varepsilon$ är proportionell mot temperaturen\n",
    "$$\n",
    "\\varepsilon = c \\rho T,\n",
    "$$\n",
    "där $c$ är värmekapacitiviteten och $\\rho$ är densiteten.\n",
    "* $[\\varepsilon] = \\mathrm{J}/\\mathrm{m}^3$\n",
    "\n",
    "* $[c] = \\mathrm{J} \\mathrm{kg}^{-1} \\mathrm{K}^{-1}$\n",
    "\n",
    "* $[\\rho] = \\mathrm{kg} \\mathrm{m}^{-3}$\n",
    "\n",
    "Betrakta nu en volym $\\Delta V$, vilken begränsas av en sluten yta $S = \\partial(\\Delta V)$.  \n",
    "* Värmeenergin i denna volym är"
   ]
  },
  {
   "cell_type": "markdown",
   "metadata": {},
   "source": [
    "<!-- Equation labels as ordinary links -->\n",
    "<div id=\"eq:H\"></div>\n",
    "\n",
    "$$\n",
    "\\begin{equation}\n",
    "  H = \\int_{\\Delta V} Tc\\rho \\mbox{d}V\n",
    "  \\label{eq:H} \\tag{1}\n",
    "\\end{equation}\n",
    "$$"
   ]
  },
  {
   "cell_type": "markdown",
   "metadata": {},
   "source": [
    "* Utflödet av värme från denna volym är"
   ]
  },
  {
   "cell_type": "markdown",
   "metadata": {},
   "source": [
    "$$\n",
    "\\begin{equation}\n",
    "  \\oint_{\\partial (\\Delta V)} \\vec{q}\\cdot \\mbox{d}\\vec{S}.\n",
    "\\end{equation}\n",
    "$$"
   ]
  },
  {
   "cell_type": "markdown",
   "metadata": {},
   "source": [
    "Förutsatt att det inte finns några värmekällor i $\\Delta V$  måste \n",
    "utflödet motsvara förändringen per tidsenhet av värmen\n",
    "i $\\Delta V$"
   ]
  },
  {
   "cell_type": "markdown",
   "metadata": {},
   "source": [
    "$$\n",
    "\\begin{equation}\n",
    "  \\frac{\\partial H}{\\partial t} = - \\oint_{\\partial (\\Delta V)} {\\vec{q}\\cdot \\mbox{d}S}.\n",
    "\\end{equation}\n",
    "$$"
   ]
  },
  {
   "cell_type": "markdown",
   "metadata": {},
   "source": [
    "Med insättning av ekv. [(1)](#eq:H) i VL och användande av Gauss sats i HL fås"
   ]
  },
  {
   "cell_type": "markdown",
   "metadata": {},
   "source": [
    "<!-- Equation labels as ordinary links -->\n",
    "<div id=\"energi\"></div>\n",
    "\n",
    "$$\n",
    "\\begin{equation}\n",
    "  \\int_{\\Delta V}\n",
    "\\frac{\\partial}{\\partial t} \\left( Tc\\rho \\right) \\mbox{d}V = -\\int_{\\Delta V} \\vec{\\nabla} \\cdot \\vec{q}\\mbox{d}V.\n",
    "\\label{energi} \\tag{2}\n",
    "\\end{equation}\n",
    "$$"
   ]
  },
  {
   "cell_type": "markdown",
   "metadata": {},
   "source": [
    "Volymen $\\Delta V$ är helt godtyckligt vald, så likheten måste gälla för alla volymer $\\Delta V$. I så fall kan vi sätta integranderna lika med varandra"
   ]
  },
  {
   "cell_type": "markdown",
   "metadata": {},
   "source": [
    "$$\n",
    "\\begin{equation}\n",
    "  \\frac{\\partial}{\\partial t}\\left(T c\\rho\\right) = - \\vec{\\nabla} \\cdot \\vec{q}\n",
    "= \\vec{\\nabla} \\cdot \\lambda \\vec{\\nabla} T = \\lambda \\nabla^2 T.\n",
    "\\end{equation}\n",
    "$$"
   ]
  },
  {
   "cell_type": "markdown",
   "metadata": {},
   "source": [
    "[Comment 2: Här skriver vi Laplacianen som $\\nabla^2$.]\n",
    "\n",
    "Om vi nu antar att $c$, $\\rho$ och $\\lambda$  är konstanter, så kan vi skriva ekvationen som"
   ]
  },
  {
   "cell_type": "markdown",
   "metadata": {},
   "source": [
    "$$\n",
    "\\begin{equation}\n",
    "  \\frac{\\partial T}{\\partial t} = k \\nabla^2 T,\n",
    "\\end{equation}\n",
    "$$"
   ]
  },
  {
   "cell_type": "markdown",
   "metadata": {},
   "source": [
    "där"
   ]
  },
  {
   "cell_type": "markdown",
   "metadata": {},
   "source": [
    "$$\n",
    "\\begin{equation}\n",
    "  k \\equiv \\frac{\\lambda}{c\\rho}.\n",
    "\\end{equation}\n",
    "$$"
   ]
  },
  {
   "cell_type": "markdown",
   "metadata": {},
   "source": [
    "Den här ekvationen kallas för värmeledningsekvationen. \n",
    "\n",
    "[Comment 3: Värmeledningsekvationen är en kontinuitetsekvation för värmeenergin. Ni känner antagligen igen härledningen från det liknande bevis som gjordes i kap. 4 i kurskompendiet.]\n",
    "\n",
    "### Stationär lösning\n",
    "\n",
    "För en tidsoberoende värmefördelning gäller $\\partial T / \\partial t = 0$ och därmed"
   ]
  },
  {
   "cell_type": "markdown",
   "metadata": {},
   "source": [
    "$$\n",
    "\\begin{equation}\n",
    "  \\nabla^2 T = 0\n",
    "\\end{equation}\n",
    "$$"
   ]
  },
  {
   "cell_type": "markdown",
   "metadata": {},
   "source": [
    "som vi kallar för Laplace-ekvation.\n",
    "\n",
    "### Värmekälla\n",
    "\n",
    "Vad händer nu om vi har en värmekälla i volymen $\\Delta V$?  Antag att värme\n",
    "produceras av en källa med tätheten $u = u(\\vec{r},t)$ med enheten W\\,m$^{-3}$.\n",
    "Då måste vi komplettera ekv. [(2)](#energi) med en term för denna\n",
    "uppvärmning"
   ]
  },
  {
   "cell_type": "markdown",
   "metadata": {},
   "source": [
    "$$\n",
    "\\begin{equation}\n",
    "  \\int_{\\Delta V} \\frac{\\partial}{\\partial t} \\left( Tc\\rho \\right) \\mbox{d}V = \\int_{\\Delta V} \\lambda \n",
    "\\nabla^2 T\n",
    "\\mbox{d}V + \\int_{\\Delta V} u \\mbox{d}V.\n",
    "\\end{equation}\n",
    "$$"
   ]
  },
  {
   "cell_type": "markdown",
   "metadata": {},
   "source": [
    "Värmeledningsekvationen (med konstant $c,\\rho$) blir då"
   ]
  },
  {
   "cell_type": "markdown",
   "metadata": {},
   "source": [
    "$$\n",
    "\\begin{equation}\n",
    "  \\frac{\\partial T}{\\partial t} = k \\nabla^2 T + \\frac{u}{c\\rho}.\n",
    "\\end{equation}\n",
    "$$"
   ]
  },
  {
   "cell_type": "markdown",
   "metadata": {},
   "source": [
    "Om temperaturfördelningen är tidsoberoende kan vi skriva ekvationen som"
   ]
  },
  {
   "cell_type": "markdown",
   "metadata": {},
   "source": [
    "$$\n",
    "\\begin{equation}\n",
    "  \\nabla^2 T = -\\frac{u}{\\lambda}\n",
    "\\end{equation}\n",
    "$$"
   ]
  },
  {
   "cell_type": "markdown",
   "metadata": {},
   "source": [
    "som är ett exempel på Poissons ekvation.\n",
    "Högerledet kallar vi då för en källterm.\n",
    "\n",
    "-------------------------------------------------------------------\n",
    "\n",
    "### Exempel: En-dimensionell värmeledning\n",
    "\n",
    "--------------------------\n",
    "\n",
    "Betrakta ett område $x \\in [0,L]$ i en dimension med följande villkor på temperaturfördelningen $T = T(x,t)$\n",
    "* Begynnelsevillkor: $T(x,0) = T_0 \\sin \\frac{\\pi x}{L}$.\n",
    "\n",
    "* Randvillkor: $T(0,t) = T(L,t) = 0$ (dvs Dirichlets homogena RV).\n",
    "\n",
    "[Comment 4: Teckna $T(x,0)$ och jämför gärna med Neumanns homogena randvillkor som hade stoppat värmetransport genom ändarna eftersom $\\partial T / \\partial x = 0$ (vid $x=0$ och $x=L$).]\n",
    "\n",
    "Finn temperaturfördelningen för $t > 0$ i avsaknad av någon värmekälla.\n",
    "\n",
    "*Lösning*: Värmeledningsekvationen är\n",
    "$$\n",
    "\\frac{\\partial T(x,t)}{\\partial t} - k \\frac{\\partial^2 T(x,t)}{\\partial x^2} = 0.\n",
    "$$\n",
    "Notera att \n",
    "$$\n",
    "\\frac{\\partial^2}{\\partial x^2} \\sin \\frac{\\pi x}{L} = - \\frac{\\pi^2}{L^2} \\sin \\frac{\\pi x}{L},\n",
    "$$\n",
    "vilket gör det naturligt att ansätta lösningen $T(x,t) = f(t) \\sin \\frac{\\pi x}{L}$.\n",
    "\n",
    "Denna ansats uppfyller randvillkoren och begynnelsevillkoret om $f(0) = T_0$. Insättning i värmeledningsekvationen ger\n",
    "$$\n",
    "f'(t) \\sin \\frac{\\pi x}{L} + k f(t) \\frac{\\pi^2}{L^2} \\sin \\frac{\\pi x}{L} = 0,\n",
    "$$\n",
    "vilket har lösningen\n",
    "$$\n",
    "f(t) = A e^{-\\pi^2 k t / L^2},\n",
    "$$\n",
    "där $A = T_0$ bestäms av begynnelsevillkoret. Lösningen \n",
    "$$\n",
    "T(x,t) = T_0 e^{-\\pi^2 k t / L^2} \\sin \\frac{\\pi x}{L}\n",
    "$$\n",
    "innebär att temperaturen minskar kontinuerligt (flödar ut genom ändarna) och att en stationär lösning, $T=0$, erhålls för stora $t$.\n",
    "\n",
    "-------------------------------------------------------------------\n",
    "\n",
    "### Exempel: Värmeledning med källterm\n",
    "\n",
    "--------------------------\n",
    "\n",
    "Granitberggrunden i Sverige innehåller en viss mängd\n",
    "radium, vars radioaktiva sönderfall ger en uppvärming som av en rymdkälla\n",
    "för värme med konstant källtäthet $\\rho_\\mathrm{T}$.  Granitens \n",
    "värmeledningsförmåga är $\\lambda$ (i W\\,m$^{-1}$\\,K$^{-1}$).  Låt\n",
    "oss göra det orealistiska antagandet att Jorden alltigenom bestod av granit\n",
    "med dessa egenskaper.  Hur skulle i så fall den stationära \n",
    "temperaturfördelningen i Jordens inre se ut?  Vad blir temperaturen i \n",
    "centrum?\n",
    "\n",
    "*Lösning:*  Vi kan ställa upp differentialekvationen"
   ]
  },
  {
   "cell_type": "markdown",
   "metadata": {},
   "source": [
    "$$\n",
    "\\begin{equation}\n",
    "  \\nabla^2T = - \\frac{\\rho_{\\rm T}}{\\lambda}\n",
    "\\end{equation}\n",
    "$$"
   ]
  },
  {
   "cell_type": "markdown",
   "metadata": {},
   "source": [
    "I sfäriska koordinater under antagande om sfärisk symmetri blir ekvationen"
   ]
  },
  {
   "cell_type": "markdown",
   "metadata": {},
   "source": [
    "$$\n",
    "\\begin{equation}\n",
    "  \\frac{1}{r^2} \\frac{\\partial}{\\partial r}\\left(r^2 \\frac{\\partial T}\n",
    "{\\partial r}\\right) = -Q,\n",
    "\\end{equation}\n",
    "$$"
   ]
  },
  {
   "cell_type": "markdown",
   "metadata": {},
   "source": [
    "där $Q = \\rho_{\\rm T}/\\lambda$.  Vi kan skriva detta som"
   ]
  },
  {
   "cell_type": "markdown",
   "metadata": {},
   "source": [
    "$$\n",
    "\\begin{equation}\n",
    "  \\frac{\\partial}{\\partial r}\\left(r^2 \\frac{\\partial T}\n",
    "{\\partial r}\\right) = -Q r^2,\n",
    "\\end{equation}\n",
    "$$"
   ]
  },
  {
   "cell_type": "markdown",
   "metadata": {},
   "source": [
    "och sedan integrera en gång."
   ]
  },
  {
   "cell_type": "markdown",
   "metadata": {},
   "source": [
    "$$\n",
    "\\begin{equation}\n",
    "  r^2 \\frac{\\partial T}{\\partial r} = -\\frac{1}{3}Qr^3 + A,\n",
    "\\end{equation}\n",
    "$$"
   ]
  },
  {
   "cell_type": "markdown",
   "metadata": {},
   "source": [
    "där $A$ är en integrationsvariabel.  Om vi dividerar med $r^2$ får vi"
   ]
  },
  {
   "cell_type": "markdown",
   "metadata": {},
   "source": [
    "$$\n",
    "\\begin{equation}\n",
    "  \\frac{\\partial T}{\\partial r} = -\\frac{1}{3}Qr + \\frac{A}{r^2}.\n",
    "\\end{equation}\n",
    "$$"
   ]
  },
  {
   "cell_type": "markdown",
   "metadata": {},
   "source": [
    "Integrerar vi än en gång får vi"
   ]
  },
  {
   "cell_type": "markdown",
   "metadata": {},
   "source": [
    "$$\n",
    "\\begin{equation}\n",
    "  T\\left(r\\right) = - \\frac{1}{6} Q r^2 - \\frac{A}{r} + B,\n",
    "\\end{equation}\n",
    "$$"
   ]
  },
  {
   "cell_type": "markdown",
   "metadata": {},
   "source": [
    "där $B$ är ännu en integrationsvariabel.  Vi måste nu bestämma\n",
    "värden på de båda integrationsvariablerna.  Först kan vi notera\n",
    "att temperaturen inte bör bli oändlig i Jordens inre, så $A = 0$.\n",
    "För det andra noterar vi att temperaturen vid jordytan, $r = R$, är \n",
    "praktiskt taget 0 jämfört med temperaturen i Jordens centrum, så vi\n",
    "får ekvationen"
   ]
  },
  {
   "cell_type": "markdown",
   "metadata": {},
   "source": [
    "$$\n",
    "\\begin{equation}\n",
    "  0 = -\\frac{1}{6} Q R^2 + B.\n",
    "\\end{equation}\n",
    "$$"
   ]
  },
  {
   "cell_type": "markdown",
   "metadata": {},
   "source": [
    "vilket ger $B = QR^2/6$. Fysikaliskt så är $B$ temperaturen i Jordens centrum.  Om vi sätter in realistiska värden på $\\rho_{\\rm T} = 5\\times\n",
    "10^{-8}$ W\\,m$^{-3}$, $\\lambda = 3,5$ W\\,m$^{-1}$\\,K$^{-1}$ och $R = 6,4\\times\n",
    "10^6$ m, så får vi $B = 6\\times 10^5$ K, vilket är en grov\n",
    "överskattning av den verkliga temperaturen.\n",
    "\n",
    "-------------------------------------------------------------------\n",
    "\n",
    "## Greensfunktioner för värmeledningsekvationen\n",
    "\n",
    "* Kan vi använda Greensfunktioner för att teckna lösningar till allmänna källfördelningar?\n",
    "\n",
    "* Notera att fälten (temperatur, värmekälla) är både rums- och tidsberoende.\n",
    "\n",
    "* Ja, det kan man - Greensfunktionen är då lösningen (med givna randvillkor) till värmeledningsekvationen för en punktkälla i både tid och rum.\n",
    "\n",
    "[Comment 5: En punktlik energikälla som bara existerar under ett ögonblick, men är precis så stark att den tillförda energimängden är ändlig. Fundera på hur temperaturfältet borde se ut.]\n",
    "\n",
    "Vi söker alltså lösningen till Greensfunktionsekvationen svarande mot värmeledningsekvationen:\n",
    "$$   \n",
    "\\left(\n",
    "\\frac{\\partial}{\\partial t}-k\\Delta\\right)G(\\vec{r},t;\\vec{r}{\\;}',t')\n",
    "=\\delta^D(\\vec{r}-\\vec{r}{\\;}')\\delta(t-t')\n",
    "$$\n",
    "på hela $D$-dimensionella rummet $\\mathbb{R}^D$. \n",
    "Finner vi lösningen till denna ekvation, kan lösningen till värmeledningsekvationen för godtycklig källfördelning $u$ skrivas\n",
    "$$\n",
    "T(\\vec{r},t)=\\int_{-\\infty}^\\infty dt'\\int d^Dx'\\, G(\\vec{r},t;\\vec{r}{\\;}',t')u(\\vec{r}{\\;}',t')\n",
    "$$\n",
    "vilket ses genom direkt insättning"
   ]
  },
  {
   "cell_type": "markdown",
   "metadata": {},
   "source": [
    "$$\n",
    "\\begin{equation}\n",
    "\\left( \\frac{\\partial}{\\partial t}-k\\Delta\\right)T(\\vec{r},t)\n",
    "=\\int_{-\\infty}^\\infty dt'\\int d^Dx'\\,\n",
    "\\left( \\frac{\\partial}{\\partial t}-k\\Delta\\right)G(\\vec{r},t;\\vec{r}{\\;}',t')u(\\vec{r}{\\;}',t')\n",
    "\\nonumber \n",
    "\\end{equation}\n",
    "$$"
   ]
  },
  {
   "cell_type": "markdown",
   "metadata": {},
   "source": [
    "$$\n",
    "\\begin{equation}  \n",
    "=\\int_{-\\infty}^\\infty dt'\\int d^Dx'\\,\n",
    "\\delta^D(\\vec{r}-\\vec{r}{\\;}')\\delta(t-t')u(\\vec{r}{\\;}',t')\n",
    "=u(\\vec{r},t).\n",
    "\\end{equation}\n",
    "$$"
   ]
  },
  {
   "cell_type": "markdown",
   "metadata": {},
   "source": [
    "som alltså visar att värmeledningsekvationen uppfylls för detta $T$.\n",
    "\n",
    "* Vi studerar lösningen på ett oändligt, $D$-dimensionellt rum. \n",
    "\n",
    "* För det första kan vi använda translationsinvarians i rum och tid för att skriva $G(\\vec{r},t;\\vec{r}{\\;}',t') = \\tilde G(\\vec{r}-\\vec{r}{\\;}',t-t')$.\n",
    "\n",
    "* Följande lösning uppfyller ekvationen\n",
    "\n",
    "$$\n",
    "\\tilde G(\\vec{r}-\\vec{r}\\,',t-t')=\\frac{\\sigma(t-t')}{(4\\pi k (t-t'))^{D/2}}\n",
    "e^{-\\frac{|\\vec{r}-\\vec{r}\\,'|^2}{4k(t-t')}},\n",
    "$$\n",
    "där $\\sigma(t)$ är stegfunktionen som tar värdet $0$ för $t<0$\n",
    "och $1$ för $t>0$.\n",
    "\n",
    "Faktorn $\\sigma(t-t')$ gör att en källa vid tidpunkten $t'$ bara kan påverka vad som händer vid senare tidpunkter $t\\geq t'$, så vi har kausalitet.\n",
    "\n",
    "Skissa Greensfunktionens utseende för olika $t$:\n",
    "* den börjar som en deltafunktion vid $t-t'=0^+$ \n",
    "\n",
    "* för att när tiden går bli bredare och lägre, hela tiden med Gaussisk form."
   ]
  },
  {
   "cell_type": "code",
   "execution_count": 1,
   "metadata": {
    "collapsed": false
   },
   "outputs": [],
   "source": [
    "import numpy as np\n",
    "import pylab as p\n",
    "\n",
    "# Greens function D=1\n",
    "def G(x,t):\n",
    "    if t<0:\n",
    "        g = np.zeros(len(x))\n",
    "        return g\n",
    "    else:\n",
    "        return np.exp(-x**2/(4*t)) / (np.sqrt(4*np.pi*t)) \n",
    "    \n",
    "# End initialization\n",
    "\n",
    "# Start plot 1\n",
    "x=np.linspace(-1,1,200)\n",
    "p.figure(figsize=(6,6))\n",
    "for t in [-1,.001,0.005,0.01,0.05,0.1]:\n",
    "    p.plot(x,G(x,t))\n",
    "p.xlabel(r'$x$')\n",
    "p.ylabel(r'$G(x,t)$')\n",
    "# p.ylim([-1,6])"
   ]
  },
  {
   "cell_type": "markdown",
   "metadata": {},
   "source": [
    "<!-- dom:FIGURE:[fig/greens_function_1dim_wtime.png, width=600 frac=0.95] -->\n",
    "<!-- begin figure -->\n",
    "\n",
    "<p></p>\n",
    "<img src=\"fig/greens_function_1dim_wtime.png\" width=600>\n",
    "\n",
    "<!-- end figure -->\n",
    "\n",
    "\n",
    "\n",
    "[Comment 6: Det faktum att rumsintegralen av $G$ är konstant i tiden för $t-t'>0$,\n",
    "$$\n",
    "\\int_{\\mathbb{R}^D}d^Dx\\,G(\\vec{r},\\vec{r}\\,',t,t')=1,\n",
    "$$\n",
    "är ett uttryck för energins bevarande, och naturlig om vi minns att vi kan se värmeledningsekvationen som en kontinuitetsekvation.]\n",
    "\n",
    "Värmeledningsekvationen heter på engelska \"the heat equation\". Dess Greensfunktion kallas \"heat kernel\", på svenska ibland \"värmekärna\".\n",
    "\n",
    "## Värmeledning (konvektion)\n",
    "\n",
    "* Ovan har vi enbart behandlat värmeledning via diffusion.\n",
    "\n",
    "* Konvektion erbjuder betydligt effektivare värmetransport för fluider (vätskor och gaser) genom att varm materia strömmar.\n",
    "\n",
    "* Vi beskriver detta med en värmeström\n",
    "\n",
    "$$\n",
    "\\vec{q}_\\mathrm{konv} = \\rho c T \\vec{v}\n",
    "$$\n",
    "som skall adderas till diffusionsströmmen från tidigare\n",
    "$$\n",
    "\\vec{q}_\\mathrm{diff} = - \\lambda \\vec{\\nabla} T.\n",
    "$$\n",
    "Kontinuitetsekvationen för värmeenergin säger att \n",
    "$$\n",
    "\\frac{\\partial  T}{\\partial t} (T c \\rho) = -\\vec{\\nabla} \\cdot \\vec{q} = -\\vec{\\nabla} \\cdot (\\vec{q}_\\mathrm{diff} + \\vec{q}_\\mathrm{konv}).\n",
    "$$\n",
    "Antar vi återigen att $c$, $\\rho$ och $\\lambda$ är konstanter (notera att detta innebär att $\\vec{\\nabla} \\cdot \\vec{v} \\propto \\partial \\rho / \\partial t = 0$) får vi"
   ]
  },
  {
   "cell_type": "markdown",
   "metadata": {},
   "source": [
    "$$\n",
    "\\begin{equation}\n",
    "  \\frac{\\partial T}{\\partial t} + \\vec{v} \\cdot \\vec{\\nabla} T = k \\nabla^2 T + \\frac{u}{c\\rho},\n",
    "\\end{equation}\n",
    "$$"
   ]
  },
  {
   "cell_type": "markdown",
   "metadata": {},
   "source": [
    "där vi också inkluderat möjligheten att det finns värmekällor."
   ]
  }
 ],
 "metadata": {},
 "nbformat": 4,
 "nbformat_minor": 0
}
