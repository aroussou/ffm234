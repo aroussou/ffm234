{
 "cells": [
  {
   "cell_type": "markdown",
   "metadata": {},
   "source": [
    "<!-- dom:TITLE: FFM232, Klassisk fysik och vektorfält - Föreläsningsanteckningar -->\n",
    "# FFM232, Klassisk fysik och vektorfält - Föreläsningsanteckningar\n",
    "<!-- dom:AUTHOR: [Christian Forssén](http://fy.chalmers.se/subatom/tsp/), Institutionen för fysik, Chalmers, Göteborg, Sverige -->\n",
    "<!-- Author: --> **[Christian Forssén](http://fy.chalmers.se/subatom/tsp/), Institutionen för fysik, Chalmers, Göteborg, Sverige**\n",
    "\n",
    "Date: **Oct 13, 2016**\n",
    "\n",
    "# 11. Elektromagnetiska fält och Maxwells ekvationer\n",
    "\n",
    "Vi startar med att betrakta *statiska* elektriska och magnetiska (elektrostatik och magnetostatik) för att sedan ta med *tidsberoendet* och se hur det innebär en koppling mellan de två fälten.\n",
    "\n",
    "## Maxwells ekvationer (tidsoberoende fält)\n",
    "\n",
    "\n",
    "### Elektrostatik\n",
    "\n",
    "\n",
    "Statiska elektriska fält $\\vec{E}(\\vec{r})$ uppfyller"
   ]
  },
  {
   "cell_type": "markdown",
   "metadata": {},
   "source": [
    "$$\n",
    "\\begin{equation}\n",
    "  \\vec{\\nabla} \\cdot \\vec{E} = \\frac{\\rho}{\\epsilon_0} \n",
    "\\end{equation}\n",
    "$$"
   ]
  },
  {
   "cell_type": "markdown",
   "metadata": {},
   "source": [
    "$$\n",
    "\\begin{equation} \n",
    "  \\vec{\\nabla} \\times \\vec{E} = 0\n",
    "\\end{equation}\n",
    "$$"
   ]
  },
  {
   "cell_type": "markdown",
   "metadata": {},
   "source": [
    "där den första är Gauss lag och säger att elektriska fält kan ha elektriska\n",
    "laddningar som källor.\n",
    "* $\\rho(\\vec{r})$ = elektrisk laddningstäthet.\n",
    "\n",
    "* $\\epsilon_0$ = dielektricitetskonstant i vakuum\n",
    "\n",
    "Den andra ekvationen säger att elektrostatiska fält är rotationsfria ($\\vec{\\nabla} \\times \\vec{E} = 0$) och därmed konservativa. \n",
    "$$\n",
    "\\vec{E} = -\\vec{\\nabla} \\phi,\n",
    "$$\n",
    "där $\\phi$ är den elektrostatiska potentialen. Den uppfyller därmed Poissons ekvation\n",
    "$$\n",
    "\\Delta \\phi = - \\frac{\\rho}{\\epsilon_0}\n",
    "$$\n",
    "\n",
    "### Magnetostatik\n",
    "\n",
    "\n",
    "Statiska magnetiska fält $\\vec{B}(\\vec{r})$ uppfyller"
   ]
  },
  {
   "cell_type": "markdown",
   "metadata": {},
   "source": [
    "$$\n",
    "\\begin{equation}\n",
    "  \\vec{\\nabla} \\cdot \\vec{B} = 0 \n",
    "\\end{equation}\n",
    "$$"
   ]
  },
  {
   "cell_type": "markdown",
   "metadata": {},
   "source": [
    "$$\n",
    "\\begin{equation} \n",
    "  \\vec{\\nabla} \\times \\vec{B} = \\mu_0 \\vec{\\jmath}\n",
    "\\end{equation}\n",
    "$$"
   ]
  },
  {
   "cell_type": "markdown",
   "metadata": {},
   "source": [
    "där den första säger att det inte finns några magnetiska laddningar och den andra är Amperes lag.\n",
    "* $\\vec{\\jmath}(\\vec{r})$ = elektrisk strömtäthet.\n",
    "\n",
    "* $\\mu_0$ = magnetisk permeabilitet i vakuum\n",
    "\n",
    "Den första ekvationen säger att magnetostatiska fält är divergensfria ($\\vec{\\nabla} \\cdot \\vec{B} = 0$) (eller källfritt) och kan uttryckas med en vektorpotential\n",
    "$$\n",
    "\\vec{B} = \\vec{\\nabla} \\times \\vec{A},\n",
    "$$\n",
    "där Gaugeinvarians innebär att vektorpotentialen inte är fullständigt\n",
    "bestämd\n",
    "$$\n",
    "\\vec{A}(\\vec{r}) \\mapsto \\vec{A}(\\vec{r}) + \\vec{\\nabla} \\Lambda(\\vec{r}).\n",
    "$$\n",
    "Detta gör det möjligt att välja Gaugeparameter så att $\\vec{\\nabla} \\cdot \\vec{A} = 0$ och vektorpotentialen uppfyller Poissons ekvation\n",
    "$$\n",
    "\\Delta \\vec{A} = -\\mu_0 \\vec{\\jmath}.\n",
    "$$\n",
    "\n",
    "### SI enheter"
   ]
  },
  {
   "cell_type": "markdown",
   "metadata": {},
   "source": [
    "$$\n",
    "\\begin{equation}\n",
    "\\mu_0 = 4 \\pi \\cdot 10^{-7} \\; \\mathrm{T}\\mathrm{A}^{-1}\\mathrm{m}^{-1} \\nonumber \n",
    "\\end{equation}\n",
    "$$"
   ]
  },
  {
   "cell_type": "markdown",
   "metadata": {},
   "source": [
    "$$\n",
    "\\begin{equation} \n",
    "\\mu_0 \\epsilon_0 = \\frac{1}{c^2} \\nonumber \n",
    "\\end{equation}\n",
    "$$"
   ]
  },
  {
   "cell_type": "markdown",
   "metadata": {},
   "source": [
    "$$\n",
    "\\begin{equation} \n",
    "c = 299\\,792\\,458 \\; \\mathrm{m}\\mathrm{s}^{-1} \\nonumber\n",
    "\\end{equation}\n",
    "$$"
   ]
  },
  {
   "cell_type": "markdown",
   "metadata": {},
   "source": [
    "### Exempel: Bestämning av vektorpotentialen\n",
    "\n",
    "--------------------------\n",
    "\n",
    "Betrakta en elektrisk ledare parallell med $z$-axeln.  Genom ledaren flyter en ström $I$.  Då omges ledaren av ett magnetfält\n",
    "$$\n",
    "\\vec{B} = \\frac{\\mu_0}{2\\pi}\\frac{I}{\\rho}{\\hat \\varphi}.\n",
    "$$\n",
    "Bestäm vektorpotentialen $\\vec{A}$ och finn den differentialekvation som beskriver detta fält.\n",
    "\n",
    "[Comment 1: Notera att magnetfältet uppvisar en singularitet. Känns den igen? Det är fältet från en virveltråd.]\n",
    "\n",
    "Notera att\n",
    "$$\n",
    "\\vec{B} = \\vec{\\nabla} \\times \\vec{A} = \\frac{1}{\\rho}\n",
    "\\begin{vmatrix}\n",
    "\\hat{\\rho} & \\rho \\hat{\\varphi} & \\hat{z} \\\\\n",
    "\\partial_\\rho & \\partial_\\varphi & \\partial_z \\\\\n",
    "A_\\rho & {\\rho A_\\varphi} & A_z\n",
    "\\end{vmatrix} \n",
    "$$\n",
    "Vi kan därför bestämma vektorpotentialen ur ekvationerna"
   ]
  },
  {
   "cell_type": "markdown",
   "metadata": {},
   "source": [
    "7\n",
    " \n",
    "<\n",
    "<\n",
    "<\n",
    "!\n",
    "!\n",
    "M\n",
    "A\n",
    "T\n",
    "H\n",
    "_\n",
    "B\n",
    "L\n",
    "O\n",
    "C\n",
    "K"
   ]
  },
  {
   "cell_type": "markdown",
   "metadata": {},
   "source": [
    "<!-- Equation labels as ordinary links -->\n",
    "<div id=\"phi\"></div>\n",
    "\n",
    "$$\n",
    "\\begin{equation}\n",
    "  \\frac{\\partial A_\\rho}{\\partial z} - \\frac{\\partial A_z}{\\partial \\rho} =\n",
    "\\frac{\\mu_0}{2\\pi}\\frac{I}{\\rho}\n",
    "\\label{phi} \\tag{2}\n",
    "\\end{equation}\n",
    "$$"
   ]
  },
  {
   "cell_type": "markdown",
   "metadata": {},
   "source": [
    "och"
   ]
  },
  {
   "cell_type": "markdown",
   "metadata": {},
   "source": [
    "<!-- Equation labels as ordinary links -->\n",
    "<div id=\"z\"></div>\n",
    "\n",
    "$$\n",
    "\\begin{equation}\n",
    "  \\frac{1}{\\rho}\\left[\\frac{\\partial}{\\partial \\rho} \\left(\\rho A_\\varphi\\right)\n",
    "- \\frac{\\partial A_\\rho}{\\partial \\varphi}\\right] = 0.\n",
    "\\label{z} \\tag{3}\n",
    "\\end{equation}\n",
    "$$"
   ]
  },
  {
   "cell_type": "markdown",
   "metadata": {},
   "source": [
    "Vi skall finna en vektorpotential så att dessa ekvationer uppfylles. Vi provar med $A_\\rho = A_\\varphi=0$ och $A_z \\neq 0$. Denna ansatz ger"
   ]
  },
  {
   "cell_type": "markdown",
   "metadata": {},
   "source": [
    "$$\n",
    "\\begin{equation}\n",
    "  \\vec{A} = - \\frac{\\mu_0}{2\\pi} I \\log\\frac{\\rho}{\\rho_0} { \\hat z},\n",
    "\\end{equation}\n",
    "$$"
   ]
  },
  {
   "cell_type": "markdown",
   "metadata": {},
   "source": [
    "där $\\rho_0$ är en godtycklig konstant.\n",
    "\n",
    "Låt oss nu betrakta Amperes lag i det tidsoberoende fallet"
   ]
  },
  {
   "cell_type": "markdown",
   "metadata": {},
   "source": [
    "$$\n",
    "\\begin{equation}\n",
    "  \\mu_0 \\vec{\\jmath} =  \\vec{\\nabla} \\times \\vec{B}.\n",
    "\\end{equation}\n",
    "$$"
   ]
  },
  {
   "cell_type": "markdown",
   "metadata": {},
   "source": [
    "Om vi nu ersätter $\\vec{B}$ med $\\vec{\\nabla} \\times \\vec{A}$ så har vi"
   ]
  },
  {
   "cell_type": "markdown",
   "metadata": {},
   "source": [
    "$$\n",
    "\\begin{equation}\n",
    "  \\vec{\\nabla} \\times \\vec{\\nabla} \\times \\vec{A} = \\mu_0\\vec{\\jmath}.\n",
    "\\end{equation}\n",
    "$$"
   ]
  },
  {
   "cell_type": "markdown",
   "metadata": {},
   "source": [
    "För vänsterledet har vi räknereglen"
   ]
  },
  {
   "cell_type": "markdown",
   "metadata": {},
   "source": [
    "$$\n",
    "\\begin{equation}\n",
    "  \\vec{\\nabla} \\times \\vec{\\nabla} \\times \\vec{A} =\n",
    "\\vec{\\nabla}\\left(\\vec{\\nabla}\\cdot\\vec{A}\\right) -\\vec{\\nabla}^2\\vec{A}\n",
    "\\end{equation}\n",
    "$$"
   ]
  },
  {
   "cell_type": "markdown",
   "metadata": {},
   "source": [
    "Den frihet, gauge, som vi har i att bestämma $\\vec{A}$ gör det alltid möjligt att garantera att $\\vec{\\nabla} \\cdot \\vec{A} = 0$, så vi kan reducera ekvationen till"
   ]
  },
  {
   "cell_type": "markdown",
   "metadata": {},
   "source": [
    "$$\n",
    "\\begin{equation}\n",
    "  \\vec{\\nabla}^2 \\vec{A} = -\\mu_0 \\vec{\\jmath},\n",
    "\\end{equation}\n",
    "$$"
   ]
  },
  {
   "cell_type": "markdown",
   "metadata": {},
   "source": [
    "och vi har på så sätt kommit fram till en Poisson-ekvation för vektorpotentialen. Notera att gauge-valet $\\vec{\\nabla} \\cdot \\vec{A} = 0$ faktiskt är uppfyllt för den vektorpotential som vi konstruerade ovan.\n",
    "\n",
    "----------------------------------------------------\n",
    "\n",
    "## Maxwells ekvationer\n",
    "\n",
    "[Comment 2: Maxwell satte 1864 upp fyra stycken ekvationer som gav en fullständig beskrivning av ett elektromagnetiskt fält.  Dock, som vi skall se, inskränkte sig hans eget bidrag till en term i en av ekvationerna.]\n",
    "\n",
    "För *tidsberoende* fält finns det en koppling mellan elektriska och magnetiska fält\n",
    "* Induktion (Faradays lag)\n",
    "\n",
    "* Kontinuitet (konservering av elektrisk laddning)\n",
    "\n",
    "[Comment 3: Vi har nu funnit att elektriska laddningar kan skapa elektriska fält  och att elektriska strömmar kan skapa magnetfält.]\n",
    "\n",
    "[Comment 4: Vi vet dock att elektriska fält också kan skapas genom induktion.  En förändring av det magnetiska flödet, $\\Phi$, genom en elektrisk ledare inducerar en spänning, $U$, i ledaren då det magnetiska flödet förändras.]  \n",
    "\n",
    "Faradays induktionslag"
   ]
  },
  {
   "cell_type": "markdown",
   "metadata": {},
   "source": [
    "$$\n",
    "\\begin{equation}\n",
    "  U = - \\frac{\\mbox{d}\\Phi}{\\mbox{d}t},\n",
    "\\end{equation}\n",
    "$$"
   ]
  },
  {
   "cell_type": "markdown",
   "metadata": {},
   "source": [
    "där $\\Phi$ är ett magnetiskt flöde genom ytan $S$"
   ]
  },
  {
   "cell_type": "markdown",
   "metadata": {},
   "source": [
    "$$\n",
    "\\begin{equation}\n",
    "  \\Phi = \\int_S \\vec{B} \\cdot \\mbox{d} \\vec{S}.\n",
    "\\end{equation}\n",
    "$$"
   ]
  },
  {
   "cell_type": "markdown",
   "metadata": {},
   "source": [
    "och $U$ är den inducerade spänningen längs randen $\\partial S$"
   ]
  },
  {
   "cell_type": "markdown",
   "metadata": {},
   "source": [
    "<!-- Equation labels as ordinary links -->\n",
    "<div id=\"eq:indU\"></div>\n",
    "\n",
    "$$\n",
    "\\begin{equation}\n",
    "  U = \\oint_{\\partial S} \\vec{E} \\cdot \\mbox{d}\\vec{r}.\n",
    "  \\label{eq:indU} \\tag{4}\n",
    "\\end{equation}\n",
    "$$"
   ]
  },
  {
   "cell_type": "markdown",
   "metadata": {},
   "source": [
    "Använd Stokes sats på ekv. [(4)](#eq:indU)\n",
    "$$\n",
    "  \\int_S \\left( \\vec{\\nabla} \\times \\vec{E}\\right) \\cdot \\mbox{d}\\vec{S} = -\n",
    "\\int_S \\frac{\\partial \\vec{B}}{\\partial t} \\cdot \\mbox{d}\\vec{S}.\n",
    "$$\n",
    "Eftersom ytan är helt godtycklig måste likheten gälla för integranderna"
   ]
  },
  {
   "cell_type": "markdown",
   "metadata": {},
   "source": [
    "$$\n",
    "\\begin{equation}\n",
    "  \\vec{\\nabla} \\times \\vec{E} = - \\frac{\\partial \\vec{B}}{\\partial t}.\n",
    "\\end{equation}\n",
    "$$"
   ]
  },
  {
   "cell_type": "markdown",
   "metadata": {},
   "source": [
    "[Comment 5: Det elektriska fältet är inte längre konservativt vilket ju modifierar en av våra ekvationer.]\n",
    "\n",
    "[Comment 6: Ekvationerna är dock inte kompletta i den här formen.  Den elektriska laddningen är en bevarad storhet i naturen.]\n",
    "\n",
    "Låt oss nu betrakta sambandet mellan elektrisk strömtäthet och (rotationen av) ett magnetfält. Detta samband har konsekvenser för kontinuitetsekvationen för elektrisk laddning\n",
    "$$\n",
    "  \\frac{\\partial \\rho}{\\partial t} = - \\vec{\\nabla} \\cdot \\vec{\\jmath}.\n",
    "$$\n",
    "från Amperes lag får vi nämligen att HL i kontinuitetsekvationen blir\n",
    "$$\n",
    "  \\vec{\\nabla} \\cdot \\vec{\\jmath} = \\frac{1}{\\mu_0} \\vec{\\nabla} \\cdot \\left(\\vec{\\nabla} \\times\n",
    "\\vec{B}\\right) = 0,\n",
    "$$\n",
    "enligt räknereglerna för vektoroperatorerna. Detta skulle betyda att\n",
    "$$\n",
    "  \\frac{\\partial \\rho}{\\partial t} = 0,\n",
    "$$\n",
    "vilket är orimligt! \n",
    "För det betyder att det inte går att flytta en elektrisk laddning.  \n",
    "\n",
    "Maxwells lösning var att lägga till en term (förskjutningsströmmen)"
   ]
  },
  {
   "cell_type": "markdown",
   "metadata": {},
   "source": [
    "$$\n",
    "\\begin{equation}\n",
    "  \\vec{\\nabla} \\times \\vec{B} = \\mu_0 \\vec{\\jmath} + \\mu_0 \\epsilon_0 \\frac{\\partial \\vec{E}}{\\partial t}.\n",
    "\\end{equation}\n",
    "$$"
   ]
  },
  {
   "cell_type": "markdown",
   "metadata": {},
   "source": [
    "Vi får nu alltså att Maxwells ekvationer blir"
   ]
  },
  {
   "cell_type": "markdown",
   "metadata": {},
   "source": [
    "$$\n",
    "\\begin{equation}\n",
    "  \\vec{\\nabla} \\cdot \\vec{E} = \\frac{\\rho}{\\epsilon_0}, \n",
    "\\end{equation}\n",
    "$$"
   ]
  },
  {
   "cell_type": "markdown",
   "metadata": {},
   "source": [
    "$$\n",
    "\\begin{equation} \n",
    "  \\vec{\\nabla} \\times \\vec{E} = - \\frac{\\partial B}{\\partial t}, \n",
    "\\end{equation}\n",
    "$$"
   ]
  },
  {
   "cell_type": "markdown",
   "metadata": {},
   "source": [
    "$$\n",
    "\\begin{equation} \n",
    "  \\vec{\\nabla} \\cdot \\vec{B} = 0, \n",
    "\\end{equation}\n",
    "$$"
   ]
  },
  {
   "cell_type": "markdown",
   "metadata": {},
   "source": [
    "$$\n",
    "\\begin{equation} \n",
    "  \\vec{\\nabla} \\times \\vec{B} = \\mu_0 \\vec{\\jmath} + \\mu_0 \\epsilon_0 \n",
    "\\frac{\\partial E}{\\partial t}.\n",
    "\\end{equation}\n",
    "$$"
   ]
  },
  {
   "cell_type": "markdown",
   "metadata": {},
   "source": [
    "* Ett allmänt fält $\\vec{E}$ kan vi alltid dela upp i en del som är virvelfri, och en del som är källfri. \n",
    "\n",
    "* För ett elektrisk fält gäller alltså att den virvelfria delen kan skrivas som $-\\vec{\\nabla} \\phi$.  Enligt induktionsekvationen är\n",
    "\n",
    "$$\n",
    "\\vec{\\nabla} \\times \\vec{E} = - \\frac{\\partial \\vec{B}}{\\partial t} = -\n",
    "\\frac{\\partial (\\vec{\\nabla} \\times \\vec{A})}{\\partial t} = - \\vec{\\nabla} \\times \n",
    "\\frac{\\partial \\vec{A}}{\\partial t}.\n",
    "$$\n",
    "Alltså kan vi skriva den källfria delen av $\\vec{E}$ som\n",
    "$-\\partial \\vec{A} / \\partial t$, så att vi totalt har"
   ]
  },
  {
   "cell_type": "markdown",
   "metadata": {},
   "source": [
    "$$\n",
    "\\begin{equation}\n",
    "  \\vec{E} = - \\vec{\\nabla} \\phi - \\frac{\\partial \\vec{A}}{\\partial t}.\n",
    "\\end{equation}\n",
    "$$"
   ]
  },
  {
   "cell_type": "markdown",
   "metadata": {},
   "source": [
    "### Exempel: Bestämning av elektriskt fält\n",
    "\n",
    "--------------------------\n",
    "\n",
    "En elektrisk laddning $Q$ är jämnt fördelad i en sfär med radien $a$. Den omges av ett tunt sfäriskt skal med radien 2a och laddningen $-Q$. Bestäm det elektriska fältet $\\vec{E}(\\vec{r})$ och potentialen $\\phi(\\vec{r})$ överallt.\n",
    "\n",
    "*Lösning:* På grund av att laddningsfördelningen har sfärisk\n",
    "symmetri, så blir $E_\\varphi = E_\\theta = 0$, och $E_r$ beror inte p\\aa\n",
    "~$\\theta$ och $\\varphi$.  Vi kan då beräkna $E_r$ med hjälp av Gauss\n",
    "lag"
   ]
  },
  {
   "cell_type": "markdown",
   "metadata": {},
   "source": [
    "$$\n",
    "\\begin{equation}\n",
    "  \\oint_S \\vec{E} \\cdot \\mbox{d}\\vec{S} = \\frac{Q}{\\epsilon_0},\n",
    "\\end{equation}\n",
    "$$"
   ]
  },
  {
   "cell_type": "markdown",
   "metadata": {},
   "source": [
    "där vi låter $S$ vara en sfär, och $Q$ är den laddning som innesluts\n",
    "av $S$.  \n",
    "\n",
    "Om vi börjar med fallet att $S$ har en radie $r > 2a$, så ser vi \n",
    "då att den totala inneslutna laddningen är $Q - Q = 0$.  Alltså har\n",
    "vi att"
   ]
  },
  {
   "cell_type": "markdown",
   "metadata": {},
   "source": [
    "$$\n",
    "\\begin{equation}\n",
    "  \\oint_S \\vec{E} \\cdot \\mbox{d}\\vec{S} = 0,\n",
    "\\end{equation}\n",
    "$$"
   ]
  },
  {
   "cell_type": "markdown",
   "metadata": {},
   "source": [
    "och av detta följer att att $E_r = 0$.\n",
    "\n",
    "Om $S$ har en radie $r$ så att $a < r < 2a$, så är den laddningen,\n",
    "som $S$ innesluter, $Q$.  Då ger oss Gauss lag att"
   ]
  },
  {
   "cell_type": "markdown",
   "metadata": {},
   "source": [
    "$$\n",
    "\\begin{equation}\n",
    "  \\oint_S \\vec{E} \\cdot \\mbox{d}\\vec{S} = \\frac{Q}{\\epsilon_0}.\n",
    "\\end{equation}\n",
    "$$"
   ]
  },
  {
   "cell_type": "markdown",
   "metadata": {},
   "source": [
    "Integralen i vänsterledet har värdet"
   ]
  },
  {
   "cell_type": "markdown",
   "metadata": {},
   "source": [
    "$$\n",
    "\\begin{equation}\n",
    "  \\oint_S \\vec{E} \\cdot \\mbox{d}\\vec{S} = 4\\pi r^2 E_r,\n",
    "\\end{equation}\n",
    "$$"
   ]
  },
  {
   "cell_type": "markdown",
   "metadata": {},
   "source": [
    "och vi kan lösa ut"
   ]
  },
  {
   "cell_type": "markdown",
   "metadata": {},
   "source": [
    "$$\n",
    "\\begin{equation}\n",
    "  E_r = \\frac{1}{4\\pi \\epsilon_0} \\frac{Q}{r^2}.\n",
    "\\end{equation}\n",
    "$$"
   ]
  },
  {
   "cell_type": "markdown",
   "metadata": {},
   "source": [
    "Slutligen har vi fallet att sfärens radie $r < a$.  Eftersom laddningen $Q$\n",
    "är jämt fördelad över volymen, så innebär det att $S$ innesluter\n",
    "laddningen"
   ]
  },
  {
   "cell_type": "markdown",
   "metadata": {},
   "source": [
    "$$\n",
    "\\begin{equation}\n",
    "  Q \\left(\\frac{r}{a}\\right)^3.\n",
    "\\end{equation}\n",
    "$$"
   ]
  },
  {
   "cell_type": "markdown",
   "metadata": {},
   "source": [
    "Gauss lag ger oss allts\\aa"
   ]
  },
  {
   "cell_type": "markdown",
   "metadata": {},
   "source": [
    "$$\n",
    "\\begin{equation}\n",
    "  \\oint_S \\vec{E} \\cdot \\mbox{d}\\vec{S} = \\frac{Q}{\\epsilon_0}\n",
    "\\left(\\frac{r}{a}\\right)^3,\n",
    "\\end{equation}\n",
    "$$"
   ]
  },
  {
   "cell_type": "markdown",
   "metadata": {},
   "source": [
    "vilket blir"
   ]
  },
  {
   "cell_type": "markdown",
   "metadata": {},
   "source": [
    "$$\n",
    "\\begin{equation}\n",
    "  4\\pi r^2 E_r = \\frac{Q}{\\epsilon_0}\\left(\\frac{r}{a}\\right)^3.\n",
    "\\end{equation}\n",
    "$$"
   ]
  },
  {
   "cell_type": "markdown",
   "metadata": {},
   "source": [
    "Vi kan nu lösa ut"
   ]
  },
  {
   "cell_type": "markdown",
   "metadata": {},
   "source": [
    "$$\n",
    "\\begin{equation}\n",
    "  E_r = \\frac{1}{4\\pi \\epsilon_0} \\frac{Qr}{a^3}.\n",
    "\\end{equation}\n",
    "$$"
   ]
  },
  {
   "cell_type": "markdown",
   "metadata": {},
   "source": [
    "Om vi nu sammanfattar våra resultat, så har vi för det elektriska\n",
    "fältet"
   ]
  },
  {
   "cell_type": "markdown",
   "metadata": {},
   "source": [
    "$$\n",
    "\\begin{equation}\n",
    "  E_r = \\left\\{\\begin{array}{lr}\n",
    "\\frac{1}{4\\pi \\epsilon_0} \\frac{Qr}{a^3} & r < a\\\\\n",
    "\\frac{1}{4\\pi \\epsilon_0} \\frac{Q}{r^2} & a < r < 2a\\\\\n",
    "0 & r > 2a\\\\\n",
    "\\end{array}\\right.\n",
    "\\end{equation}\n",
    "$$"
   ]
  },
  {
   "cell_type": "markdown",
   "metadata": {},
   "source": [
    "Vi skall nu utnyttja detta för att bestämma potentialen, för vilken det\n",
    "gäller att $\\vec{E} = - \\vec{\\nabla} \\phi$.  I vårt fall kan vi uttrycka \n",
    "potentialen som integralen"
   ]
  },
  {
   "cell_type": "markdown",
   "metadata": {},
   "source": [
    "$$\n",
    "\\begin{equation}\n",
    "  \\phi\\left(r\\right) = \\int_r^\\infty E_r \\mbox{d}r,\n",
    "\\end{equation}\n",
    "$$"
   ]
  },
  {
   "cell_type": "markdown",
   "metadata": {},
   "source": [
    "vilket sätter potentialen till 0 i oändligheten i enlighet med den vanliga\n",
    "konventionen.  Vi börjar då med att bestämma potentialen för intervallet\n",
    "$r > 2a$.  Eftersom $E_r = 0$ här så följer det att också potentialen\n",
    "blir 0.  \n",
    "\n",
    "Potentialen skall överallt vara kontinuerlig, vilket inte behöver vara\n",
    "sant för $E$-fältet.  Därför följer att när vi går till\n",
    "intervallet $a \\le r \\le 2a$ så kan den övre integrationsgränsen\n",
    "sättas till $2a$, eftersom potentialen är 0 utanför."
   ]
  },
  {
   "cell_type": "markdown",
   "metadata": {},
   "source": [
    "$$\n",
    "\\begin{equation}\n",
    "  \\phi\\left(r\\right) = \\int_r^{2a} \\frac{1}{4\\pi \\epsilon_0} \\frac{Q}{r^2}\n",
    "\\mbox{d}r = \\frac{Q}{4\\pi\\epsilon_0}\\left[- \\frac{1}{r}\\right]_r^{2a} =\n",
    "\\frac{Q}{4\\pi\\epsilon_0} \\left(\\frac{1}{r}-\\frac{1}{2a}\\right).\n",
    "\\end{equation}\n",
    "$$"
   ]
  },
  {
   "cell_type": "markdown",
   "metadata": {},
   "source": [
    "Speciellt så lägger vi märke till att potentialen i punkten $r = a$\n",
    "blir"
   ]
  },
  {
   "cell_type": "markdown",
   "metadata": {},
   "source": [
    "$$\n",
    "\\begin{equation}\n",
    "  \\phi \\left(a\\right) = \\frac{Q}{8\\pi \\epsilon_0 a}.\n",
    "\\end{equation}\n",
    "$$"
   ]
  },
  {
   "cell_type": "markdown",
   "metadata": {},
   "source": [
    "Det enklaste sättet att garantera att $\\phi$ blir kontinuerlig vid $r = a$\n",
    "är nu att skriva potentialen för $r\\le a$ som"
   ]
  },
  {
   "cell_type": "markdown",
   "metadata": {},
   "source": [
    "$$\n",
    "\\begin{equation}\n",
    "  \\phi \\left(r\\right) = \\int_r^\\infty E_r \\mbox{d}r = \n",
    "\\frac{Q}{8\\pi \\epsilon_0 a} + \\int_r^a \\frac{Qr}{4\\pi \\epsilon_0 a^3} \n",
    "\\mbox{d}r = \\frac{Q}{8\\pi \\epsilon_0 a} + \n",
    "\\left[\\frac{Qr^2}{8\\pi \\epsilon_0 a^3}\\right]_r^a = \\nonumber \n",
    "\\end{equation}\n",
    "$$"
   ]
  },
  {
   "cell_type": "markdown",
   "metadata": {},
   "source": [
    "$$\n",
    "\\begin{equation} \n",
    "\\frac{Q}{8\\pi \\epsilon_0 a} \n",
    "+  \\frac{Q}{8\\pi \\epsilon_0 a} - \\frac{Qr^2}{8\\pi \\epsilon_0 a^3} = \n",
    "\\frac{Q}{4\\pi \\epsilon_0 a} - \\frac{Qr^2}{8\\pi \\epsilon_0 a^3} =\n",
    "\\frac{Q}{8\\pi \\epsilon_0} \\frac{2a^2 -r^2}{a^3}.\n",
    "\\end{equation}\n",
    "$$"
   ]
  },
  {
   "cell_type": "markdown",
   "metadata": {},
   "source": [
    "Vi kan till slut sammanfatta potentialen som"
   ]
  },
  {
   "cell_type": "markdown",
   "metadata": {},
   "source": [
    "$$\n",
    "\\begin{equation}\n",
    "  \\phi\\left(r\\right) = \\left\\{\\begin{array}{lr}\n",
    "\\frac{Q}{8\\pi \\epsilon_0} \\frac{2a^2 -r^2}{a^3} & r\\le a\\\\\n",
    "\\frac{Q}{4\\pi \\epsilon_0} \\left(\\frac{1}{r} - \\frac{1}{2a}\\right) & a\\le r \\le \n",
    "2a\\\\\n",
    "0 & r \\ge 2a\\\\\n",
    "\\end{array}\n",
    "\\right.\n",
    "\\end{equation}\n",
    "$$"
   ]
  },
  {
   "cell_type": "markdown",
   "metadata": {},
   "source": [
    "----------------------------------------------------\n",
    "\n",
    "### Exempel: Bestämning av ett magnetfält\n",
    "\n",
    "--------------------------\n",
    "\n",
    "En oändligt lång rak ledare har ett cirkulärt tvärsnitt med radien\n",
    "$a$ och leder en likström med strömstyrkan $I$.  Använd Amperes lag \n",
    "för att härleda magnetfältet i och kring ledaren om materialet i den\n",
    "antas homogent och isotropt.\n",
    "\n",
    "*Lösning:*  Det elektriska fältet är stationärt i detta fall och vi kan då använda Amperes lag utan någon förskjutningsström"
   ]
  },
  {
   "cell_type": "markdown",
   "metadata": {},
   "source": [
    "$$\n",
    "\\begin{equation}\n",
    "  \\int_{S_\\rho} \\vec{\\nabla} \\times \\vec{B} \\cdot \\mbox{d}\\vec{S} = \\mu_0 \\int_{S_\\rho} \\vec{\\jmath} \\cdot \\mbox{d}\\vec{S} = \\mu_0 I_\\rho,\n",
    "\\end{equation}\n",
    "$$"
   ]
  },
  {
   "cell_type": "markdown",
   "metadata": {},
   "source": [
    "där $I_\\rho$ är strömmen som passerar genom en tvärsnittsyta $S_\\rho$ som är en cirkelskiva med $z$-axeln som centrum och radien $\\rho$. Använder vi Stokes sats får vi"
   ]
  },
  {
   "cell_type": "markdown",
   "metadata": {},
   "source": [
    "$$\n",
    "\\begin{equation}\n",
    "  \\oint_{\\partial S_\\rho} \\vec{B} \\cdot \\mbox{d}\\vec{r} = \\mu_0 I_\\rho,\n",
    "\\end{equation}\n",
    "$$"
   ]
  },
  {
   "cell_type": "markdown",
   "metadata": {},
   "source": [
    "där vi låter $\\partial S_\\rho$ vara randen till $S_\\rho$, dvs en cirkel som genomlöps moturs. Först \n",
    "tittar vi på fallet att cirkelns radie $\\rho > a$.  Strömmen \n",
    "är då $I$, och Amperes lag ger oss"
   ]
  },
  {
   "cell_type": "markdown",
   "metadata": {},
   "source": [
    "$$\n",
    "\\begin{equation}\n",
    "  \\oint_{\\partial S_\\rho} \\vec{B} \\cdot \\mbox{d}\\vec{r} = \\mu_0 I.\n",
    "\\end{equation}\n",
    "$$"
   ]
  },
  {
   "cell_type": "markdown",
   "metadata": {},
   "source": [
    "Vi vet att om den elektriska ledaren sammanfaller med  $z$-axeln så är magnetfältet riktat i $\\varphi$-riktningen.\n",
    "Integralen blir då"
   ]
  },
  {
   "cell_type": "markdown",
   "metadata": {},
   "source": [
    "$$\n",
    "\\begin{equation}\n",
    "  \\oint_{\\partial S_\\rho} \\vec{B} \\cdot \\mbox{d}\\vec{r} = 2\\pi \\rho B_\\varphi.\n",
    "\\end{equation}\n",
    "$$"
   ]
  },
  {
   "cell_type": "markdown",
   "metadata": {},
   "source": [
    "Vi kan nu lösa ut"
   ]
  },
  {
   "cell_type": "markdown",
   "metadata": {},
   "source": [
    "$$\n",
    "\\begin{equation}\n",
    "  B_\\varphi = \\frac{\\mu_0 I}{2\\pi \\rho}.\n",
    "\\end{equation}\n",
    "$$"
   ]
  },
  {
   "cell_type": "markdown",
   "metadata": {},
   "source": [
    "I fallet att cirkelns radie $\\rho < a$ så antar vi att strömmen är \n",
    "jämnt fördelad i tråden, vilket ger oss att den inneslutna strömmen\n",
    "blir"
   ]
  },
  {
   "cell_type": "markdown",
   "metadata": {},
   "source": [
    "$$\n",
    "\\begin{equation}\n",
    "  I_\\rho = I \\left(\\frac{\\rho}{a}\\right)^2.\n",
    "\\end{equation}\n",
    "$$"
   ]
  },
  {
   "cell_type": "markdown",
   "metadata": {},
   "source": [
    "Integralen blir nu"
   ]
  },
  {
   "cell_type": "markdown",
   "metadata": {},
   "source": [
    "$$\n",
    "\\begin{equation}\n",
    "  \\oint_{\\partial S_\\rho} \\vec{B} \\cdot \\mbox{d}\\vec{r} = 2\\pi \\rho B_\\varphi = \\mu_0 I \n",
    "\\left(\\frac{\\rho}{a}\\right)^2.\n",
    "\\end{equation}\n",
    "$$"
   ]
  },
  {
   "cell_type": "markdown",
   "metadata": {},
   "source": [
    "Vi kan då lösa"
   ]
  },
  {
   "cell_type": "markdown",
   "metadata": {},
   "source": [
    "$$\n",
    "\\begin{equation}\n",
    "  B_\\varphi = \\frac{\\mu_0 I}{2\\pi} \\frac{\\rho}{a^2}.\n",
    "\\end{equation}\n",
    "$$"
   ]
  },
  {
   "cell_type": "markdown",
   "metadata": {},
   "source": [
    "Sammanfattningsvis har vi alltså att $\\vec{B} = B_\\varphi \\hat{e}_\\varphi$ med"
   ]
  },
  {
   "cell_type": "markdown",
   "metadata": {},
   "source": [
    "$$\n",
    "\\begin{equation}\n",
    "  B_\\varphi = \\left\\{\\begin{array}{lr}\n",
    "\\frac{\\mu_0 I}{2\\pi \\rho} & \\rho < a\\\\\n",
    "\\frac{\\mu_0 I\\rho}{2\\pi a^2} & \\rho > a\\\\\n",
    "\\end{array}\\right.\n",
    "\\end{equation}\n",
    "$$"
   ]
  },
  {
   "cell_type": "markdown",
   "metadata": {},
   "source": [
    "----------------------------------------------------\n",
    "\n",
    "## Maxwells ekvationer i vakuum och den elektromagnetiska vågekvationen\n",
    "\n",
    "[Comment 7: OBS! Resten av dessa anteckningar behandlar kap 11.3-11.7 som ej ingår i kursen. Anteckningarna är endast med för bättre koppling till motsvarande material i andra kurser. OBS!]\n",
    "\n",
    "* En mycket viktig konsekvens av Maxwells ekvationer är att det existerar våglösningar.\n",
    "\n",
    "I vakuum ($\\rho=0$ och $\\vec{\\jmath} = 0$) blir Maxwells ekvationer"
   ]
  },
  {
   "cell_type": "markdown",
   "metadata": {},
   "source": [
    "5\n",
    "0\n",
    " \n",
    "<\n",
    "<\n",
    "<\n",
    "!\n",
    "!\n",
    "M\n",
    "A\n",
    "T\n",
    "H\n",
    "_\n",
    "B\n",
    "L\n",
    "O\n",
    "C\n",
    "K"
   ]
  },
  {
   "cell_type": "markdown",
   "metadata": {},
   "source": [
    "5\n",
    "1\n",
    " \n",
    "<\n",
    "<\n",
    "<\n",
    "!\n",
    "!\n",
    "M\n",
    "A\n",
    "T\n",
    "H\n",
    "_\n",
    "B\n",
    "L\n",
    "O\n",
    "C\n",
    "K"
   ]
  },
  {
   "cell_type": "markdown",
   "metadata": {},
   "source": [
    "5\n",
    "2\n",
    " \n",
    "<\n",
    "<\n",
    "<\n",
    "!\n",
    "!\n",
    "M\n",
    "A\n",
    "T\n",
    "H\n",
    "_\n",
    "B\n",
    "L\n",
    "O\n",
    "C\n",
    "K"
   ]
  },
  {
   "cell_type": "markdown",
   "metadata": {},
   "source": [
    "<!-- Equation labels as ordinary links -->\n",
    "<div id=\"amp_max\"></div>\n",
    "\n",
    "$$\n",
    "\\begin{equation}\n",
    "  \\vec{\\nabla} \\times \\vec{B} = \\epsilon \\mu_0 \\frac{\\partial \\vec{E}}{\\partial t}\n",
    "\\label{amp_max} \\tag{6}\n",
    "\\end{equation}\n",
    "$$"
   ]
  },
  {
   "cell_type": "markdown",
   "metadata": {},
   "source": [
    "Vi kan nu till exempel beräkna rotationen av induktionsekvationen Ekv. [(5)](#induction)"
   ]
  },
  {
   "cell_type": "markdown",
   "metadata": {},
   "source": [
    "$$\n",
    "\\begin{equation}\n",
    "  \\vec{\\nabla} \\times \\vec{\\nabla} \\times \\vec{E} = \\vec{\\nabla} \\left( \\vec{\\nabla} \\cdot \\vec{E}\n",
    "\\right) - \\vec{\\nabla}^2 \\vec{E} = - \\vec{\\nabla} \\times \n",
    "\\frac{\\partial \\vec{B}}{\\partial t} =\n",
    "- \\frac{\\partial (\\vec{\\nabla} \\times \\vec{B})}{\\partial t}.\n",
    "\\end{equation}\n",
    "$$"
   ]
  },
  {
   "cell_type": "markdown",
   "metadata": {},
   "source": [
    "Vi kan nu utnyttja att $\\vec{\\nabla} \\cdot \\vec{E} =0$ och Ekv. [(6)](#amp_max)"
   ]
  },
  {
   "cell_type": "markdown",
   "metadata": {},
   "source": [
    "$$\n",
    "\\begin{equation}\n",
    "  - \\vec{\\nabla}^2 \\vec{E} = - \\frac{\\partial}{\\partial t} \\epsilon_0 \\mu_0\n",
    "\\frac{\\partial \\vec{E}}{\\partial t} = \n",
    "- \\epsilon_0 \\mu_0 \\frac{\\partial^2 \\vec{E}}{\\partial t^2}.\n",
    "\\end{equation}\n",
    "$$"
   ]
  },
  {
   "cell_type": "markdown",
   "metadata": {},
   "source": [
    "Eftersom $\\epsilon_0 \\mu_0 = 1/c^2$ kan vi skriva detta"
   ]
  },
  {
   "cell_type": "markdown",
   "metadata": {},
   "source": [
    "<!-- Equation labels as ordinary links -->\n",
    "<div id=\"vaag\"></div>\n",
    "\n",
    "$$\n",
    "\\begin{equation}\n",
    "  \\left( \\vec{\\nabla}^2 - \\frac{1}{c^2} \\frac{\\partial^2}{\\partial t^2} \\right) \\vec{E} = 0,\n",
    "\\label{vaag} \\tag{7}\n",
    "\\end{equation}\n",
    "$$"
   ]
  },
  {
   "cell_type": "markdown",
   "metadata": {},
   "source": [
    "vilket är en *vågekvation*. \n",
    "\n",
    "### Exempel: Vågekvationen i $D=1$\n",
    "\n",
    "--------------------------\n",
    "\n",
    "Betrakta fältet $\\vec{E} = E(x,t)$ i en dimension och motsvarande vågekvation"
   ]
  },
  {
   "cell_type": "markdown",
   "metadata": {},
   "source": [
    "$$\n",
    "\\begin{equation}\n",
    "  \\left( \\frac{\\partial^2}{\\partial x^2} - \\frac{1}{c^2} \\frac{\\partial^2}{\\partial t^2} \\right) E(x,t) = 0.\n",
    "\\end{equation}\n",
    "$$"
   ]
  },
  {
   "cell_type": "markdown",
   "metadata": {},
   "source": [
    "Ekvationen har då lösningar på formerna $E_+ = E_0 \\sin(k x - \\omega t)$ och $E_- = E_0 \\sin(k x + \\omega t)$, vilka beskriver vågor och motiverar varför Ekv. [(7)](#vaag) kallas för vågekvationen.\n",
    "\n",
    "Med denna ansatz ($E_+$) ger vågekvationen\n",
    "$$\n",
    "-k^2 + \\frac{\\omega^2}{c^2} = 0 \\quad \\Rightarrow \\quad \\omega = c |k|,\n",
    "$$\n",
    "vilket kallas för en dispersionsrelation.\n",
    "\n",
    "[Rita 8: funktionen $E(x,t)$ med en $x$-axel och en $t$-axel. Illustrera våglängd och periodtid.]\n",
    "\n",
    "* Vid given tid $t$: samma fas då $x \\mapsto x + \\frac{2 \\pi}{k}$. \n",
    "\n",
    "* Dvs *våglängden* $\\lambda$ relaterar till *vågtalet* $k$ enligt $\\lambda = \\frac{2\\pi}{k}$.\n",
    "\n",
    "* Vid givet $x$: samma fas då $t \\mapsto t + \\frac{2 \\pi}{\\omega}$. \n",
    "\n",
    "* Våghastigheten finner vi genom att notera att $x-\\frac{\\omega}{k}t = \\mathrm{konstant}$ beskriver punkter med samma fas. Detta ger\n",
    "\n",
    "$$\n",
    "\\mbox{d}x - \\frac{\\omega}{k} \\mbox{d}t = 0 \\quad \\Rightarrow \\quad \\frac{\\mbox{d}x}{\\mbox{d}t} = \\frac{\\omega}{k}\n",
    "$$\n",
    "Hastigheten är alltså $v = \\omega / k = c$. Ljushastigheten!\n",
    "\n",
    "-------------------------------------------------------\n",
    "\n",
    "I rummet kan vi skriva lösningarna\n",
    "$$\n",
    "\\vec{E} = \\vec{E}_0 \\exp\\left( i (\\vec{k} \\cdot \\vec{r} - \\omega t ) \\right) = \\left\\{ \\mathrm{välj~} \\vec{k} = k \\hat{x} \\right\\} = \\vec{E}_0 \\exp\\left( i (k x - \\omega t) \\right).\n",
    "$$\n",
    "Den fysikaliska lösningen är (antingen) real- eller imaginärdelen av ovanstående. Det betyder alltså att lösningen och tolkningen är analog med $D=1$-exemplet ovan.\n",
    "\n",
    "\n",
    "### Elektriska och magnetiska vågor\n",
    "\n",
    "En motsvarande vågekvation för magnetfältet kan också härledas. Man finner därför"
   ]
  },
  {
   "cell_type": "markdown",
   "metadata": {},
   "source": [
    "$$\n",
    "\\begin{equation}\n",
    "\\vec{E}(\\vec{r},t) = \\vec{E}_0 \\exp\\left( i (\\vec{k} \\cdot \\vec{r} - \\omega t ) \\right)  \\nonumber \n",
    "\\end{equation}\n",
    "$$"
   ]
  },
  {
   "cell_type": "markdown",
   "metadata": {},
   "source": [
    "$$\n",
    "\\begin{equation} \n",
    "\\vec{B}(\\vec{r},t) = \\vec{B}_0 \\exp\\left( i (\\vec{k} \\cdot \\vec{r} - \\omega t ) \\right)  \\nonumber \n",
    "\\end{equation}\n",
    "$$"
   ]
  },
  {
   "cell_type": "markdown",
   "metadata": {},
   "source": [
    "Hur förhåller sig *polarisationsvektorn* $\\vec{E}_0$ till $\\vec{B}_0$ och till riktningen på $\\vec{k}$?\n",
    "* Sätt $\\vec{k} = \\hat{n} k = \\hat{n} \\frac{\\omega}{c}$.\n",
    "\n",
    "* Exponenten blir då $(\\vec{k} \\cdot \\vec{r} - \\omega t ) = \\frac{\\omega}{c}(\\hat{n} \\cdot \\vec{r} - c t )$.\n",
    "\n",
    "* ME1: $\\vec{\\nabla} \\cdot \\vec{E} = 0$, vilket ger $\\hat{n} \\cdot \\vec{E}_0 = 0$.\n",
    "\n",
    "Visa gärna detta med indexnotation"
   ]
  },
  {
   "cell_type": "markdown",
   "metadata": {},
   "source": [
    "$$\n",
    "\\begin{equation}\n",
    "\\vec{\\nabla} \\cdot \\vec{E} = \\partial_j E_{0,j} \\exp \\left( i \\frac{\\omega}{c} (n_l r_l - ct) \\right) = E_{0,j} \\left( \\partial_j \\left[i \\frac{\\omega}{c} n_l r_l \\right] \\right) \\exp \\left( i \\frac{\\omega}{c} (n_m r_m - ct) \\right) \\nonumber \n",
    "\\end{equation}\n",
    "$$"
   ]
  },
  {
   "cell_type": "markdown",
   "metadata": {},
   "source": [
    "$$\n",
    "\\begin{equation} \n",
    "= \\left\\{ \\partial_j r_l = \\delta_{jl} \\right\\} = i \\frac{\\omega}{c} E_{0,j} n_j \\exp \\left( i \\frac{\\omega}{c} (n_m r_m - ct) \\right) \\nonumber \n",
    "\\end{equation}\n",
    "$$"
   ]
  },
  {
   "cell_type": "markdown",
   "metadata": {},
   "source": [
    "$$\n",
    "\\begin{equation} \n",
    "= i \\frac{\\omega}{c} \\hat{n} \\cdot \\vec{E}_0 \\exp \\left( i \\frac{\\omega}{c} (\\hat{n} \\cdot \\vec{r} - ct) \\right) \\nonumber\n",
    "\\end{equation}\n",
    "$$"
   ]
  },
  {
   "cell_type": "markdown",
   "metadata": {},
   "source": [
    "* Pss ME3 ger $\\hat{n} \\cdot \\vec{B}_0 = 0$\n",
    "\n",
    "* Fälten är alltså vinkelräta mot vågens rörelseriktning.\n",
    "\n",
    "* ME2 säger att $i \\frac{\\omega}{c} (\\hat{n} \\times \\vec{E}_0 - c \\vec{B}_0) = 0$, dvs $\\vec{B}_0 = \\frac{1}{c} \\hat{n} \\times \\vec{E_0}$.\n",
    "\n",
    "* E- och B-fälten är alltså vinkelräta mot varandra. \n",
    "\n",
    "* De två möjliga riktningarna på polarisationsvektorn $\\vec{E}_0$ motsvarar de två möjliga polarisationerna hos elektromagnetisk strålning.\n",
    "\n",
    "Den elektromagnetiska vågen består därför av svängande elektriska och magnetiska fält, vilka genererar varandra"
   ]
  },
  {
   "cell_type": "markdown",
   "metadata": {},
   "source": [
    "$$\n",
    "\\begin{equation}\n",
    "\\vec{E}(\\vec{r},t) = \\vec{E}_0 \\exp\\left( i \\frac{\\omega}{c}(\\hat{n} \\cdot \\vec{r} - c t ) \\right), \\quad \\hat{n} \\cdot \\vec{E}_0 = 0  \n",
    "\\end{equation}\n",
    "$$"
   ]
  },
  {
   "cell_type": "markdown",
   "metadata": {},
   "source": [
    "$$\n",
    "\\begin{equation} \n",
    "\\vec{B}(\\vec{r},t) = \\frac{1}{c} \\hat{n} \\times \\vec{E}_0 \\exp\\left( i \\frac{\\omega}{c}(\\hat{n} \\cdot \\vec{r} - c t ) \\right)  \n",
    "\\end{equation}\n",
    "$$"
   ]
  },
  {
   "cell_type": "markdown",
   "metadata": {},
   "source": [
    "## Vågekvationer för potentialerna\n",
    "\n",
    "* Hur blir Maxwells ekvationer när fälten uttrycks i potentialerna $\\phi$ och $\\vec A$.\n",
    "\n",
    "* De två homogena ekvationerna ($\\ldots = 0$) är de som gör att fälten kan uttryckas i termer av potentialer. \n",
    "\n",
    "Sätt in uttrycken"
   ]
  },
  {
   "cell_type": "markdown",
   "metadata": {},
   "source": [
    "$$\n",
    "\\begin{equation}\n",
    "\\vec{E} = -\\vec{\\nabla} \\phi - \\frac{\\partial \\vec{A}}{\\partial t} \\nonumber \n",
    "\\end{equation}\n",
    "$$"
   ]
  },
  {
   "cell_type": "markdown",
   "metadata": {},
   "source": [
    "$$\n",
    "\\begin{equation} \n",
    "\\vec{B} = \\vec{\\nabla} \\times \\vec{A} \\nonumber\n",
    "\\end{equation}\n",
    "$$"
   ]
  },
  {
   "cell_type": "markdown",
   "metadata": {},
   "source": [
    "i de inhomogena ekvationerna:"
   ]
  },
  {
   "cell_type": "markdown",
   "metadata": {},
   "source": [
    "$$\n",
    "\\Big( \\vec{\\nabla} \\cdot \\vec{E} = \\Big) \\quad \\vec{\\nabla}\\cdot(-\\vec{\\nabla}\\phi-\\frac{\\partial \\vec A}{\\partial t}) = \\frac{\\rho}{\\epsilon_0},\n",
    "$$"
   ]
  },
  {
   "cell_type": "markdown",
   "metadata": {},
   "source": [
    "$$\n",
    "\\Big( \\vec{\\nabla} \\times \\vec{B} - \\epsilon \\mu_0 \\frac{\\partial \\vec{E}}{\\partial t}\n",
    "= \\Big) \\quad \\vec{\\nabla}\\times(\\vec{\\nabla}\\times\\vec A) - \\frac{1}{c^2} \\frac{\\partial}{\\partial t} (-\\vec{\\nabla}\\phi-\\frac{\\partial \\vec A}{\\partial t})=\\mu_0\\vec\\jmath .\n",
    "$$"
   ]
  },
  {
   "cell_type": "markdown",
   "metadata": {},
   "source": [
    "* Ett gaugeval för vektorpotentialen förenklar ekvationerna avsevärt \n",
    "\n",
    "* Välj gaugeparameter så att $\\vec{\\nabla}\\cdot\\vec A = - \\frac{1}{c^2} \\frac{\\partial \\phi}{\\partial t}$. \n",
    "\n",
    "Den första ekvationen blir\n",
    "$$\n",
    "\\vec{\\nabla} \\cdot \\left(-\\vec{\\nabla} \\phi - \\frac{\\partial \\vec{A}}{\\partial t} \\right) = -\\Delta \\phi - \\frac{\\partial}{\\partial t} (\\vec{\\nabla} \\cdot \\vec{A}) = \\left\\{ \\mathrm{Gaugeval} \\right\\} = \\left( -\\Delta + \\frac{1}{c^2} \\frac{\\partial^2}{\\partial t^2} \\right) \\phi \\equiv - \\square \\phi,\n",
    "$$\n",
    "där d'Alembert-operatorn $\\square \\equiv \\left( \\Delta - \\frac{1}{c^2} \\frac{\\partial^2}{\\partial t^2} \\right)$.\n",
    "\n",
    "För den andra ekvationen utnyttjar vi att\n",
    "$$\n",
    "\\vec{\\nabla} \\times \\left( \\vec{\\nabla} \\times \\vec{A} \\right) = \\vec{\\nabla} \\left( \\vec{\\nabla} \\cdot \\vec{A} \\right) - \\Delta \\vec{A} = \\left\\{ \\mathrm{Gaugeval} \\right\\} = -\\vec{\\nabla} \\left( \\frac{1}{c^2} \\frac{\\partial \\phi}{\\partial t} \\right) - \\Delta \\vec{A}.\n",
    "$$\n",
    "VL i den andra inhomogena ekvationen blir därför\n",
    "$$ \n",
    "-\\frac{1}{c^2} \\frac{\\partial (\\vec{\\nabla} \\phi)}{\\partial t} - \\Delta \\vec{A} + \\frac{1}{c^2}\n",
    "\\frac{\\partial \\vec{\\nabla} \\phi}{\\partial t} + \\frac{1}{c^2} \\frac{\\partial^2 \\vec{A}}{\\partial  t^2} = -\\square \\vec{A}.\n",
    "$$\n",
    "\n",
    "* Vi får alltså inhomogena vågekvationer för potentialerna"
   ]
  },
  {
   "cell_type": "markdown",
   "metadata": {},
   "source": [
    "$$\n",
    "\\square\\phi=-\\frac{\\rho}{\\epsilon_0},\n",
    "$$"
   ]
  },
  {
   "cell_type": "markdown",
   "metadata": {},
   "source": [
    "$$\n",
    "\\square\\vec A=-\\mu_0\\vec\\jmath ,\n",
    "$$"
   ]
  },
  {
   "cell_type": "markdown",
   "metadata": {},
   "source": [
    "* Man kan använda Greensfunktionen för vågekvationen för att skriva ned generella lösningar när laddningar och strömmar är givna.\n",
    "\n",
    "* Greensfunktionen är lösningen till följande vågekvation\n",
    "\n",
    "$$\n",
    "\\square G(\\vec{r},t;\\vec{r}{\\;}',t') \\equiv (\\Delta - \\frac{1}{c^2} \\frac{\\partial^2}{\\partial t^2}) G(\\vec{r},t;\\vec{r}{\\;}',t') = -\\delta^3(\\vec{r}-\\vec{r}{\\;}')\\delta(t-t').\n",
    "$$\n",
    "För enkelhets skull kan vi ta $\\vec{r}{\\;}'=0$, $t'=0$.\n",
    "\n",
    "Greensfunktionen är\n",
    "$$\n",
    "G_+(\\vec{r},t;0,0) = \\frac{1}{4\\pi t} \\delta(r-ct).\n",
    "$$  \n",
    "* Detta är vad som brukar kallas en *retarderad* Greensfunktion. \n",
    "\n",
    "* Termen kommer sig av att en källa bara påverkar fält vid efterföljande tider (ljuskonen $r=ct$).\n",
    "\n",
    "[Comment 9: Ekvationen är symmetrisk under $t \\to -t$, vilket innebär att det också finns en *avancerad* Greensfunktion $G_- \\propto \\delta(r+ct)$.]\n",
    "\n",
    "[Comment 10: Det är värt att notera att det intuitivt \"sunda\" antagandet att Greensfunktionen endast har stöd på ljuskonen faktiskt är mer subtilt än det verkar. Det går under namnet Huygens pricip. Det visar sig vara sant i ett udda antal rumsdimensioner, men falskt i ett jämnt antal. I ett jämnt antal rumsdimensioner har Greensfunktionen stöd *inom* ljuskonen, inte endast *på* den.\n",
    "I två dimensioner har man t.ex.\n",
    "$$\n",
    "G_+^{(2)}(\\vec{r},t;0,0)=\n",
    "\\left\\{ \n",
    "\\begin{array}{ll}\n",
    "\\frac{\\sigma(t)}{2\\pi\\sqrt{(ct)^2-r^2}}, & r<ct, \\\\\n",
    "0 & \\mathrm{annars.}\n",
    "\\end{array}\n",
    "\\right.\n",
    "$$\n",
    "Tänk på en sten som släpps i en vattenyta. En punkt på ytan påverkas inte bara just då vågfronten passerar, utan även vid alla senare tidpunkter. Tvådimensionell musik är kanske problematisk...]\n",
    "\n",
    "Man måste förstås kunna bekräfta att man får rätt uttryck för en statisk laddningsfördelning. Om $\\rho$ är oberoende av tiden ger Greensfunktionsmetoden"
   ]
  },
  {
   "cell_type": "markdown",
   "metadata": {},
   "source": [
    "$$\n",
    "\\phi(\\vec{r},t) = \n",
    "\\int_{\\mathbb{R}^3}dV' \\int_{-\\infty}^\\infty dt'\n",
    "\\frac{\\rho(\\vec{r}{\\;}')}{\\epsilon_0} G_+(\\vec{r},t,\\vec{r}{\\;}',t')\n",
    "$$"
   ]
  },
  {
   "cell_type": "markdown",
   "metadata": {},
   "source": [
    "$$\n",
    "= \\int_{\\mathbb{R}^3}dV' \\int_{-\\infty}^\\infty dt'\n",
    "\\frac{\\rho(\\vec{r}{\\;}')}{4\\pi\\epsilon_0(t-t')} \\delta(|\\vec{r}-\\vec{r}{\\;}'|-c(t-t'))\n",
    "$$"
   ]
  },
  {
   "cell_type": "markdown",
   "metadata": {},
   "source": [
    "$$\n",
    "= \\left\\{ c(t-t') \\equiv (x-x') \\; \\Rightarrow c \\mathrm{~försvinner} \\right\\} =\\int_{\\mathbb{R}^3}dV'\n",
    "\\frac{\\rho(\\vec{r}{\\;}')}{4\\pi\\epsilon_0|\\vec{r}-\\vec{r}{\\;}'|},\n",
    "$$"
   ]
  },
  {
   "cell_type": "markdown",
   "metadata": {},
   "source": [
    "vilket är identiskt med vad man får med hjälp av Greensfunktionen för Poissons ekvation."
   ]
  }
 ],
 "metadata": {},
 "nbformat": 4,
 "nbformat_minor": 0
}
