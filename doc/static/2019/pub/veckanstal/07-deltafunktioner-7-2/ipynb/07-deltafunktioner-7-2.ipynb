{
 "cells": [
  {
   "cell_type": "markdown",
   "metadata": {},
   "source": [
    "<!-- dom:TITLE: FFM234, Klassisk fysik och vektorfält - Veckans tal -->\n",
    "# FFM234, Klassisk fysik och vektorfält - Veckans tal\n",
    "<!-- dom:AUTHOR: Christin Rhen och Christian Forssén, Chalmers -->\n",
    "<!-- Author: -->  \n",
    "**Christin Rhen och Christian Forssén, Chalmers**\n",
    "\n",
    "Date: **Aug 10, 2019**\n",
    "\n",
    "<!-- --- begin exercise --- -->\n",
    "\n",
    "## Uppgift 7.5.2: Derivator av deltafunktioner\n",
    "\n",
    "Konstruera approximationerna till de första tre derivatorna av en deltafunktion svarande mot approximationerna (7.7) och (7.8) av deltafunktionen! Skissera funktionernas beteende (m.h.a. dator om du vill) och reflektera över varför deras integraler \n",
    "mot en funktion $f(x)$ ger de resultat de gör i gränsen $\\epsilon \\rightarrow 0$.\n",
    "\n",
    "<!-- --- begin hint in exercise --- -->\n",
    "\n",
    "**Hint.**\n",
    "Det är instruktivt att lösa uppgiften på två sätt:\n",
    "1. Att använda de explicita uttrycken för olika ordningars derivator av de givna distributionerna och utföra integralerna. \n",
    "\n",
    "  * Gör först en Taylorexpansion av funktionen $f(x)$ runt $x=0$.\n",
    "\n",
    "  * Notera att distributionerna är jämna funktioner så att integraler över dessa gånger udda funktioner måste bli noll för ett symmetriskt intervall.\n",
    "\n",
    "  * Se formelsamling för analytiska uttryck för de relevanta integralerna.\n",
    "\n",
    "\n",
    "2. Studera även de skissade funktionerna och deras derivator. Vad får man om man multiplicerar dessa med en funktion f(x) och utför integralen i gränsen $\\epsilon \\to 0$?\n",
    "\n",
    "  * Jämför med uttrycken för olika ordningars derivator av en funktion $f(x)$ i termer av finita differenser.\n",
    "\n",
    "\n",
    "<!-- --- end hint in exercise --- -->\n",
    "\n",
    "\n",
    "<!-- --- begin answer of exercise --- -->\n",
    "**Answer.**\n",
    "Integralerna skall plocka ut funktionens första tre derivator i punkten $x=0$ med tecken $(-1)^n$ för derivata av ordningen $n$.\n",
    "\n",
    "<!-- --- end answer of exercise --- -->\n",
    "\n",
    "\n",
    "<!-- --- begin solution of exercise --- -->\n",
    "**Solution.**\n",
    "Rättfram derivering ger"
   ]
  },
  {
   "cell_type": "markdown",
   "metadata": {},
   "source": [
    "<!-- Equation labels as ordinary links -->\n",
    "<div id=\"_auto1\"></div>\n",
    "\n",
    "$$\n",
    "\\begin{equation}\n",
    "    h_\\epsilon(x)=\\frac1{\\epsilon\\sqrt\\pi}e^{-x^2/\\epsilon^2},\n",
    "\\label{_auto1} \\tag{1}\n",
    "\\end{equation}\n",
    "$$"
   ]
  },
  {
   "cell_type": "markdown",
   "metadata": {},
   "source": [
    "<!-- Equation labels as ordinary links -->\n",
    "<div id=\"_auto2\"></div>\n",
    "\n",
    "$$\n",
    "\\begin{equation} \n",
    "    h_\\epsilon'(x)=-\\frac{2x}{\\epsilon^2}h_\\epsilon(x),\n",
    "\\label{_auto2} \\tag{2}\n",
    "\\end{equation}\n",
    "$$"
   ]
  },
  {
   "cell_type": "markdown",
   "metadata": {},
   "source": [
    "<!-- Equation labels as ordinary links -->\n",
    "<div id=\"_auto3\"></div>\n",
    "\n",
    "$$\n",
    "\\begin{equation} \n",
    "    h_\\epsilon''(x)=\\frac{4x^2-2\\epsilon^2}{\\epsilon^4}h_\\epsilon(x),\n",
    "\\label{_auto3} \\tag{3}\n",
    "\\end{equation}\n",
    "$$"
   ]
  },
  {
   "cell_type": "markdown",
   "metadata": {},
   "source": [
    "<!-- Equation labels as ordinary links -->\n",
    "<div id=\"_auto4\"></div>\n",
    "\n",
    "$$\n",
    "\\begin{equation} \n",
    "    h_\\epsilon'''(x)=-\\frac{8x^3-12x\\epsilon^2}{\\epsilon^6}h_\\epsilon(x),\n",
    "\\label{_auto4} \\tag{4}\n",
    "\\end{equation}\n",
    "$$"
   ]
  },
  {
   "cell_type": "markdown",
   "metadata": {},
   "source": [
    "och"
   ]
  },
  {
   "cell_type": "markdown",
   "metadata": {},
   "source": [
    "<!-- Equation labels as ordinary links -->\n",
    "<div id=\"_auto5\"></div>\n",
    "\n",
    "$$\n",
    "\\begin{equation}\n",
    "    h_\\epsilon(x)= \\frac\\epsilon{\\pi\\left(x^2+\\epsilon^2\\right)},\n",
    "\\label{_auto5} \\tag{5}\n",
    "\\end{equation}\n",
    "$$"
   ]
  },
  {
   "cell_type": "markdown",
   "metadata": {},
   "source": [
    "<!-- Equation labels as ordinary links -->\n",
    "<div id=\"_auto6\"></div>\n",
    "\n",
    "$$\n",
    "\\begin{equation} \n",
    "    h_\\epsilon'(x)= -\\frac{2 x}{x^2+\\epsilon^2}h_\\epsilon(x) ,\n",
    "\\label{_auto6} \\tag{6}\n",
    "\\end{equation}\n",
    "$$"
   ]
  },
  {
   "cell_type": "markdown",
   "metadata": {},
   "source": [
    "<!-- Equation labels as ordinary links -->\n",
    "<div id=\"_auto7\"></div>\n",
    "\n",
    "$$\n",
    "\\begin{equation} \n",
    "    h_\\epsilon''(x)= \\frac{6x^2-2\\epsilon^2}{\\left(x^2+\\epsilon^2\\right)^2}h_\\epsilon(x) ,\n",
    "\\label{_auto7} \\tag{7}\n",
    "\\end{equation}\n",
    "$$"
   ]
  },
  {
   "cell_type": "markdown",
   "metadata": {},
   "source": [
    "<!-- Equation labels as ordinary links -->\n",
    "<div id=\"_auto8\"></div>\n",
    "\n",
    "$$\n",
    "\\begin{equation} \n",
    "    h_\\epsilon'''(x)= -\\frac{24 x^3 -24x\\epsilon^2}{\\left(x^2+\\epsilon^2\\right)^3}h_\\epsilon(x) .\n",
    "\\label{_auto8} \\tag{8}\n",
    "\\end{equation}\n",
    "$$"
   ]
  },
  {
   "cell_type": "markdown",
   "metadata": {},
   "source": [
    "Dessa funktioner och derivator är skisserade för $\\epsilon = 0.02,0.04,0.06$ i figur [fig:71](#fig:71) och [fig:72](#fig:72).\n",
    "\n",
    "<!-- dom:FIGURE:[fig/fig721.png, width=900 frac=0.9] Två distributioner och deras förstaderivator i gränsen $\\epsilon \\to 0$. <div id=\"fig:71\"></div> -->\n",
    "<!-- begin figure -->\n",
    "<div id=\"fig:71\"></div>\n",
    "\n",
    "<p>Två distributioner och deras förstaderivator i gränsen $\\epsilon \\to 0$.</p>\n",
    "<img src=\"fig/fig721.png\" width=900>\n",
    "\n",
    "<!-- end figure -->\n",
    "\n",
    "\n",
    "<!-- dom:FIGURE:[fig/fig722.png, width=900 frac=0.9] Andra- och tredjederivator av två distributioner i gränsen $\\epsilon \\to 0$. <div id=\"fig:72\"></div> -->\n",
    "<!-- begin figure -->\n",
    "<div id=\"fig:72\"></div>\n",
    "\n",
    "<p>Andra- och tredjederivator av två distributioner i gränsen $\\epsilon \\to 0$.</p>\n",
    "<img src=\"fig/fig722.png\" width=900>\n",
    "\n",
    "<!-- end figure -->\n",
    "\n",
    "\n",
    "Deltafunktionens derivator ska gå att partialintegrera (se diskussionen av ekvation (7.9) i kurskompendiet). Det vill säga (alla integraler går över hela $\\mathbb R$, så alla randtermer är lika med noll):"
   ]
  },
  {
   "cell_type": "markdown",
   "metadata": {},
   "source": [
    "<!-- Equation labels as ordinary links -->\n",
    "<div id=\"_auto9\"></div>\n",
    "\n",
    "$$\n",
    "\\begin{equation}\n",
    "    \\int \\mathrm dx\\ \\delta'(x)f(x)=-\\int \\mathrm dx\\ \\delta(x)f'(x)=-f'(0),\n",
    "\\label{_auto9} \\tag{9}\n",
    "\\end{equation}\n",
    "$$"
   ]
  },
  {
   "cell_type": "markdown",
   "metadata": {},
   "source": [
    "<!-- Equation labels as ordinary links -->\n",
    "<div id=\"_auto10\"></div>\n",
    "\n",
    "$$\n",
    "\\begin{equation} \n",
    "    \\int \\mathrm dx\\ \\delta''(x)f(x)=\\int \\mathrm dx\\ \\delta(x)f''(x)=f''(0),\n",
    "\\label{_auto10} \\tag{10}\n",
    "\\end{equation}\n",
    "$$"
   ]
  },
  {
   "cell_type": "markdown",
   "metadata": {},
   "source": [
    "<!-- Equation labels as ordinary links -->\n",
    "<div id=\"eq:tredje\"></div>\n",
    "\n",
    "$$\n",
    "\\begin{equation} \n",
    "    \\int \\mathrm dx\\ \\delta'''(x)f(x)=-\\int \\mathrm dx\\ \\delta(x)f'''(x)=-f'''(0).\n",
    "\\label{eq:tredje} \\tag{11}\n",
    "\\end{equation}\n",
    "$$"
   ]
  },
  {
   "cell_type": "markdown",
   "metadata": {},
   "source": [
    "### Explicit integrering\n",
    "\n",
    "Låt oss visa detta explicit för de två distributionerna som betraktas här. För en godtycklig slät funktion $f(x)$ kan vi Taylorutveckla:"
   ]
  },
  {
   "cell_type": "markdown",
   "metadata": {},
   "source": [
    "<!-- Equation labels as ordinary links -->\n",
    "<div id=\"_auto11\"></div>\n",
    "\n",
    "$$\n",
    "\\begin{equation}\n",
    "    f(\\epsilon)\\approx f(0)+f'(0)x+\\frac12f''(0)x^2+\\frac16f'''(0)x^3+\\ldots.\n",
    "\\label{_auto11} \\tag{12}\n",
    "\\end{equation}\n",
    "$$"
   ]
  },
  {
   "cell_type": "markdown",
   "metadata": {},
   "source": [
    "I båda fallen ovan är $h_\\epsilon(x)$ en jämn funktion, så alla termer av typen $x^{2n+1}h_\\epsilon(x)$, $n\\in\\mathbb Z$ integreras till noll. \n",
    "\n",
    "Vi börjar titta på den Gaussiska approximationen. Inför notationen $f^{(n)}(0)\\equiv f^{(n)}_0$. För förstaderivatan får vi följande genom att utföra integralerna (se formelsamling) eller genom att partialintegrera upprepade gånger,"
   ]
  },
  {
   "cell_type": "markdown",
   "metadata": {},
   "source": [
    "$$\n",
    "\\int\\mathrm dx\\ f(x)h'_\\epsilon(x)\\approx-\\frac{2}{\\epsilon^2}\\int\\mathrm dx\\ xh_\\epsilon(x)\\left[f'_0x+\\frac16f'''_0x^3+\\ldots\\right] \\nonumber\n",
    "$$"
   ]
  },
  {
   "cell_type": "markdown",
   "metadata": {},
   "source": [
    "<!-- Equation labels as ordinary links -->\n",
    "<div id=\"_auto12\"></div>\n",
    "\n",
    "$$\n",
    "\\begin{equation} \n",
    "    =-f'_0-\\frac14f'''_0\\epsilon^2+\\ldots.\n",
    "\\label{_auto12} \\tag{13}\n",
    "\\end{equation}\n",
    "$$"
   ]
  },
  {
   "cell_type": "markdown",
   "metadata": {},
   "source": [
    "Det är lätt att inse att alla termer som innehåller högre ordningens derivator  av $f(x)$ kommer vara proportionella mot $\\epsilon$, och gå mot noll. Kvar finns bara den väntade $-f'(0)$.\n",
    "\n",
    "På samma sätt studerar vi integralen över andraderivatan:"
   ]
  },
  {
   "cell_type": "markdown",
   "metadata": {},
   "source": [
    "$$\n",
    "\\int\\mathrm dx\\ f(x)h''_\\epsilon(x)\\approx\\int\\mathrm dx\\ \\frac{4x^2-2\\epsilon^2}{\\epsilon^4}h_\\epsilon(x)\\left[f_0+\\frac12f''_0x^2+\\ldots\\right] \\nonumber\n",
    "$$"
   ]
  },
  {
   "cell_type": "markdown",
   "metadata": {},
   "source": [
    "<!-- Equation labels as ordinary links -->\n",
    "<div id=\"_auto13\"></div>\n",
    "\n",
    "$$\n",
    "\\begin{equation} \n",
    "    =\\frac{2-2}{\\epsilon^2}f(0)+\\frac{3-1}2f''_0 + \\epsilon^2 [\\ldots].\n",
    "\\label{_auto13} \\tag{14}\n",
    "\\end{equation}\n",
    "$$"
   ]
  },
  {
   "cell_type": "markdown",
   "metadata": {},
   "source": [
    "De högre ordningens termer kommer återigen vara proprotionella mot $\\epsilon$, och försvinner när gränsvärdet tas, vilket resulterar i att bara $f''(0)$ finns kvar.\n",
    "\n",
    "Vi övergår nu till att studera den Lorentzianska approximationen. På samma sätt som ovan får vi för förstaderivatan"
   ]
  },
  {
   "cell_type": "markdown",
   "metadata": {},
   "source": [
    "$$\n",
    "\\begin{gather}\n",
    "    \\int\\mathrm dx\\ f(x)h'_\\epsilon(x)\\approx-\\int\\mathrm dx\\ \\frac{2 x}{x^2+\\epsilon^2}h_\\epsilon(x)\\left[f'_0x+\\frac16f'''_0x^3+\\ldots\\right] \\nonumber\\\\\n",
    "    =-f'_0-\\frac\\epsilon{3\\pi}\\left[x+\\frac{\\epsilon^2x}{2\\epsilon^2+2x^2}-\\frac{3\\epsilon}2\\tan^{-1}\\frac x\\epsilon\\right]_{-\\infty}^\\infty+\\ldots.\n",
    "\\end{gather}\n",
    "$$"
   ]
  },
  {
   "cell_type": "markdown",
   "metadata": {},
   "source": [
    "Eftersom att $x$ här är en integrationsvariabel har den inget konstigt för sig, utan går linjärt mot oändligheten. I gränsen $\\epsilon\\rightarrow 0$ går därför de högre ordningens termer mot noll, och vi får igen det väntade resultatet. \n",
    "\n",
    "För andraderivatan får vi"
   ]
  },
  {
   "cell_type": "markdown",
   "metadata": {},
   "source": [
    "$$\n",
    "\\begin{gather}\n",
    "    \\int\\mathrm dx\\ f(x)h''_\\epsilon(x)\\approx\\int\\mathrm dx\\ \\frac{6x^2-2\\epsilon^2}{\\left(x^2+\\epsilon^2\\right)^2}h_\\epsilon(x)\\left[f_0+\\frac12f''_0x^2+\\ldots\\right] \\nonumber\\\\\n",
    "    =\\frac{3-3}{4\\epsilon^2}f(0)+\\frac{9-1}8f''_0 + \\epsilon [\\ldots]\n",
    "\\end{gather}\n",
    "$$"
   ]
  },
  {
   "cell_type": "markdown",
   "metadata": {},
   "source": [
    "där alltså högre ordningens termer är proportionella mot $\\epsilon$.\n",
    "\n",
    "Att bevisa ekvation ([eq:tredje](#eq:tredje)) för de båda fallen av $h_\\epsilon(x)$ lämnas som en övning.\n",
    "\n",
    "### Resonemang utgående från funktionernas form\n",
    "\n",
    "Vi kan också resonera utgående från figurerna [fig:71](#fig:71) och [fig:71](#fig:71) varför vi får dessa resultat. För att göra detta drar vi oss först till minnes uttrycken för olika ordningars derivator i termer av finita differenser:"
   ]
  },
  {
   "cell_type": "markdown",
   "metadata": {},
   "source": [
    "<!-- Equation labels as ordinary links -->\n",
    "<div id=\"_auto14\"></div>\n",
    "\n",
    "$$\n",
    "\\begin{equation}\n",
    "f'(x) = \\lim_{\\epsilon \\to 0} \\frac{f(x+\\epsilon/2)-f(x-\\epsilon/2)}{\\epsilon} \n",
    "\\label{_auto14} \\tag{15}\n",
    "\\end{equation}\n",
    "$$"
   ]
  },
  {
   "cell_type": "markdown",
   "metadata": {},
   "source": [
    "<!-- Equation labels as ordinary links -->\n",
    "<div id=\"_auto15\"></div>\n",
    "\n",
    "$$\n",
    "\\begin{equation} \n",
    "f''(x) = \\lim_{\\epsilon \\to 0} \\frac{f(x+\\epsilon)-2f(x)+f(x-\\epsilon)}{\\epsilon^2} \n",
    "\\label{_auto15} \\tag{16}\n",
    "\\end{equation}\n",
    "$$"
   ]
  },
  {
   "cell_type": "markdown",
   "metadata": {},
   "source": [
    "<!-- Equation labels as ordinary links -->\n",
    "<div id=\"_auto16\"></div>\n",
    "\n",
    "$$\n",
    "\\begin{equation} \n",
    "f'''(x) = \\lim_{\\epsilon \\to 0} \\frac{f(x+3\\epsilon/2)-3f(x+\\epsilon/2)+3f(x-\\epsilon/2)-f(x-3\\epsilon/2)}{\\epsilon^3}.\n",
    "\\label{_auto16} \\tag{17}\n",
    "\\end{equation}\n",
    "$$"
   ]
  },
  {
   "cell_type": "markdown",
   "metadata": {},
   "source": [
    "Det är inte svårt att föreställa sig att förstaderivatorna som ritats upp i den andra raden av figur [fig:71](#fig:71) kommer att plocka upp $-f(0+\\epsilon/2)$ och $+f(0-\\epsilon/2)$. Notera också att amplituden på de två topparna är lika stor och växer som $1/\\epsilon$. Resultatet motsvarar alltså den finita differensen som definierar förstaderivatan av en funktion $f(x)$ i punkten $x=0$, fast med motsatt tecken.\n",
    "\n",
    "På liknande sätt kan vi resonera kring de högre ordningarnas derivator och jämföra figurerna med uttrycken från finita differenser. Notera speciellt den relativa storleken på de olika topparna och att amplituderna blir högre för andraderivatorna ($\\sim 1/\\epsilon^2$) och ännu högre för tredjederivatorna ($\\sim 1/\\epsilon^3$).\n",
    "\n",
    "<!-- --- end solution of exercise --- -->\n",
    "\n",
    "<!-- --- end exercise --- -->"
   ]
  }
 ],
 "metadata": {},
 "nbformat": 4,
 "nbformat_minor": 2
}
