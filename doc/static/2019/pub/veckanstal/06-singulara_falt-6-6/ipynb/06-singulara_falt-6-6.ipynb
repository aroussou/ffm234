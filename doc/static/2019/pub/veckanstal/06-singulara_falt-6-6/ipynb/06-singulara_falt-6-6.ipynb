{
 "cells": [
  {
   "cell_type": "markdown",
   "metadata": {},
   "source": [
    "<!-- dom:TITLE: FFM234, Klassisk fysik och vektorfält - Veckans tal -->\n",
    "# FFM234, Klassisk fysik och vektorfält - Veckans tal\n",
    "<!-- dom:AUTHOR: Tobias Wenger och Christian Forssén, Chalmers -->\n",
    "<!-- Author: -->  \n",
    "**Tobias Wenger och Christian Forssén, Chalmers**\n",
    "\n",
    "Date: **Aug 10, 2019**\n",
    "\n",
    "<!-- --- begin exercise --- -->\n",
    "\n",
    "## Uppgift 6.6.6\n",
    "\n",
    "Beräkna normalytintegralen av"
   ]
  },
  {
   "cell_type": "markdown",
   "metadata": {},
   "source": [
    "<!-- Equation labels as ordinary links -->\n",
    "<div id=\"_auto1\"></div>\n",
    "\n",
    "$$\n",
    "\\begin{equation}\n",
    "\\vec{F}= F_0 \\frac{a^2}{(x^2+y^2+z^2)^{3/2}} \\left[ x \\hat{x}  + y \\hat{y} \n",
    "+ \\left( z + \\frac{z}{a} \\frac{(x^2+y^2+z^2)^{3/2}}{a^2} \\right) \\hat{z} \\right ]\n",
    "\\label{_auto1} \\tag{1}\n",
    "\\end{equation}\n",
    "$$"
   ]
  },
  {
   "cell_type": "markdown",
   "metadata": {},
   "source": [
    "över ytan $S_1:\\ x^2+y^2=(z-3a)^2$, $0\\leq z\\leq 3a$. $F_0$ och $a$ är konstanter.\n",
    "\n",
    "<!-- --- begin hint in exercise --- -->\n",
    "\n",
    "**Hint.**\n",
    "* Ytan motsvarar en kon utan bottenplatta.\n",
    "\n",
    "* Skriv om fältet i sfäriska koordinater. \n",
    "\n",
    "* Den första termen av $\\vec{F}$ motsvarar en punktkälla belägen i origo.\n",
    "\n",
    "  * Ytintegralen för denna term kan räknas ut genom att beräkna vilken rymdvinkel som konen upptar sedd från punktkällan.\n",
    "\n",
    "  * Alternativt kan man sluta ytan genom en halvsfär som inkluderar punktkällan inne i volymen.\n",
    "\n",
    "  * ... eller en yta som gör att punktkällan hamnar utanför.\n",
    "\n",
    "\n",
    "* Den andra termen av $\\vec{F}$ termen är en rymdkälla med en källtäthet, $\\nabla \\cdot \\vec{F}_2$ som är enkel att räkna ut.\n",
    "\n",
    "  * Här blir det enkelt att använda Gauss sats. Men kom ihåg att sluta ytan på lämpligt sätt.\n",
    "\n",
    "\n",
    "<!-- --- end hint in exercise --- -->\n",
    "\n",
    "\n",
    "<!-- --- begin answer of exercise --- -->\n",
    "**Answer.**\n",
    "$\\int_{S_1} \\vec{F} \\cdot \\mbox{d}\\vec{S} = 11 \\pi F_0 a^2$\n",
    "\n",
    "<!-- --- end answer of exercise --- -->\n",
    "\n",
    "\n",
    "<!-- --- begin solution of exercise --- -->\n",
    "**Solution.**\n",
    "Det vi ska räkna ut är normalytintegralen över $S_1$, dvs"
   ]
  },
  {
   "cell_type": "markdown",
   "metadata": {},
   "source": [
    "<!-- Equation labels as ordinary links -->\n",
    "<div id=\"_auto2\"></div>\n",
    "\n",
    "$$\n",
    "\\begin{equation}\n",
    "\\int_{S_1}\\ d\\vec{S}\\cdot \\vec{F}\n",
    "\\label{_auto2} \\tag{2}\n",
    "\\end{equation}\n",
    "$$"
   ]
  },
  {
   "cell_type": "markdown",
   "metadata": {},
   "source": [
    "Detta kan så klart lösas genom att hitta en normalvektor till ytan, sedan hitta en parametrisering till konen och utföra den resulterande integralen. Man ska dock ha i ryggraden att man kan använda Gauss sats istället, det finns ingen garanti att det blir enklare men det är ofta värt att tänka på det.\n",
    "\n",
    "Vi använder oss därför av den generella lösningsstrategin för Gauss sats:\n",
    "\n",
    "1. Bestäm utseendet på ytan $S$ och rita en tydlig figur.\n",
    "\n",
    "2. Undersök fältet $\\vec{F}$. Singulariteter? Beräkna $\\nabla \\cdot \\vec{F}$.\n",
    "\n",
    "3. Slut ytan $S$. Undvik singulariteter inuti den inneslutna volymen.\n",
    "\n",
    "4. Teckna Gauss sats och beräkna integralen.\n",
    "\n",
    "5. Har normalen rätt riktning?\n",
    "\n",
    "Vi känner igen ytan $S_1$ som en kon. Här kan man tänka på konen som sammansatt av många cirklar vars radie bestäms av var i $z-$led man befinner sig. I $z=3a$ ser man att radien på cirkeln blir noll, detta är således spetsen av konen. I $z=0$ ser vi att cirkeln har radien $3a$. Vi börjar med att rita upp ytan $S_1$, den visas i figur [fig:cone](#fig:cone). \n",
    "\n",
    "<!-- dom:FIGURE:[cone.png, width=600 frac=0.8] Ytan $S_1$ uppritad. <div id=\"fig:cone\"></div> -->\n",
    "<!-- begin figure -->\n",
    "<div id=\"fig:cone\"></div>\n",
    "\n",
    "<p>Ytan $S_1$ uppritad.</p>\n",
    "<img src=\"cone.png\" width=600>\n",
    "\n",
    "<!-- end figure -->\n",
    "\n",
    "\n",
    "* Undersök fältet $\\vec{F}$. Singulariteter? Beräkna $\\nabla \\cdot \\vec{F}$.\n",
    "\n",
    "Ska man använda Gauss sats så är det viktigt att man behandlar singulära delar av fältet korrekt, dvs identifiera *källtermer* som är inneslutna innanför ytan. När man separerat de singulära delarna av fältet så kan man sen beräkna divergensen och utföra volymsintegralen. Vi skriver fältet $\\vec{F}$ som två olika fält"
   ]
  },
  {
   "cell_type": "markdown",
   "metadata": {},
   "source": [
    "<!-- Equation labels as ordinary links -->\n",
    "<div id=\"_auto3\"></div>\n",
    "\n",
    "$$\n",
    "\\begin{equation}\n",
    "\\vec{F}=\\vec{F_1}+\\vec{F_2}\n",
    "\\label{_auto3} \\tag{3}\n",
    "\\end{equation}\n",
    "$$"
   ]
  },
  {
   "cell_type": "markdown",
   "metadata": {},
   "source": [
    "där"
   ]
  },
  {
   "cell_type": "markdown",
   "metadata": {},
   "source": [
    "<!-- Equation labels as ordinary links -->\n",
    "<div id=\"_auto4\"></div>\n",
    "\n",
    "$$\n",
    "\\begin{equation}\n",
    "\\vec{F_1}= F_0 \\frac{a^2}{(x^2+y^2+z^2)^{3/2}} \\left( x,y,z \\right ) = F_0 a^2 \\frac{\\hat{r}}{r^2}\n",
    "\\label{_auto4} \\tag{4}\n",
    "\\end{equation}\n",
    "$$"
   ]
  },
  {
   "cell_type": "markdown",
   "metadata": {},
   "source": [
    "<!-- Equation labels as ordinary links -->\n",
    "<div id=\"_auto5\"></div>\n",
    "\n",
    "$$\n",
    "\\begin{equation} \n",
    "\\vec{F_2}= F_0 \\frac{z}{a}\\hat{z}\n",
    "\\label{_auto5} \\tag{5}\n",
    "\\end{equation}\n",
    "$$"
   ]
  },
  {
   "cell_type": "markdown",
   "metadata": {},
   "source": [
    "För att skriva om fältet $\\vec{F}_1$ till sfäriska kordinater har vi använt oss av att"
   ]
  },
  {
   "cell_type": "markdown",
   "metadata": {},
   "source": [
    "<!-- Equation labels as ordinary links -->\n",
    "<div id=\"_auto6\"></div>\n",
    "\n",
    "$$\n",
    "\\begin{equation}\n",
    "x\\hat{x}+y\\hat{y}+z\\hat{z} = r\\hat{r}\n",
    "\\label{_auto6} \\tag{6}\n",
    "\\end{equation}\n",
    "$$"
   ]
  },
  {
   "cell_type": "markdown",
   "metadata": {},
   "source": [
    "<!-- Equation labels as ordinary links -->\n",
    "<div id=\"_auto7\"></div>\n",
    "\n",
    "$$\n",
    "\\begin{equation} \n",
    "\\sqrt{x^2+y^2+z^2}=r\n",
    "\\label{_auto7} \\tag{7}\n",
    "\\end{equation}\n",
    "$$"
   ]
  },
  {
   "cell_type": "markdown",
   "metadata": {},
   "source": [
    "Vi känner nu igen fältet $\\vec{F}_1$ som fältet från en punktkälla i origo. Styrkan hos punktkällan är $4\\pi F_0 a^2$. \n",
    "\n",
    "Fältet $\\vec{F}_2$ motsvarar en rymdkälla med konstant källtäthet"
   ]
  },
  {
   "cell_type": "markdown",
   "metadata": {},
   "source": [
    "<!-- Equation labels as ordinary links -->\n",
    "<div id=\"_auto8\"></div>\n",
    "\n",
    "$$\n",
    "\\begin{equation}\n",
    "\\nabla \\cdot \\vec{F_2} = F_0 \\partial_z \\frac{z}{a} = \\frac{F_0}{a}.\n",
    "\\label{_auto8} \\tag{8}\n",
    "\\end{equation}\n",
    "$$"
   ]
  },
  {
   "cell_type": "markdown",
   "metadata": {},
   "source": [
    "* Slut ytan $S$. Undvik singulariteter inuti den inneslutna volymen.\n",
    "\n",
    "Gauss sats lyder"
   ]
  },
  {
   "cell_type": "markdown",
   "metadata": {},
   "source": [
    "<!-- Equation labels as ordinary links -->\n",
    "<div id=\"_auto9\"></div>\n",
    "\n",
    "$$\n",
    "\\begin{equation}\n",
    "\\int_{S}\\ \\vec{F} \\cdot d\\vec{S} = \\int_{V}\\ \\nabla \\cdot \\vec{F} dV\n",
    "\\label{_auto9} \\tag{9}\n",
    "\\end{equation}\n",
    "$$"
   ]
  },
  {
   "cell_type": "markdown",
   "metadata": {},
   "source": [
    "och det är viktigt att tänka på att $S=\\partial V$, dvs ytan $S$ är randen till volymen $V$. Det betyder att $S$ måste vara en sluten yta (hur kan den annars vara randen till en volym?). Det betyder att för att kunna använda Gauss sats för denna uppgiften måste vi sluta konen. Det mest uppenbara sättet att sluta ytan är att lägga till en bottenplatta till konen. \\footnote{Vi kan såklart sluta yan med något annat än en bottenplatta om vi vill. Tex kunde vi ta en halsvsfär och Gauss sats fungerar. Men för att det ska vara lönt att använda Gauss sats är det viktigt att den ytan vi lägger till är enklare att integrera över än originalytan.}\n",
    "\n",
    "Bottenplattan motsvarar alltså cirkeln som konen ligger på i $x,y$ planet. Vi kallar denna ytan $S_2$ och skriver den som $S_2:\\ x^2+y^2\\leq (3a)^2$. \n",
    "\n",
    "Vi har dock ett litet problem nu: Punktkällan ligger mitt i bottenplattan, dvs på ytan. Hur ska man tänka nu? Vi kommer att illustrera *tre* olika sätt att hantera denna punktkälla. \n",
    "1. Slut istället ytan på ett annat sätt så att punktkällan hamnar helt utanför.\n",
    "\n",
    "2. Slut istället ytan på ett annat sätt så att punktkällan hamnar helt innanför.\n",
    "\n",
    "3. Beräkna bidraget från punktkällan genom att räkna ut rymdvinkeln som konen upptar.\n",
    "\n",
    "Alla tre metoderna kommer givetvis att ge samma svar. \n",
    "\n",
    "För att följa alt. 1 inför vi en halvsfär upp i det övre halvplanet med centrum i origo. Halvsfärens radie kallar vi $\\epsilon$ och låter denna vara liten så att halvsfärens yta inte skär konens mantelyta. Denna nya yta kallar vi $S^+_\\epsilon$. Tillsammans med $S_1$ och den modifierade bottenplattan $S_{2-\\epsilon}$ bildas en sluten yta som *inte* kommer att innesluta punktkällan i volymen. \n",
    "\n",
    "För att följa alt. 2 så sluter vi t.ex. ytan med en halvsfär ned i det nedre halvplanet med centrum i origo. Här kan vi låta radien vara lika med $3a$ så att vi direkt får en sluten yta av $S_1 + S^-_{3a}$ som omsluter punktkällan, där $S^-_{3a}$ är den införda halvsfärens yta.\n",
    "\n",
    "För att följa alt. 3 handlar det bara om att beräkna hur stor rymdvinkel som konen upptar sedd från punktkällan. Se mer nedan.\n",
    "\n",
    "* Teckna Gauss sats och beräkna integralen.\n",
    "\n",
    "Vi börjar med det oproblematiska bidraget från $\\vec{F}_2$ med den sökta ytintegralen"
   ]
  },
  {
   "cell_type": "markdown",
   "metadata": {},
   "source": [
    "<!-- Equation labels as ordinary links -->\n",
    "<div id=\"_auto10\"></div>\n",
    "\n",
    "$$\n",
    "\\begin{equation}\n",
    "I_2 \\equiv \\int_{S_1} \\vec{F}_2 \\cdot d\\vec{S}\n",
    "\\label{_auto10} \\tag{10}\n",
    "\\end{equation}\n",
    "$$"
   ]
  },
  {
   "cell_type": "markdown",
   "metadata": {},
   "source": [
    "Vi använder den slutna ytan $S_1+S_2$ som vi kan använda i Gauss sats"
   ]
  },
  {
   "cell_type": "markdown",
   "metadata": {},
   "source": [
    "<!-- Equation labels as ordinary links -->\n",
    "<div id=\"_auto11\"></div>\n",
    "\n",
    "$$\n",
    "\\begin{equation}\n",
    "\\int_{S_1+S_2} \\vec{F}_2 \\cdot d\\vec{S} = \\int_V \\nabla \\cdot \\vec{F}_2 dV \n",
    "\\label{_auto11} \\tag{11}\n",
    "\\end{equation}\n",
    "$$"
   ]
  },
  {
   "cell_type": "markdown",
   "metadata": {},
   "source": [
    "Vi bollar över integralen över $S_2$ till andra sidan av likheten och får"
   ]
  },
  {
   "cell_type": "markdown",
   "metadata": {},
   "source": [
    "<!-- Equation labels as ordinary links -->\n",
    "<div id=\"eq:GaussTot\"></div>\n",
    "\n",
    "$$\n",
    "\\begin{equation}\n",
    "\\label{eq:GaussTot} \\tag{12}\n",
    "\\int_{S_1} \\vec{F}_2 \\cdot d\\vec{S} = \\int_V \\nabla \\cdot \\vec{F}_2 dV - \\int_{S_2} \\vec{F}_2 \\cdot d\\vec{S}\n",
    "\\end{equation}\n",
    "$$"
   ]
  },
  {
   "cell_type": "markdown",
   "metadata": {},
   "source": [
    "där den ytintgral som uppgiften ber oss beräkna nu står i vänsterledet. Vi ser att det var viktigt att sluta ytan då vi nu har en extra term att dra bort från värdet av volymsintegralen. Nyttan med Gauss sats är som störst när divergensen är simpel och normalytintegralen över bottenplattan (eller vilken annan del man slutit sin yta med) är simpel.\n",
    "\n",
    "Divergensen för $\\vec{F}_2$ räknade vi ut ovan och vi får"
   ]
  },
  {
   "cell_type": "markdown",
   "metadata": {},
   "source": [
    "<!-- Equation labels as ordinary links -->\n",
    "<div id=\"_auto12\"></div>\n",
    "\n",
    "$$\n",
    "\\begin{equation}\n",
    "\\int_V \\nabla \\cdot \\vec{F_2} dV = \\frac{F_0}{a} \\int_V dV = F_0 \\pi (3a)^2\n",
    "\\label{_auto12} \\tag{13}\n",
    "\\end{equation}\n",
    "$$"
   ]
  },
  {
   "cell_type": "markdown",
   "metadata": {},
   "source": [
    "där vi i det sista steget använt att volymen av en kon är $V=\\pi r^2 h/3$ där $r$ är basradien och $h$ är höjden. \n",
    "\n",
    "Vi behöver nu ytintegralen över bottenlattan kvar enligt ekv. ([eq:GaussTot](#eq:GaussTot)). Det är viktigt att notera att bottenplattans normalvektor pekar ut från den inneslutna volymen, dvs nedåt. Vi ska alltså beräkna"
   ]
  },
  {
   "cell_type": "markdown",
   "metadata": {},
   "source": [
    "<!-- Equation labels as ordinary links -->\n",
    "<div id=\"_auto13\"></div>\n",
    "\n",
    "$$\n",
    "\\begin{equation}\n",
    "\\int_{S_2} \\vec{F_2} \\cdot d\\vec{S} = -\\int_{S_2} \\vec{F_2} \\cdot \\hat{z} dS= -\\int_{S_2} F_0\\frac{z}{a}\\hat{z} \\cdot \\hat{z} dS\n",
    "\\label{_auto13} \\tag{14}\n",
    "\\end{equation}\n",
    "$$"
   ]
  },
  {
   "cell_type": "markdown",
   "metadata": {},
   "source": [
    "eftersom $z=0$ på $S_2$ så integralen över $\\vec{F}_2$ på bottenplattan är noll. Vi har alltså att"
   ]
  },
  {
   "cell_type": "markdown",
   "metadata": {},
   "source": [
    "<!-- Equation labels as ordinary links -->\n",
    "<div id=\"_auto14\"></div>\n",
    "\n",
    "$$\n",
    "\\begin{equation}\n",
    "I_2 = F_0 \\pi (3a)^2\n",
    "\\label{_auto14} \\tag{15}\n",
    "\\end{equation}\n",
    "$$"
   ]
  },
  {
   "cell_type": "markdown",
   "metadata": {},
   "source": [
    "Återstår integralen över $\\vec{F}_1$. Enligt alt. 1 blir"
   ]
  },
  {
   "cell_type": "markdown",
   "metadata": {},
   "source": [
    "<!-- Equation labels as ordinary links -->\n",
    "<div id=\"eq:GaussTot2\"></div>\n",
    "\n",
    "$$\n",
    "\\begin{equation}\n",
    "\\label{eq:GaussTot2} \\tag{16}\n",
    "I_1 = \\int_{S_1} \\vec{F}_1 \\cdot d\\vec{S} = \\int_{V_1} \\nabla \\cdot \\vec{F}_1 dV - \\int_{S_{2-\\epsilon}} \\vec{F}_1 \\cdot d\\vec{S} - \\int_{S^+_{\\epsilon}} \\vec{F}_1 \\cdot d\\vec{S}.\n",
    "\\end{equation}\n",
    "$$"
   ]
  },
  {
   "cell_type": "markdown",
   "metadata": {},
   "source": [
    "Volymsintegralen görs här över en volym som inte inkluderar punktkällan. Den blir därför noll (divergensen $\\nabla \\cdot \\vec{F}_1=0$ i hela denna volym). Ytintegralen över bottenplattan $S_{2-\\epsilon}$ blir också noll eftersom fältets riktning $\\hat{r}$ är vinkelrät mot ytans normalriktning. På denna yta ligger ju $\\hat{r}$ alltid i $xy$ planet. Slutligen har vi integralen över halvsfären. Normalen måste här vara riktad i negativ $\\hat{r}$-led för att peka ut från volymen"
   ]
  },
  {
   "cell_type": "markdown",
   "metadata": {},
   "source": [
    "<!-- Equation labels as ordinary links -->\n",
    "<div id=\"_auto15\"></div>\n",
    "\n",
    "$$\n",
    "\\begin{equation}\n",
    "\\int_{S^+_{\\epsilon}} \\vec{F_1} \\cdot d\\vec{S} = \\int_{S^+_{\\epsilon}} F_0 a^2 \\frac{\\hat{r}}{\\epsilon^2} \\cdot (-\\hat{r}) \\epsilon^2 \\sin\\theta \\mbox{d}\\theta \\mbox{d}\\phi= -F_0 a^2 2\\pi \n",
    "\\label{_auto15} \\tag{17}\n",
    "\\end{equation}\n",
    "$$"
   ]
  },
  {
   "cell_type": "markdown",
   "metadata": {},
   "source": [
    "Slutligen får vi alltså $I_1 = 0 - 0 - (-F_0 a^2 2\\pi ) = F_0 a^2 2\\pi$.\n",
    "\n",
    "Med alt. 2 har vi att"
   ]
  },
  {
   "cell_type": "markdown",
   "metadata": {},
   "source": [
    "<!-- Equation labels as ordinary links -->\n",
    "<div id=\"eq:GaussTot3\"></div>\n",
    "\n",
    "$$\n",
    "\\begin{equation}\n",
    "\\label{eq:GaussTot3} \\tag{18}\n",
    "I_1 = \\int_{S_1} \\vec{F}_1 \\cdot d\\vec{S} = \\int_{V_2} \\nabla \\cdot \\vec{F}_1 dV - \\int_{S^-_{3a}} \\vec{F}_1 \\cdot d\\vec{S}.\n",
    "\\end{equation}\n",
    "$$"
   ]
  },
  {
   "cell_type": "markdown",
   "metadata": {},
   "source": [
    "Nu kommer volymen $V_2$ att innesluta punktkällan och bidraget från denna term blir lika med punktkällans styrka: $F_0 a^2 4\\pi$. Ytintegralen över $S^-_{3a}$ göra på precis samma sätt som ovan, men vi skall nu notera att normalriktningen pekar i positiv $\\hat{r}$-led för att peka ut från volymen. Bidraget blir $F_0 a^2 2\\pi$. Slutligen ger alltså denna metod att $I_1 = F_0 a^2 4\\pi - F_0 a^2 2\\pi = F_0 a^2 2\\pi$, precis som alt. 1 ovan.\n",
    "\n",
    "Enligt alt. 3 hade vi direkt kunnat räkna ut ytintegralen över konens mantelyta med Cederwall ekv. 6.7. Sett från punktkällan i origo upptar konens mantelyta en rymdvinkel $2\\pi$. Det totala bidraget blir därför $(2\\pi)/(4\\pi) = 1/2$ av punktkällans styrka. Dvs vi får $I_1 = (F_0 a^2 4\\pi)/2 = F_0 a^2 2\\pi$. Givetvis samma resultat som med alt. 1 och 2.\n",
    "\n",
    "Nu kombinerar vi ihop våra delresultat"
   ]
  },
  {
   "cell_type": "markdown",
   "metadata": {},
   "source": [
    "<!-- Equation labels as ordinary links -->\n",
    "<div id=\"_auto16\"></div>\n",
    "\n",
    "$$\n",
    "\\begin{equation}\n",
    "\\int_{S_1} \\vec{F} \\cdot d\\vec{S} = I_1 + I_2 = F_0 a^2 2\\pi + F_0 \\pi (3a)^2 = F_0 \\pi 11 a^2\n",
    "\\label{_auto16} \\tag{19}\n",
    "\\end{equation}\n",
    "$$"
   ]
  },
  {
   "cell_type": "markdown",
   "metadata": {},
   "source": [
    "* Har normalen rätt riktning?\n",
    "\n",
    "Kontrollera gärna en gång till att ytnormalerna i de ytintegraler som ger nollskilda bidrag har rätt bidrag. Detta gäller i synnerhet de två halvsfärer som vi införde för att räkna ut $I_1$ enligt alt. 1 och alt. 2.\n",
    "\n",
    "Svaret på uppgiften är alltså $11\\pi F_0 a^2$.\n",
    "\n",
    "Kontrollera också dimensionen på svaret. Vårt fält har dimensionen $[F_0]$ och ytintegralen skall därför ha dimensionen $[F_0]$*area, vilket verkar stämma.\n",
    "\n",
    "<!-- --- end solution of exercise --- -->\n",
    "\n",
    "<!-- Closing remarks for this Exercise -->\n",
    "\n",
    "### Remarks\n",
    "\n",
    "Uppgiften illustrerar olika sätt att hantera en singularitet som hamnar på randen till en volym.\n",
    "\n",
    "Det är värt att notera att den här uppgiften innehåller ett icke-standard moment som utgörs av att punktkällan ligger på den bottenyta som är naturlig att sluta ytan med. \n",
    "\n",
    "Notera att vi i slutändan fick precis halva styrkan \n",
    "av punktkällan som bidrag oavsett vilken metod vi använde för att hantera den. Det betyder att det kanske enklaste sättet att se detta på är att punktkällan strålar \n",
    "halva sitt bidrag in mot konen $S_1$ i detta fallet, dvs man tänker som i \n",
    "metod 3.\n",
    "\n",
    "\n",
    "<!-- --- end exercise --- -->"
   ]
  }
 ],
 "metadata": {},
 "nbformat": 4,
 "nbformat_minor": 2
}
