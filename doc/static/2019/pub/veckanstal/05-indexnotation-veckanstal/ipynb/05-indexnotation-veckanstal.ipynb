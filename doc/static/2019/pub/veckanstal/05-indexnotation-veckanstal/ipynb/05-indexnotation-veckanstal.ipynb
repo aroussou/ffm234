{
 "cells": [
  {
   "cell_type": "markdown",
   "metadata": {},
   "source": [
    "<!-- dom:TITLE: FFM234, Klassisk fysik och vektorfält - Veckans tal -->\n",
    "# FFM234, Klassisk fysik och vektorfält - Veckans tal\n",
    "<!-- dom:AUTHOR: [Christian Forssén](http://fy.chalmers.se/subatom/tsp/), Institutionen för  fysik, Chalmers -->\n",
    "<!-- Author: -->  \n",
    "**[Christian Forssén](http://fy.chalmers.se/subatom/tsp/), Institutionen för  fysik, Chalmers**\n",
    "\n",
    "Date: **Aug 10, 2019**\n",
    "\n",
    "Här följer ledtrådar till två roliga, men kluriga, uppgifter från kapitel 5: Indexnotation.\n",
    "\n",
    "\n",
    "\n",
    "<!-- --- begin exercise --- -->\n",
    "\n",
    "## 5.5.10\n",
    "\n",
    "Bevisa den Stokes-analoga satsen"
   ]
  },
  {
   "cell_type": "markdown",
   "metadata": {},
   "source": [
    "$$\n",
    "\\oint\\limits_{\\partial S}d\\vec{r}\\times\\vec v\n",
    "       =\\int_S(d\\vec S\\times\\vec{\\nabla})\\times\\vec v.\n",
    "$$"
   ]
  },
  {
   "cell_type": "markdown",
   "metadata": {},
   "source": [
    "Visa att ett val\n",
    "av ytan $S$ i $xy$-planet reproducerar Greens formel.\n",
    "\n",
    "<!-- --- begin hint in exercise --- -->\n",
    "\n",
    "**Hint.**\n",
    "* Bilda ett vektorfält $\\vec{F} = \\vec{a} \\times \\vec{v}$, där $\\vec{a}$ är ett godtyckligt, men konstant vektorfält. \n",
    "\n",
    "* Teckna Stokes sats för detta nya vektorfält $\\vec{F}$. Målet är sedan att skriva både VL och HL av Stokes sats som $\\vec{a}$ gånger en integral. För att nå dit får man skriva om några kryssprodukter för vilket man med fördel kan använda indexformalism.\n",
    "\n",
    "* Målet är alltså att komma fram till att\n",
    "\n",
    "$$\n",
    "-\\vec{a} \\cdot \\oint\\limits_{\\partial S}d\\vec{r}\\times\\vec v = -\\vec{a} \\cdot \\int_S(d\\vec S\\times\\vec{\\nabla})\\times\\vec v.\n",
    "$$\n",
    "* Eftersom det sambandet skall gälla för godtyckligt fält $\\vec{a}$ så måste integralerna vara lika.\n",
    "\n",
    "<!-- --- end hint in exercise --- -->\n",
    "\n",
    "<!-- --- end exercise --- -->\n",
    "\n",
    "\n",
    "\n",
    "\n",
    "<!-- --- begin exercise --- -->\n",
    "\n",
    "## 5.5.11\n",
    "\n",
    "Visa att arean av en plan yta omsluten av en kurva $C$ är"
   ]
  },
  {
   "cell_type": "markdown",
   "metadata": {},
   "source": [
    "$$\n",
    "A=\\frac{1}{2} \\left| \\,\\oint\\limits_C\\vec{r}\\times d\\vec{r}\\, \\right|.\n",
    "$$"
   ]
  },
  {
   "cell_type": "markdown",
   "metadata": {},
   "source": [
    "<!-- --- begin hint in exercise --- -->\n",
    "\n",
    "**Hint.**\n",
    "* Lägg ett koordinatsystem så att den plana ytan ligger i $xy$-planet.\n",
    "\n",
    "* Notera sedan att $\\vec{r}\\times d\\vec{r}$ är en vektor som pekar i $z$-riktningen. Eftersom vi skall ha absolutvärdet av integralen kan vi få fram vektorns enda komponent genom att skalärmultiplicera med $\\hat{z}$.\n",
    "\n",
    "* Notera att $\\vec{z} \\cdot (\\vec{r}\\times d\\vec{r}) = d\\vec{r} \\cdot (\\hat{z} \\times \\vec{r})$.\n",
    "\n",
    "* Då kommer man till en punkt där man kan utnyttja Stokes sats. \n",
    "\n",
    "* Sedan får man utnyttja indexformalism för att skriva om den dubbla kryssprodukten. Notera att vektorn $\\hat{z}$ kan skrivas som $\\delta_{3l}$ med indexformalism (detta skall ju tolkas som tre komponenter, $l=1,2,3$, där bara den tredje är nollskild och lika med 1).\n",
    "\n",
    "<!-- --- end hint in exercise --- -->\n",
    "\n",
    "<!-- --- end exercise --- -->"
   ]
  }
 ],
 "metadata": {},
 "nbformat": 4,
 "nbformat_minor": 2
}
