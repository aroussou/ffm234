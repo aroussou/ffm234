{
 "cells": [
  {
   "cell_type": "markdown",
   "metadata": {},
   "source": [
    "<!-- dom:TITLE: FFM234, Klassisk fysik och vektorfält - Veckans tal -->\n",
    "# FFM234, Klassisk fysik och vektorfält - Veckans tal\n",
    "<!-- dom:AUTHOR: Christin Rhen och Christian Forssén, Institutionen för  fysik, Chalmers -->\n",
    "<!-- Author: -->  \n",
    "**Christin Rhen och Christian Forssén, Institutionen för  fysik, Chalmers**\n",
    "\n",
    "Date: **Aug 10, 2019**\n",
    "\n",
    "<!-- --- begin exercise --- -->\n",
    "\n",
    "## Uppgift 2.4.14\n",
    "<div id=\"problem:2.14\"></div>\n",
    "\n",
    "Ett kroklinjigt koordinatsystem $u,v,w$ ges av sambanden"
   ]
  },
  {
   "cell_type": "markdown",
   "metadata": {},
   "source": [
    "$$\n",
    "u=r(1-\\cos\\theta),\\nonumber\n",
    "$$"
   ]
  },
  {
   "cell_type": "markdown",
   "metadata": {},
   "source": [
    "<!-- Equation labels as ordinary links -->\n",
    "<div id=\"uvw\"></div>\n",
    "\n",
    "$$\n",
    "\\begin{equation} \n",
    "    v=r(1+\\cos\\theta),\\label{uvw} \\tag{1}\n",
    "\\end{equation}\n",
    "$$"
   ]
  },
  {
   "cell_type": "markdown",
   "metadata": {},
   "source": [
    "$$\n",
    "w=\\varphi,\\nonumber\n",
    "$$"
   ]
  },
  {
   "cell_type": "markdown",
   "metadata": {},
   "source": [
    "där $r,\\theta,\\varphi$ är sfäriska koordinater. Visa att systemet är ortogonalt och beräkna dess skalfaktorer. Hur ser gradientoperatorn $\\nabla$ och ortvektorn $\\vec r$ ut i $u,v,w$-systemet?\n",
    "\n",
    "\n",
    "<!-- --- begin answer of exercise --- -->\n",
    "**Answer.**\n",
    "Skalfaktorer:"
   ]
  },
  {
   "cell_type": "markdown",
   "metadata": {},
   "source": [
    "$$\n",
    "\\begin{align*}\n",
    "h_u  &=  \\frac{1}{2} \\sqrt{\\frac{u+v}{u}} \\\\\n",
    "h_v  &=  \\frac{1}{2} \\sqrt{\\frac{u+v}{v}} \\\\\n",
    "h_w  &=  \\sqrt{uv}\n",
    "\\end{align*}\n",
    "$$"
   ]
  },
  {
   "cell_type": "markdown",
   "metadata": {},
   "source": [
    "Gradient:"
   ]
  },
  {
   "cell_type": "markdown",
   "metadata": {},
   "source": [
    "$$\n",
    "\\nabla = \\frac{2}{\\sqrt{u+v}}\\left(\\sqrt{u} \\hat u\n",
    "\\frac{\\partial}{\\partial u} + \\sqrt{v} \\hat v\n",
    "\\frac{\\partial}{\\partial v}\\right) + \\frac{1}{\\sqrt{uv}} \\hat w\n",
    "\\frac{\\partial}{\\partial w}\n",
    "$$"
   ]
  },
  {
   "cell_type": "markdown",
   "metadata": {},
   "source": [
    "Ortsvektor:"
   ]
  },
  {
   "cell_type": "markdown",
   "metadata": {},
   "source": [
    "$$\n",
    "\\vec{r} = \\frac{\\sqrt{u+v}}{2}(\\sqrt{u} \\hat u + \\sqrt{v} \\hat v)\n",
    "$$"
   ]
  },
  {
   "cell_type": "markdown",
   "metadata": {},
   "source": [
    "<!-- --- end answer of exercise --- -->\n",
    "\n",
    "\n",
    "<!-- --- begin solution of exercise --- -->\n",
    "**Solution.**\n",
    "**Enhetsvektorer**\n",
    "Enhetsvektorer ges av (långt upp på sida 12 i kurskompendiet)"
   ]
  },
  {
   "cell_type": "markdown",
   "metadata": {},
   "source": [
    "<!-- Equation labels as ordinary links -->\n",
    "<div id=\"eq:ehat\"></div>\n",
    "\n",
    "$$\n",
    "\\begin{equation}\n",
    "    \\vec e_i=h_i\\nabla u_i. \n",
    "\\label{eq:ehat} \\tag{2}\n",
    "\\end{equation}\n",
    "$$"
   ]
  },
  {
   "cell_type": "markdown",
   "metadata": {},
   "source": [
    "Här är $u,v,w$ en funktion av sfäriska koordinater, så vi använder den sfäriska gradienten (kurskompendium ekvation 2.14):"
   ]
  },
  {
   "cell_type": "markdown",
   "metadata": {},
   "source": [
    "$$\n",
    "\\hat u\\propto\\nabla u= \\left(\\hat r\\frac{\\partial}{\\partial r}+\\hat\\theta\\frac 1r\\frac{\\partial}{\\partial \\theta}+\\hat\\varphi\\frac1{r\\sin\\theta}\\frac{\\partial}{\\partial \\varphi}\\right)u\\nonumber\n",
    "$$"
   ]
  },
  {
   "cell_type": "markdown",
   "metadata": {},
   "source": [
    "<!-- Equation labels as ordinary links -->\n",
    "<div id=\"_auto1\"></div>\n",
    "\n",
    "$$\n",
    "\\begin{equation} \n",
    "    =(1-\\cos\\theta)\\hat r+\\sin\\theta\\hat\\theta,\n",
    "\\label{_auto1} \\tag{3}\n",
    "\\end{equation}\n",
    "$$"
   ]
  },
  {
   "cell_type": "markdown",
   "metadata": {},
   "source": [
    "<!-- Equation labels as ordinary links -->\n",
    "<div id=\"_auto2\"></div>\n",
    "\n",
    "$$\n",
    "\\begin{equation} \n",
    "    \\hat v\\propto\\nabla v=(1+\\cos\\theta)\\hat r-\\sin\\theta\\hat\\theta,\n",
    "\\label{_auto2} \\tag{4}\n",
    "\\end{equation}\n",
    "$$"
   ]
  },
  {
   "cell_type": "markdown",
   "metadata": {},
   "source": [
    "<!-- Equation labels as ordinary links -->\n",
    "<div id=\"_auto3\"></div>\n",
    "\n",
    "$$\n",
    "\\begin{equation} \n",
    "    \\hat w\\propto\\nabla w=\\hat\\varphi\\frac1{r\\sin\\theta}.\n",
    "\\label{_auto3} \\tag{5}\n",
    "\\end{equation}\n",
    "$$"
   ]
  },
  {
   "cell_type": "markdown",
   "metadata": {},
   "source": [
    "**Ortogonalitet**\n",
    "Det är lättast att kontrollera om ett nytt system är ortogonalt om vi har dess basvektorer uttryckta i ett annat, mer välkänt, system. Därför låter vi här $\\hat u, \\hat v,\\hat w$ fortsätta vara en funktion av sfäriska koordinater och basvektorer, och räknar ut skalärprodukterna mellan dem. Vi ser direkt att $\\hat u\\cdot \\hat w=\\hat v\\cdot\\hat w=0$. För $\\hat u$ och $\\hat v$:"
   ]
  },
  {
   "cell_type": "markdown",
   "metadata": {},
   "source": [
    "$$\n",
    "\\hat u\\cdot\\hat v\\propto(1-\\cos\\theta)(1+\\cos\\theta)-\\sin^2\\theta\\nonumber\n",
    "$$"
   ]
  },
  {
   "cell_type": "markdown",
   "metadata": {},
   "source": [
    "<!-- Equation labels as ordinary links -->\n",
    "<div id=\"_auto4\"></div>\n",
    "\n",
    "$$\n",
    "\\begin{equation} \n",
    "    =1-\\cos^2\\theta-\\sin^2\\theta=0.\n",
    "\\label{_auto4} \\tag{6}\n",
    "\\end{equation}\n",
    "$$"
   ]
  },
  {
   "cell_type": "markdown",
   "metadata": {},
   "source": [
    "Alltså är $u,v,w$-systemet ortogonalt.\n",
    "\n",
    "**Skalfaktorer och enhetsvektorer**\n",
    "Från ekvation ([eq:ehat](#eq:ehat)) inser vi att skalfaktorerna $h_i$ är inversen av $|\\nabla u_i|$. För enkelhetens skull fortsätter vi räkna i termer av sfäriska koordinater, och översätter till $u,v,w$ i slutet. Notera att $u+v=2r$. Vi får"
   ]
  },
  {
   "cell_type": "markdown",
   "metadata": {},
   "source": [
    "$$\n",
    "h_u=\\left((1-\\cos\\theta)^2+\\sin^2\\theta\\right)^{-1/2}=\\left(2-2\\cos\\theta\\right)^{-1/2}\\nonumber\n",
    "$$"
   ]
  },
  {
   "cell_type": "markdown",
   "metadata": {},
   "source": [
    "<!-- Equation labels as ordinary links -->\n",
    "<div id=\"_auto5\"></div>\n",
    "\n",
    "$$\n",
    "\\begin{equation} \n",
    "    =\\sqrt{\\frac{u+v}{4u}},\n",
    "\\label{_auto5} \\tag{7}\n",
    "\\end{equation}\n",
    "$$"
   ]
  },
  {
   "cell_type": "markdown",
   "metadata": {},
   "source": [
    "$$\n",
    "h_v=\\left((1+\\cos\\theta)^2+\\sin^2\\theta\\right)^{-1/2}=\\left(2+2\\cos\\theta\\right)^{-1/2}\\nonumber\n",
    "$$"
   ]
  },
  {
   "cell_type": "markdown",
   "metadata": {},
   "source": [
    "<!-- Equation labels as ordinary links -->\n",
    "<div id=\"_auto6\"></div>\n",
    "\n",
    "$$\n",
    "\\begin{equation} \n",
    "    =\\sqrt{\\frac{u+v}{4v}},\n",
    "\\label{_auto6} \\tag{8}\n",
    "\\end{equation}\n",
    "$$"
   ]
  },
  {
   "cell_type": "markdown",
   "metadata": {},
   "source": [
    "<!-- Equation labels as ordinary links -->\n",
    "<div id=\"_auto7\"></div>\n",
    "\n",
    "$$\n",
    "\\begin{equation} \n",
    "    h_w=\\sqrt{r^2\\sin^2\\theta}=\\sqrt{r^2(1-\\cos^2\\theta)}=\\sqrt{uv}. \n",
    "\\label{_auto7} \\tag{9}\n",
    "\\end{equation}\n",
    "$$"
   ]
  },
  {
   "cell_type": "markdown",
   "metadata": {},
   "source": [
    "Kombinerar vi skalfaktorerna (i sfäriska koordinater) och de onormerade enhetvektorerna uträknade ovan så får vi"
   ]
  },
  {
   "cell_type": "markdown",
   "metadata": {},
   "source": [
    "<!-- Equation labels as ordinary links -->\n",
    "<div id=\"_auto8\"></div>\n",
    "\n",
    "$$\n",
    "\\begin{equation}\n",
    "    \\hat u= \\frac{1-\\cos\\theta}{\\sqrt{2-2\\cos\\theta}}\\hat r+\\frac{\\sin\\theta}{\\sqrt{2-2\\cos\\theta}}\\hat\\theta,\n",
    "\\label{_auto8} \\tag{10}\n",
    "\\end{equation}\n",
    "$$"
   ]
  },
  {
   "cell_type": "markdown",
   "metadata": {},
   "source": [
    "<!-- Equation labels as ordinary links -->\n",
    "<div id=\"_auto9\"></div>\n",
    "\n",
    "$$\n",
    "\\begin{equation} \n",
    "    \\hat v= \\frac{1+\\cos\\theta}{\\sqrt{2+2\\cos\\theta}}\\hat r-\\frac{\\sin\\theta}{\\sqrt{2+2\\cos\\theta}}\\hat\\theta,\n",
    "\\label{_auto9} \\tag{11}\n",
    "\\end{equation}\n",
    "$$"
   ]
  },
  {
   "cell_type": "markdown",
   "metadata": {},
   "source": [
    "<!-- Equation labels as ordinary links -->\n",
    "<div id=\"eq:enhetsvektorer\"></div>\n",
    "\n",
    "$$\n",
    "\\begin{equation} \n",
    "    \\hat w=\\hat\\varphi.\n",
    "\\label{eq:enhetsvektorer} \\tag{12}\n",
    "\\end{equation}\n",
    "$$"
   ]
  },
  {
   "cell_type": "markdown",
   "metadata": {},
   "source": [
    "**Gradientoperator**\n",
    "För ortogonala koordinatsystem gäller att (kurskompendium ekvation 2.13)"
   ]
  },
  {
   "cell_type": "markdown",
   "metadata": {},
   "source": [
    "<!-- Equation labels as ordinary links -->\n",
    "<div id=\"_auto10\"></div>\n",
    "\n",
    "$$\n",
    "\\begin{equation}\n",
    "    \\nabla\\phi=\\sum_i\\vec e_i\\frac 1{h_i}\\frac{\\partial\\phi}{\\partial u_i},\n",
    "\\label{_auto10} \\tag{13}\n",
    "\\end{equation}\n",
    "$$"
   ]
  },
  {
   "cell_type": "markdown",
   "metadata": {},
   "source": [
    "där $\\phi$ är ett godtyckligt skalärfält. I vårt $u,v,w$-system blir detta"
   ]
  },
  {
   "cell_type": "markdown",
   "metadata": {},
   "source": [
    "<!-- Equation labels as ordinary links -->\n",
    "<div id=\"_auto11\"></div>\n",
    "\n",
    "$$\n",
    "\\begin{equation}\n",
    "    \\nabla\\phi=\\hat u\\frac 1{h_u}\\frac{\\partial\\phi}{\\partial u}+\\hat v\\frac 1{h_v}\\frac{\\partial\\phi}{\\partial v}+\\hat w\\frac 1{h_w}\\frac{\\partial\\phi}{\\partial w}.\n",
    "\\label{_auto11} \\tag{14}\n",
    "\\end{equation}\n",
    "$$"
   ]
  },
  {
   "cell_type": "markdown",
   "metadata": {},
   "source": [
    "Sätter vi in skalfaktorerna vi beräknat ovan är det lätt att identifiera gradientoperatorn"
   ]
  },
  {
   "cell_type": "markdown",
   "metadata": {},
   "source": [
    "<!-- Equation labels as ordinary links -->\n",
    "<div id=\"_auto12\"></div>\n",
    "\n",
    "$$\n",
    "\\begin{equation}\n",
    "    \\nabla = \\hat u\\sqrt{\\frac{4u}{u+v}}\\frac{\\partial}{\\partial u}+\\hat v\\sqrt{\\frac{4v}{u+v}}\\frac{\\partial}{\\partial v}+\\hat w\\frac 1{\\sqrt{uv}}\\frac{\\partial}{\\partial w}.\n",
    "\\label{_auto12} \\tag{15}\n",
    "\\end{equation}\n",
    "$$"
   ]
  },
  {
   "cell_type": "markdown",
   "metadata": {},
   "source": [
    "Notera att den inversa skalfaktorn alltid kommer före partialderivatan! Skriver man dem i fel ordning ska plötsligt även skalfaktorn deriveras, och det blir fel.\n",
    "\n",
    "**Ortsvektor**\n",
    "I sfäriska koordinater är ortsvektorn"
   ]
  },
  {
   "cell_type": "markdown",
   "metadata": {},
   "source": [
    "<!-- Equation labels as ordinary links -->\n",
    "<div id=\"_auto13\"></div>\n",
    "\n",
    "$$\n",
    "\\begin{equation}\n",
    "    \\vec r=r\\hat r.\n",
    "\\label{_auto13} \\tag{16}\n",
    "\\end{equation}\n",
    "$$"
   ]
  },
  {
   "cell_type": "markdown",
   "metadata": {},
   "source": [
    "Vi har redan noterat att $r=(u+v)/2$; vi behöver nu också uttrycka $\\hat r$ som en funktion av $\\hat u,\\hat v, \\hat w$. \n",
    "\n",
    "En smart linjärkombination av enhetsvektorerna ([eq:enhetsvektorer](#eq:enhetsvektorer)):"
   ]
  },
  {
   "cell_type": "markdown",
   "metadata": {},
   "source": [
    "<!-- Equation labels as ordinary links -->\n",
    "<div id=\"_auto14\"></div>\n",
    "\n",
    "$$\n",
    "\\begin{equation}\n",
    "    \\sqrt{2-2\\cos\\theta}\\hat u+\\sqrt{2+2\\cos\\theta}\\hat v=2\\hat r,\n",
    "\\label{_auto14} \\tag{17}\n",
    "\\end{equation}\n",
    "$$"
   ]
  },
  {
   "cell_type": "markdown",
   "metadata": {},
   "source": [
    "som översatt till nya koordinater betyder att"
   ]
  },
  {
   "cell_type": "markdown",
   "metadata": {},
   "source": [
    "<!-- Equation labels as ordinary links -->\n",
    "<div id=\"_auto15\"></div>\n",
    "\n",
    "$$\n",
    "\\begin{equation}\n",
    "    \\hat r=\\frac12\\left(\\frac1{h_u}\\hat u+\\frac1{h_v}\\hat v\\right)=\\sqrt{\\frac u{u+v}}\\hat u+\\sqrt{\\frac v{u+v}}\\hat v.\n",
    "\\label{_auto15} \\tag{18}\n",
    "\\end{equation}\n",
    "$$"
   ]
  },
  {
   "cell_type": "markdown",
   "metadata": {},
   "source": [
    "Vi får alltså ortsvektorn"
   ]
  },
  {
   "cell_type": "markdown",
   "metadata": {},
   "source": [
    "$$\n",
    "\\vec r=r\\hat r\\nonumber\n",
    "$$"
   ]
  },
  {
   "cell_type": "markdown",
   "metadata": {},
   "source": [
    "$$\n",
    "=\\frac{u+v}2\\left(\\sqrt{\\frac u{u+v}}\\hat u+\\sqrt{\\frac v{u+v}}\\hat v\\right)\\nonumber\n",
    "$$"
   ]
  },
  {
   "cell_type": "markdown",
   "metadata": {},
   "source": [
    "<!-- Equation labels as ordinary links -->\n",
    "<div id=\"_auto16\"></div>\n",
    "\n",
    "$$\n",
    "\\begin{equation} \n",
    "    =\\tfrac12\\sqrt{u+v} \\left( \\sqrt u\\hat u + \\sqrt v\\hat v \\right).\n",
    "\\label{_auto16} \\tag{19}\n",
    "\\end{equation}\n",
    "$$"
   ]
  },
  {
   "cell_type": "markdown",
   "metadata": {},
   "source": [
    "<!-- --- end solution of exercise --- -->\n",
    "\n",
    "<!-- --- end exercise --- -->"
   ]
  }
 ],
 "metadata": {},
 "nbformat": 4,
 "nbformat_minor": 2
}
