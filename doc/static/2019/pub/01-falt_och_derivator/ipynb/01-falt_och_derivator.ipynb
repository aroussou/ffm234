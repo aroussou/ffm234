{
 "cells": [
  {
   "cell_type": "markdown",
   "metadata": {},
   "source": [
    "<!-- dom:TITLE: FFM232, Klassisk fysik och vektorfält - Föreläsningsanteckningar -->\n",
    "# FFM232, Klassisk fysik och vektorfält - Föreläsningsanteckningar\n",
    "<!-- dom:AUTHOR: [Christian Forssén](http://fy.chalmers.se/subatom/tsp/), Institutionen för fysik, Chalmers, Göteborg, Sverige -->\n",
    "<!-- Author: --> **[Christian Forssén](http://fy.chalmers.se/subatom/tsp/), Institutionen för fysik, Chalmers, Göteborg, Sverige**\n",
    "\n",
    "Date: **Aug 29, 2016**\n",
    "\n",
    "# 1. Fält och derivator\n",
    "\n",
    "Ett fält är en fysikalisk storhet som kan beskrivas som en funktion av\n",
    "positionen i rummet $\\vec{r}$ och tiden $t$.  I den här kursen kommer vi\n",
    "att behandla två typer av fält, skalära fält och vektorfält.\n",
    "\n",
    "### Skalärfält"
   ]
  },
  {
   "cell_type": "markdown",
   "metadata": {},
   "source": [
    "$$\n",
    "\\begin{equation}\n",
    "\\Phi = \\Phi(\\vec{r},t), \\quad \\Phi \\in \\mathbf{R},\\quad \\vec{r} \\in \\mathbf{R}^3\n",
    "\\end{equation}\n",
    "$$"
   ]
  },
  {
   "cell_type": "markdown",
   "metadata": {},
   "source": [
    "<table border=\"1\">\n",
    "<thead>\n",
    "<tr><th align=\"center\">  Skalär  </th> <th align=\"center\">Symbol</th> <th align=\"left\">                       Enhet                       </th> </tr>\n",
    "</thead>\n",
    "<tbody>\n",
    "<tr><td align=\"left\">   tryck         </td> <td align=\"center\">   $p$       </td> <td align=\"left\">   Pascal (Pa), 1 Pa = 1 $\\mathrm{N/m}^2$                 </td> </tr>\n",
    "<tr><td align=\"left\">   densitet      </td> <td align=\"center\">   $\\rho$    </td> <td align=\"left\">   $\\mathrm{kg/m}^3$                                      </td> </tr>\n",
    "<tr><td align=\"left\">   temperatur    </td> <td align=\"center\">   $T$       </td> <td align=\"left\">   Kelvin (K), Celsiusgrader ($^\\mathrm{o}\\mathrm{C}$)    </td> </tr>\n",
    "</tbody>\n",
    "</table>\n",
    "### Vektorfält"
   ]
  },
  {
   "cell_type": "markdown",
   "metadata": {},
   "source": [
    "$$\n",
    "\\begin{equation}\n",
    "\\vec{F} = \\vec{F}(\\vec{r},t), \\quad \\vec{F} \\in \\mathbf{R}^3,\\quad \\vec{r} \\in \\mathbf{R}^3 \\\\ \n",
    "\\end{equation}\n",
    "$$"
   ]
  },
  {
   "cell_type": "markdown",
   "metadata": {},
   "source": [
    "<table border=\"1\">\n",
    "<thead>\n",
    "<tr><th align=\"center\">  Vektor  </th> <th align=\"center\">  Symbol </th> <th align=\"left\">  Enhet  </th> </tr>\n",
    "</thead>\n",
    "<tbody>\n",
    "<tr><td align=\"left\">   hastighet     </td> <td align=\"center\">   $\\vec{v}$    </td> <td align=\"left\">   m/s          </td> </tr>\n",
    "<tr><td align=\"left\">   kraft         </td> <td align=\"center\">   $\\vec{F}$    </td> <td align=\"left\">   N            </td> </tr>\n",
    "<tr><td align=\"left\">   Magnetfält    </td> <td align=\"center\">   $\\vec{B}$    </td> <td align=\"left\">   Tesla (T)    </td> </tr>\n",
    "</tbody>\n",
    "</table>\n",
    "## Rum och koordinatsystem\n",
    "\n",
    "En viktig egenskap hos skalärer och vektorer är att dessa är **oberoende** av koordinatsystem (transformation). Mer om detta senare när vi pratar om tensorfält.\n",
    "\n",
    "I ett Cartesiskt koordinatsystem på $\\mathbf{R}^3$ gäller att en allmän vektor $\\vec{A}$ kan skrivas"
   ]
  },
  {
   "cell_type": "markdown",
   "metadata": {},
   "source": [
    "$$\n",
    "\\begin{equation}\n",
    "\\vec{A} = A_x \\hat{x} + A_y \\hat{y} + A_z \\hat{z}\n",
    "\\end{equation}\n",
    "$$"
   ]
  },
  {
   "cell_type": "markdown",
   "metadata": {},
   "source": [
    "där $\\hat{x}$, $\\hat{y}$ och $\\hat{z}$ är ortonormerade **basvektorer**.\n",
    "\n",
    "I detta koordinatsystem har vi följande partiella derivator $\\frac{\\partial}{\\partial x}$, $\\frac{\\partial}{\\partial y}$, $\\frac{\\partial}{\\partial z}$. Vi använder ibland kortnotationen $\\partial_x \\equiv \\frac{\\partial}{\\partial x}$.\n",
    "\n",
    "Detta ger vektoroperatorn"
   ]
  },
  {
   "cell_type": "markdown",
   "metadata": {},
   "source": [
    "$$\n",
    "\\begin{equation}\n",
    "\\nabla = \\hat{x} \\partial_x + \\hat{y} \\partial_y + \\hat{z} \\partial_z,\n",
    "\\end{equation}\n",
    "$$"
   ]
  },
  {
   "cell_type": "markdown",
   "metadata": {},
   "source": [
    "som uttalas *nabla* eller *dell*.\n",
    "\n",
    "Ibland stöter man på notationen $\\vec{\\nabla}$ som tydliggör att detta är en **vektor**-operator, men vi använder samma beteckning som i kompendiet.\n",
    "\n",
    "## Vektoralgebra\n",
    "\n",
    "Repetera detta om ni känner er osäkra!\n",
    "\n",
    "Exemplen nedan i Cartesiska koordinater.\n",
    "\n",
    "### Addition"
   ]
  },
  {
   "cell_type": "markdown",
   "metadata": {},
   "source": [
    "$$\n",
    "\\begin{equation}\n",
    "\\vec{A}+\\vec{B} = (A_x + B_x) \\hat{x} + (A_y + B_y) \\hat{y} + (A_z + B_z) \\hat{z}\n",
    "\\end{equation}\n",
    "$$"
   ]
  },
  {
   "cell_type": "markdown",
   "metadata": {},
   "source": [
    "och motsvarande för subtraktion. \n",
    "\n",
    "Resultatet är en vektor.\n",
    "\n",
    "### Skalärprodukt"
   ]
  },
  {
   "cell_type": "markdown",
   "metadata": {},
   "source": [
    "$$\n",
    "\\begin{equation}\n",
    "\\vec{A} \\cdot \\vec{B} = |\\vec{A}| |\\vec{B}| \\cos\\theta,\n",
    "\\end{equation}\n",
    "$$"
   ]
  },
  {
   "cell_type": "markdown",
   "metadata": {},
   "source": [
    "där $|\\vec{A}|$ och $|\\vec{B}|$ är vektornormerna enligt nedan och $\\theta$ är vinkeln mellan vektorerna.\n",
    "\n",
    "På komponentform"
   ]
  },
  {
   "cell_type": "markdown",
   "metadata": {},
   "source": [
    "$$\n",
    "\\begin{equation}\n",
    "\\vec{A} \\cdot \\vec{B} = A_x B_x + A_y B_y + A_z B_z,\n",
    "\\end{equation}\n",
    "$$"
   ]
  },
  {
   "cell_type": "markdown",
   "metadata": {},
   "source": [
    "eftersom $\\hat{x} \\cdot \\hat{x} = \\hat{y} \\cdot \\hat{y} = \\hat{z} \\cdot \\hat{z} = 1$ och $\\hat{x} \\cdot \\hat{y} = \\hat{x} \\cdot \\hat{z} = \\hat{y} \\cdot \\hat{z} = 0$.\n",
    "\n",
    "Resultatet är en skalär.\n",
    "\n",
    "### Vektornorm"
   ]
  },
  {
   "cell_type": "markdown",
   "metadata": {},
   "source": [
    "$$\n",
    "\\begin{equation}\n",
    "A = |\\vec{A}| = (\\vec{A} \\cdot \\vec{A})^{1/2} = (A_x^2 + A_y^2 + A_z^2)^{1/2}.\n",
    "\\end{equation}\n",
    "$$"
   ]
  },
  {
   "cell_type": "markdown",
   "metadata": {},
   "source": [
    "### Kryssprodukt"
   ]
  },
  {
   "cell_type": "markdown",
   "metadata": {},
   "source": [
    "$$\n",
    "\\begin{equation}\n",
    "\\vec{A} \\times \\vec{B}  = \\left| \n",
    "\\begin{array}{ccc}\n",
    "\\hat{x}  \\hat{y}  \\hat{z} \n",
    "\\end{equation}\n",
    "$$"
   ]
  },
  {
   "cell_type": "markdown",
   "metadata": {},
   "source": [
    "$$\n",
    "\\begin{equation}  \n",
    "A_x  A_y  A_z \n",
    "\\end{equation}\n",
    "$$"
   ]
  },
  {
   "cell_type": "markdown",
   "metadata": {},
   "source": [
    "$$\n",
    "\\begin{equation}  \n",
    "B_x  B_y  B_z\n",
    "\\end{array}\n",
    "\\right| \n",
    "\\end{equation}\n",
    "$$"
   ]
  },
  {
   "cell_type": "markdown",
   "metadata": {},
   "source": [
    "$$\n",
    "\\begin{equation}  \n",
    " = (A_y B_z - A_z B_y)\\hat{x} + (A_z B_x - A_x B_z)\\hat{y} + (A_x B_y - A_y B_x) \\hat{z}.\n",
    "\\end{equation}\n",
    "$$"
   ]
  },
  {
   "cell_type": "markdown",
   "metadata": {},
   "source": [
    "## Skalärfält\n",
    "\n",
    "Ett skalärt fält representeras av ett tal i varje punkt.  Exempel på sådana fält är temperatur, tryck, elektrisk laddningstäthet. \n",
    "\n",
    "### Nivåyta\n",
    "\n",
    "Geometriskt brukar vi beskriva ett skalärt fält $\\Phi(x,y,z,t)$ genom  att rita de ytor på vilka fältet är konstant.  Vi kallar sådana ytor för **nivåytor**, eller i två dimensioner **nivåkurvor**.  Vissa typer av nivåkurvor har fått speciella namn, till exempel isotermer för kurvor längs vilka temperaturen är konstant och isobarer längs vilka trycket är konstant.  Man kan konstruera nivåytorna genom att ställa upp  ekvationen $C = \\Phi(x,y,z,t)$, och lösa den för olika C.\n",
    "\n",
    "### Gradient, fältlinjer\n",
    "\n",
    "Ett viktigt begrepp när vi arbetar med skalära fält är **gradienten**. Betrakta två punkter $(x,y,z)$ och $(x+\\mbox{d}x,y+\\mbox{d}y,z+\\mbox{d}z)$. Skillnaden i skalären $\\Phi$ mellan dessa båda punkter är"
   ]
  },
  {
   "cell_type": "markdown",
   "metadata": {},
   "source": [
    "$$\n",
    "\\begin{equation}\n",
    "  \\mbox{d}\\Phi = \\Phi\\left(x+\\mbox{d}x, y+\\mbox{d}y,z+\\mbox{d}z\\right) - \\Phi\\left(x,y,z\\right) \\nonumber \n",
    "\\end{equation}\n",
    "$$"
   ]
  },
  {
   "cell_type": "markdown",
   "metadata": {},
   "source": [
    "$$\n",
    "\\begin{equation}  \n",
    " \\approx \\Phi\\left(x,y,z\\right) + \\frac{\\partial \\Phi}{\\partial x}\\mbox{d}x\n",
    "+ \\frac{\\partial \\Phi}{\\partial y}\\mbox{d}y + \\frac{\\partial \\Phi}{\\partial z}\n",
    "\\mbox{d}z - \\Phi\\left(x,y,z\\right) \\nonumber \n",
    "\\end{equation}\n",
    "$$"
   ]
  },
  {
   "cell_type": "markdown",
   "metadata": {},
   "source": [
    "$$\n",
    "\\begin{equation}  \n",
    " = \\frac{\\partial \\Phi}{\\partial x}\\mbox{d}x\n",
    "+ \\frac{\\partial \\Phi}{\\partial y}\\mbox{d}y + \\frac{\\partial \\Phi}{\\partial z}\n",
    "\\mbox{d}z.\n",
    "\\end{equation}\n",
    "$$"
   ]
  },
  {
   "cell_type": "markdown",
   "metadata": {},
   "source": [
    "Den här skillnaden kan vi tolka som skalärprodukten mellan vektorn"
   ]
  },
  {
   "cell_type": "markdown",
   "metadata": {},
   "source": [
    "$$\n",
    "\\begin{equation}\n",
    "  \\mbox{d}\\vec{r} = \\left(\\mbox{d}x,\\mbox{d}y,\\mbox{d}z\\right), \n",
    "\\end{equation}\n",
    "$$"
   ]
  },
  {
   "cell_type": "markdown",
   "metadata": {},
   "source": [
    "som beskriver separationen mellan de båda punkterna och vektorn"
   ]
  },
  {
   "cell_type": "markdown",
   "metadata": {},
   "source": [
    "$$\n",
    "\\begin{equation}\n",
    "  \\nabla \\Phi = \\left(\\frac{\\partial \\Phi}{\\partial x}, \n",
    "\\frac{\\partial \\Phi}{\\partial y}, \\frac{\\partial \\Phi}{\\partial z}\\right),\n",
    "\\end{equation}\n",
    "$$"
   ]
  },
  {
   "cell_type": "markdown",
   "metadata": {},
   "source": [
    "som vi kallar för gradienten av $\\Phi$. Dvs $\\mbox{d}\\Phi = \\mbox{d}\\vec{r} \\cdot \\nabla \\Phi$.\n",
    "\n",
    "Lägg märke till att om $\\mbox{d}\\vec{r}$ har längden 1, så är $\\mbox{d}\\vec{r} \\cdot \\nabla \\Phi$ riktningsderivatan för $\\Phi$ i riktningen $\\mbox{d}\\vec{r}$, det vill säga den mäter hur snabbt $\\Phi$ varierar i denna riktning.\n",
    "\n",
    "Gradienten"
   ]
  },
  {
   "cell_type": "markdown",
   "metadata": {},
   "source": [
    "$$\n",
    "\\begin{equation}\n",
    "  \\nabla = \\left(\\frac{\\partial}{\\partial x}, \\frac{\\partial}{\\partial y},\n",
    "\\frac{\\partial}{\\partial z}\\right),\n",
    "\\end{equation}\n",
    "$$"
   ]
  },
  {
   "cell_type": "markdown",
   "metadata": {},
   "source": [
    "är i sig själv inte en vektor, utan den är en vektoroperator, som tar ett skalärfält och producerar ett vektorfält.  Skillnaden mellan en vektoroperator och en vektor kommer att märkas när vi bekantar oss med räknereglerna för vektoroperatorer.\n",
    "\n",
    "Det är enkelt att visa att $\\nabla \\Phi$ är ortogonal mot nivåytorna för $\\Phi$.  Låt $\\hat{e}_t$ vara en tangentvektor till en nivåyta genom en punkt $\\vec{r}_0$. Eftersom $\\Phi = \\Phi_0$ (konstant) längs nivåytan gäller att"
   ]
  },
  {
   "cell_type": "markdown",
   "metadata": {},
   "source": [
    "$$\n",
    "\\hat{e}_t \\cdot \\nabla \\Phi = 0 \\quad \\Rightarrow \\quad \\hat{e}_t \\perp \\nabla \\Phi.\n",
    "$$"
   ]
  },
  {
   "cell_type": "markdown",
   "metadata": {},
   "source": [
    "Kurvor som i varje punkt har $\\nabla \\Phi$ som tangentvektor kallas för **fältlinjer**.\n",
    "\n",
    "### Exempel\n",
    "\n",
    "Betrakta en bergstopp med en höjdyta som ges av"
   ]
  },
  {
   "cell_type": "markdown",
   "metadata": {},
   "source": [
    "$$\n",
    "\\begin{equation}\n",
    "h(\\vec{r}) = \\frac{h_0}{1+\\frac{x^2+y^2}{R^2}},\n",
    "\\end{equation}\n",
    "$$"
   ]
  },
  {
   "cell_type": "markdown",
   "metadata": {},
   "source": [
    "där $h$ ger höjden över havet, $h_0$ är höjden på toppen av berget, och $R$ är ett mått på bergets utbredning."
   ]
  },
  {
   "cell_type": "code",
   "execution_count": 1,
   "metadata": {
    "collapsed": false
   },
   "outputs": [],
   "source": [
    "import numpy as np\n",
    "import pylab as p\n",
    "\n",
    "# Make an x,y grid\n",
    "grid = np.linspace(-10000,10000,500)\n",
    "x, y = np.meshgrid(grid,grid)\n",
    "# and the 2D field\n",
    "R0=4000  # radius measure\n",
    "h0= 2106 # peak height\n",
    "h = h0 / (1 + (x**2 + y**2)/R0**2)"
   ]
  },
  {
   "cell_type": "code",
   "execution_count": 2,
   "metadata": {
    "collapsed": false
   },
   "outputs": [],
   "source": [
    "from mpl_toolkits.mplot3d import Axes3D\n",
    "fig = p.figure()\n",
    "ax = fig.gca(projection='3d')\n",
    "surf = ax.plot_surface(x/1000, y/1000, h)\n",
    "#ax.set_zlim3d(-1, 1)\n",
    "ax.set_xlabel(r'$x$ (km)')\n",
    "ax.set_ylabel(r'$y$ (km)')\n",
    "ax.set_zlabel(r'$h$ (m)')"
   ]
  },
  {
   "cell_type": "markdown",
   "metadata": {},
   "source": [
    "<!-- dom:FIGURE:[fig/hojd_surface.png, width=600 frac=0.8] -->\n",
    "<!-- begin figure -->\n",
    "\n",
    "<p></p>\n",
    "<img src=\"fig/hojd_surface.png\" width=600>\n",
    "\n",
    "<!-- end figure -->\n",
    "\n",
    "\n",
    "Vi kan göra en höjdkarta genom att rita upp några nivåytor, dvs kurvor som motsvarar konstanta värden på $h$. Vi ser enkelt att kurvan $x^2 + y^2 = C^2$ (konstant) ger $h_C = \\frac{h_0}{1+\\frac{C^2}{R^2}}$ (konstant) och att höjdkurvorna därför motsvarar cirklar med centrum i origo ($x=y=0$)."
   ]
  },
  {
   "cell_type": "code",
   "execution_count": 3,
   "metadata": {
    "collapsed": false
   },
   "outputs": [],
   "source": [
    "%matplotlib inline\n",
    "\n",
    "from matplotlib import colors\n",
    "p.figure(figsize=(6,6))\n",
    "heights = np.linspace(500,2000,4)\n",
    "CS = p.contour(x/1000,y/1000,h,heights,colors='k')\n",
    "p.clabel(CS, inline=1, fontsize=10)\n",
    "p.xlabel(r'$x$ (km)')\n",
    "p.ylabel(r'$y$ (km)')"
   ]
  },
  {
   "cell_type": "markdown",
   "metadata": {},
   "source": [
    "<!-- dom:FIGURE:[fig/hojd_contour.png, width=600 frac=0.8] -->\n",
    "<!-- begin figure -->\n",
    "\n",
    "<p></p>\n",
    "<img src=\"fig/hojd_contour.png\" width=600>\n",
    "\n",
    "<!-- end figure -->\n",
    "\n",
    "\n",
    "Eller kombinerat med höjdkurvor enligt en kontinuerlig färgskala"
   ]
  },
  {
   "cell_type": "code",
   "execution_count": 4,
   "metadata": {
    "collapsed": false
   },
   "outputs": [],
   "source": [
    "p.pcolormesh(x/1000, y/1000, h, cmap=p.get_cmap('cubehelix_r'))"
   ]
  },
  {
   "cell_type": "markdown",
   "metadata": {},
   "source": [
    "<!-- dom:FIGURE:[fig/hojd_contour_colormesh.png, width=600 frac=0.8] -->\n",
    "<!-- begin figure -->\n",
    "\n",
    "<p></p>\n",
    "<img src=\"fig/hojd_contour_colormesh.png\" width=600>\n",
    "\n",
    "<!-- end figure -->\n",
    "\n",
    "\n",
    "Gradienten av detta fält kommer att motsvara höjdändringen per längdenhet i horisontalplanet. Vi finner denna genom att skriva $x^2 + y^2 = r^2$ så att $h=h(r)$. Vi får"
   ]
  },
  {
   "cell_type": "markdown",
   "metadata": {},
   "source": [
    "$$\n",
    "\\begin{equation}\n",
    "\\frac{\\mbox{d}h}{\\mbox{d}r} = - \\frac{h_0}{(1+r^2/R^2)^2} \\frac{2r}{R^2}\n",
    "\\end{equation}\n",
    "$$"
   ]
  },
  {
   "cell_type": "markdown",
   "metadata": {},
   "source": [
    "Vidare är"
   ]
  },
  {
   "cell_type": "markdown",
   "metadata": {},
   "source": [
    "$$\n",
    "\\begin{equation}\n",
    "\\frac{\\partial r}{\\partial x} = \\frac{1}{2} (x^2 + y^2)^{-1/2} 2 x = \\frac{x}{r},\n",
    "\\end{equation}\n",
    "$$"
   ]
  },
  {
   "cell_type": "markdown",
   "metadata": {},
   "source": [
    "och pss $\\partial_y r = y/r$. Därför blir"
   ]
  },
  {
   "cell_type": "markdown",
   "metadata": {},
   "source": [
    "$$\n",
    "\\begin{equation}\n",
    "\\nabla h = \\hat{x} \\partial_x h + \\hat{y} \\partial_y h \n",
    "= \\hat{x} \\frac{\\partial h}{\\partial r} \\frac{\\partial r}{\\partial x}\n",
    "+ \\hat{y} \\frac{\\partial h}{\\partial r} \\frac{\\partial r}{\\partial y} \n",
    "\\end{equation}\n",
    "$$"
   ]
  },
  {
   "cell_type": "markdown",
   "metadata": {},
   "source": [
    "$$\n",
    "\\begin{equation}  \n",
    "= - \\frac{2h_0}{R^2 (1+r^2/R^2)^2} \\left( x \\hat{x} + y \\hat{y} \\right).\n",
    "\\end{equation}\n",
    "$$"
   ]
  },
  {
   "cell_type": "markdown",
   "metadata": {},
   "source": [
    "Riktningen på denna vektor ser vi är $x\\hat{x} + y\\hat{y} = r\\hat{r}$, dvs den horisontella höjdgradienten är riktad radiellt inåt - mot större värden av $h$."
   ]
  },
  {
   "cell_type": "code",
   "execution_count": 5,
   "metadata": {
    "collapsed": false
   },
   "outputs": [],
   "source": [
    "p.figure(figsize=(6,6))\n",
    "grid_course =  np.linspace(-10000,10000,11)\n",
    "x_c, y_c = np.meshgrid(grid_course,grid_course)\n",
    "radius = 2000\n",
    "outside = x_c**2 + y_c**2 > radius**2\n",
    "gradh_x = - 2*h0 / (R0**2 * (1 + (x_c**2+y_c**2)/R0**2)**2) * x_c\n",
    "gradh_y = - 2*h0 / (R0**2 * (1 + (x_c**2+y_c**2)/R0**2)**2) * y_c\n",
    "p.quiver(x_c[outside]/1000,y_c[outside]/1000,gradh_x[outside],gradh_y[outside],scale=3)\n",
    "p.xlabel(r'$x$ (km)')\n",
    "p.ylabel(r'$y$ (km)')"
   ]
  },
  {
   "cell_type": "markdown",
   "metadata": {},
   "source": [
    "<!-- dom:FIGURE:[fig/hojd_gradient.png, width=600 frac=0.8] -->\n",
    "<!-- begin figure -->\n",
    "\n",
    "<p></p>\n",
    "<img src=\"fig/hojd_gradient.png\" width=600>\n",
    "\n",
    "<!-- end figure -->\n",
    "\n",
    "\n",
    "## Vektorfält\n",
    "\n",
    "Ett vektorfält beskriver på samma sätt en fysikalisk kvantitet som i varje punkt i rummet är en vektor.  Exempel på sådana kvantiteter är hastigheten i en strömmande fluid, den magnetiska fältstyrkan, och den elektriska strömtätheten.  \n",
    "\n",
    "### Fältlinjer\n",
    "\n",
    "Geometriskt kan vi representera ett vektorfält genom att konstruera fältlinjer. Fältlinjerna till ett vektorfält $\\vec{F}(\\vec{r})$ är de kurvor som överallt har $\\vec{F}(\\vec{r})$ som tangentvektor. \n",
    "\n",
    "För att förstå begreppet fältlinjer kan vi börja med att tänka oss ett vektorfält $\\vec{V}(x,y,z)$ som representerar en hastighet i en fluid.  En testpartikel i fluiden följer då en bana $\\vec{r}(t)$ som ges av"
   ]
  },
  {
   "cell_type": "markdown",
   "metadata": {},
   "source": [
    "$$\n",
    "\\begin{equation}\n",
    "  \\frac{\\mbox{d}\\vec{r}}{\\mbox{d}t} = \\vec{V}\\left(\\vec{r}\\right).\n",
    "\\end{equation}\n",
    "$$"
   ]
  },
  {
   "cell_type": "markdown",
   "metadata": {},
   "source": [
    "Analogt med detta definierar vi en fältlinje som den bana vi får genom att följa med ett godtyckligt vektorfält $\\vec{F}$ som om det var ett hastighetsfält.  Ekvationen för ett sådant vektorfält är"
   ]
  },
  {
   "cell_type": "markdown",
   "metadata": {},
   "source": [
    "$$\n",
    "\\begin{equation}\n",
    "  \\frac{\\mbox{d}\\vec{r}}{\\mbox{d}\\tau} = C \\vec{F}\\left(\\vec{r}(\\tau)\\right),\n",
    "\\end{equation}\n",
    "$$"
   ]
  },
  {
   "cell_type": "markdown",
   "metadata": {},
   "source": [
    "där $C$ är en godtycklig konstant (dvs du kan välja den som du själv \n",
    "vill, så länge som du inte sätter den till noll), och $\\tau$ är en\n",
    "parameter för att numrera punkterna längs fältlinjen.\n",
    "\n",
    "### Exempel:\n",
    "\n",
    "Vi vill konstruera fältlinjerna till"
   ]
  },
  {
   "cell_type": "markdown",
   "metadata": {},
   "source": [
    "$$\n",
    "\\begin{equation}\n",
    "  \\vec{F}\\left(\\vec{r}\\right) = F_0\\left(\\frac{x}{a} \\hat{x} + \n",
    "\\hat{y}\\right).\n",
    "\\end{equation}\n",
    "$$"
   ]
  },
  {
   "cell_type": "markdown",
   "metadata": {},
   "source": [
    "Detta ger oss differentialekvationerna"
   ]
  },
  {
   "cell_type": "markdown",
   "metadata": {},
   "source": [
    "2\n",
    "7\n",
    " \n",
    "<\n",
    "<\n",
    "<\n",
    "!\n",
    "!\n",
    "M\n",
    "A\n",
    "T\n",
    "H\n",
    "_\n",
    "B\n",
    "L\n",
    "O\n",
    "C\n",
    "K"
   ]
  },
  {
   "cell_type": "markdown",
   "metadata": {},
   "source": [
    "$$\n",
    "\\begin{equation}\n",
    "  \\frac{\\mbox{d}y}{\\mbox{d}\\tau} = C F_0.\n",
    "\\end{equation}\n",
    "$$"
   ]
  },
  {
   "cell_type": "markdown",
   "metadata": {},
   "source": [
    "Vi väljer nu $C = a/F_0$, så att ekvationerna blir"
   ]
  },
  {
   "cell_type": "markdown",
   "metadata": {},
   "source": [
    "2\n",
    "9\n",
    " \n",
    "<\n",
    "<\n",
    "<\n",
    "!\n",
    "!\n",
    "M\n",
    "A\n",
    "T\n",
    "H\n",
    "_\n",
    "B\n",
    "L\n",
    "O\n",
    "C\n",
    "K"
   ]
  },
  {
   "cell_type": "markdown",
   "metadata": {},
   "source": [
    "$$\n",
    "\\begin{equation}\n",
    "  \\frac{\\mbox{d}y}{\\mbox{d}\\tau} = a\n",
    "\\end{equation}\n",
    "$$"
   ]
  },
  {
   "cell_type": "markdown",
   "metadata": {},
   "source": [
    "Dessa har lösningen"
   ]
  },
  {
   "cell_type": "markdown",
   "metadata": {},
   "source": [
    "3\n",
    "1\n",
    " \n",
    "<\n",
    "<\n",
    "<\n",
    "!\n",
    "!\n",
    "M\n",
    "A\n",
    "T\n",
    "H\n",
    "_\n",
    "B\n",
    "L\n",
    "O\n",
    "C\n",
    "K"
   ]
  },
  {
   "cell_type": "markdown",
   "metadata": {},
   "source": [
    "$$\n",
    "\\begin{equation}\n",
    "  y = a \\tau + y_0\n",
    "\\end{equation}\n",
    "$$"
   ]
  },
  {
   "cell_type": "markdown",
   "metadata": {},
   "source": [
    "där $x_0$ och $y_0$ är den punkt på fältlinjen där $\\tau = 0$.\n",
    "\n",
    "### Divergens och rotation\n",
    "\n",
    "Vi kan derivera ett vektorfält på två huvudsakliga sätt. Dels kan vi bilda en skalär genom **divergensen** $\\nabla \\cdot \\vec{F}$ (eller $\\mathrm{div} \\vec{F}$), eller en vektor genom rotationen $\\nabla \\times \\vec{F}$ (eller $\\mathrm{rot} \\vec{F}$). I cartesiska koordinater blir de explicita uttrycken"
   ]
  },
  {
   "cell_type": "markdown",
   "metadata": {},
   "source": [
    "$$\n",
    "\\begin{equation}\n",
    "\\nabla \\cdot \\vec{F} = \\partial_x F_x + \\partial_y F_y + \\partial_z F_z, \n",
    "\\end{equation}\n",
    "$$"
   ]
  },
  {
   "cell_type": "markdown",
   "metadata": {},
   "source": [
    "$$\n",
    "\\begin{equation}  \n",
    "\\nabla \\times \\vec{F}  = \\left| \n",
    "\\begin{array}{ccc}\n",
    "\\hat{x}  \\hat{y}  \\hat{z} \n",
    "\\end{equation}\n",
    "$$"
   ]
  },
  {
   "cell_type": "markdown",
   "metadata": {},
   "source": [
    "$$\n",
    "\\begin{equation}  \n",
    "\\partial_{x}  \\partial_{y}  \\partial_{z} \n",
    "\\end{equation}\n",
    "$$"
   ]
  },
  {
   "cell_type": "markdown",
   "metadata": {},
   "source": [
    "$$\n",
    "\\begin{equation}  \n",
    "F_x  F_y  F_z\n",
    "\\end{array}\n",
    "\\right|\n",
    "= (\\partial_y F_z - \\partial_z F_y)\\hat{x} + (\\partial_z F_x - \\partial_x F_z)\\hat{y} + (\\partial_x F_y - \\partial_y F_x) \\hat{z}.\n",
    "\\end{equation}\n",
    "$$"
   ]
  },
  {
   "cell_type": "markdown",
   "metadata": {},
   "source": [
    "Divergensen ger ett mått på hur mycket fältet *\"går isär\"* (divergerar), medan rotationen mäter hur mycket det *\"snurrar runt\"*. \n",
    "\n",
    "### Exempel\n",
    "\n",
    "Vektorfältet $\\vec{F} = x\\hat{x} + y\\hat{y} + z\\hat{z}$ har divergensen $\\nabla \\cdot \\vec{F} = 3$ och rotationen $\\nabla \\times \\vec{F} = 0$ (fältet är rotationsfritt). Notera att negativa värden på divergensen betyder att fältet *\"går ihop\"* (konvergerar). \n",
    "\n",
    "### Exempel\n",
    "\n",
    "Hastighetsfältet för en roterande fluid $\\vec{v} = \\vec{\\omega} \\times \\vec{r}$. Med $\\vec{\\omega} = \\omega \\hat{z}$ fås $\\vec{v} = -\\omega y\\hat{x} + \\omega sx\\hat{y}$ och rotationen blir $\\nabla \\times \\vec{v} = 2 \\omega \\hat{z}$ medan divergensen $\\nabla \\cdot \\vec{v} = 0$. Detta specifika hastighetsfält är alltså **divergensfritt**.\n",
    "\n",
    "### Laplaceoperatorn\n",
    "\n",
    "Vi kommer också att stöta på den viktiga **Laplaceoperatorn**: $\\Delta = \\nabla \\cdot \\nabla$. Verkande på ett skalärt fält i cartesiska koordinater blir detta"
   ]
  },
  {
   "cell_type": "markdown",
   "metadata": {},
   "source": [
    "$$\n",
    "\\begin{equation}\n",
    "\\Delta \\Phi = \\nabla \\cdot \\nabla \\Phi = \\left( \\partial_x^2 + \\partial_y^2 + \\partial_z^2 \\right) \\Phi.\n",
    "\\end{equation}\n",
    "$$"
   ]
  },
  {
   "cell_type": "markdown",
   "metadata": {},
   "source": [
    "Likaså kan denna verka på ett vektorfält $\\Delta \\vec{F} = \\nabla \\cdot \\nabla \\vec{F} = \\left( \\partial_x^2 + \\partial_y^2 + \\partial_z^2 \\right) \\vec{F}$.\n",
    "\n",
    "## Exempel: Potentialer\n",
    "\n",
    "En potential, $\\Phi$,  är ett viktigt specialfall av ett skalärt fält.  Ur en  potential kan vi beräkna ett vektorfält $\\vec{F} = - \\nabla \\Phi$, som vi ofta kallar för en fältstyrka.\n",
    "\n",
    "Vi kan då både konstruera nivåytorna till potentialen, vilka kallas ekvipotentialytor, och fältlinjerna till fältstyrkan.  Lägg märke till att ekvipotentialytorna och fältlinjerna överallt måste vara ortogonala mot varandra.\n",
    "\n",
    "### Exempel:\n",
    "\n",
    "Bestäm fältbilden till potentialen"
   ]
  },
  {
   "cell_type": "markdown",
   "metadata": {},
   "source": [
    "$$\n",
    "\\begin{equation}\n",
    "  \\Phi\\left(x,y\\right) = \\Phi_0 \\frac{x^2 + y^2}{ax}.\n",
    "\\end{equation}\n",
    "$$"
   ]
  },
  {
   "cell_type": "markdown",
   "metadata": {},
   "source": [
    "Vi börjar med att bestämma ekvipotentialkurvorna genom att sätta $\\Phi = 2C/\\Phi_0$, så att vi får ekvationen"
   ]
  },
  {
   "cell_type": "markdown",
   "metadata": {},
   "source": [
    "$$\n",
    "\\begin{equation}\n",
    "  2C = \\frac{x^2+y^2}{ax}.\n",
    "\\end{equation}\n",
    "$$"
   ]
  },
  {
   "cell_type": "markdown",
   "metadata": {},
   "source": [
    "Vi multiplicerar med $ax$ och sätter alla termerna på samma sida om likhetstecknet"
   ]
  },
  {
   "cell_type": "markdown",
   "metadata": {},
   "source": [
    "$$\n",
    "\\begin{equation}\n",
    "  0 = x^2 -2aCx +y^2.\n",
    "\\end{equation}\n",
    "$$"
   ]
  },
  {
   "cell_type": "markdown",
   "metadata": {},
   "source": [
    "Efter kvadratkomplettering får vi"
   ]
  },
  {
   "cell_type": "markdown",
   "metadata": {},
   "source": [
    "$$\n",
    "\\begin{equation}\n",
    "  0 = \\left(x - aC\\right)^2 -a^2 C^2 + y^2.\n",
    "\\end{equation}\n",
    "$$"
   ]
  },
  {
   "cell_type": "markdown",
   "metadata": {},
   "source": [
    "Denna ekvation kan vi skriva om som"
   ]
  },
  {
   "cell_type": "markdown",
   "metadata": {},
   "source": [
    "$$\n",
    "\\begin{equation}\n",
    "  a^2 C^2 = \\left(x - aC\\right)^2 + y^2,\n",
    "\\end{equation}\n",
    "$$"
   ]
  },
  {
   "cell_type": "markdown",
   "metadata": {},
   "source": [
    "vilket är ekvationen för en cirkel med centrum i $(aC,0)$ och radien $|aC|$.  Detta innebär att alla ekvipotentialytorna går genom origo.\n",
    "\n",
    "Nu bestämmer vi fältstyrkan"
   ]
  },
  {
   "cell_type": "markdown",
   "metadata": {},
   "source": [
    "$$\n",
    "\\begin{equation}\n",
    "  \\vec{F} = - \\nabla \\Phi = - \\frac{\\Phi_0}{a} \\left(1 - \\frac{y^2}{x^2},\n",
    "\\frac{2y}{x}\\right).\n",
    "\\end{equation}\n",
    "$$"
   ]
  },
  {
   "cell_type": "markdown",
   "metadata": {},
   "source": [
    "Fältlinjerna är då lösningen till"
   ]
  },
  {
   "cell_type": "markdown",
   "metadata": {},
   "source": [
    "4\n",
    "4\n",
    " \n",
    "<\n",
    "<\n",
    "<\n",
    "!\n",
    "!\n",
    "M\n",
    "A\n",
    "T\n",
    "H\n",
    "_\n",
    "B\n",
    "L\n",
    "O\n",
    "C\n",
    "K"
   ]
  },
  {
   "cell_type": "markdown",
   "metadata": {},
   "source": [
    "<!-- Equation labels as ordinary links -->\n",
    "<div id=\"y_ekv\"></div>\n",
    "\n",
    "$$\n",
    "\\begin{equation}\n",
    "  \\frac{\\mbox{d}y}{\\mbox{d}\\tau} = -C \\frac{\\Phi_0}{a} \\frac{2y}{x}.\n",
    "\\label{y_ekv} \\tag{2}\n",
    "\\end{equation}\n",
    "$$"
   ]
  },
  {
   "cell_type": "markdown",
   "metadata": {},
   "source": [
    "Vi dividerar nu [(2)](#y_ekv) med [(1)](#x_ekv)"
   ]
  },
  {
   "cell_type": "markdown",
   "metadata": {},
   "source": [
    "<!-- Equation labels as ordinary links -->\n",
    "<div id=\"diffekv\"></div>\n",
    "\n",
    "$$\n",
    "\\begin{equation}\n",
    "\\label{diffekv} \\tag{3}\n",
    "  \\frac{\\mbox{d}y}{\\mbox{d}x} = \\frac{2y/x}{1-y^2/x^2},\n",
    "\\end{equation}\n",
    "$$"
   ]
  },
  {
   "cell_type": "markdown",
   "metadata": {},
   "source": [
    "### Lösning 1\n",
    "\n",
    "(Se avsnitt 7.2 i Arfken.)\n",
    "\n",
    "Vi noterar att vi har den allmänna formen av en första ordningens differentialekvation"
   ]
  },
  {
   "cell_type": "markdown",
   "metadata": {},
   "source": [
    "$$\n",
    "\\begin{equation}\n",
    "\\frac{\\mbox{d}y}{\\mbox{d}x} = - \\frac{P(x,y)}{Q(x,y)}.\n",
    "\\end{equation}\n",
    "$$"
   ]
  },
  {
   "cell_type": "markdown",
   "metadata": {},
   "source": [
    "Hade vår ekvation varit separabel hade vi fått en väldigt snabb lösning. För en separabel diff.ekv. gäller att $P(x,y)=P(x)$ och $Q(x,y)=Q(y)$ så att"
   ]
  },
  {
   "cell_type": "markdown",
   "metadata": {},
   "source": [
    "$$\n",
    "\\begin{equation}\n",
    "Q(y) \\mbox{d}y = -P(x) \\mbox{d}x,\n",
    "\\end{equation}\n",
    "$$"
   ]
  },
  {
   "cell_type": "markdown",
   "metadata": {},
   "source": [
    "vilket vi enkelt kan integrera. Men tyvärr, i vårt fall kan vi inte skriva ekvationen på denna form. Istället undersöker vi om den är en exakt differential. I sådana fall existerar det en funktion $\\varphi(x,y)$ så att"
   ]
  },
  {
   "cell_type": "markdown",
   "metadata": {},
   "source": [
    "$$\n",
    "\\begin{equation}\n",
    "\\partial_x \\varphi(x,y) = P(x,y) \\quad \\mathrm{och} \\quad \\partial_y \\varphi(x,y) = Q(x,y).\n",
    "\\end{equation}\n",
    "$$"
   ]
  },
  {
   "cell_type": "markdown",
   "metadata": {},
   "source": [
    "Detta är i sin tur uppfyllt omm"
   ]
  },
  {
   "cell_type": "markdown",
   "metadata": {},
   "source": [
    "<!-- Equation labels as ordinary links -->\n",
    "<div id=\"exaktdiff\"></div>\n",
    "\n",
    "$$\n",
    "\\begin{equation}\n",
    "\\partial_y P(x,y) = \\partial_x Q(x,y).\n",
    "\\label{exaktdiff} \\tag{4}\n",
    "\\end{equation}\n",
    "$$"
   ]
  },
  {
   "cell_type": "markdown",
   "metadata": {},
   "source": [
    "I vårt fall är detta inte omedelbart sant eftersom vi har $P(x,y) = - 2y/x$ och $Q(x,y) = 1-y^2/x^2$. Men strukturen ser ändå lovande ut; vi skulle dock önska att kvoterna var de omvända, dvs $x/y$. Vi multiplicerar täljare och nämnare med $-x^2/y^2$ vilket ger"
   ]
  },
  {
   "cell_type": "markdown",
   "metadata": {},
   "source": [
    "$$\n",
    "\\begin{equation}\n",
    "P(x,y) = \\frac{2x}{y},\n",
    "\\end{equation}\n",
    "$$"
   ]
  },
  {
   "cell_type": "markdown",
   "metadata": {},
   "source": [
    "$$\n",
    "\\begin{equation}  \n",
    "Q(x,y) = 1 - \\frac{x^2}{y^2}.\n",
    "\\end{equation}\n",
    "$$"
   ]
  },
  {
   "cell_type": "markdown",
   "metadata": {},
   "source": [
    "vilket uppfyller $\\partial_y P(x,y) = \\partial_x Q(x,y)$ (kolla gärna). En sådan funktion (i vårt fall $\\alpha(x,y) = -x^2/y^2$) kallas för en integrerande faktor och går alltid att finna. Men tyvärr existerar det inget systematiskt sätt att konstruera denna (förutom för linjära, första ordningens ODE).\n",
    "\n",
    "Under detta villkor har diff.ekvationen lösningen"
   ]
  },
  {
   "cell_type": "markdown",
   "metadata": {},
   "source": [
    "$$\n",
    "\\begin{equation}\n",
    "\\int_{x_0}^x P(x',y) \\mbox{d}x' + \\int_{y_0}^y Q(x_0,y') \\mbox{d}y' = \\mathrm{konstant}. \n",
    "\\end{equation}\n",
    "$$"
   ]
  },
  {
   "cell_type": "markdown",
   "metadata": {},
   "source": [
    "Vi får att"
   ]
  },
  {
   "cell_type": "markdown",
   "metadata": {},
   "source": [
    "$$\n",
    "\\begin{equation}\n",
    "\\mathrm{konstant} = \\left[ \\frac{x'^2}{y} \\right]_{x_0}^x + \\left[ y' + \\frac{x_0^2}{y'} \\right]_{y_0}^y. \n",
    "\\end{equation}\n",
    "$$"
   ]
  },
  {
   "cell_type": "markdown",
   "metadata": {},
   "source": [
    "Vi kan baka ihop alla konstanter och kalla denna för $2D$ vilket ger"
   ]
  },
  {
   "cell_type": "markdown",
   "metadata": {},
   "source": [
    "$$\n",
    "\\begin{equation}\n",
    "x^2 + y^2 - 2 D y = 0.\n",
    "\\end{equation}\n",
    "$$"
   ]
  },
  {
   "cell_type": "markdown",
   "metadata": {},
   "source": [
    "Efter kvadratkomplettering får vi"
   ]
  },
  {
   "cell_type": "markdown",
   "metadata": {},
   "source": [
    "$$\n",
    "\\begin{equation}\n",
    "  x^2 + \\left(y-D\\right)^2 = D^2,\n",
    "\\end{equation}\n",
    "$$"
   ]
  },
  {
   "cell_type": "markdown",
   "metadata": {},
   "source": [
    "vilket är ekvationen för en cirkel med centrum i $(0,D)$ och med radien $D$, det vill säga alla fältlinjerna går genom origo.\n",
    "\n",
    "### Lösning 2\n",
    "\n",
    "Diff.ekvationen ovan kan skrivas om som"
   ]
  },
  {
   "cell_type": "markdown",
   "metadata": {},
   "source": [
    "$$\n",
    "\\begin{equation}\n",
    "  \\left(1 - \\frac{y^2}{x^2}\\right) \\frac{\\mbox{d}y}{\\mbox{d}x} = \\frac{2y}{x}.\n",
    "\\end{equation}\n",
    "$$"
   ]
  },
  {
   "cell_type": "markdown",
   "metadata": {},
   "source": [
    "Om vi flyttar om termerna så får vi"
   ]
  },
  {
   "cell_type": "markdown",
   "metadata": {},
   "source": [
    "$$\n",
    "\\begin{equation}\n",
    "  \\left(1 - \\frac{y^2}{x^2}\\right) \\frac{\\mbox{d}y}{\\mbox{d}x} - \\frac{2y}{x} = \n",
    "0.\n",
    "\\end{equation}\n",
    "$$"
   ]
  },
  {
   "cell_type": "markdown",
   "metadata": {},
   "source": [
    "Multiplicera med $-x^2/y^2$"
   ]
  },
  {
   "cell_type": "markdown",
   "metadata": {},
   "source": [
    "$$\n",
    "\\begin{equation}\n",
    "  \\left(1 - \\frac{x^2}{y^2}\\right) \\frac{\\mbox{d}y}{\\mbox{d}x} + \\frac{2x}{y}\n",
    "= 0.\n",
    "\\end{equation}\n",
    "$$"
   ]
  },
  {
   "cell_type": "markdown",
   "metadata": {},
   "source": [
    "Vi noterar nu att"
   ]
  },
  {
   "cell_type": "markdown",
   "metadata": {},
   "source": [
    "$$\n",
    "\\begin{equation}\n",
    "  \\frac{\\mbox{d}}{\\mbox{d}x} \\left(\\frac{x^2}{y} + y\\right) =\n",
    "\\frac{2x}{y} - \\frac{x^2}{y^2} \\frac{\\mbox{d}y}{\\mbox{d}x} + \n",
    "\\frac{\\mbox{d}y}{\\mbox{d}x} = \\left(1 - \\frac{x^2}{y^2}\\right) \n",
    "\\frac{\\mbox{d}y}{\\mbox{d}x} + \\frac{2x}{y},\n",
    "\\end{equation}\n",
    "$$"
   ]
  },
  {
   "cell_type": "markdown",
   "metadata": {},
   "source": [
    "det vill säga vår ekvation kan skrivas"
   ]
  },
  {
   "cell_type": "markdown",
   "metadata": {},
   "source": [
    "$$\n",
    "\\begin{equation}\n",
    "  \\frac{\\mbox{d}}{\\mbox{d}x} \\left(\\frac{x^2}{y} + y\\right) = 0.\n",
    "\\end{equation}\n",
    "$$"
   ]
  },
  {
   "cell_type": "markdown",
   "metadata": {},
   "source": [
    "Om vi integrerar detta uttryck får vi"
   ]
  },
  {
   "cell_type": "markdown",
   "metadata": {},
   "source": [
    "$$\n",
    "\\begin{equation}\n",
    "  \\frac{x^2}{y} + y = 2D,\n",
    "\\end{equation}\n",
    "$$"
   ]
  },
  {
   "cell_type": "markdown",
   "metadata": {},
   "source": [
    "där $D$ är en integrationskonstant.  Vi multiplicerar med $y$"
   ]
  },
  {
   "cell_type": "markdown",
   "metadata": {},
   "source": [
    "$$\n",
    "\\begin{equation}\n",
    "  x^2 + y^2 = 2Dy.\n",
    "\\end{equation}\n",
    "$$"
   ]
  },
  {
   "cell_type": "markdown",
   "metadata": {},
   "source": [
    "Detta är samma lösning som ovan."
   ]
  }
 ],
 "metadata": {},
 "nbformat": 4,
 "nbformat_minor": 0
}
