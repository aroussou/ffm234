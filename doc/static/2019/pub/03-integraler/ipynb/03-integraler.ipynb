{
 "cells": [
  {
   "cell_type": "markdown",
   "metadata": {},
   "source": [
    "<!-- dom:TITLE: FFM232, Klassisk fysik och vektorfält - Föreläsningsanteckningar -->\n",
    "# FFM232, Klassisk fysik och vektorfält - Föreläsningsanteckningar\n",
    "<!-- dom:AUTHOR: [Christian Forssén](http://fy.chalmers.se/subatom/tsp/), Institutionen för fysik, Chalmers, Göteborg, Sverige -->\n",
    "<!-- Author: --> **[Christian Forssén](http://fy.chalmers.se/subatom/tsp/), Institutionen för fysik, Chalmers, Göteborg, Sverige**\n",
    "\n",
    "Date: **Sep 9, 2016**\n",
    "\n",
    "# 3. Integraler\n",
    "Det mesta av detta material förutsätts vara känt från kursen i flervariabelanalys. Vi kommer att repetera\n",
    "### Linje- (kurv-) integraler\n",
    "\n",
    "* t.ex. $\\int_C \\vec{F} \\cdot d\\vec{r}$\n",
    "\n",
    "* eller $\\int_C \\phi \\cdot ds$\n",
    "\n",
    "* eller ...\n",
    "\n",
    "* (integral över en sluten kurva betecknas $\\oint_C \\vec{F} \\cdot d\\vec{r}$)\n",
    "\n",
    "### Ytintegraler\n",
    "\n",
    "* t.ex. $\\int_S \\vec{F} \\cdot d\\vec{S}$\n",
    "\n",
    "* eller ...\n",
    "\n",
    "* (integral över en sluten yta betecknas $\\oint_C \\vec{F} \\cdot d\\vec{S}$)\n",
    "\n",
    "<!-- dom:FIGURE:[fig/yta.pdf, width=400 frac=0.4] -->\n",
    "<!-- begin figure -->\n",
    "\n",
    "<p></p>\n",
    "<img src=\"fig/yta.pdf\" width=400>\n",
    "\n",
    "<!-- end figure -->\n",
    "\n",
    "\n",
    "### Volymintegraler\n",
    "\n",
    "* $\\int_V \\vec{F} dV$\n",
    "\n",
    "## Parametrisering\n",
    "Integralerna kan i allmänhet lösas genom parametrisering. \n",
    "\n",
    "### Parametrisering av kurvintegraler:\n",
    "\n",
    "T.ex. ges en kurva $C$ av $\\vec{r}(\\tau)$ med $\\tau \\in [\\tau_1,\\tau_2]$. Då blir"
   ]
  },
  {
   "cell_type": "markdown",
   "metadata": {},
   "source": [
    "$$\n",
    "\\begin{equation}\n",
    "  \\int_C \\vec{F}\\cdot \\mbox{d}\\vec{r} = \\int_{\\tau_1}^{\\tau_2} \\vec{F}\n",
    "\\cdot \\frac{\\mbox{d}\\vec{r}}{\\mbox{d}\\tau} \\mbox{d}\\tau,\n",
    "\\end{equation}\n",
    "$$"
   ]
  },
  {
   "cell_type": "markdown",
   "metadata": {},
   "source": [
    "och efter att ha beräknat skalärprodukten har vi en helt vanlig endimensionell integral.\n",
    "\n",
    "<!-- dom:FIGURE:[fig/kurva.pdf, width=400 frac=0.4] -->\n",
    "<!-- begin figure -->\n",
    "\n",
    "<p></p>\n",
    "<img src=\"fig/kurva.pdf\" width=400>\n",
    "\n",
    "<!-- end figure -->\n",
    "\n",
    "\n",
    "[Comment 1: Lägg här märke till att $d\\vec{r}/d\\tau$ är en tangentvektor till kurvan $C$.  I princip finns det oändligt många parametriseringar till kurvan $C$, och rent matematiskt spelar det ingen roll vilken man väljer, fast vissa parametriseringar ger snällare räkningar än andra!]\n",
    "\n",
    "Ibland är kurvan $C$ sluten, det vill säga kurvans start- och slutpunkt sammanfaller. \n",
    "\n",
    "<!-- dom:FIGURE:[fig/slutenkurva.pdf, width=400 frac=0.4] -->\n",
    "<!-- begin figure -->\n",
    "\n",
    "<p></p>\n",
    "<img src=\"fig/slutenkurva.pdf\" width=400>\n",
    "\n",
    "<!-- end figure -->\n",
    "\n",
    "\n",
    "Man skriver då integralen som"
   ]
  },
  {
   "cell_type": "markdown",
   "metadata": {},
   "source": [
    "$$\n",
    "\\begin{equation}\n",
    "  \\oint_C \\vec{F} \\cdot \\mbox{d}\\vec{r}.\n",
    "\\end{equation}\n",
    "$$"
   ]
  },
  {
   "cell_type": "markdown",
   "metadata": {},
   "source": [
    "Det finns andra typer av linjeintegraler, till exempel"
   ]
  },
  {
   "cell_type": "markdown",
   "metadata": {},
   "source": [
    "$$\n",
    "\\begin{equation}\n",
    "  \\int \\phi \\mbox{d}\\vec{r}, \\quad \\int \\phi \\mbox{d}s\n",
    "\\end{equation}\n",
    "$$"
   ]
  },
  {
   "cell_type": "markdown",
   "metadata": {},
   "source": [
    "där $\\phi$ är ett skalärt fält och $\\mbox{d}s = | \\mbox{d}\\vec{r} | $. Samt"
   ]
  },
  {
   "cell_type": "markdown",
   "metadata": {},
   "source": [
    "$$\n",
    "\\begin{equation}\n",
    "  \\int \\vec{F} \\times \\mbox{d}\\vec{r}, \\quad \\int \\vec{F} \\mbox{d}s.\n",
    "\\end{equation}\n",
    "$$"
   ]
  },
  {
   "cell_type": "markdown",
   "metadata": {},
   "source": [
    "## Studera räkneexempel:\n",
    "* Kurvintegral, cirkel 1\n",
    "\n",
    "* Kurvintegral, cirkel 2\n",
    "\n",
    "## Konservativa fält\n",
    "Om"
   ]
  },
  {
   "cell_type": "markdown",
   "metadata": {},
   "source": [
    "$$\n",
    "\\begin{equation}\n",
    "  \\oint_C \\vec{F} \\cdot\\mbox{d}\\vec{r} = 0\n",
    "\\end{equation}\n",
    "$$"
   ]
  },
  {
   "cell_type": "markdown",
   "metadata": {},
   "source": [
    "för varje sluten kurva $C$, så säges fältet $\\vec{F}$ vara konservativt.  För ett konservativt fält $\\vec{F}$ gäller att givet en fix startpunkt A och en fix slutpunkt B, så beror integralen"
   ]
  },
  {
   "cell_type": "markdown",
   "metadata": {},
   "source": [
    "$$\n",
    "\\begin{equation}\n",
    "  \\int_C \\vec{F} \\cdot\\mbox{d}\\vec{r}\n",
    "\\end{equation}\n",
    "$$"
   ]
  },
  {
   "cell_type": "markdown",
   "metadata": {},
   "source": [
    "inte på valet av kurvan $C$ mellan dessa punkter.  Betrakta två kurvor $C_1$ och $C_2$ mellan A och B.  Då kan vi skapa en sluten kurva $C_0$ genom att först följa kurvan $C_1$ från A till B, och sedan kurvan $C_2$ baklänges, det vill säga i negativ riktning, tillbaka till A. Integralen över $C_0$ måste då vara 0, fast den integralen kan vi också skriva som"
   ]
  },
  {
   "cell_type": "markdown",
   "metadata": {},
   "source": [
    "$$\n",
    "\\begin{equation}\n",
    "  \\oint_{C_0} \\vec{F} \\cdot\\mbox{d}\\vec{r} = \\int_{C_1} \n",
    "\\vec{F} \\cdot\\mbox{d}\\vec{r} - \\int_{C_2} \\vec{F} \\cdot\\mbox{d}\\vec{r} = 0,\n",
    "\\end{equation}\n",
    "$$"
   ]
  },
  {
   "cell_type": "markdown",
   "metadata": {},
   "source": [
    "ty integralen byter tecken om vi följer kurvan i *fel* riktning. Nu följer det att"
   ]
  },
  {
   "cell_type": "markdown",
   "metadata": {},
   "source": [
    "$$\n",
    "\\begin{equation}\n",
    "  \\int_{C_1} \\vec{F} \\cdot\\mbox{d}\\vec{r} = \\int_{C_2} \\vec{F} \\cdot\\mbox{d}\n",
    "\\vec{r}.\n",
    "\\end{equation}\n",
    "$$"
   ]
  },
  {
   "cell_type": "markdown",
   "metadata": {},
   "source": [
    "## Studera räkneexempel:\n",
    "* Kurvintegral, fältstyrka\n",
    "\n",
    "### Parametrisering av ytintegraler:\n",
    "\n",
    "Precis som man kan beräkna linjeintegralerna genom att parametrisera linjen längs vilken man integrerar kan man beräkna ytintegralerna genom att parametrisera ytan längs med vilken man integrerar.  Skillnaden är att genom att ytan är två-dimensionell så behöver man två parametrar. Antag att ortsvektorerna för punkterna på ytan kan skrivas som $\\vec{r}(v,w)$ där $v$ och $w$ är våra parametrar.  Vi kan då bilda två tangentvektorer till ytan"
   ]
  },
  {
   "cell_type": "markdown",
   "metadata": {},
   "source": [
    "$$\n",
    "\\begin{equation}\n",
    "  \\frac{\\partial \\vec{r}}{\\partial v} \\quad \\mathrm{och} \\quad\n",
    "\\frac{\\partial \\vec{r}}{\\partial w}.\n",
    "\\end{equation}\n",
    "$$"
   ]
  },
  {
   "cell_type": "markdown",
   "metadata": {},
   "source": [
    "Förutsatt att dessa tangentvektorer inte är parallella, annars måste vi finna en ny parametrisering, kan vi bilda en normalvektor till ytan"
   ]
  },
  {
   "cell_type": "markdown",
   "metadata": {},
   "source": [
    "$$\n",
    "\\begin{equation}\n",
    "  \\frac{\\partial \\vec{r}}{\\partial v} \\times \\frac{\\partial \\vec{r}}{\\partial w}.\n",
    "\\end{equation}\n",
    "$$"
   ]
  },
  {
   "cell_type": "markdown",
   "metadata": {},
   "source": [
    "<!-- dom:FIGURE:[fig/ytparametrisering.pdf, width=600 frac=0.6] -->\n",
    "<!-- begin figure -->\n",
    "\n",
    "<p></p>\n",
    "<img src=\"fig/ytparametrisering.pdf\" width=600>\n",
    "\n",
    "<!-- end figure -->\n",
    "\n",
    "\n",
    "Analogt med hur vi tidigare uttryckte linjeintegralen med hjälp av vår parameter kan vi nu skriva ytintegralen som"
   ]
  },
  {
   "cell_type": "markdown",
   "metadata": {},
   "source": [
    "$$\n",
    "\\begin{equation}\n",
    "  \\int_S \\vec{F} \\cdot \\mbox{d}\\vec{S} = \\int_S \\vec{F} \\cdot \n",
    "\\frac{\\partial \\vec{r}}{\\partial v} \\times \\frac{\\partial \\vec{r}}{\\partial w}\n",
    "\\mbox{d}v \\mbox{d}w,\n",
    "\\end{equation}\n",
    "$$"
   ]
  },
  {
   "cell_type": "markdown",
   "metadata": {},
   "source": [
    "där $\\mbox{d}\\vec{S} = \\hat{n} \\mbox{d}S = \\frac{\\partial \\vec{r}}{\\partial v} \\times \\frac{\\partial \\vec{r}}{\\partial w} \\mbox{d}v \\mbox{d}w$ är ytan på det parallellogram som spänns upp av de två tangentvektorerna. Normalvektorn uppfyller $|\\hat{n}|=1$.\n",
    "\n",
    "Allmänt skriver man ytintegraler över en yta $S$ (ofta använder man i de här sammanhangen $S$ för att beteckna en yta) som"
   ]
  },
  {
   "cell_type": "markdown",
   "metadata": {},
   "source": [
    "$$\n",
    "\\begin{equation}\n",
    "  \\int_S \\vec{F} \\cdot \\mbox{d}\\vec{S}.\n",
    "\\end{equation}\n",
    "$$"
   ]
  },
  {
   "cell_type": "markdown",
   "metadata": {},
   "source": [
    "För att skilja dessa integraler från andra ytintegraler, som emellanåt förekommer, kallar man dem för normalytintegraler.\n",
    "\n",
    "## Studera räkneexempel:\n",
    "* Cylinderyta\n",
    "\n",
    "[Comment 2: För resten av den här kursen kommer det ofta att vara lämpligt att på detta sätt beskriva arean av ett ytelement som en vektor.  En komplikation är förstås att en yta i allmänhet har två motsatta normalvektorer, och man måste därför ange vilken riktning som är positiv. Ytterligare en komplikation är att det finns ytor för vilka man inte kan definiera normalvektorn på ett kontinuerligt sätt över hela ytan, till exempel Möbius-bandet.  Vi skall inte befatta oss med sådana ytor här, utan begränsa oss till orienterbara ytor, ytor som har en insida och en utsida.]\n",
    "\n",
    "Om ytan $S$ är sluten så skriver man"
   ]
  },
  {
   "cell_type": "markdown",
   "metadata": {},
   "source": [
    "$$\n",
    "\\begin{equation}\n",
    "  \\oint_S \\vec{F} \\cdot \\mbox{d}\\vec{S}.\n",
    "\\end{equation}\n",
    "$$"
   ]
  },
  {
   "cell_type": "markdown",
   "metadata": {},
   "source": [
    "För slutna ytor definierar man den positiva riktningen som den som ges av en vektor som pekar ut från den inneslutna volymen.\n",
    "\n",
    "Det finns också andra former av ytintegraler, vilka emellanåt används:"
   ]
  },
  {
   "cell_type": "markdown",
   "metadata": {},
   "source": [
    "$$\n",
    "\\begin{equation}\n",
    "  \\int_S \\phi dS,\n",
    "\\end{equation}\n",
    "$$"
   ]
  },
  {
   "cell_type": "markdown",
   "metadata": {},
   "source": [
    "där $\\phi$ är en skalär, och vi i detta fall inte betraktar $S$ som en \n",
    "vektor."
   ]
  },
  {
   "cell_type": "markdown",
   "metadata": {},
   "source": [
    "$$\n",
    "\\begin{equation}\n",
    "  \\int_S \\phi d\\vec{S}\n",
    "\\end{equation}\n",
    "$$"
   ]
  },
  {
   "cell_type": "markdown",
   "metadata": {},
   "source": [
    "Skillnaden mot det första fallet är att $S$ här behandlas som en vektor."
   ]
  },
  {
   "cell_type": "markdown",
   "metadata": {},
   "source": [
    "$$\n",
    "\\begin{equation}\n",
    "  \\int_S \\vec{v} \\times d\\vec{S}\n",
    "\\end{equation}\n",
    "$$"
   ]
  },
  {
   "cell_type": "markdown",
   "metadata": {},
   "source": [
    "där $\\vec{v}$ är en vektorvärd funktion.\n",
    "\n",
    "\n",
    "### Parametrisering av volymintegraler\n",
    "\n",
    "Det finns bara två möjliga sätt att volymintegrera ett fält. Med (det skalära) volymelementet $\\mbox{d}V$"
   ]
  },
  {
   "cell_type": "markdown",
   "metadata": {},
   "source": [
    "$$\n",
    "\\begin{equation}\n",
    "\\int_V \\phi \\mbox{d}V,\\quad \\int_V \\vec{F} \\mbox{d}V.\n",
    "\\end{equation}\n",
    "$$"
   ]
  },
  {
   "cell_type": "markdown",
   "metadata": {},
   "source": [
    "En parametrisering med $(u,v,w)$ ger att volymselementet blir volymen av parallellepipeden med sidorna $\\frac{\\partial \\vec{r}}{\\partial u} \\mbox{d}u$, $\\frac{\\partial \\vec{r}}{\\partial v} \\mbox{d}v$, $\\frac{\\partial \\vec{r}}{\\partial w} \\mbox{d}w$ (som då måste vara linjärt oberoende). Denna volym är"
   ]
  },
  {
   "cell_type": "markdown",
   "metadata": {},
   "source": [
    "$$\n",
    "\\begin{equation}\n",
    "\\mbox{d}V = \\left| \\frac{\\partial \\vec{r}}{\\partial u} \\cdot \\left( \\frac{\\partial \\vec{r}}{\\partial v} \\times \\frac{\\partial \\vec{r}}{\\partial w} \\right) \\right| \\mbox{d}u \\mbox{d}v \\mbox{d}w.\n",
    "\\end{equation}\n",
    "$$"
   ]
  },
  {
   "cell_type": "markdown",
   "metadata": {},
   "source": [
    "## Integration med ortogonala kroklinjiga koordinater\n",
    "\n",
    "Från tidigare kapitel har vi"
   ]
  },
  {
   "cell_type": "markdown",
   "metadata": {},
   "source": [
    "$$\n",
    "\\begin{equation}\n",
    "d\\vec{r} = \\hat{e}_1 h_1 du_1 + \\hat{e}_2 h_2 du_2 + \\hat{e}_3 h_3 du_3\n",
    "\\end{equation}\n",
    "$$"
   ]
  },
  {
   "cell_type": "markdown",
   "metadata": {},
   "source": [
    "Vidare ytelementet, t.ex. för en $u_1$-yta (dvs i $u_2 u_3$-planet):"
   ]
  },
  {
   "cell_type": "markdown",
   "metadata": {},
   "source": [
    "$$\n",
    "\\begin{equation}\n",
    "\\mbox{d} S_1 = h_2 h_3 \\mbox{d}u_2 \\mbox{d}u_3 \n",
    "\\end{equation}\n",
    "$$"
   ]
  },
  {
   "cell_type": "markdown",
   "metadata": {},
   "source": [
    "$$\n",
    "\\begin{equation} \n",
    "\\mbox{d} \\vec{S}_1 = \\pm \\hat{e}_1 h_2 h_3 \\mbox{d}u_2 \\mbox{d}u_3 \n",
    "\\end{equation}\n",
    "$$"
   ]
  },
  {
   "cell_type": "markdown",
   "metadata": {},
   "source": [
    "vilket man t.ex. ser från"
   ]
  },
  {
   "cell_type": "markdown",
   "metadata": {},
   "source": [
    "$$\n",
    "\\begin{equation}\n",
    "\\mbox{d} \\vec{S}_1 = \\frac{d\\vec{r}}{du_2} \\times \\frac{d\\vec{r}}{du_3} du_2 du_3\n",
    "= \\hat{e}_1 h_2 h_3 \\mbox{d}u_2 \\mbox{d}u_3 \n",
    "\\end{equation}\n",
    "$$"
   ]
  },
  {
   "cell_type": "markdown",
   "metadata": {},
   "source": [
    "Volymelement:"
   ]
  },
  {
   "cell_type": "markdown",
   "metadata": {},
   "source": [
    "$$\n",
    "\\begin{equation}\n",
    "\\mbox{d} V = h_1 h_2 h_3 \\mbox{d}u_1 \\mbox{d}u_2 \\mbox{d}u_3.\n",
    "\\end{equation}\n",
    "$$"
   ]
  },
  {
   "cell_type": "markdown",
   "metadata": {},
   "source": [
    "Med ett vektorfält $\\vec{F}$ som tecknas i det kroklinjiga koordinatsystemet $\\vec{F} = F_1 \\hat{e}_1 + F_2 \\hat{e}_2 + F_3 \\hat{e}_3$ får vi t.ex."
   ]
  },
  {
   "cell_type": "markdown",
   "metadata": {},
   "source": [
    "$$\n",
    "\\begin{equation}\n",
    "\\int_{C_1} \\vec{F} \\cdot d\\vec{r} = \\int_{C_1} F_1 h_1 du_1 \n",
    "\\end{equation}\n",
    "$$"
   ]
  },
  {
   "cell_type": "markdown",
   "metadata": {},
   "source": [
    "$$\n",
    "\\begin{equation} \n",
    "\\int_{S_1} \\vec{F} \\cdot d\\vec{S}_1 = \\int_{S_1} F_1 h_2 h_3 du_2 du_3 \n",
    "\\end{equation}\n",
    "$$"
   ]
  },
  {
   "cell_type": "markdown",
   "metadata": {},
   "source": [
    "$$\n",
    "\\begin{equation} \n",
    "\\int_V \\vec{F} dV = \\int_V \\vec{F} h_1 h_2 h_3 du_a du_2 du_3,\n",
    "\\end{equation}\n",
    "$$"
   ]
  },
  {
   "cell_type": "markdown",
   "metadata": {},
   "source": [
    "där $C_1$ är en kurva längs $u_1$-riktningen och $S_1$ är en $u_1$-yta.\n",
    "\n",
    "## Räkneexempel: Linjeintegraler\n",
    "\n",
    "### Exempel: Kurvintegral, cirkel 1\n",
    "\n",
    "---------------------------------------------\n",
    "\n",
    "Beräkna integralen $\\oint_C \\phi d\\vec{r}$ där $\\phi = \\phi_0$ (konstant) och kurvan $C$ beskriver en cirkel i xy-planet med radie $a$ och centrum i origo som genomlöps medurs.\n",
    "\n",
    "* Notera att svaret kommer att bli en vektor.\n",
    "\n",
    "* Parametrisera kurvan (notera riktningen): $\\vec{r}(\\tau) = x(\\tau)\\hat{x} + y(\\tau)\\hat{y} = a \\sin\\omega\\tau \\hat{x} + a \\cos\\omega\\tau \\hat{y}$ med $\\tau \\in [0,2\\pi/\\omega]$.\n",
    "\n",
    "* Vi inkluderar konstanten $\\omega$ för att illustrera att det finns ett oändligt antal parametriseringar och att svaret inte kan bero på detta.\n",
    "\n",
    "* Förskjutningsvektorn $d\\vec{r} = \\hat{x} \\frac{dx}{d\\tau}d\\tau + \\hat{y} \\frac{dy}{d\\tau}d\\tau$.\n",
    "\n",
    "Den parametriserade kurvintegralen blir"
   ]
  },
  {
   "cell_type": "markdown",
   "metadata": {},
   "source": [
    "$$\n",
    "\\begin{equation}\n",
    "\\oint_C \\phi d\\vec{r} = \\phi_0 \\oint_0^{2\\pi/\\omega} \\left[\n",
    "\\hat{x} a \\omega\\cos\\omega\\tau - \\hat{y} a \\omega\\sin\\omega\\tau \\right] d\\tau = 0\n",
    "\\end{equation}\n",
    "$$"
   ]
  },
  {
   "cell_type": "markdown",
   "metadata": {},
   "source": [
    "---------------------------------------------\n",
    "\n",
    "### Exempel: Kurvintegral, cirkel 2\n",
    "\n",
    "---------------------------------------------\n",
    "\n",
    "Beräkna integralen $\\oint_C \\phi dr$ där $\\phi = \\phi_0$ (konstant) och kurvan $C$ beskriver en cirkel i xy-planet med radie $a$ och centrum i origo som genomlöps medurs.\n",
    "\n",
    "* Notera att svaret kommer att bli en skalär.\n",
    "\n",
    "* Lite eftertanke ger att svaret borde bli $\\phi_0 2 \\pi a$, dvs den konstanta potentialen gånger omkretsen på cirkeln.\n",
    "\n",
    "* Bågelementet blir $dr = |d\\vec{r}| = \\sqrt{\\left( \\frac{dx}{d\\tau} \\right)^2 d\\tau^2 + \\left( \\frac{dy}{d\\tau} \\right)^2 d\\tau^2 } = a \\omega d\\tau$\n",
    "\n",
    "Den parametriserade kurvintegralen blir"
   ]
  },
  {
   "cell_type": "markdown",
   "metadata": {},
   "source": [
    "$$\n",
    "\\begin{equation}\n",
    "\\oint_C \\phi ds = \\phi_0 a \\omega \\oint_0^{2\\pi/\\omega}  d\\tau = \\phi_0 2 \\pi a \n",
    "\\end{equation}\n",
    "$$"
   ]
  },
  {
   "cell_type": "markdown",
   "metadata": {},
   "source": [
    "---------------------------------------------\n",
    "\n",
    "### Exempel: Kurvintegral, fältstyrka\n",
    "\n",
    "---------------------------------------------\n",
    "\n",
    "Betrakta kurvintegralen $\\int_C \\vec{A} \\cdot d\\vec{r}$ där $\\vec{A} = -\\nabla \\phi$, dvs en fältstyrka.\n",
    "* Det betyder att $\\int_C \\vec{A} \\cdot d\\vec{r} = -\\int_C \\nabla{\\phi} \\cdot d\\vec{r}$.\n",
    "\n",
    "* Kom ihåg att $\\nabla\\phi \\cdot d\\vec{r} = d\\phi$.\n",
    "\n",
    "* Alltså $\\int_C \\vec{A} \\cdot d\\vec{r} = -\\int_{\\phi_1}^{\\phi_2} d{\\phi} = \\phi_1 - \\phi_2$.\n",
    "\n",
    "Dvs kurvintegralen av en fältstyrka är oberoende av vägen $C$ utan beror bara på potentialens värden i start- och slutpunkterna.\n",
    "\n",
    "---------------------------------------------\n",
    "### Exempel: Kraft och arbete\n",
    "\n",
    "---------------------------------------------\n",
    "\n",
    "En partikel rör sig längs en bana C, som ges av $\\vec{r}(t)$, under inverkan av en kraft $\\vec{F}(\\vec{r})$.  Vi vill då beräkna arbetet som kraften utövar på partikeln.  Mellan punkterna $\\vec{r}$ och $\\vec{r}+\\mbox{d}\\vec{r}$ så är arbetet"
   ]
  },
  {
   "cell_type": "markdown",
   "metadata": {},
   "source": [
    "$$\n",
    "\\begin{equation}\n",
    "  \\mbox{d}W = \\vec{F}\\cdot \\mbox{d}\\vec{r}.\n",
    "\\end{equation}\n",
    "$$"
   ]
  },
  {
   "cell_type": "markdown",
   "metadata": {},
   "source": [
    "Vi kan då beräkna arbetet längs hela kurvan genom att beräkna integralen"
   ]
  },
  {
   "cell_type": "markdown",
   "metadata": {},
   "source": [
    "$$\n",
    "\\begin{equation}\n",
    "  W = \\int_C \\vec{F}\\cdot \\mbox{d}\\vec{r}.\n",
    "\\end{equation}\n",
    "$$"
   ]
  },
  {
   "cell_type": "markdown",
   "metadata": {},
   "source": [
    "Denna integral är ett exempel på en linjeintegral (kurvintegral). Vi kan skriva"
   ]
  },
  {
   "cell_type": "markdown",
   "metadata": {},
   "source": [
    "$$\n",
    "\\begin{equation}\n",
    "  W = \\int_C \\vec{F} \\cdot \\frac{\\mbox{d}\\vec{r}}{\\mbox{d}t} \\mbox{d}t = \\int P \\mbox{d}t,\n",
    "\\end{equation}\n",
    "$$"
   ]
  },
  {
   "cell_type": "markdown",
   "metadata": {},
   "source": [
    "där $P$ är effekten.\n",
    "\n",
    "---------------------------------------------\n",
    "\n",
    "### Exempel: Konservativ kraft och arbete\n",
    "\n",
    "-----------------------------------------\n",
    "\n",
    "En elektron rör sig längs banan $y = \\frac{x^2}{H}$ från $(0,0)$ till $(L,L^2/H)$ under inverkan av en elektrostatisk kraft $\\vec{F} = e E_0\\hat{y}$.  Beräkna det arbete som kraften utför på elektronen.\n",
    "\n",
    "*Lösning 1:*  Arbetet ges av integralen"
   ]
  },
  {
   "cell_type": "markdown",
   "metadata": {},
   "source": [
    "$$\n",
    "\\begin{equation}\n",
    "  \\int_C eE_0 \\hat{y} \\cdot \\mbox{d}\\vec{r},\n",
    "\\end{equation}\n",
    "$$"
   ]
  },
  {
   "cell_type": "markdown",
   "metadata": {},
   "source": [
    "där $C$ är den kurva som elektronen följer.  Vi kan nu använda koordinaten $x$ för att parametrisera vår kurva och skriver kurvan som $\\vec{r}(x) = (x, x^2/H)$.  Då gäller att"
   ]
  },
  {
   "cell_type": "markdown",
   "metadata": {},
   "source": [
    "$$\n",
    "\\begin{equation}\n",
    "  \\frac{\\mbox{d}\\vec{r}}{\\mbox{d}x} = \\left(1,\\frac{2x}{H}\\right).\n",
    "\\end{equation}\n",
    "$$"
   ]
  },
  {
   "cell_type": "markdown",
   "metadata": {},
   "source": [
    "Vi kan nu beräkna arbetet ur"
   ]
  },
  {
   "cell_type": "markdown",
   "metadata": {},
   "source": [
    "$$\n",
    "\\begin{equation}\n",
    "  \\int_C eE_0 \\hat{y} \\cdot \\mbox{d}\\vec{r} = \\int_0^LeE_0 \\hat{y} \\cdot\n",
    "\\frac{\\mbox{d}\\vec{r}}{\\mbox{d}x} \\mbox{d}x = \\int_0^LeE_0 \\frac{2x}{H} \n",
    "\\mbox{d}x = \\frac{eE_0}{H} \\left[x^2\\right]_0^L = \\frac{e E_0 L^2}{H}.\n",
    "\\end{equation}\n",
    "$$"
   ]
  },
  {
   "cell_type": "markdown",
   "metadata": {},
   "source": [
    "*Lösning 2:*  Elektrostatiska krafter är konservativa, så vi kan ersätta kurvan med två räta linjer, en $C_1$ som går från $(0,0)$ till $(L,0)$ och är parallell med $x$-axeln, och en kurva $C_2$ som går från $(L,0)$ till $(L,L^2/H)$ och är parallell med $y$-axeln. Arbetet kan nu skrivas som"
   ]
  },
  {
   "cell_type": "markdown",
   "metadata": {},
   "source": [
    "$$\n",
    "\\begin{equation}\n",
    "   \\int_C eE_0 \\hat{y} \\cdot \\mbox{d}r = \\int_{C_1} eE_0 \n",
    "\\hat{y} \\cdot \\mbox{d}r + \\int_{C_2} eE_0 \\hat{y} \\cdot \\mbox{d}r.\n",
    "\\end{equation}\n",
    "$$"
   ]
  },
  {
   "cell_type": "markdown",
   "metadata": {},
   "source": [
    "Eftersom kraften överallt är ortogonal mot kurvan $C_1$ följer att \n",
    "integralen längs med $C_1$ måste vara noll, så det återstår bara att beräkna"
   ]
  },
  {
   "cell_type": "markdown",
   "metadata": {},
   "source": [
    "$$\n",
    "\\begin{equation}\n",
    "\\int_{C_2} eE_0 \\hat{y} \\cdot \\mbox{d} \\vec{r} = \\int_{C_2} \n",
    "e E_0 \\hat{y} \\cdot \\hat{y} \\mbox{d}r = e E_0 \\int_{C_2} \\mbox{d}r.\n",
    "\\end{equation}\n",
    "$$"
   ]
  },
  {
   "cell_type": "markdown",
   "metadata": {},
   "source": [
    "Den sista integralen ger nu längden på kurvan $C_2$, vilken är $L^2/H$,\n",
    "så arbetet blir till slut"
   ]
  },
  {
   "cell_type": "markdown",
   "metadata": {},
   "source": [
    "$$\n",
    "\\begin{equation}\n",
    "  \\frac{e E_0 L^2}{H}.\n",
    "\\end{equation}\n",
    "$$"
   ]
  },
  {
   "cell_type": "markdown",
   "metadata": {},
   "source": [
    "---------------------------------------------\n",
    "\n",
    "### Exempel: Parametriserad 3d-kurva\n",
    "\n",
    "---------------------------------------------\n",
    "\n",
    "Beräkna integralen av $\\vec{u} = (xy, z^2, x)$ längs med kurvan"
   ]
  },
  {
   "cell_type": "markdown",
   "metadata": {},
   "source": [
    "$$\n",
    "\\begin{equation}\n",
    "\\left\\{\\begin{array}{lcl}\n",
    "x & = & 1+t\\\\\n",
    "y & = & 0\\\\\n",
    "z & = & t^2\\\\\n",
    "\\end{array}\\right. \n",
    "\\end{equation}\n",
    "$$"
   ]
  },
  {
   "cell_type": "markdown",
   "metadata": {},
   "source": [
    "där $0 \\le t \\le 3$.  \n",
    "\n",
    "Vi beräknar då först"
   ]
  },
  {
   "cell_type": "markdown",
   "metadata": {},
   "source": [
    "$$\n",
    "\\begin{equation}\n",
    "  \\frac{\\mbox{d}\\vec{r}}{\\mbox{d}t} = (1, 0, 2t).\n",
    "\\end{equation}\n",
    "$$"
   ]
  },
  {
   "cell_type": "markdown",
   "metadata": {},
   "source": [
    "Vektorfältet uttryckt i $t$ är"
   ]
  },
  {
   "cell_type": "markdown",
   "metadata": {},
   "source": [
    "$$\n",
    "\\begin{equation}\n",
    "  \\vec{u} = \\left(\\left(1+t\\right) \\cdot 0, t^4, 1+t\\right) = \n",
    "\\left(0,t^4,1+t\\right).\n",
    "\\end{equation}\n",
    "$$"
   ]
  },
  {
   "cell_type": "markdown",
   "metadata": {},
   "source": [
    "Skalärprodukten mellan vektorerna är"
   ]
  },
  {
   "cell_type": "markdown",
   "metadata": {},
   "source": [
    "$$\n",
    "\\begin{equation}\n",
    "  \\left(0,t^4,1+t\\right) \\cdot \\left(1,0,2t\\right) = 2t + 2t^2.\n",
    "\\end{equation}\n",
    "$$"
   ]
  },
  {
   "cell_type": "markdown",
   "metadata": {},
   "source": [
    "Integralen blir"
   ]
  },
  {
   "cell_type": "markdown",
   "metadata": {},
   "source": [
    "$$\n",
    "\\begin{equation}\n",
    "  \\int_0^3 \\left(2t+2t^2\\right)\\mbox{d}t = \n",
    "\\left[t^2 + \\frac{2t^3}{3}\\right]_0^3 = 9 + 18 = 27.\n",
    "\\end{equation}\n",
    "$$"
   ]
  },
  {
   "cell_type": "markdown",
   "metadata": {},
   "source": [
    "---------------------------------------------\n",
    "\n",
    "## Räkneexempel: Ytintegraler\n",
    "\n",
    "### Exempel: Flöde genom yta\n",
    "\n",
    "--------------------------------------------- \n",
    "\n",
    "En vätska med densiteten $\\rho$ och hastigheten $\\vec{u}$ strömmar parallellt genom ett rör med tvärsnittsarean $A$.  Flödet av vätska genom röret (det vill säga kg vätska som per sekund strömmar genom röret är då $\\rho u A$.  \n",
    "\n",
    "Vad händer då om vätskans  hastighet $\\vec{u}$ beror på avståndet $r$ från rörets symmetriaxel?  I så fall får vi definiera en flödestäthet $\\rho u(r)$ så att flödet genom ett ytelement $dS$ blir $\\rho u(r)dS$. Om vi tar $dS$ som en ring med centrum i symmetriaxeln och med en tjocklek d$r$ så är d$A = 2\\pi r$d$r$ och det totala flödet genom röret blir"
   ]
  },
  {
   "cell_type": "markdown",
   "metadata": {},
   "source": [
    "$$\n",
    "\\begin{equation}\n",
    "  \\int \\rho u( r ) dS = \\int_0^R \\rho u ( r ) 2 \\pi r\n",
    "dr,\n",
    "\\end{equation}\n",
    "$$"
   ]
  },
  {
   "cell_type": "markdown",
   "metadata": {},
   "source": [
    "där $R$ är rörets radie.\n",
    "\n",
    "För att nu ytterligare komplicera det hela och verkligen blanda in vektorerna så antar vi att vätskan strömmar genom en tvärsnittsarea $dS$, vilken inte är vinkelrät mot vätskans strömningshastighet $\\vec{u}$.  Vi antar att vinkeln mellan normalvektorn $\\vec{n}$ till ytan $dS$ och vätskans hastighet $\\vec{u}$ är $\\theta$.  Då blir flödet genom ytan $dS$"
   ]
  },
  {
   "cell_type": "markdown",
   "metadata": {},
   "source": [
    "$$\n",
    "\\begin{equation}\n",
    "  \\rho u dS \\cos \\theta.\n",
    "\\end{equation}\n",
    "$$"
   ]
  },
  {
   "cell_type": "markdown",
   "metadata": {},
   "source": [
    "Om vi nu väljer att definiera en vektor $d\\vec{S}$ för ett ytelement med storleken $dS$ och riktningen $\\vec{n}$, så ser vi att vi kan skriva flödet som"
   ]
  },
  {
   "cell_type": "markdown",
   "metadata": {},
   "source": [
    "$$\n",
    "\\begin{equation}\n",
    "  \\rho \\vec{u} \\cdot d\\vec{S},\n",
    "\\end{equation}\n",
    "$$"
   ]
  },
  {
   "cell_type": "markdown",
   "metadata": {},
   "source": [
    "där $\\rho \\vec{u}$ kan kallas för en massflödestäthet (jämför med en strömtäthet för flöde av elektrisk laddning).\n",
    "\n",
    "Vi kan nu skriva vätskeflödet genom en godtycklig yta $A$ som"
   ]
  },
  {
   "cell_type": "markdown",
   "metadata": {},
   "source": [
    "$$\n",
    "\\begin{equation}\n",
    "  \\int_A \\rho \\vec{u} \\cdot d\\vec{S},\n",
    "\\end{equation}\n",
    "$$"
   ]
  },
  {
   "cell_type": "markdown",
   "metadata": {},
   "source": [
    "vilket är ett typiskt exempel på en ytintegral.\n",
    "\n",
    "---------------------------------------------\n",
    "\n",
    "### Exempel: Cylinderyta\n",
    "\n",
    "---------------------------------------------\n",
    "\n",
    "Beräkna ytintegralen av fältet $\\vec{u} = (x,z,-y)$ över cylinderytan $x^2 + y^2 = 1$ mellan $z = 0$ och $z = 1$.  Vi kan då beskriva punkterna på ytan genom deras $z$-koordinat och vinkeln $\\varphi$ som ortsvektorn bildar med $\\hat{x}$-vektorn.  Det vill säga $\\vec{r} = (\\cos\\varphi , \\sin\\varphi , z)$, och tangentvektorerna blir"
   ]
  },
  {
   "cell_type": "markdown",
   "metadata": {},
   "source": [
    "$$\n",
    "\\begin{equation}\n",
    "  \\frac{\\mbox{d}\\vec{r}}{\\mbox{d} \\varphi} = \\left(-\\sin\\varphi , \\cos \\varphi ,\n",
    "0\\right)\n",
    "\\end{equation}\n",
    "$$"
   ]
  },
  {
   "cell_type": "markdown",
   "metadata": {},
   "source": [
    "och"
   ]
  },
  {
   "cell_type": "markdown",
   "metadata": {},
   "source": [
    "$$\n",
    "\\begin{equation}\n",
    "  \\frac{\\mbox{d}\\vec{r}}{\\mbox{d}z} = \\left(0,0,1\\right).\n",
    "\\end{equation}\n",
    "$$"
   ]
  },
  {
   "cell_type": "markdown",
   "metadata": {},
   "source": [
    "Normalvektorn blir"
   ]
  },
  {
   "cell_type": "markdown",
   "metadata": {},
   "source": [
    "$$\n",
    "\\begin{equation}\n",
    "  \\frac{\\mbox{d}\\vec{r}}{\\mbox{d} \\varphi} \\times \n",
    "\\frac{\\mbox{d}\\vec{r}}{\\mbox{d}z} = \\left(\\cos\\varphi , \\sin \\varphi, 0\\right).\n",
    "\\end{equation}\n",
    "$$"
   ]
  },
  {
   "cell_type": "markdown",
   "metadata": {},
   "source": [
    "Vi kan sedan beräkna integralen som"
   ]
  },
  {
   "cell_type": "markdown",
   "metadata": {},
   "source": [
    "$$\n",
    "\\begin{equation}\n",
    "  \\int_S \\vec{u} \\cdot \\mbox{d}\\vec{S} = \\int_0^1\\int_0^{2\\pi} \\left(\\cos\\varphi,\n",
    "z, -\\sin\\varphi\\right) \\cdot \\left(\\cos\\varphi, \\sin \\varphi, 0\\right)\n",
    "\\mbox{d}\\varphi \\mbox{d}z \\nonumber \n",
    "\\end{equation}\n",
    "$$"
   ]
  },
  {
   "cell_type": "markdown",
   "metadata": {},
   "source": [
    "$$\n",
    "\\begin{equation} \n",
    "= \\int_0^1\\int_0^{2\\pi} \\left(\\cos^2\\varphi + z\n",
    "\\sin\\varphi\\right) \\mbox{d}\\varphi\\mbox{d}z \\nonumber \n",
    "\\end{equation}\n",
    "$$"
   ]
  },
  {
   "cell_type": "markdown",
   "metadata": {},
   "source": [
    "$$\n",
    "\\begin{equation} \n",
    "= \\int_0^1 \\int_0^{2\\pi} \\left(\n",
    "\\frac{1}{2} + \\frac{1}{2}\\cos 2\\varphi + z\\sin\\varphi\\right) \\mbox{d}\\varphi\n",
    "\\mbox{d}z \\nonumber \n",
    "\\end{equation}\n",
    "$$"
   ]
  },
  {
   "cell_type": "markdown",
   "metadata": {},
   "source": [
    "$$\n",
    "\\begin{equation} \n",
    "= \\int_0^1 \\left[\\frac{1}{2}\\varphi + \\frac{1}{4}\\sin2\\varphi - z\n",
    "\\cos\\varphi\\right]_0^{2\\pi} \\mbox{d}z = \\int_0^1 \\pi \\mbox{d}z = \\pi.\n",
    "\\end{equation}\n",
    "$$"
   ]
  },
  {
   "cell_type": "markdown",
   "metadata": {},
   "source": [
    "---------------------------------------------"
   ]
  }
 ],
 "metadata": {},
 "nbformat": 4,
 "nbformat_minor": 0
}
