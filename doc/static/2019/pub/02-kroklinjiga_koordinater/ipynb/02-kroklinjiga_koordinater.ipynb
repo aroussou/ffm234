{
 "cells": [
  {
   "cell_type": "markdown",
   "metadata": {},
   "source": [
    "<!-- dom:TITLE: FFM232, Klassisk fysik och vektorfält - Föreläsningsanteckningar -->\n",
    "# FFM232, Klassisk fysik och vektorfält - Föreläsningsanteckningar\n",
    "<!-- dom:AUTHOR: [Christian Forssén](http://fy.chalmers.se/subatom/tsp/), Institutionen för fysik, Chalmers, Göteborg, Sverige -->\n",
    "<!-- Author: --> **[Christian Forssén](http://fy.chalmers.se/subatom/tsp/), Institutionen för fysik, Chalmers, Göteborg, Sverige**\n",
    "\n",
    "Date: **Sep 9, 2016**\n",
    "\n",
    "# 2. Kroklinjiga koordinater\n",
    "\n",
    "Allmänt behöver vi tre parametrar $u_1, u_2, u_3$ för att beskriva en godtycklig punkt i rummet. Jämför med *generaliserade koordinater* i analytisk mekanik. Vi kan då skriva ortsvektorn som $\\vec{r}(u_1, u_2, u_3)$.  \n",
    "\n",
    "### Koordinatyta\n",
    "\n",
    "för koordinat $i$: alla lösningar till $u_i = \\mathrm{konstant}$.\n",
    "\n",
    "### Koordinatkurva\n",
    "\n",
    "den kurva som fås om en koordinat tillåts variera och de andra hålls konstanta.\n",
    "\n",
    "Om vi då håller en av parametrarna, säg $u_1$, fix och låter $u_2$ och $u_3$ variera, så får vi en två-dimensionell yta, vilken vi kallar $u_1$-ytan. På samma sätt kan vi då definiera ytor för de andra koordinaterna. Två koordinatytor, till exempel de för koordinaterna $u_2$ och $u_3$, skär varandra längs en en-dimensionell kurva.  Längs denna kurva kommer då bara koordinaten $u_1$ att variera, så denna kurva är en koordinatkurva för $u_1$.\n",
    "\n",
    "### Exempel:\n",
    "\n",
    "I de cylindriska koordinaterna $\\rho, \\phi, z$ kan vi skriva ortsvektorn som $\\vec{r} = \\rho\\cos \\phi \\hat{x} + \\rho\\sin \\phi \\hat{y} + z \\hat{z}$. \n",
    "\n",
    "<!-- dom:FIGURE:[fig/620px-Coord_system_CY.png, width=600 frac=0.8]  -->\n",
    "<!-- begin figure -->\n",
    "\n",
    "<p></p>\n",
    "<img src=\"fig/620px-Coord_system_CY.png\" width=600>\n",
    "\n",
    "<!-- end figure -->\n",
    "\n",
    "\n",
    "Koordinatytorna för $\\rho, \\phi, z$ är då en cylinder med $z$-axeln som symmetriaxel och med radien $\\rho$, ett plan som utgår från $z$-axeln och bildar en vinkel $\\phi$ med $x$-axeln, samt ett plan parallellt med $xy$-planet och med $z$-koordinaten $z$. \n",
    "\n",
    "<!-- dom:FIGURE:[fig/Cylindrical_coordinate_surfaces.png, width=600 frac=0.8]  -->\n",
    "<!-- begin figure -->\n",
    "\n",
    "<p></p>\n",
    "<img src=\"fig/Cylindrical_coordinate_surfaces.png\" width=600>\n",
    "\n",
    "<!-- end figure -->\n",
    "\n",
    "\n",
    "Koordinatlinjerna för $\\rho, \\phi, z$ blir då en stråle som utgår från $z$-axeln och bildar vinkeln $\\phi$ med $x$-axeln, en cirkel med radien $\\rho$ och en linje parallell med $z$-axeln.\n",
    "\n",
    "## Enhetsvektorer\n",
    "Om vi nu studerar en liten förskjutning av ortsvektorn, $\\mbox{d}\\vec{r}$, så kan vi i och med att ortsvektorn är en funktion av $u_1, u_2, u_3$ skriva denna som"
   ]
  },
  {
   "cell_type": "markdown",
   "metadata": {},
   "source": [
    "$$\n",
    "\\begin{equation}\n",
    "  \\mbox{d}\\vec{r} = \\frac{\\partial \\vec{r}}{\\partial u_1} \\mbox{d}u_1 +\n",
    "\\frac{\\partial \\vec{r}}{\\partial u_2} \\mbox{d}u_2 + \n",
    "\\frac{\\partial \\vec{r}}{\\partial u_3} \\mbox{d}u_3.\n",
    "\\end{equation}\n",
    "$$"
   ]
  },
  {
   "cell_type": "markdown",
   "metadata": {},
   "source": [
    "Tänk nu på att den partiella derivatan $\\partial \\vec{r}/\\partial u_1$\n",
    "är definierad som derivatan då vi håller $u_2$ och $u_3$ fixa.\n",
    "Därför måste $\\partial \\vec{r}/\\partial u_1$ vara en tangentvektor\n",
    "till koordinatkurvan för $u_1$.  Vi kan då definiera en enhetsvektor \n",
    "för $u_1$ som"
   ]
  },
  {
   "cell_type": "markdown",
   "metadata": {},
   "source": [
    "$$\n",
    "\\begin{equation}\n",
    "  \\hat{e}_1 = \\frac{1}{h_1} \\frac{\\partial \\vec{r}}{\\partial u_1},\n",
    "\\end{equation}\n",
    "$$"
   ]
  },
  {
   "cell_type": "markdown",
   "metadata": {},
   "source": [
    "där"
   ]
  },
  {
   "cell_type": "markdown",
   "metadata": {},
   "source": [
    "$$\n",
    "\\begin{equation}\n",
    "  h_1 = \\left|\\frac{\\partial \\vec{r}}{\\partial u_1}\\right|\n",
    "\\end{equation}\n",
    "$$"
   ]
  },
  {
   "cell_type": "markdown",
   "metadata": {},
   "source": [
    "kallas för skalfaktorn.  På samma sätt kan vi bestämma skalfaktorer och enhetsvektorer till $u_2$ och $u_3$. Förskjutningsvektorn $\\mbox{d}\\vec{r}$ kan vi nu skriva som"
   ]
  },
  {
   "cell_type": "markdown",
   "metadata": {},
   "source": [
    "$$\n",
    "\\begin{equation}\n",
    "  \\mbox{d}\\vec{r} = h_1\\hat{e}_1 \\mbox{d}u_1 + h_2\\hat{e}_2\\mbox{d}u_2 +\n",
    "h_3\\hat{e}_3\\mbox{d}u_3.\n",
    "\\end{equation}\n",
    "$$"
   ]
  },
  {
   "cell_type": "markdown",
   "metadata": {},
   "source": [
    "### Alternativ definition\n",
    "\n",
    "Ett alternativ till att använda de normerade tangentvektorerna som enhetsvektorer är att använda normalvektorerna till koordinatytorna. Betrakta t.ex."
   ]
  },
  {
   "cell_type": "markdown",
   "metadata": {},
   "source": [
    "$$\n",
    "\\begin{equation}\n",
    "u_1 = u_1(x,y,z) = \\mathrm{konstant}.\n",
    "\\end{equation}\n",
    "$$"
   ]
  },
  {
   "cell_type": "markdown",
   "metadata": {},
   "source": [
    "Detta motsvarar en nivåyta till ett skalärfält. Normalvektorn ges alltså av $\\nabla u_1$.\n",
    "Det gäller alltid att"
   ]
  },
  {
   "cell_type": "markdown",
   "metadata": {},
   "source": [
    "$$\n",
    "\\begin{equation}\n",
    "\\nabla u_i \\cdot \\frac{\\partial \\vec{r}}{\\partial u_j} = \\delta_{ij}.\n",
    "\\end{equation}\n",
    "$$"
   ]
  },
  {
   "cell_type": "markdown",
   "metadata": {},
   "source": [
    "När vi inskränker oss till ortogonala system gäller dessutom att $\\nabla u_i \\parallel \\frac{\\partial \\vec{r}}{\\partial u_i}$. Notera dock att dessa vektorer i allmänhet kan ha *olika* längd. Faktum är att följande samband gäller för ortogonala system"
   ]
  },
  {
   "cell_type": "markdown",
   "metadata": {},
   "source": [
    "$$\n",
    "\\begin{equation}\n",
    "\\hat{e}_i \n",
    "= \\frac{1}{h_i} \\frac{\\partial \\vec{r}}{\\partial u_i}\n",
    "= h_i \\nabla u_i.\n",
    "\\end{equation}\n",
    "$$"
   ]
  },
  {
   "cell_type": "markdown",
   "metadata": {},
   "source": [
    "### Exempel:\n",
    "\n",
    "I cylindriska koordinater är $\\vec{r} = (\\rho\\cos \\phi, \\rho\\sin \\phi, z)$.  Vi kan då beräkna"
   ]
  },
  {
   "cell_type": "markdown",
   "metadata": {},
   "source": [
    "$$\n",
    "\\begin{equation}\n",
    "  \\frac{\\partial \\vec{r}}{\\partial \\rho} = \\left(\\cos \\phi, \\sin \\phi, 0\\right), \n",
    "\\end{equation}\n",
    "$$"
   ]
  },
  {
   "cell_type": "markdown",
   "metadata": {},
   "source": [
    "$$\n",
    "\\begin{equation}  \n",
    "  \\frac{\\partial \\vec{r}}{\\partial \\phi} = \\left(-\\rho \\sin\\phi, \\rho \\cos \\phi,\n",
    "0\\right), \n",
    "\\end{equation}\n",
    "$$"
   ]
  },
  {
   "cell_type": "markdown",
   "metadata": {},
   "source": [
    "$$\n",
    "\\begin{equation}  \n",
    "  \\frac{\\partial \\vec{r}}{\\partial z} = \\left(0,0,1\\right).\n",
    "\\end{equation}\n",
    "$$"
   ]
  },
  {
   "cell_type": "markdown",
   "metadata": {},
   "source": [
    "Skalfaktorerna blir då"
   ]
  },
  {
   "cell_type": "markdown",
   "metadata": {},
   "source": [
    "$$\n",
    "\\begin{equation}\n",
    "  h_\\rho = \\left(\\cos^2\\phi + \\sin^2\\phi\\right)^{1/2} = 1, \n",
    "\\end{equation}\n",
    "$$"
   ]
  },
  {
   "cell_type": "markdown",
   "metadata": {},
   "source": [
    "$$\n",
    "\\begin{equation}  \n",
    "  h_\\phi = \\left(\\rho^2 \\cos^2\\phi + \\rho^2 \\sin^2\\phi\\right)^{1/2} = \\rho, \n",
    "\\end{equation}\n",
    "$$"
   ]
  },
  {
   "cell_type": "markdown",
   "metadata": {},
   "source": [
    "$$\n",
    "\\begin{equation}  \n",
    "  h_z = 1.\n",
    "\\end{equation}\n",
    "$$"
   ]
  },
  {
   "cell_type": "markdown",
   "metadata": {},
   "source": [
    "Enhetsvektorerna blir"
   ]
  },
  {
   "cell_type": "markdown",
   "metadata": {},
   "source": [
    "$$\n",
    "\\begin{equation}\n",
    "  \\hat{\\rho} = \\left(\\cos\\phi, \\sin\\phi,0\\right), \n",
    "\\end{equation}\n",
    "$$"
   ]
  },
  {
   "cell_type": "markdown",
   "metadata": {},
   "source": [
    "$$\n",
    "\\begin{equation}  \n",
    "  \\hat{\\phi} = \\left(-\\sin\\phi, \\cos\\phi,0\\right), \n",
    "\\end{equation}\n",
    "$$"
   ]
  },
  {
   "cell_type": "markdown",
   "metadata": {},
   "source": [
    "$$\n",
    "\\begin{equation}  \n",
    "  \\hat{z} = \\left(0,0,1\\right).\n",
    "\\end{equation}\n",
    "$$"
   ]
  },
  {
   "cell_type": "markdown",
   "metadata": {},
   "source": [
    "Förskjutningsvektorn kan då skrivas som"
   ]
  },
  {
   "cell_type": "markdown",
   "metadata": {},
   "source": [
    "$$\n",
    "\\begin{equation}\n",
    "  \\mbox{d}\\vec{r} = \\hat{\\rho} \\mbox{d}\\rho + \\rho \\hat{\\phi} \\mbox{d} \\phi + \\hat{z} \\mbox{d}z.\n",
    "\\end{equation}\n",
    "$$"
   ]
  },
  {
   "cell_type": "markdown",
   "metadata": {},
   "source": [
    "I fortsättningen skall vi begränsa oss till koordinatsystem med ortogonala enhetsvektorer, dvs"
   ]
  },
  {
   "cell_type": "markdown",
   "metadata": {},
   "source": [
    "$$\n",
    "\\begin{equation}\n",
    "\\hat{e}_i \\cdot \\hat{e}_j = \\delta_{ij} = \\left\\{\n",
    "\\begin{array}{ll}\n",
    "1 & \\,\\mbox{om}\\,\\, i = j \\\\ \n",
    "0 & \\,\\mbox{annars}\\\\ \n",
    "\\end{array}\\right.\n",
    "\\end{equation}\n",
    "$$"
   ]
  },
  {
   "cell_type": "markdown",
   "metadata": {},
   "source": [
    "där vi passat på att introducera Kroneckers delta, $\\delta_{ij}$.\n",
    "\n",
    "Vi skall också anta att enhetsvektorerna bildar ett högersystem"
   ]
  },
  {
   "cell_type": "markdown",
   "metadata": {},
   "source": [
    "$$\n",
    "\\begin{equation}\n",
    "\\hat{e}_1 \\times \\hat{e}_2 = \\hat{e}_3\n",
    "\\end{equation}\n",
    "$$"
   ]
  },
  {
   "cell_type": "markdown",
   "metadata": {},
   "source": [
    "*Visa att enhetsvektorerna i de cylindriska koordinaterna uppfyller dessa villkor.*\n",
    "\n",
    "Vi kan nu härleda några användbara samband som båglängden längs en kurva"
   ]
  },
  {
   "cell_type": "markdown",
   "metadata": {},
   "source": [
    "$$\n",
    "\\begin{equation}\n",
    "\\mbox{d}s^2 = \\mbox{d}\\vec{r}\\cdot \\mbox{d}\\vec{r} = h_1^2\\mbox{d}u_1^2 + h_2^2\n",
    "\\mbox{d}u_2^2 + h_3^2 \\mbox{d}u_3^2.\n",
    "\\end{equation}\n",
    "$$"
   ]
  },
  {
   "cell_type": "markdown",
   "metadata": {},
   "source": [
    "Betrakta ovanstående båglängd för fallet då $du_2=du_3=0$. Det står då klart att vi kan tolka $h_1 du_1$ som båglängden $ds_1$, dvs som en infinitesimal förflyttning i $u_1$-riktningen. Notera därför att $h_i du_i$ alltid måste ha enheten längd.\n",
    "\n",
    "Ett ytelement $\\mbox{d}\\vec{S}_1$ på koordinatytan $u_1$ är en rektangel som  genereras av $\\mbox{d}u_2$ och $\\mbox{d}u_3$. Rektangelns sidor har då längderna $h_2\\mbox{d}u_2$ och $h_3\\mbox{d}u_3$.  Ytelementet blir"
   ]
  },
  {
   "cell_type": "markdown",
   "metadata": {},
   "source": [
    "$$\n",
    "\\begin{equation}\n",
    "  \\mbox{d}\\vec{S}_1 =  \\hat{e}_1 h_2 h_3 \\mbox{d}u_2 \\mbox{d}u_3,\n",
    "\\end{equation}\n",
    "$$"
   ]
  },
  {
   "cell_type": "markdown",
   "metadata": {},
   "source": [
    "och på samma sätt kan vi beräkna ytelementen på koordinatytorna för $u_2$ och $u_3$.  \n",
    "\n",
    "Analogt kan vi beräkna volymelementet som genereras av  $\\mbox{d}u_1$, $\\mbox{d}u_2$ och $\\mbox{d}u_3$, vilket blir"
   ]
  },
  {
   "cell_type": "markdown",
   "metadata": {},
   "source": [
    "$$\n",
    "\\begin{equation}\n",
    "  \\mbox{d}V = h_1 h_2 h_3 \\mbox{d}u_1 \\mbox{d}u_2 \\mbox{d}u_3.\n",
    "\\end{equation}\n",
    "$$"
   ]
  },
  {
   "cell_type": "markdown",
   "metadata": {},
   "source": [
    "### Exempel:\n",
    "\n",
    "Bågelementet i cylindriska koordinater blir"
   ]
  },
  {
   "cell_type": "markdown",
   "metadata": {},
   "source": [
    "$$\n",
    "\\begin{equation}\n",
    "  \\mbox{d}s^2 = \\mbox{d}\\rho^2 + \\rho^2\\mbox{d}\\theta^2 + \\mbox{d}z^2.\n",
    "\\end{equation}\n",
    "$$"
   ]
  },
  {
   "cell_type": "markdown",
   "metadata": {},
   "source": [
    "Ett ytelement på $\\rho$-ytan skrives"
   ]
  },
  {
   "cell_type": "markdown",
   "metadata": {},
   "source": [
    "$$\n",
    "\\begin{equation}\n",
    "  \\mbox{d}\\vec{S}_\\rho = \\hat{e}_\\rho \\rho \\mbox{d}\\phi\\mbox{d}z,\n",
    "\\end{equation}\n",
    "$$"
   ]
  },
  {
   "cell_type": "markdown",
   "metadata": {},
   "source": [
    "på $\\phi$-ytan"
   ]
  },
  {
   "cell_type": "markdown",
   "metadata": {},
   "source": [
    "$$\n",
    "\\begin{equation}\n",
    "  \\mbox{d}\\vec{S}_\\phi = \\hat{e}_\\phi \\mbox{d}\\rho\\mbox{z}\n",
    "\\end{equation}\n",
    "$$"
   ]
  },
  {
   "cell_type": "markdown",
   "metadata": {},
   "source": [
    "och på $z$-ytan"
   ]
  },
  {
   "cell_type": "markdown",
   "metadata": {},
   "source": [
    "$$\n",
    "\\begin{equation}\n",
    "  \\mbox{d}\\vec{S}_z = \\hat{e}_z \\rho\\mbox{d}\\rho \\mbox{d}\\phi.\n",
    "\\end{equation}\n",
    "$$"
   ]
  },
  {
   "cell_type": "markdown",
   "metadata": {},
   "source": [
    "Volymelementet kan vi skriva som"
   ]
  },
  {
   "cell_type": "markdown",
   "metadata": {},
   "source": [
    "$$\n",
    "\\begin{equation}\n",
    "  \\mbox{d}V = \\rho\\mbox{d}\\rho \\mbox{d}\\phi\\mbox{d}z.\n",
    "\\end{equation}\n",
    "$$"
   ]
  },
  {
   "cell_type": "markdown",
   "metadata": {},
   "source": [
    "## Vektoroperatorer i kroklinjiga koordinater\n",
    "\n",
    "### Gradient\n",
    "\n",
    "Betrakta ett skalärt fält $\\phi$.  Om vi förflyttar oss en sträcka $\\mbox{d}\\vec{r}$ så förändras $\\phi$"
   ]
  },
  {
   "cell_type": "markdown",
   "metadata": {},
   "source": [
    "$$\n",
    "\\begin{equation}\n",
    "  \\mbox{d}\\phi = \\nabla \\phi \\cdot \\mbox{d}\\vec{r}.\n",
    "\\end{equation}\n",
    "$$"
   ]
  },
  {
   "cell_type": "markdown",
   "metadata": {},
   "source": [
    "Förflyttningen kan vi i de nya koordinaterna skriva som"
   ]
  },
  {
   "cell_type": "markdown",
   "metadata": {},
   "source": [
    "$$\n",
    "\\begin{equation}\n",
    "  \\mbox{d}\\vec{r} = h_1 \\hat{e}_1 \\mbox{d}u_1 + h_2 \\hat{e}_2 \\mbox{d}u_2\n",
    "+ h_3 \\hat{e}_3 \\mbox{d}u_3.\n",
    "\\end{equation}\n",
    "$$"
   ]
  },
  {
   "cell_type": "markdown",
   "metadata": {},
   "source": [
    "Om vi skriver $\\phi$ som en funktion av $u_1, u_2$ och $u_3$ får vi"
   ]
  },
  {
   "cell_type": "markdown",
   "metadata": {},
   "source": [
    "$$\n",
    "\\begin{equation}\n",
    "  \\mbox{d}\\phi = \\frac{\\partial \\phi}{\\partial u_1}\\mbox{d}u_1 + \n",
    "\\frac{\\partial \\phi}{\\partial u_2}\\mbox{d}u_2 +\n",
    "\\frac{\\partial \\phi}{\\partial u_3}\\mbox{d}u_3 =\n",
    "\\frac{1}{h_1} \\frac{\\partial \\phi}{\\partial u_1} h_1 \\mbox{d}u_1 +\n",
    "\\frac{1}{h_2} \\frac{\\partial \\phi}{\\partial u_2} h_2 \\mbox{d}u_2 +\n",
    "\\frac{1}{h_3} \\frac{\\partial \\phi}{\\partial u_3} h_3 \\mbox{d}u_3 \\nonumber \n",
    "\\end{equation}\n",
    "$$"
   ]
  },
  {
   "cell_type": "markdown",
   "metadata": {},
   "source": [
    "$$\n",
    "\\begin{equation}  \n",
    " =\n",
    "\\left(\\frac{1}{h_1} \\frac{\\partial \\phi}{\\partial u_1} \\hat{e}_1 +\n",
    "\\frac{1}{h_2} \\frac{\\partial \\phi}{\\partial u_2} \\hat{e}_2 +\n",
    "\\frac{1}{h_3} \\frac{\\partial \\phi}{\\partial u_3} \\hat{e}_3\\right) \\cdot \n",
    "\\mbox{d}\\vec{r}\n",
    "\\end{equation}\n",
    "$$"
   ]
  },
  {
   "cell_type": "markdown",
   "metadata": {},
   "source": [
    "Då kan vi identifiera uttrycket inom parentesen som gradienten i de nya koordinaterna $u_1, u_2, u_3$"
   ]
  },
  {
   "cell_type": "markdown",
   "metadata": {},
   "source": [
    "$$\n",
    "\\begin{equation}\n",
    "  \\nabla \\phi = \\frac{1}{h_1} \\frac{\\partial \\phi}{\\partial u_1} \\hat{e}_1\n",
    "+ \\frac{1}{h_2}\n",
    "\\frac{\\partial \\phi}{\\partial u_2} \\hat{e}_2 \n",
    "+ \\frac{1}{h_3} \\frac{\\partial \\phi}{\\partial u_3} \\hat{e}_3.\n",
    "\\end{equation}\n",
    "$$"
   ]
  },
  {
   "cell_type": "markdown",
   "metadata": {},
   "source": [
    "### Gradient i cylindriska koordinater:\n",
    "\n",
    "I cylindriska koordinater blir gradienten"
   ]
  },
  {
   "cell_type": "markdown",
   "metadata": {},
   "source": [
    "$$\n",
    "\\begin{equation}\n",
    "  \\nabla f = \\frac{\\partial f}{\\partial \\rho} + \\frac{1}{\\rho}\n",
    "\\frac{\\partial f}{\\partial \\phi} + \\frac{\\partial f}{\\partial z}.\n",
    "\\end{equation}\n",
    "$$"
   ]
  },
  {
   "cell_type": "markdown",
   "metadata": {},
   "source": [
    "### Exempel\n",
    "\n",
    "Ett skalärfält är givet i Cartesiska koordinater"
   ]
  },
  {
   "cell_type": "markdown",
   "metadata": {},
   "source": [
    "$$\n",
    "\\begin{equation}\n",
    "\\beta = x^2 + y^2.\n",
    "\\end{equation}\n",
    "$$"
   ]
  },
  {
   "cell_type": "markdown",
   "metadata": {},
   "source": [
    "Motsvarande skalärfält i plana polärkoordinater blir"
   ]
  },
  {
   "cell_type": "markdown",
   "metadata": {},
   "source": [
    "$$\n",
    "\\begin{equation}\n",
    "\\beta = r^2\\cos^2\\theta + r^2 \\sin^2\\theta = r^2.\n",
    "\\end{equation}\n",
    "$$"
   ]
  },
  {
   "cell_type": "markdown",
   "metadata": {},
   "source": [
    "Gradienten i Cartesiska koordinater blir"
   ]
  },
  {
   "cell_type": "markdown",
   "metadata": {},
   "source": [
    "$$\n",
    "\\begin{equation}\n",
    "\\nabla \\beta = \\hat{x} \\partial_x \\beta + \\hat{y} \\partial_y \\beta = 2 (x \\hat{x} + y \\hat{y}).\n",
    "\\end{equation}\n",
    "$$"
   ]
  },
  {
   "cell_type": "markdown",
   "metadata": {},
   "source": [
    "Medan i plana polärkoordinater blir den"
   ]
  },
  {
   "cell_type": "markdown",
   "metadata": {},
   "source": [
    "$$\n",
    "\\begin{equation}\n",
    "\\nabla \\beta = \\hat{e}_r \\partial_r + \\hat{e}_\\theta \\frac{1}{r} \\partial_\\theta \\beta = 2 r \\hat{e}_r.\n",
    "\\end{equation}\n",
    "$$"
   ]
  },
  {
   "cell_type": "markdown",
   "metadata": {},
   "source": [
    "Eftersom $x \\hat{x} + y \\hat{y} = r \\hat{e}_r$ är det uppenbart att detta är samma vektor!\n",
    "\n",
    "## Tentauppgift 2010-08-26: 1b\n",
    "\n",
    " För vilka värden på $\\alpha,\\beta,\\gamma$ har det tvådimensionella koordinatsystemet med koordinater $\\xi$ och $\\eta$, givna av"
   ]
  },
  {
   "cell_type": "markdown",
   "metadata": {},
   "source": [
    "$$\n",
    "\\begin{equation}\n",
    "\\xi = x^2 - y^2 \n",
    "\\end{equation}\n",
    "$$"
   ]
  },
  {
   "cell_type": "markdown",
   "metadata": {},
   "source": [
    "$$\n",
    "\\begin{equation}  \n",
    "\\eta = \\alpha x^2 + \\beta x y + \\gamma y^2\n",
    "\\end{equation}\n",
    "$$"
   ]
  },
  {
   "cell_type": "markdown",
   "metadata": {},
   "source": [
    "ortogonala basvektorer?\n",
    "\n",
    "### Lösning\n",
    "\n",
    "Vi kan konstruera basvektorer på två sätt:\n",
    "* $\\hat{e}_i \\propto \\frac{\\partial \\vec{r}}{\\partial u_i}$\n",
    "\n",
    "* $\\hat{e}_i \\propto \\nabla u_i$\n",
    "\n",
    "Det första sättet innebär att vi behöver räkna ut storheterna $\\frac{\\partial x}{\\partial u_i}$ och $\\frac{\\partial y}{\\partial u_i}$, dvs vi behöver veta $x=x(\\xi,\\eta),\\; y=y(\\xi,\\eta)$. Vi skulle behöva invertera det givna koordinatsambandet.\n",
    "\n",
    "Det andra sättet kräver istället $\\frac{\\partial \\xi}{\\partial x}$ och $\\frac{\\partial \\xi}{\\partial y}$ (samt motsvarande för $\\eta$) och detta blir enkelt med de givna koordinattransformationerna. Vi får"
   ]
  },
  {
   "cell_type": "markdown",
   "metadata": {},
   "source": [
    "$$\n",
    "\\begin{equation}\n",
    "\\nabla \\xi = 2x \\hat{x} - 2y \\hat{y} \n",
    "\\end{equation}\n",
    "$$"
   ]
  },
  {
   "cell_type": "markdown",
   "metadata": {},
   "source": [
    "$$\n",
    "\\begin{equation}  \n",
    "\\nabla \\eta = (2 \\alpha x + \\beta y)\\hat{x} + (\\beta x + 2 \\gamma y) \\hat{y}\n",
    "\\end{equation}\n",
    "$$"
   ]
  },
  {
   "cell_type": "markdown",
   "metadata": {},
   "source": [
    "vilket ger"
   ]
  },
  {
   "cell_type": "markdown",
   "metadata": {},
   "source": [
    "$$\n",
    "\\begin{equation}\n",
    "\\nabla \\xi \\cdot \\nabla \\eta = 2x (2 \\alpha x + \\beta y) - 2 y (\\beta x + 2 \\gamma y) \n",
    "= 4 \\alpha x^2 - 4 \\gamma y^2 = 0.\n",
    "\\end{equation}\n",
    "$$"
   ]
  },
  {
   "cell_type": "markdown",
   "metadata": {},
   "source": [
    "Detta innebär att vi måste ha $\\alpha = \\gamma = 0$, medan $\\beta$ är godtyckligt."
   ]
  },
  {
   "cell_type": "markdown",
   "metadata": {},
   "source": [
    "0\n",
    " \n",
    "<\n",
    "<\n",
    "<\n",
    "!\n",
    "!\n",
    "C\n",
    "O\n",
    "D\n",
    "E\n",
    "_\n",
    "B\n",
    "L\n",
    "O\n",
    "C\n",
    "K\n",
    " \n",
    " \n",
    "p\n",
    "y\n",
    "c\n",
    "o\n",
    "d"
   ]
  },
  {
   "cell_type": "code",
   "execution_count": 1,
   "metadata": {
    "collapsed": false
   },
   "outputs": [],
   "source": [
    "p.figure(figsize=(6,6))\n",
    "CS = p.contour(x,y,xi,5,colors='k')\n",
    "p.clabel(CS, inline=1, fontsize=10)\n",
    "p.text(0.5,1.3,r'$\\xi$-yta',color='k',rotation=45)\n",
    "CS = p.contour(x,y,eta,5,colors='r')\n",
    "p.clabel(CS, inline=1, fontsize=10)\n",
    "p.text(1,0.05,r'$\\eta$-yta',color='r')\n",
    "p.xlabel(r'$x$')\n",
    "p.ylabel(r'$y$')"
   ]
  },
  {
   "cell_type": "markdown",
   "metadata": {},
   "source": [
    "<!-- dom:FIGURE:[fig/koordinatytor.png, width=600 frac=0.8]  -->\n",
    "<!-- begin figure -->\n",
    "\n",
    "<p></p>\n",
    "<img src=\"fig/koordinatytor.png\" width=600>\n",
    "\n",
    "<!-- end figure -->"
   ]
  }
 ],
 "metadata": {},
 "nbformat": 4,
 "nbformat_minor": 0
}
