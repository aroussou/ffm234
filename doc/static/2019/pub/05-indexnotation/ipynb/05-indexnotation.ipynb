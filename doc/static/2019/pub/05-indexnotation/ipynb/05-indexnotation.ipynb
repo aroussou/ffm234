{
 "cells": [
  {
   "cell_type": "markdown",
   "metadata": {},
   "source": [
    "<!-- dom:TITLE: FFM232, Klassisk fysik och vektorfält - Föreläsningsanteckningar -->\n",
    "# FFM232, Klassisk fysik och vektorfält - Föreläsningsanteckningar\n",
    "<!-- dom:AUTHOR: [Christian Forssén](http://fy.chalmers.se/subatom/tsp/), Institutionen för fysik, Chalmers, Göteborg, Sverige -->\n",
    "<!-- Author: --> **[Christian Forssén](http://fy.chalmers.se/subatom/tsp/), Institutionen för fysik, Chalmers, Göteborg, Sverige**\n",
    "\n",
    "Date: **Sep 9, 2016**\n",
    "\n",
    "# 5. Indexnotation\n",
    "\n",
    "Precis som vi har räkneregler för derivatorer, så kan vi härleda räkneregler för våra differentialoperatorer. Det är då viktigt att komma ihåg att fälten på de båda sidorna av likhetstecknet skall vara av samma typ, det vill säga om vi har ett skalärt fält till vänster om likhetstecknet skall vi ha ett skalärt fält till höger om likhetstecknet, och om vi har ett vektorfält till vänster om likhetstecknet skall också fältet till höger vara ett vektorfält.  På så sätt kan man resonera sig fram till några av räknereglerna.\n",
    "\n",
    "## Gradient, divergens och rotation av en produkt av fält\n",
    "\n",
    "För vanliga funktioner $f$ och $g$ gäller att"
   ]
  },
  {
   "cell_type": "markdown",
   "metadata": {},
   "source": [
    "$$\n",
    "\\begin{equation}\n",
    "  \\frac{\\mbox{d}}{\\mbox{d}x}\\left(fg\\right) = \\frac{\\mbox{d}f}{\\mbox{d}x}g\n",
    "+ f\\frac{\\mbox{d}g}{\\mbox{d}x}.\n",
    "\\end{equation}\n",
    "$$"
   ]
  },
  {
   "cell_type": "markdown",
   "metadata": {},
   "source": [
    "Om vi istället betraktar $\\nabla (fg)$, där $f$ och $g$ är skalära fält, ser vi att det resulterande fältet skall vara ett vektorfält, och att vi måste derivera ett av fälten åt gången. Om vi tar gradienten av ett skalärt fält, så får vi ett vektorfält och om vi sedan multiplicerar med ytterligare ett skalärt fält, så har vi fortfarande ett vektorfält, alltså bör räknereglen"
   ]
  },
  {
   "cell_type": "markdown",
   "metadata": {},
   "source": [
    "$$\n",
    "\\begin{equation}\n",
    "  \\nabla \\left(fg\\right) = f \\nabla g + g\\nabla f\n",
    "\\end{equation}\n",
    "$$"
   ]
  },
  {
   "cell_type": "markdown",
   "metadata": {},
   "source": [
    "gälla. På liknande sätt kan vi resonera oss fram till"
   ]
  },
  {
   "cell_type": "markdown",
   "metadata": {},
   "source": [
    "$$\n",
    "\\begin{equation}\n",
    "  \\nabla \\cdot \\left(f\\vec{u}\\right) = \\nabla f \\cdot \\vec{u} + f \\nabla \\cdot \\vec{u},\n",
    "\\end{equation}\n",
    "$$"
   ]
  },
  {
   "cell_type": "markdown",
   "metadata": {},
   "source": [
    "och"
   ]
  },
  {
   "cell_type": "markdown",
   "metadata": {},
   "source": [
    "$$\n",
    "\\begin{equation}\n",
    "  \\nabla \\times \\left(f\\vec{u}\\right) = \\nabla f\\times \\vec{u} + f \\nabla \\times \\vec{u}.\n",
    "\\end{equation}\n",
    "$$"
   ]
  },
  {
   "cell_type": "markdown",
   "metadata": {},
   "source": [
    "Mer komplexa samband är dock svårare att härleda. Detta gäller även kombinationer av flera vektoroperatorer. I princip kan man visa dem genom att skriva ut ekvationerna komponentvis, men en effektivare metod är att använda indexnotation. Indexnotationen är ett effektivt verktyg i stora delar av den teoretiska fysiken.\n",
    "\n",
    "## Indexnotation\n",
    "\n",
    "Vektorn $\\vec{A}$ är densamma i alla koordinatsystem, Cartesiska såväl som kroklinjiga. I någon given bas kan dess komponenter skrivas ut: $\\vec{A}=\\sum_{i=1}^3A_i\\vec{e}_i$. \n",
    "\n",
    "Så när vi talar om vektorn $\\vec{A}$ skall vi skriva $A_i$ vilket vi kan tolka som en lista över komponenterna, alltså $\\{A_i\\}_{i=1}^3$. Indexet $i$ kallas ett *fritt index*, eftersom det kan ta värdena $i=1,2,3$ \n",
    "\n",
    "### Produkter av vektorer\n",
    "\n",
    "Skalärprodukten av två vektorer $\\vec{A}$ och $\\vec{B}$ är $\\vec{A}\\cdot\\vec{B}=\\sum_{i=1}^3A_iB_i$. För att göra notationen mer kompakt inför vi nu *Einsteins summationskonvention*, som säger att summation är underförstådd så snart ett index förekommer två gånger. Med dessa skrivregler har vi då"
   ]
  },
  {
   "cell_type": "markdown",
   "metadata": {},
   "source": [
    "$$\n",
    "\\begin{equation}\n",
    "\\vec{A}\\cdot\\vec{B}=A_iB_i\n",
    "\\end{equation}\n",
    "$$"
   ]
  },
  {
   "cell_type": "markdown",
   "metadata": {},
   "source": [
    "[Comment 1: Att vi skriver lägre index har ingen betydelse, om man vill kan man t.ex. skriva $A_iB^i$. Först när man sysslar med vektorer/tensorer i icke-Cartesiska system behöver man göra åtskillnad på index uppe och nere. Detta gäller t.ex. i speciell relativitetsteori.]\n",
    "\n",
    "Det här uttrycket för skalärprodukten gäller i godtyckligt antal dimensioner. Resultatet av skalärprodukten är förstås en skalär. Indexen $i$ ovan är *inte* fria index, utan summationsindex, eller kontraherade index. \n",
    "\n",
    "### Exempel: matris-vektor-multiplikation\n",
    "\n",
    "En matris representeras av sina matriselement (precis som enhetsmatrisen ovan). Det första indexet är rad- och det andra kolumnindex. Matris-vektor-multiplikationen $\\mathbf{M} \\vec{v}$ kan skrivas med indexnotation"
   ]
  },
  {
   "cell_type": "markdown",
   "metadata": {},
   "source": [
    "$$\n",
    "\\begin{equation}\n",
    "\\left[ \\mathbf{M} \\vec{v} \\right]_i = M_{ij} v_j\n",
    "\\end{equation}\n",
    "$$"
   ]
  },
  {
   "cell_type": "markdown",
   "metadata": {},
   "source": [
    "### Enhetsmatrisen\n",
    "\n",
    "Vi har redan sett Kroneckers delta, $\\delta_{ij}$, som definieras av"
   ]
  },
  {
   "cell_type": "markdown",
   "metadata": {},
   "source": [
    "$$\n",
    "\\begin{equation}\n",
    "\\delta_{ij}=\\left\\{\n",
    "\\begin{matrix}\n",
    "1,&i=j\\cr\n",
    "0,&i\\neq j\\cr\n",
    "\\end{matrix}\n",
    "\\right.\n",
    "\\end{equation}\n",
    "$$"
   ]
  },
  {
   "cell_type": "markdown",
   "metadata": {},
   "source": [
    "(notera att detta helt enkelt är matriselementen av enhetsmatrisen).\n",
    "\n",
    "Betrakta uttrycket $\\delta_{ij}A_j$. Här är indexet $j$ repeterat och därför ett summationsindex, och uttrycket skall utläsas $\\sum_{j=1}^3\\delta_{ij}A_j=A_i$, dvs. helt enkelt multiplikation av vektorn $\\vec{A}$ med enhetsmatrisen.\n",
    "\n",
    "### Exempel: matris-matris-multiplikation\n",
    "\n",
    "Matrismultiplikation $\\mathbf{M}\\mathbf{N}=\\mathbf{P}$ skrivs som $M_{ik}N_{kj}=P_{ij}$. Spåret av en matris, dvs. summan av diagonalelementen är $\\mathrm{tr}\\mathbf{M}=M_{ii}$.\n",
    "\n",
    "### Kryssprodukt\n",
    "\n",
    "Låt $\\vec{A}\\times\\vec{B}=\\vec{C}$. Komponentvis gäller $C_1=A_2B_3-A_3B_2$, och de andra komponenterna ges av cykliska permutationer av indexen. Vi inför nu objektet $\\varepsilon_{ijk}$, som definieras av"
   ]
  },
  {
   "cell_type": "markdown",
   "metadata": {},
   "source": [
    "$$\n",
    "\\begin{equation}\n",
    "\\varepsilon_{ijk}=\\left\\{\n",
    "\\begin{matrix}\n",
    "\\phantom{-}1,\\quad\\hfill&ijk\\hbox{ jämn permutation av 123,}\\hfill\\cr\n",
    "-1,\\quad\\hfill&ijk\\hbox{ udda permutation av 123,}\\hfill\\cr\n",
    "\\phantom{-}0,\\hfill&\\hbox{annars, dvs. om minst två index tar samma\n",
    "värde.}\n",
    "\\end{matrix}\n",
    "\\right.\n",
    "\\end{equation}\n",
    "$$"
   ]
  },
  {
   "cell_type": "markdown",
   "metadata": {},
   "source": [
    "$\\varepsilon_{ijk}$ kallas \"$\\varepsilon$-tensorn\", eller *Levi-Civita-tensorn*. \n",
    "\n",
    "[Comment 2: Vi har inte riktigt definierat vad en tensor är ännu. Det kommer senare, och är inte speciellt dramatiskt. För tillfället kan vi bara tänka på det som ett objekt som har ett antal index, alltså en naturlig generalisering av vektor- och matrisbegreppen.]\n",
    "\n",
    "Definitionen gör att $\\varepsilon_{ijk}$ har egenskapen att den byter tecken om man byter plats på två index, vilka som helst. Man säger att den är fullständigt antisymmetrisk.\n",
    "\n",
    "Eftersom $\\varepsilon_{ijk}$ har tre index, kan vi kontrahera två av dem med index på vektorer, och alltså bilda $C_i=\\varepsilon_{ijk}A_jB_k$. Med hjälp av definitionen kan vi räkna ut t.ex. $C_1$, och får resultatet $C_1=A_2B_3-A_3B_2$, dvs. samma som första komponenten av $\\vec{A}\\times\\vec{B}$. Detsamma gäller de andra komponenterna. Kryssprodukten skrivs alltså"
   ]
  },
  {
   "cell_type": "markdown",
   "metadata": {},
   "source": [
    "$$\n",
    "\\begin{equation}\n",
    "[\\vec{A}\\times\\vec{B}]_i=\\varepsilon_{ijk}A_jB_k .\n",
    "\\end{equation}\n",
    "$$"
   ]
  },
  {
   "cell_type": "markdown",
   "metadata": {},
   "source": [
    "Kryssprodukten är specifik för tre dimensioner, just för att $\\varepsilon$-tensorn har tre index i tre dimensioner. Motsvarande objekt i $D$ dimensioner har $D$ index: $\\varepsilon_{i_1i_2\\ldots i_D}$.\n",
    "\n",
    "## Produkter av flera vektorer\n",
    "\n",
    "Låt oss studera följande vektorprodukt"
   ]
  },
  {
   "cell_type": "markdown",
   "metadata": {},
   "source": [
    "$$\n",
    "\\begin{equation}\n",
    "  \\vec{A} \\times \\left( \\vec{B} \\times \\vec{C} \\right)\n",
    "\\end{equation}\n",
    "$$"
   ]
  },
  {
   "cell_type": "markdown",
   "metadata": {},
   "source": [
    "vilket med indexnotation kan skrivas"
   ]
  },
  {
   "cell_type": "markdown",
   "metadata": {},
   "source": [
    "<!-- Equation labels as ordinary links -->\n",
    "<div id=\"eq:ABC\"></div>\n",
    "\n",
    "$$\n",
    "\\begin{equation}\n",
    "  \\label{eq:ABC} \\tag{1}\n",
    "  \\left[ \\vec{A} \\times \\left( \\vec{B} \\times \\vec{C} \\right) \\right]_i =\n",
    "  \\varepsilon_{ijk} A_j \\varepsilon_{klm} B_l C_m = \\varepsilon_{ijk} \\varepsilon_{klm} A_j B_l C_m.\n",
    "\\end{equation}\n",
    "$$"
   ]
  },
  {
   "cell_type": "markdown",
   "metadata": {},
   "source": [
    "Låt oss först poängtera att vi kan byta plats på faktorerna som vi gjorde ovan. Eftersom dessa är reella tal gäller t.ex. att $A_j B_l = B_l A_j$ och motsvarande för $\\varepsilon$-tensorerna.\n",
    "\n",
    "Här dyker en produkt av två Levi-Cevita-tensorer upp. Låt oss se om sådana produkter kan förenklas\n",
    "\n",
    "### Produkter av två $\\varepsilon_{ijk}$\n",
    "\n",
    "Först produkten med enbart två fria index"
   ]
  },
  {
   "cell_type": "markdown",
   "metadata": {},
   "source": [
    "$$\n",
    "\\begin{equation}\n",
    "  \\varepsilon_{ikl} \\varepsilon_{jkl} = 2 \\delta_{ij}.\n",
    "\\end{equation}\n",
    "$$"
   ]
  },
  {
   "cell_type": "markdown",
   "metadata": {},
   "source": [
    "Detta inses ganska enkelt eftersom \n",
    "* Produkten måste bli noll då $i \\neq j$. T.ex. $i=1$ innebär att $kl$ måste vara 23 eller 32, och då måste även $j=1$ för att den andra tensorn skall vara nollskild.\n",
    "\n",
    "* Med $i=j$ måste summan över $kl$ bli 2. Studera t.ex. $i=j=1$; de nollskilda termerna i summan blir $ikl=jkl \\in [123,132]$, dvs"
   ]
  },
  {
   "cell_type": "markdown",
   "metadata": {},
   "source": [
    "$$\n",
    "\\begin{equation}\n",
    "\t\\sum_{k,l=1}^3 \\varepsilon_{1kl} \\varepsilon_{1kl} = \\varepsilon_{123} \\varepsilon_{123} + \\varepsilon_{132} \\varepsilon_{132} = 1 \\cdot 1 + (-1) \\cdot (-1) = 2\n",
    "\\end{equation}\n",
    "$$"
   ]
  },
  {
   "cell_type": "markdown",
   "metadata": {},
   "source": [
    "------------\n",
    "Nu produkten med enbart ett kontraherat index"
   ]
  },
  {
   "cell_type": "markdown",
   "metadata": {},
   "source": [
    "<!-- Equation labels as ordinary links -->\n",
    "<div id=\"eq:ijkklm\"></div>\n",
    "\n",
    "$$\n",
    "\\begin{equation}\n",
    "  \\label{eq:ijkklm} \\tag{2}\n",
    "  \\varepsilon_{ijk} \\varepsilon_{klm} = \\left\\{ \\mathrm{Cyklisk~perm.} \\right\\} = \\varepsilon_{ijk} \\varepsilon_{lmk} = \\delta_{il} \\delta_{jm} - \\delta_{im} \\delta_{jl}.\n",
    "\\end{equation}\n",
    "$$"
   ]
  },
  {
   "cell_type": "markdown",
   "metadata": {},
   "source": [
    "Det inses lätt att $i \\neq j$ och $l \\neq m$. Vidare inses att paret $ij$ måste vara lika med $lm$ eller $ml$. Betrakta t.ex. $i,j \\in [1,2]$. Då kommer enbart $k=3$ termen från summan att bidra och vi har följande möjligheter"
   ]
  },
  {
   "cell_type": "markdown",
   "metadata": {},
   "source": [
    "$$\n",
    "\\begin{equation}\n",
    "  \\begin{array}{lll}\n",
    "  \tijk & lmk & \\mathrm{Resultat} \\\\\n",
    "  \t123 & 123 & = 1 \\\\\n",
    "  \t123 & 213 & = -1 \\\\\n",
    "  \t213 & 123 & = -1 \\\\\n",
    "  \t213 & 213 & = 1,\n",
    "  \\end{array}\n",
    "\\end{equation}\n",
    "$$"
   ]
  },
  {
   "cell_type": "markdown",
   "metadata": {},
   "source": [
    "vilket motsvarar exakt kombinationen av deltafunktioner i Ekv [(2)](#eq:ijkklm) ovan.\n",
    "------------\n",
    "Detta var precis den produkt som dök upp i Ekv [(1)](#eq:ABC) ovan. Vi fortsätter"
   ]
  },
  {
   "cell_type": "markdown",
   "metadata": {},
   "source": [
    "$$\n",
    "\\begin{equation}\n",
    "  \\left[ \\vec{A} \\times \\left( \\vec{B} \\times \\vec{C} \\right) \\right]_i \n",
    "  = \\left( \\delta_{il} \\delta_{jm} - \\delta_{im} \\delta_{jl} \\right) A_j B_l C_m \\nonumber \n",
    "\\end{equation}\n",
    "$$"
   ]
  },
  {
   "cell_type": "markdown",
   "metadata": {},
   "source": [
    "$$\n",
    "\\begin{equation} \n",
    "  = B_i A_m C_m - A_j B_j C_i = B_i \\vec{A}\\cdot\\vec{C} - \\vec{A}\\cdot\\vec{B} C_i \n",
    "\\end{equation}\n",
    "$$"
   ]
  },
  {
   "cell_type": "markdown",
   "metadata": {},
   "source": [
    "Här har vi bytt plats på $A_m B_i = B_i A_m$. Notera vidare att vi lika gärna kunde ha bytt t.ex. $m \\to j$ i den första termen. Dessa blir ändå ett summationsindex och det spelar ingen roll om det heter $m$ eller $j$. \n",
    "\n",
    "Till slut finner vi alltså likheten"
   ]
  },
  {
   "cell_type": "markdown",
   "metadata": {},
   "source": [
    "<!-- Equation labels as ordinary links -->\n",
    "<div id=\"eq:ABCresultat\"></div>\n",
    "\n",
    "$$\n",
    "\\begin{equation}\n",
    "  \\label{eq:ABCresultat} \\tag{3}\n",
    "  \\vec{A} \\times \\left( \\vec{B} \\times \\vec{C} \\right) = \\vec{B} (\\vec{A}\\cdot\\vec{C}) - (\\vec{A}\\cdot\\vec{B}) \\vec{C}.\n",
    "\\end{equation}\n",
    "$$"
   ]
  },
  {
   "cell_type": "markdown",
   "metadata": {},
   "source": [
    "## Kombinationer med två vektoroperatorer\n",
    "\n",
    "En viktig konsekvens av Ekv [(3)](#eq:ABCresultat) är"
   ]
  },
  {
   "cell_type": "markdown",
   "metadata": {},
   "source": [
    "$$\n",
    "\\begin{equation}\n",
    "  \\nabla \\times \\left( \\nabla \\times \\vec{F} \\right) = \\nabla \\left( \\nabla \\cdot \\vec{F} \\right) - \\nabla \\cdot \\nabla \\vec{F},\n",
    "\\end{equation}\n",
    "$$"
   ]
  },
  {
   "cell_type": "markdown",
   "metadata": {},
   "source": [
    "vilket ger oss följande uttryck för Laplacianen"
   ]
  },
  {
   "cell_type": "markdown",
   "metadata": {},
   "source": [
    "$$\n",
    "\\begin{equation}\n",
    "  \\Delta \\vec{F} = \\nabla \\cdot \\nabla \\vec{F} = \\nabla \\left( \\nabla \\cdot \\vec{F} \\right) - \\nabla \\times \\left( \\nabla \\times \\vec{F} \\right),\n",
    "\\end{equation}\n",
    "$$"
   ]
  },
  {
   "cell_type": "markdown",
   "metadata": {},
   "source": [
    "eller Laplace = grad div - rot rot.\n",
    "\n",
    "Två viktiga samband, vilka dessutom är enkla att härleda, är"
   ]
  },
  {
   "cell_type": "markdown",
   "metadata": {},
   "source": [
    "<!-- Equation labels as ordinary links -->\n",
    "<div id=\"eq:ddf\"></div>\n",
    "\n",
    "$$\n",
    "\\begin{equation}\n",
    "\\label{eq:ddf} \\tag{4}\n",
    "  \\nabla \\times \\nabla f = 0\n",
    "\\end{equation}\n",
    "$$"
   ]
  },
  {
   "cell_type": "markdown",
   "metadata": {},
   "source": [
    "och"
   ]
  },
  {
   "cell_type": "markdown",
   "metadata": {},
   "source": [
    "<!-- Equation labels as ordinary links -->\n",
    "<div id=\"eq:ddf2\"></div>\n",
    "\n",
    "$$\n",
    "\\begin{equation}\n",
    "\\label{eq:ddf2} \\tag{5}\n",
    "  \\nabla \\cdot \\left( \\nabla \\times \\vec{F}\\right) = 0.\n",
    "\\end{equation}\n",
    "$$"
   ]
  },
  {
   "cell_type": "markdown",
   "metadata": {},
   "source": [
    "Visa gärna dessa\n",
    "\n",
    "### Bevis, Ekv [(4)](#eq:ddf)"
   ]
  },
  {
   "cell_type": "markdown",
   "metadata": {},
   "source": [
    "$$\n",
    "\\begin{equation}\n",
    "  \\left[ \\nabla \\times \\nabla f \\right]_i = \\varepsilon_{ijk} \\partial_j \\partial_k f\n",
    "\\end{equation}\n",
    "$$"
   ]
  },
  {
   "cell_type": "markdown",
   "metadata": {},
   "source": [
    "Till exempel för $i=1$"
   ]
  },
  {
   "cell_type": "markdown",
   "metadata": {},
   "source": [
    "$$\n",
    "\\begin{equation}\n",
    "  \\begin{array}{llll}\n",
    "  \tijk & \\partial_j & \\partial_k & \\mathrm{faktor} \\\\\n",
    "  \t123 & 2 & 3 & +1 \\\\\n",
    "  \t132 & 3 & 2 & -1 \\\\\n",
    "  \\end{array}\n",
    "\\end{equation}\n",
    "$$"
   ]
  },
  {
   "cell_type": "markdown",
   "metadata": {},
   "source": [
    "vilket betyder att $\\left[ \\nabla \\times \\nabla f \\right]_1 = \\left( \\partial_2\\partial_3 - \\partial_3\\partial_2 \\right) f = 0$. \n",
    "\n",
    "### Bevis, Ekv [(5)](#eq:ddf2)"
   ]
  },
  {
   "cell_type": "markdown",
   "metadata": {},
   "source": [
    "$$\n",
    "\\begin{equation}\n",
    "  \\left[ \\nabla \\cdot \\left( \\nabla \\times \\vec{F} \\right) \\right] = \\partial_i \\varepsilon_{ijk} \\partial_j F_k = \\varepsilon_{ijk} \\partial_i \\partial_j F_k\n",
    "\\end{equation}\n",
    "$$"
   ]
  },
  {
   "cell_type": "markdown",
   "metadata": {},
   "source": [
    "* En viktig poäng är att de sista två faktorerna *inte* får byta plats eftersom $\\partial_j F_k \\neq F_k \\partial_j$.\n",
    "\n",
    "* Däremot har vi att $\\partial_i \\partial_j F_k = \\partial_j \\partial_i F_k$, vilket betyder att dessa två faktorer kan byta plats.\n",
    "\n",
    "Summan ovan har 27 termer, men enbart sex nollskilda\n",
    "<table border=\"1\">\n",
    "<thead>\n",
    "<tr><th align=\"center\">$ijk$</th> <th align=\"center\">            term            </th> </tr>\n",
    "</thead>\n",
    "<tbody>\n",
    "<tr><td align=\"center\">   123      </td> <td align=\"right\">   $\\partial_1 \\partial_2 F_3$     </td> </tr>\n",
    "<tr><td align=\"center\">   231      </td> <td align=\"right\">   $\\partial_2 \\partial_3 F_1$     </td> </tr>\n",
    "<tr><td align=\"center\">   312      </td> <td align=\"right\">   $\\partial_3 \\partial_1 F_2$     </td> </tr>\n",
    "<tr><td align=\"center\">   132      </td> <td align=\"right\">   $-\\partial_1 \\partial_3 F_2$    </td> </tr>\n",
    "<tr><td align=\"center\">   213      </td> <td align=\"right\">   $-\\partial_2 \\partial_1 F_3$    </td> </tr>\n",
    "<tr><td align=\"center\">   321      </td> <td align=\"right\">   $-\\partial_3 \\partial_2 F_1$    </td> </tr>\n",
    "</tbody>\n",
    "</table>\n",
    "och eftersom dessa tar ut varandra parvis blir summan noll."
   ]
  }
 ],
 "metadata": {},
 "nbformat": 4,
 "nbformat_minor": 0
}
