{
 "cells": [
  {
   "cell_type": "markdown",
   "metadata": {},
   "source": [
    "<!-- dom:TITLE: FFM232, Klassisk fysik och vektorfält - Föreläsningsanteckningar -->\n",
    "# FFM232, Klassisk fysik och vektorfält - Föreläsningsanteckningar\n",
    "<!-- dom:AUTHOR: [Christian Forssén](http://fy.chalmers.se/subatom/tsp/), Institutionen för fysik, Chalmers, Göteborg, Sverige -->\n",
    "<!-- Author: --> **[Christian Forssén](http://fy.chalmers.se/subatom/tsp/), Institutionen för fysik, Chalmers, Göteborg, Sverige**\n",
    "\n",
    "Date: **Sep 9, 2016**\n",
    "\n",
    "# 12. Tensorer\n",
    "\n",
    "* Fysikaliska lagar skall inte bero på i vilket koordinatsystem de beskrivs.\n",
    "\n",
    "* Detta kan vi åstadkomma genom att skriva dessa lagar som en likhet mellan två objekt vilka vi vet transformerar likadant under en koordinattransformation.\n",
    "\n",
    "* Vi kommer att kalla sådana objekt för *tensorer*.\n",
    "\n",
    "* En invarians kan kopplas till en symmetri (t.ex. rotationssymmetri). Invariansen kan kodas in genom att använda\"tensorspråket\".\n",
    "\n",
    "* Kan generaliseras till större symmetrier. T.ex. Lorentzinvarians i speciell relativitetsteori vilken involverar rum-tiden (fyra dimensioner); och mer allmänna koordinattransformationer i allmän relativitetsteori.\n",
    "\n",
    "Plan:\n",
    "* Hur beskriva transformation mellan cartesiska koordinatsystem\n",
    "\n",
    "* Transformationsegenskaper hos: Skalär, vektor, ... generell tensor\n",
    "\n",
    "* Visa att diverse objekt verkligen är tensorer\n",
    "\n",
    "* Fysikaliskt exempel: Tröghetstensorn\n",
    "\n",
    "## Koordinattransformationer\n",
    "\n",
    "När vi byter koordinater från ett Cartesiskt högersystem, med koordinater\n",
    "$x_i$, till ett annat (med origo i samma punkt), med koordinater $x'_i$, relateras"
   ]
  },
  {
   "cell_type": "markdown",
   "metadata": {},
   "source": [
    "<!-- Equation labels as ordinary links -->\n",
    "<div id=\"eq:transformation\"></div>\n",
    "\n",
    "$$\n",
    "\\begin{equation}\n",
    "x'_i=L_{ij}x_j,\n",
    "\\label{eq:transformation} \\tag{1}\n",
    "\\end{equation}\n",
    "$$"
   ]
  },
  {
   "cell_type": "markdown",
   "metadata": {},
   "source": [
    "där $\\mathbf{L}$ är en ortogonal matris som uppfyller $\\mathbf{L}\\mathbf{L}^t = \\mathbf{I}=\\mathbf{L}^t\\mathbf{L}$. Från detta följer direkt att $\\det(\\mathbf{L}^t\\mathbf{L}) =  \\det(\\mathbf{L})^2 = \\det\\mathbf{I}=1$ vilket ger $\\det\\mathbf{L}=\\pm 1$. \n",
    "\n",
    "[Rita 1: $x'y'$-system som är roterat en vinkel $\\alpha$ relativt ett $xy$-system.]"
   ]
  },
  {
   "cell_type": "markdown",
   "metadata": {},
   "source": [
    "$$\n",
    "\\begin{equation}\n",
    "\\begin{pmatrix}\n",
    "x' \\\\ y'\n",
    "\\end{pmatrix}\n",
    "= \n",
    "\\begin{pmatrix}\n",
    "\\cos\\alpha & \\sin\\alpha \\\\\n",
    "-\\sin\\alpha & \\cos\\alpha\n",
    "\\end{pmatrix}\n",
    "\\begin{pmatrix}\n",
    "x \\\\ y\n",
    "\\end{pmatrix}\n",
    "\\end{equation}\n",
    "$$"
   ]
  },
  {
   "cell_type": "markdown",
   "metadata": {},
   "source": [
    "[Comment 2: Om $\\mathbf{L}$ transformerar ett högersystem till ett högersystem gäller plustecknet, $\\det\\mathbf{L}=1$. Kolla exemplet ovan att $\\mathbf{L}^t \\mathbf{L} = \\mathbf{I}$.]\n",
    "\n",
    "I indexnotation"
   ]
  },
  {
   "cell_type": "markdown",
   "metadata": {},
   "source": [
    "$$\n",
    "\\begin{equation}\n",
    "\\left( L^t L \\right)_{ij} = \\left( L^t \\right)_{ik} L_{kj} \n",
    "= L_{ki}L_{kj}=\\delta_{ij}.\n",
    "\\end{equation}\n",
    "$$"
   ]
  },
  {
   "cell_type": "markdown",
   "metadata": {},
   "source": [
    "Ett allmänt uttryck för determinanten av en $(3\\times3)$-matris är"
   ]
  },
  {
   "cell_type": "markdown",
   "metadata": {},
   "source": [
    "$$\n",
    "\\begin{equation}\n",
    "\\det\\mathbf{M}=\\varepsilon^{ijk}M_{1i}M_{2j}M_{3k}\n",
    "\\end{equation}\n",
    "$$"
   ]
  },
  {
   "cell_type": "markdown",
   "metadata": {},
   "source": [
    "[Comment 3: Kontrollera gärna. Detta uttryck ger en summa med sex nollskilda termer (3 positiva och 3 negativa) vilket alltså motsvarar determinanten.]\n",
    "\n",
    "Notera att vi genom att derivera Ekv. [(1)](#eq:transformation) kan skriva matrisen $\\mathbf{L}$ som $L_{ij}=\\frac{\\partial x'_i}{\\partial x_j}$. Eftersom matrisen är ortogonal gäller den inversa relationen $x_i=L_{ji}x'_j$, och vi har också $L_{ji}=\\frac{\\partial x_i}{\\partial x'_j}$.\n",
    "\n",
    "## Skalärer och vektorer\n",
    "En skalär $s$ (= enklaste exempel på en tensor) kännetecknas av att den tar samma värde i alla koordinatsystem, dvs. $s'=s$. \n",
    "\n",
    "[Comment 4: Det är viktigt att förstå att det är transformationsregeln som är det viktiga. Det räcker inte med att \"$s$ är ett tal\".] \n",
    "\n",
    "[Rita 5: En punkt P i ovanstående två koordinatsystem och illustrera dess $x'$- och $x$-koordinat.]\n",
    "\n",
    "Sålunda är $x$-koordinaten för en punkt i $\\mathbf{R}^3$ inte en skalär, medan t.ex. temperaturen i en punkt är en skalär. \n",
    "\n",
    "En vektor $\\vec v$ är en uppsättning tal som beter sig likadant som ortvektorns komponenter när vi byter system, dvs."
   ]
  },
  {
   "cell_type": "markdown",
   "metadata": {},
   "source": [
    "$$\n",
    "\\begin{equation}\n",
    "v'_i=L_{ij}v_j\n",
    "\\end{equation}\n",
    "$$"
   ]
  },
  {
   "cell_type": "markdown",
   "metadata": {},
   "source": [
    "[Comment 6: Det är denna transformationsregel som definierar vilka uppsättningar av tre (eller $D$) tal som får privilegiet att kallas vektor.]\n",
    "\n",
    "## Tensorer\n",
    "[Comment 7: Nu är det rättframt att gå vidare och definiera objekt,  tensorer, som har fler än ett index. En matris kan, som vi redan sett, skrivas som en tensor med två index, $T_{ij}$. Men inget hindrar att man har ett godtyckligt antal, säg $p$.]\n",
    "\n",
    "Transformationsregeln för en tensor med två index (tänk matris) är"
   ]
  },
  {
   "cell_type": "markdown",
   "metadata": {},
   "source": [
    "$$\n",
    "\\begin{equation} \n",
    "T'_{ij} = L_{ik} L_{jl} T_{kl} \\left( = L_{ik} T_{kl} \\left( L^t \\right)_{lj} \\right),\n",
    "\\end{equation}\n",
    "$$"
   ]
  },
  {
   "cell_type": "markdown",
   "metadata": {},
   "source": [
    "vilket ju motsvarar $\\mathbf{T}' = \\mathbf{L} \\mathbf{T} \\mathbf{L}^t$.\n",
    "\n",
    "En tensor med $p$ index (en tensor av rank $p$) skrivs $T_{i_1i_2\\ldots i_p}$.  och allmänt"
   ]
  },
  {
   "cell_type": "markdown",
   "metadata": {},
   "source": [
    "$$\n",
    "\\begin{equation}\n",
    "T'_{i_1\\ldots i_p}=L_{i_1j_1}\\ldots L_{i_pj_p}T_{j_1\\ldots j_p}.\n",
    "\\end{equation}\n",
    "$$"
   ]
  },
  {
   "cell_type": "markdown",
   "metadata": {},
   "source": [
    "Poängen med detta är att man kan multiplicera samman tensorer och\n",
    "vara säker på att resultatet blir en tensor. \n",
    "\n",
    "### Skalärprodukt\n",
    "\n",
    "Är $\\vec{u} \\cdot \\vec{v}$ en skalär? Hur beter den sig vid ett koordinatbyte?"
   ]
  },
  {
   "cell_type": "markdown",
   "metadata": {},
   "source": [
    "$$\n",
    "\\begin{equation}\n",
    "u_i' v_i' = L_{ij} u_j L_{ik} v_k = \\delta_{jk} u_j v_k = u_k v_k\n",
    "\\end{equation}\n",
    "$$"
   ]
  },
  {
   "cell_type": "markdown",
   "metadata": {},
   "source": [
    "Resultatet är alltså oberoende av koordinatsystem, dvs det är en skalär.\n",
    "\n",
    "### Produkt av tensorer\n",
    "\n",
    "Produkten av två tensorer är också en tensor.\n",
    "* $c_{ij}=a_i b_j$ är också en tensor. \n",
    "\n",
    "* $u_i=M_{ij}v_j$ är också en tensor. \n",
    "\n",
    "[Comment 8: I första fallet kan man \"kontrahera\" två index, såsom man bildar skalärprodukten.]\n",
    "\n",
    "[Comment 9: För det andra fallet har vi $M'_{ij}v'_j=L_{ik}L_{jl}M_{kl}L_{jm}v_m=L_{ik}\\delta_{lm}M_{kl}v_m=L_{ik}M_{kl}v_l\n",
    "=L_{ik}u_k$ (där vi i första steget har använt att $\\mathbf{L}$ är ortogonal). Om $M_{ij}$ och $v_i$ är tensorer är alltså även $u_i$ det. Det allmänna beviset går likadant (och innefattar förstås det faktum att skalärprodukten av två vektorer är en skalär).]\n",
    "\n",
    "### Exempel: Kryssprodukt\n",
    "\n",
    "Är $(\\vec a\\times\\vec b)_i = \\varepsilon_{ijk}a_jb_k$ en tensor? Dvs är resultatet en vektor? \n",
    "\n",
    "[Comment 10: I linjär algebrakurserna har ni säkert visat att detta är en vektor.]\n",
    "\n",
    "Räknereglerna ovan ger att vi bara måste visa att $\\varepsilon_{ijk}$ är en tensor. Transformationsreglerna säger:"
   ]
  },
  {
   "cell_type": "markdown",
   "metadata": {},
   "source": [
    "$$\n",
    "\\begin{equation}\n",
    "\\varepsilon'_{ijk}=L_{il}L_{jm}L_{kn}\\varepsilon_{lmn}\n",
    "\\end{equation}\n",
    "$$"
   ]
  },
  {
   "cell_type": "markdown",
   "metadata": {},
   "source": [
    "Vi kommer att visa att $\\varepsilon$ är helt invariant under koordinattransformationer. Men låt oss först visa att $\\varepsilon'_{ijk}$ är antisymmetriskt. Byt plats på två index"
   ]
  },
  {
   "cell_type": "markdown",
   "metadata": {},
   "source": [
    "$$\n",
    "\\begin{equation}\n",
    "\\varepsilon'_{jik}=L_{jl}L_{im}L_{kn}\\varepsilon_{lmn} = L_{jm}L_{il}L_{kn}\\varepsilon_{mln} = - L_{il} L_{jm}L_{kn}\\varepsilon_{lmn} = - \\varepsilon'_{ijk},\n",
    "\\end{equation}\n",
    "$$"
   ]
  },
  {
   "cell_type": "markdown",
   "metadata": {},
   "source": [
    "där vi först bytte namn på två summationsindex, och sedan bytte plats på dem och utnyttjade att $\\varepsilon_{ijk}$ är antisymmetrisk. \n",
    "\n",
    "Den bevisade antisymmetrin betyder ju också att element med två lika index måste vara noll. T.ex. $\\varepsilon'_{iik} = -\\varepsilon'_{iik}$.\n",
    "\n",
    "$\\varepsilon'_{ijk}$ är alltså proportionell mot $\\varepsilon_{ijk}$. Visa därför en permutation, t.ex. $ijk=123$."
   ]
  },
  {
   "cell_type": "markdown",
   "metadata": {},
   "source": [
    "$$\n",
    "\\begin{equation}\n",
    "\\varepsilon'_{123}=L_{1l}L_{2m}L_{3n}\\varepsilon_{lmn} = \\det \\mathbf{L} = +1,\n",
    "\\end{equation}\n",
    "$$"
   ]
  },
  {
   "cell_type": "markdown",
   "metadata": {},
   "source": [
    "för en högertransformation.\n",
    "\n",
    "Så $\\varepsilon'_{ijk}=\\varepsilon_{ijk}$, Levi--Civita-tensorn är en *invariant tensor*. Den enda andra invarianta tensorn är Kroneckers delta. Visa själv att $\\delta'_{ij}=\\delta_{ij}$. \n",
    "\n",
    "### Vektoroperatorn\n",
    "\n",
    "Vi behöver också kunna derivera. Låt oss visa det litet triviala påståendet att gradienten\n",
    "av en skalär är en vektor. Vi har $(\\nabla\\phi)'_i=\\frac{\\partial}{\\partial x'_i}\\phi'=\\frac{\\partial \\phi}{\\partial x_j} \\frac{\\partial x_j}{\\partial x'_i}=\n",
    "L_{ij} \\frac{\\partial \\phi}{\\partial x_j}=L_{ij}(\\nabla\\phi)_j$. Detta visar att $\\partial _i$ är en vektoroperator, och man kan sedan använda den för att konstruera andra derivator (divergens, rotation osv.). Samma regler gäller för $\\partial _i$ som för andra tensorer.\n",
    "\n",
    "## Tröghetstensorn\n",
    "Ett annat klassiskt exempel är tröghetstensorn,"
   ]
  },
  {
   "cell_type": "markdown",
   "metadata": {},
   "source": [
    "$$\n",
    "\\begin{equation}\n",
    "I_{ij}=\\int_VdV\\,\\rho(r^2\\delta_{ij}-x_ix_j),\n",
    "\\end{equation}\n",
    "$$"
   ]
  },
  {
   "cell_type": "markdown",
   "metadata": {},
   "source": [
    "som man räknade ut i stelkroppsdynamik. Den relaterar rörelsemängdsmomentet till\n",
    "rotationsvektorn enligt $L_i=I_{ij}\\omega_j$. I och med att den innehåller upprepade\n",
    "kryssprodukter är det enklare att härleda den i tensorformalism. \n",
    "\n",
    "Ett litet volymelement $dV$ av en stel kropp har massan $dm=\\rho dV$,\n",
    "och om kroppen roterar med en rotationsvektor $\\omega_i$ har\n",
    "det hastigheten $v_i=(\\vec\\omega\\times\\vec{r})_i=\\varepsilon_{ijk}\\omega_jx_k$. \n",
    "Dess rörelsemängd är $\\mbox{d}p_i=\\mbox{d}mv_i=\\mbox{d}m\\varepsilon_{ijk}\\omega_jx_k$. Bidraget till rörelsemängdsmomentet från volymelementet är"
   ]
  },
  {
   "cell_type": "markdown",
   "metadata": {},
   "source": [
    "$$\n",
    "\\begin{equation}\n",
    "\\mbox{d}L_i = \\varepsilon_{ijk}x_j \\mbox{d}p_k = \\mbox{d}m\\varepsilon_{ijk}x_j\\varepsilon_{klm}\\omega_lx_m\n",
    "=\\mbox{d}m(\\delta_{il}\\delta_{jm}-\\delta_{im}\\delta_{jl})x_jx_m\\omega_l \\nonumber \n",
    "\\end{equation}\n",
    "$$"
   ]
  },
  {
   "cell_type": "markdown",
   "metadata": {},
   "source": [
    "$$\n",
    "\\begin{equation} \n",
    "=\\mbox{d}m(r^2\\omega_i-x_ix_j\\omega_j)=\\mbox{d}V\\rho(r^2\\delta_{ij}-x_ix_j)\\omega_j\n",
    "\\end{equation}\n",
    "$$"
   ]
  },
  {
   "cell_type": "markdown",
   "metadata": {},
   "source": [
    "och totalt blir detta"
   ]
  },
  {
   "cell_type": "markdown",
   "metadata": {},
   "source": [
    "$$\n",
    "\\begin{equation}\n",
    "L_i = \\int_V \\mbox{d}V\\,\\rho(r^2\\delta_{ij}-x_ix_j) \\omega_j = I_{ij} \\omega_j,\n",
    "\\end{equation}\n",
    "$$"
   ]
  }
 ],
 "metadata": {},
 "nbformat": 4,
 "nbformat_minor": 0
}
