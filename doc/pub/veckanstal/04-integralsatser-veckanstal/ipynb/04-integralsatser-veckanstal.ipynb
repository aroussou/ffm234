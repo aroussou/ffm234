{
 "cells": [
  {
   "cell_type": "markdown",
   "metadata": {},
   "source": [
    "<!-- dom:TITLE: FFM234, Klassisk fysik och vektorfält - Veckans tal -->\n",
    "# FFM234, Klassisk fysik och vektorfält - Veckans tal\n",
    "<!-- dom:AUTHOR: [Christian Forssén](http://fy.chalmers.se/subatom/tsp/), Institutionen för  fysik, Chalmers -->\n",
    "<!-- Author: -->  \n",
    "**[Christian Forssén](http://fy.chalmers.se/subatom/tsp/), Institutionen för  fysik, Chalmers**\n",
    "\n",
    "Date: **Aug 10, 2019**\n",
    "\n",
    "<!-- --- begin exercise --- -->\n",
    "\n",
    "## Kurvintegral längs komplicerad ellips\n",
    "\n",
    "Beräkna integralen"
   ]
  },
  {
   "cell_type": "markdown",
   "metadata": {},
   "source": [
    "<!-- Equation labels as ordinary links -->\n",
    "<div id=\"_auto1\"></div>\n",
    "\n",
    "$$\n",
    "\\begin{equation}\n",
    "  \\oint_\\Gamma \\vec{F} \\cdot \\mbox{d}\\vec{r},\n",
    "\\label{_auto1} \\tag{1}\n",
    "\\end{equation}\n",
    "$$"
   ]
  },
  {
   "cell_type": "markdown",
   "metadata": {},
   "source": [
    "där"
   ]
  },
  {
   "cell_type": "markdown",
   "metadata": {},
   "source": [
    "<!-- Equation labels as ordinary links -->\n",
    "<div id=\"_auto2\"></div>\n",
    "\n",
    "$$\n",
    "\\begin{equation}\n",
    "  \\vec{F} = \\left[x^2-a\\left(y+z\\right)\\right]\\hat{x} + \\left(y^2-az\\right)\n",
    "\\hat{y} + \\left[z^2-a\\left(x+y\\right)\\right] \\hat{z},\n",
    "\\label{_auto2} \\tag{2}\n",
    "\\end{equation}\n",
    "$$"
   ]
  },
  {
   "cell_type": "markdown",
   "metadata": {},
   "source": [
    "och $\\Gamma$ är den kurva som utgör skärningen mellan cylindern"
   ]
  },
  {
   "cell_type": "markdown",
   "metadata": {},
   "source": [
    "<!-- Equation labels as ordinary links -->\n",
    "<div id=\"_auto3\"></div>\n",
    "\n",
    "$$\n",
    "\\begin{equation}\n",
    " \\left(x-a\\right)^2 +y^2 = a^2,\\quad z \\ge 0,\n",
    "\\label{_auto3} \\tag{3}\n",
    "\\end{equation}\n",
    "$$"
   ]
  },
  {
   "cell_type": "markdown",
   "metadata": {},
   "source": [
    "och sfären"
   ]
  },
  {
   "cell_type": "markdown",
   "metadata": {},
   "source": [
    "<!-- Equation labels as ordinary links -->\n",
    "<div id=\"_auto4\"></div>\n",
    "\n",
    "$$\n",
    "\\begin{equation}\n",
    "  x^2 + y^2 + z^2 = R^2, \\quad R> 2a,\n",
    "\\label{_auto4} \\tag{4}\n",
    "\\end{equation}\n",
    "$$"
   ]
  },
  {
   "cell_type": "markdown",
   "metadata": {},
   "source": [
    "där $a$ är en konstant med dimensionen längd.\n",
    "\n",
    "\n",
    "<!-- --- begin answer of exercise --- -->\n",
    "**Answer.**\n",
    "$\\pi a^3$.\n",
    "\n",
    "<!-- --- end answer of exercise --- -->\n",
    "\n",
    "\n",
    "<!-- --- begin solution of exercise --- -->\n",
    "**Solution.**\n",
    "Vi kan först konstatera att skärningen mellan cylinder och sfär är en ellips vars exakta form är något komplicerad att fastställa.  Eftersom kurvan $\\Gamma$ är en sluten kurva är det lockande att använda Stokes sats, så vi beräknar rotationen"
   ]
  },
  {
   "cell_type": "markdown",
   "metadata": {},
   "source": [
    "$$\n",
    "\\vec{\\nabla} \\times \\vec{F} = \n",
    "  \\left|\\begin{array}{ccc}\n",
    "\\hat{x} & \\hat{y} & \\hat{z} \\\\\n",
    "\\frac{\\partial}{\\partial x} & \\frac{\\partial}{\\partial y} & \n",
    "\\frac{\\partial}{\\partial z} \\\\\n",
    "x^2-a\\left(y+z\\right) & y^2-az & z^2-a\\left(x+y\\right) \\\\\n",
    "\\end{array} \n",
    "\\right| \\nonumber\n",
    "$$"
   ]
  },
  {
   "cell_type": "markdown",
   "metadata": {},
   "source": [
    "<!-- Equation labels as ordinary links -->\n",
    "<div id=\"_auto5\"></div>\n",
    "\n",
    "$$\n",
    "\\begin{equation} \n",
    "= \\left(-a+a\\right) \\hat{x} + \\left(-a+a\\right) \\hat{y} + a\\hat{z}\n",
    "= a\\hat{z}.\n",
    "\\label{_auto5} \\tag{5}\n",
    "\\end{equation}\n",
    "$$"
   ]
  },
  {
   "cell_type": "markdown",
   "metadata": {},
   "source": [
    "Alltså är rotationen av $\\vec{F}$ en rent vertikal vektor.  \n",
    "\n",
    "Vi kan nu använda Stokes sats"
   ]
  },
  {
   "cell_type": "markdown",
   "metadata": {},
   "source": [
    "<!-- Equation labels as ordinary links -->\n",
    "<div id=\"_auto6\"></div>\n",
    "\n",
    "$$\n",
    "\\begin{equation}\n",
    "  \\oint_\\Gamma \\vec{F} \\cdot \\mbox{d}\\vec{r} = \\int_S \\vec{\\nabla} \\times \\vec{F} \\cdot\n",
    "\\mbox{d}\\vec{S}.\n",
    "\\label{_auto6} \\tag{6}\n",
    "\\end{equation}\n",
    "$$"
   ]
  },
  {
   "cell_type": "markdown",
   "metadata": {},
   "source": [
    "Lägg märke till att ytan skall orienteras så att den följer högerhandsregeln.  Detta betyder att om vi följer kurvan $\\Gamma$ moturs så skall normalen $\\hat{n}$ till $S$ peka uppåt."
   ]
  },
  {
   "cell_type": "markdown",
   "metadata": {},
   "source": [
    "<!-- Equation labels as ordinary links -->\n",
    "<div id=\"_auto7\"></div>\n",
    "\n",
    "$$\n",
    "\\begin{equation}\n",
    "  \\int_S \\vec{\\nabla} \\times \\vec{F} \\cdot \\mbox{d}\\vec{S} = \\int_S a \\hat{z} \\cdot \n",
    "\\hat{n} \\mbox{d}S = a \\int_S \\hat{z} \\cdot \\hat{n} \\mbox{d}S.\n",
    "\\label{_auto7} \\tag{7}\n",
    "\\end{equation}\n",
    "$$"
   ]
  },
  {
   "cell_type": "markdown",
   "metadata": {},
   "source": [
    "Skalärprodukten i den sista integralen betyder att vi projicerar ner arean $S$ på ett plan vinkelrät mot $\\hat{z}$, det vill säga på $xy$-planet.  I detta planet är skärningen cylinderns tvärsnittsyta, en cirkel med radien $a$, och integralen blir cirkelarean $\\pi a^2$. Alltså blir integralen till slut"
   ]
  },
  {
   "cell_type": "markdown",
   "metadata": {},
   "source": [
    "<!-- Equation labels as ordinary links -->\n",
    "<div id=\"_auto8\"></div>\n",
    "\n",
    "$$\n",
    "\\begin{equation}\n",
    "  \\oint_\\Gamma \\vec{F} \\cdot \\mbox{d}\\vec{r} = a \\pi a^2 = \\pi a^3.\n",
    "\\label{_auto8} \\tag{8}\n",
    "\\end{equation}\n",
    "$$"
   ]
  },
  {
   "cell_type": "markdown",
   "metadata": {},
   "source": [
    "<!-- --- end solution of exercise --- -->\n",
    "\n",
    "<!-- --- end exercise --- -->"
   ]
  }
 ],
 "metadata": {},
 "nbformat": 4,
 "nbformat_minor": 2
}
