{
 "cells": [
  {
   "cell_type": "markdown",
   "metadata": {},
   "source": [
    "<!-- dom:TITLE: FFM234, Klassisk fysik och vektorfält - Veckans tal -->\n",
    "# FFM234, Klassisk fysik och vektorfält - Veckans tal\n",
    "<!-- dom:AUTHOR: [Christian Forssén](http://fy.chalmers.se/subatom/nt/), Institutionen för fysik, Chalmers -->\n",
    "<!-- Author: -->  \n",
    "**[Christian Forssén](http://fy.chalmers.se/subatom/nt/), Institutionen för fysik, Chalmers**\n",
    "\n",
    "Date: **Aug 10, 2019**\n",
    "\n",
    "<!-- --- begin exercise --- -->\n",
    "\n",
    "## Variabelseparation - Elektriskt fält inuti sfär\n",
    "\n",
    "<!-- Exempel: PLK Kap. 6.1, Uppg. 10 -->\n",
    "I sfären med radien $r = a$ finns en \n",
    "rymdladdning med tätheten"
   ]
  },
  {
   "cell_type": "markdown",
   "metadata": {},
   "source": [
    "<!-- Equation labels as ordinary links -->\n",
    "<div id=\"_auto1\"></div>\n",
    "\n",
    "$$\n",
    "\\begin{equation}\n",
    "  \\rho\\left(r, \\theta, \\varphi\\right) = \\rho_0 \\frac{r}{a} \\sin \\theta \\cos\n",
    "\\varphi,\n",
    "\\label{_auto1} \\tag{1}\n",
    "\\end{equation}\n",
    "$$"
   ]
  },
  {
   "cell_type": "markdown",
   "metadata": {},
   "source": [
    "och på sfären gäller att $\\Phi\\left(a,\\theta,\\varphi\\right) = \\Phi_0$.\n",
    "Bestäm den elektrostatiska potentialen $\\Phi$ och det elektriska fältet\n",
    "$\\vec{E}$ inuti sfären.\n",
    "\n",
    "<!-- --- begin hint in exercise --- -->\n",
    "\n",
    "**Hint.**\n",
    "* Randvillkoret är sfäriskt symmetriskt, medan källan har ett vinkelberoende av formen $\\sin \\theta \\cos \\varphi$. Ansätt därför en lösning som består av två delar, vilka var och en har en av dessa egenskaper: $\\Phi = f\\left(r\\right) + g\\left(r\\right) \\sin \\theta \\cos \\varphi$. Notera att randvillkoret ger att $g(a) = 0$.\n",
    "\n",
    "* En svårighet är att finna de separerade ekvationerna. Notera att Poissons ekvation skall gälla för alla värden på $r$, $\\theta$ och $\\varphi$. \n",
    "\n",
    "* Undvik singulära lösningar.\n",
    "\n",
    "* Ekvationen för $g$ har både en partikulär- och en homogenlösning.\n",
    "\n",
    "<!-- --- end hint in exercise --- -->\n",
    "\n",
    "\n",
    "<!-- --- begin answer of exercise --- -->\n",
    "**Answer.**"
   ]
  },
  {
   "cell_type": "markdown",
   "metadata": {},
   "source": [
    "$$\n",
    "\\vec{E} = - \\nabla \\Phi = - \\left(\\frac{\\partial \\Phi}{\\partial r} \n",
    "{\\bf \\hat r} + \\frac{1}{r} \\frac{\\partial \\Phi}{\\partial \\theta} \n",
    "{\\bf \\hat \\theta} + \\frac{1}{r \\sin \\theta} \n",
    "\\frac{\\partial \\Phi}{\\partial \\varphi} {\\bf \\hat \\varphi}\\right)\n",
    "\\nonumber\n",
    "$$"
   ]
  },
  {
   "cell_type": "markdown",
   "metadata": {},
   "source": [
    "<!-- Equation labels as ordinary links -->\n",
    "<div id=\"_auto2\"></div>\n",
    "\n",
    "$$\n",
    "\\begin{equation} \n",
    "= - \\frac{1}{10}\\frac{\\rho_0}{\\epsilon_0} a \\left[-3 \\frac{r^2}{a^2} \\sin \\theta\n",
    "\\cos \\varphi {\\bf \\hat r} + \\left(\\frac{a}{r} - \\frac{r^2}{a^2}\\right) \\left(\n",
    "\\cos \\theta \\cos \\varphi {\\bf \\hat \\theta} - \\sin \\varphi {\\bf \\hat \\varphi}\n",
    "\\right) \\right]\n",
    "\\label{_auto2} \\tag{2}\n",
    "\\end{equation}\n",
    "$$"
   ]
  },
  {
   "cell_type": "markdown",
   "metadata": {},
   "source": [
    "<!-- --- end answer of exercise --- -->\n",
    "\n",
    "\n",
    "<!-- --- begin solution of exercise --- -->\n",
    "**Solution.**\n",
    "Poissons ekvation för det elektriska fältet $\\nabla \\vec{E} = \\rho / \\epsilon_0$ ger oss att"
   ]
  },
  {
   "cell_type": "markdown",
   "metadata": {},
   "source": [
    "<!-- Equation labels as ordinary links -->\n",
    "<div id=\"_auto3\"></div>\n",
    "\n",
    "$$\n",
    "\\begin{equation}\n",
    "  \\nabla^2 \\Phi = - \\frac{\\rho_0}{\\epsilon_0} \\frac{r}{a} \\sin \\theta \\cos\n",
    "\\varphi\n",
    "\\label{_auto3} \\tag{3}\n",
    "\\end{equation}\n",
    "$$"
   ]
  },
  {
   "cell_type": "markdown",
   "metadata": {},
   "source": [
    "med randvillkoret att $\\Phi\\left(a,\\theta,\\varphi\\right) = \\Phi_0$.\n",
    "Vi ser här att randvillkoret är sfäriskt symmetriskt, men att \n",
    "källan har ett vinkelberoende av formen $\\sin \\theta \\cos \\varphi$.  Vi\n",
    "ansätter därför en lösning som består av två delar, vilka\n",
    "var och en har en av dessa egenskaper"
   ]
  },
  {
   "cell_type": "markdown",
   "metadata": {},
   "source": [
    "<!-- Equation labels as ordinary links -->\n",
    "<div id=\"_auto4\"></div>\n",
    "\n",
    "$$\n",
    "\\begin{equation}\n",
    "  \\Phi = f\\left(r\\right) + g\\left(r\\right) \\sin \\theta \\cos \\varphi.\n",
    "\\label{_auto4} \\tag{4}\n",
    "\\end{equation}\n",
    "$$"
   ]
  },
  {
   "cell_type": "markdown",
   "metadata": {},
   "source": [
    "Om vi applicerar Laplace-operatorn på $\\Phi$ så får vi"
   ]
  },
  {
   "cell_type": "markdown",
   "metadata": {},
   "source": [
    "$$\n",
    "\\frac{1}{r^2}  \\frac{\\partial}{\\partial r}\\left(r^2\n",
    "\\frac{\\partial \\Phi}{\\partial r}\\right) + \\frac{1}{r^2\\sin \\theta} \n",
    "\\frac{\\partial}{\\partial \\theta}\\left(\\sin \\theta \n",
    "\\frac{\\partial \\Phi}{\\partial \\theta}\\right) + \\frac{1}{r^2 \\sin^2 \\theta}\n",
    "\\frac{\\partial^2 \\Phi}{\\partial \\varphi^2} \\nonumber\n",
    "$$"
   ]
  },
  {
   "cell_type": "markdown",
   "metadata": {},
   "source": [
    "$$\n",
    "= \\frac{1}{r^2} \n",
    "\\frac{\\partial}{\\partial r}\\left[r^2\\left(f' + g' \\sin\\theta \\cos \\varphi\\right)\n",
    "\\right] \\nonumber\n",
    "$$"
   ]
  },
  {
   "cell_type": "markdown",
   "metadata": {},
   "source": [
    "$$\n",
    "\\quad + \\frac{1}{r^2 \\sin \\theta} \\frac{\\partial}{\\partial \\theta} \\left[\n",
    "\\sin \\theta\\left( g \\cos \\theta \\cos\\varphi\\right)\\right]\n",
    "+ \\frac{1}{r^2 \\sin^2 \\theta} \\left(-g \\sin \\theta \\cos \\varphi\\right)\n",
    "\\nonumber\n",
    "$$"
   ]
  },
  {
   "cell_type": "markdown",
   "metadata": {},
   "source": [
    "$$\n",
    "=\n",
    "\\frac{1}{r^2}\\left[2r\\left(f' + g' \\sin \\theta \\cos \\varphi\\right) + r^2\n",
    "\\left(f'' + g'' \\sin \\theta \\cos \\varphi\\right)\\right] \\nonumber\n",
    "$$"
   ]
  },
  {
   "cell_type": "markdown",
   "metadata": {},
   "source": [
    "$$\n",
    "\\quad + \\frac{1}{r^2 \\sin \\theta} \\left[g \\cos \\varphi \\left(\\cos^2 \\theta - \\sin^2\n",
    "\\theta\\right)\\right]- \\frac{g}{r^2} \\frac{\\cos \\varphi}{\\sin \\theta}\n",
    "\\nonumber\n",
    "$$"
   ]
  },
  {
   "cell_type": "markdown",
   "metadata": {},
   "source": [
    "<!-- Equation labels as ordinary links -->\n",
    "<div id=\"_auto5\"></div>\n",
    "\n",
    "$$\n",
    "\\begin{equation} \n",
    "= 2 \\frac{f'}{r} + f'' + \\left(2 \\frac{g'}{r} + g''\\right) \\sin \\theta\n",
    "\\cos \\varphi + \\frac{g}{r^2}\\cos \\varphi \\left( \n",
    "\\frac{\\cos^2 \\theta}{\\sin \\theta} - \\sin \\theta - \\frac{1}{\\sin \\theta}\\right).\n",
    "\\label{_auto5} \\tag{5}\n",
    "\\end{equation}\n",
    "$$"
   ]
  },
  {
   "cell_type": "markdown",
   "metadata": {},
   "source": [
    "Vi beräknar uttrycket i den sista parentesen"
   ]
  },
  {
   "cell_type": "markdown",
   "metadata": {},
   "source": [
    "<!-- Equation labels as ordinary links -->\n",
    "<div id=\"_auto6\"></div>\n",
    "\n",
    "$$\n",
    "\\begin{equation}\n",
    "  \\frac{\\cos^2 \\theta}{\\sin \\theta} - \\sin \\theta - \\frac{1}{\\sin \\theta} =\n",
    "\\frac{\\cos^2 \\theta - \\sin^2 \\theta - \\cos^2 \\theta - \\sin^2 \\theta}\n",
    "{\\sin \\theta} = -2 \\sin \\theta.\n",
    "\\label{_auto6} \\tag{6}\n",
    "\\end{equation}\n",
    "$$"
   ]
  },
  {
   "cell_type": "markdown",
   "metadata": {},
   "source": [
    "Alltså kan vi skriva Poissons ekvation som"
   ]
  },
  {
   "cell_type": "markdown",
   "metadata": {},
   "source": [
    "<!-- Equation labels as ordinary links -->\n",
    "<div id=\"_auto7\"></div>\n",
    "\n",
    "$$\n",
    "\\begin{equation}\n",
    "  \\nabla^2 \\Phi = 2 \\frac{f'}{r} + f'' + \\left(g'' + 2 \\frac{g'}{r} - \n",
    "2\\frac{g}{r^2}\\right) \\sin \\theta \\cos \\varphi = - \\frac{\\rho_0}{\\epsilon_0}\n",
    "\\frac{r}{a} \\sin \\theta \\cos \\varphi.\n",
    "\\label{_auto7} \\tag{7}\n",
    "\\end{equation}\n",
    "$$"
   ]
  },
  {
   "cell_type": "markdown",
   "metadata": {},
   "source": [
    "Eftersom den här ekvationen skall gälla för alla värden på $r$, $\\theta$\n",
    "och $\\varphi$ så ger oss detta ekvationerna"
   ]
  },
  {
   "cell_type": "markdown",
   "metadata": {},
   "source": [
    "<!-- Equation labels as ordinary links -->\n",
    "<div id=\"_auto8\"></div>\n",
    "\n",
    "$$\n",
    "\\begin{equation}\n",
    "  \\left\\{ \\begin{array}{lcl}\n",
    "f'' + 2\\frac{f'}{r} & = & 0\\\\\n",
    "g'' + 2 \\frac{g'}{r} - 2\\frac{g}{r^2} & = & - \\frac{\\rho_0}{\\epsilon_0} \n",
    "\\frac{r}{a}\\\\\n",
    "\\end{array}\\right.\n",
    "\\label{_auto8} \\tag{8}\n",
    "\\end{equation}\n",
    "$$"
   ]
  },
  {
   "cell_type": "markdown",
   "metadata": {},
   "source": [
    "Vi börjar med att lösa ekvationen för $f$ genom att ansätta en \n",
    "lösning på formen $f =A r^\\nu$, men konstanten $A$ kan vi utelämna\n",
    "för tillfället, så att $f' = \\nu r^{\\nu-1}$ och\n",
    "$f'' = \\nu (\\nu-1) r^{\\nu-2}$.  Detta ger oss ekvationen"
   ]
  },
  {
   "cell_type": "markdown",
   "metadata": {},
   "source": [
    "<!-- Equation labels as ordinary links -->\n",
    "<div id=\"_auto9\"></div>\n",
    "\n",
    "$$\n",
    "\\begin{equation}\n",
    "  \\nu \\left(\\nu-1\\right) r^{\\nu-2}+2\\nu r^{\\nu-2} = 0,\n",
    "\\label{_auto9} \\tag{9}\n",
    "\\end{equation}\n",
    "$$"
   ]
  },
  {
   "cell_type": "markdown",
   "metadata": {},
   "source": [
    "som förenklas till"
   ]
  },
  {
   "cell_type": "markdown",
   "metadata": {},
   "source": [
    "<!-- Equation labels as ordinary links -->\n",
    "<div id=\"_auto10\"></div>\n",
    "\n",
    "$$\n",
    "\\begin{equation}\n",
    "  \\nu^2 + \\nu = 0,\n",
    "\\label{_auto10} \\tag{10}\n",
    "\\end{equation}\n",
    "$$"
   ]
  },
  {
   "cell_type": "markdown",
   "metadata": {},
   "source": [
    "som har lösningarna $\\nu = 0$ och $\\nu = -1$.  Därför får vi"
   ]
  },
  {
   "cell_type": "markdown",
   "metadata": {},
   "source": [
    "<!-- Equation labels as ordinary links -->\n",
    "<div id=\"_auto11\"></div>\n",
    "\n",
    "$$\n",
    "\\begin{equation}\n",
    "  f\\left(r\\right) = A + \\frac{B}{r}.\n",
    "\\label{_auto11} \\tag{11}\n",
    "\\end{equation}\n",
    "$$"
   ]
  },
  {
   "cell_type": "markdown",
   "metadata": {},
   "source": [
    "Här måste vi sätta $B = 0$, för att undvika att potentialen blir\n",
    "oändlig för $r = 0$, och $A = \\Phi_0$ för att vi ska uppfylla \n",
    "randvillkoret $\\Phi(a,\\theta,\\varphi) = \\Phi_0$.\n",
    "\n",
    "Vi går nu över till ekvationen för $g$ och börjar med att bestämma\n",
    "en partikulärlösning på formen $g = Cr^3$.  För denna lösning\n",
    "har vi $g' = 3Cr^2$ och $g'' = 6Cr$, vilket ger oss"
   ]
  },
  {
   "cell_type": "markdown",
   "metadata": {},
   "source": [
    "<!-- Equation labels as ordinary links -->\n",
    "<div id=\"_auto12\"></div>\n",
    "\n",
    "$$\n",
    "\\begin{equation}\n",
    "  6Cr + 6Cr -2Cr = - \\frac{\\rho_0}{\\epsilon_0} \\frac{r}{a},\n",
    "\\label{_auto12} \\tag{12}\n",
    "\\end{equation}\n",
    "$$"
   ]
  },
  {
   "cell_type": "markdown",
   "metadata": {},
   "source": [
    "som har lösningen"
   ]
  },
  {
   "cell_type": "markdown",
   "metadata": {},
   "source": [
    "<!-- Equation labels as ordinary links -->\n",
    "<div id=\"_auto13\"></div>\n",
    "\n",
    "$$\n",
    "\\begin{equation}\n",
    "  C = - \\frac{1}{10} \\frac{\\rho_0}{\\epsilon_0 a},\n",
    "\\label{_auto13} \\tag{13}\n",
    "\\end{equation}\n",
    "$$"
   ]
  },
  {
   "cell_type": "markdown",
   "metadata": {},
   "source": [
    "och partikulärlösningen är alltså"
   ]
  },
  {
   "cell_type": "markdown",
   "metadata": {},
   "source": [
    "<!-- Equation labels as ordinary links -->\n",
    "<div id=\"_auto14\"></div>\n",
    "\n",
    "$$\n",
    "\\begin{equation}\n",
    "  g\\left(r\\right) = - \\frac{1}{10} \\frac{\\rho_0}{\\epsilon_0} \\frac{r^3}{a}.\n",
    "\\label{_auto14} \\tag{14}\n",
    "\\end{equation}\n",
    "$$"
   ]
  },
  {
   "cell_type": "markdown",
   "metadata": {},
   "source": [
    "Vi behöver också bestämma lösningen till den homogena ekvationen,\n",
    "och därför ansätter vi $g(r) = Dr^\\nu$, men för ögonblicket \n",
    "utelämnar vi konstanten $D$.  Eftersom $g' = \\nu r^{\\nu-1}$ och $g'' = \\nu\n",
    "(\\nu-1) r^{\\nu-2}$, så får vi"
   ]
  },
  {
   "cell_type": "markdown",
   "metadata": {},
   "source": [
    "<!-- Equation labels as ordinary links -->\n",
    "<div id=\"_auto15\"></div>\n",
    "\n",
    "$$\n",
    "\\begin{equation}\n",
    "  \\nu \\left(\\nu-1\\right) r^{\\nu-2} + 2\\nu r^{\\nu-2} -2r^{\\nu-2} = 0,\n",
    "\\label{_auto15} \\tag{15}\n",
    "\\end{equation}\n",
    "$$"
   ]
  },
  {
   "cell_type": "markdown",
   "metadata": {},
   "source": [
    "vilket ger oss andragradsekvationen"
   ]
  },
  {
   "cell_type": "markdown",
   "metadata": {},
   "source": [
    "<!-- Equation labels as ordinary links -->\n",
    "<div id=\"_auto16\"></div>\n",
    "\n",
    "$$\n",
    "\\begin{equation}\n",
    "  \\nu^2 + \\nu -2 = 0.\n",
    "\\label{_auto16} \\tag{16}\n",
    "\\end{equation}\n",
    "$$"
   ]
  },
  {
   "cell_type": "markdown",
   "metadata": {},
   "source": [
    "Denna har lösningarna"
   ]
  },
  {
   "cell_type": "markdown",
   "metadata": {},
   "source": [
    "<!-- Equation labels as ordinary links -->\n",
    "<div id=\"_auto17\"></div>\n",
    "\n",
    "$$\n",
    "\\begin{equation}\n",
    "  \\nu = - \\frac{1}{2} \\pm \\sqrt{\\left(\\frac{1}{2}\\right)^2+2} = -\\frac{1}{2}\n",
    "\\pm \\frac{3}{2}.\n",
    "\\label{_auto17} \\tag{17}\n",
    "\\end{equation}\n",
    "$$"
   ]
  },
  {
   "cell_type": "markdown",
   "metadata": {},
   "source": [
    "Alltså har vi $\\nu = -2$ och $\\nu = 1$, så den allmänna lösningen \n",
    "för $g$ blir"
   ]
  },
  {
   "cell_type": "markdown",
   "metadata": {},
   "source": [
    "<!-- Equation labels as ordinary links -->\n",
    "<div id=\"_auto18\"></div>\n",
    "\n",
    "$$\n",
    "\\begin{equation}\n",
    "  g\\left(r\\right) = \\frac{D}{r^2} + Er - \\frac{1}{10} \\frac{\\rho_0}{\\epsilon_0}\n",
    "\\frac{r^3}{a}.\n",
    "\\label{_auto18} \\tag{18}\n",
    "\\end{equation}\n",
    "$$"
   ]
  },
  {
   "cell_type": "markdown",
   "metadata": {},
   "source": [
    "Vi sätter $D = 0$ eftersom potentialen inte kan bli singulär i $r = 0$.\n",
    "Vårt randvillkor vid $r = a$ säger oss å andra sidan att $g(a) = 0$,\n",
    "vilket ger oss"
   ]
  },
  {
   "cell_type": "markdown",
   "metadata": {},
   "source": [
    "<!-- Equation labels as ordinary links -->\n",
    "<div id=\"_auto19\"></div>\n",
    "\n",
    "$$\n",
    "\\begin{equation}\n",
    "  0 = Ea - \\frac{1}{10} \\frac{\\rho_0}{\\epsilon_0}a^2,\n",
    "\\label{_auto19} \\tag{19}\n",
    "\\end{equation}\n",
    "$$"
   ]
  },
  {
   "cell_type": "markdown",
   "metadata": {},
   "source": [
    "så att"
   ]
  },
  {
   "cell_type": "markdown",
   "metadata": {},
   "source": [
    "<!-- Equation labels as ordinary links -->\n",
    "<div id=\"_auto20\"></div>\n",
    "\n",
    "$$\n",
    "\\begin{equation}\n",
    "  E = \\frac{1}{10} \\frac{\\rho_0}{\\epsilon_0} a\n",
    "\\label{_auto20} \\tag{20}\n",
    "\\end{equation}\n",
    "$$"
   ]
  },
  {
   "cell_type": "markdown",
   "metadata": {},
   "source": [
    "Alltså är potentialen"
   ]
  },
  {
   "cell_type": "markdown",
   "metadata": {},
   "source": [
    "<!-- Equation labels as ordinary links -->\n",
    "<div id=\"_auto21\"></div>\n",
    "\n",
    "$$\n",
    "\\begin{equation}\n",
    "  \\Phi\\left(r,\\theta,\\varphi\\right) = \\Phi_0 + \\frac{1}{10} \n",
    "\\frac{\\rho_0}{\\epsilon_0} a \\left(a - \\frac{r^3}{a^2}\\right) \\sin \\theta\n",
    "\\cos \\varphi.\n",
    "\\label{_auto21} \\tag{21}\n",
    "\\end{equation}\n",
    "$$"
   ]
  },
  {
   "cell_type": "markdown",
   "metadata": {},
   "source": [
    "Vi kan nu beräkna det elektriska fältet ur"
   ]
  },
  {
   "cell_type": "markdown",
   "metadata": {},
   "source": [
    "$$\n",
    "\\vec{E} = - \\nabla \\Phi = - \\left(\\frac{\\partial \\Phi}{\\partial r} \n",
    "{\\bf \\hat r} + \\frac{1}{r} \\frac{\\partial \\Phi}{\\partial \\theta} \n",
    "{\\bf \\hat \\theta} + \\frac{1}{r \\sin \\theta} \n",
    "\\frac{\\partial \\Phi}{\\partial \\varphi} {\\bf \\hat \\varphi}\\right)\n",
    "\\nonumber\n",
    "$$"
   ]
  },
  {
   "cell_type": "markdown",
   "metadata": {},
   "source": [
    "<!-- Equation labels as ordinary links -->\n",
    "<div id=\"_auto22\"></div>\n",
    "\n",
    "$$\n",
    "\\begin{equation} \n",
    "= - \\frac{1}{10}\\frac{\\rho_0}{\\epsilon_0} a \\left[-3 \\frac{r^2}{a^2} \\sin \\theta\n",
    "\\cos \\varphi {\\bf \\hat r} + \\left(\\frac{a}{r} - \\frac{r^2}{a^2}\\right) \\left(\n",
    "\\cos \\theta \\cos \\varphi {\\bf \\hat \\theta} - \\sin \\varphi {\\bf \\hat \\varphi}\n",
    "\\right) \\right]\n",
    "\\label{_auto22} \\tag{22}\n",
    "\\end{equation}\n",
    "$$"
   ]
  },
  {
   "cell_type": "markdown",
   "metadata": {},
   "source": [
    "<!-- --- end solution of exercise --- -->\n",
    "\n",
    "<!-- Closing remarks for this Exercise -->\n",
    "\n",
    "### Remarks\n",
    "\n",
    "Uppgiften illustrerar variabelseparation i tre dimensioner och styrkan med en bra lösningsansats. Lösningen innehåller ganska många steg och uppgiften kan därför klassificeras som svår. Ta gärna en titt på lösningen om du kör fast.\n",
    "\n",
    "\n",
    "<!-- --- end exercise --- -->"
   ]
  }
 ],
 "metadata": {},
 "nbformat": 4,
 "nbformat_minor": 2
}
