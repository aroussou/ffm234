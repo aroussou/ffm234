{
 "cells": [
  {
   "cell_type": "markdown",
   "metadata": {},
   "source": [
    "<!-- dom:TITLE: FFM232, Klassisk fysik och vektorfält - Föreläsningsanteckningar -->\n",
    "# FFM232, Klassisk fysik och vektorfält - Föreläsningsanteckningar\n",
    "<!-- dom:AUTHOR: [Christian Forssén](http://fy.chalmers.se/subatom/tsp/), Institutionen för fysik, Chalmers, Göteborg, Sverige -->\n",
    "<!-- Author: --> **[Christian Forssén](http://fy.chalmers.se/subatom/tsp/), Institutionen för fysik, Chalmers, Göteborg, Sverige**\n",
    "\n",
    "Date: **Sep 28, 2016**\n",
    "\n",
    "# Repetition: Singulära fält\n",
    "\n",
    "### Punktkälla i origo\n",
    "\n",
    "Fältet i punkten $\\vec{r}$"
   ]
  },
  {
   "cell_type": "markdown",
   "metadata": {},
   "source": [
    "$$\n",
    "\\begin{equation}\n",
    "  \\vec{F}(\\vec{r}) = \\frac{q}{4 \\pi r^2} \\hat{e}_r,\n",
    "\\end{equation}\n",
    "$$"
   ]
  },
  {
   "cell_type": "markdown",
   "metadata": {},
   "source": [
    "vilket fås av potentialen"
   ]
  },
  {
   "cell_type": "markdown",
   "metadata": {},
   "source": [
    "$$\n",
    "\\begin{equation}\n",
    "  \\phi(\\vec{r}) = \\frac{q}{4 \\pi r},\n",
    "\\end{equation}\n",
    "$$"
   ]
  },
  {
   "cell_type": "markdown",
   "metadata": {},
   "source": [
    "eftersom $\\vec{F} = - \\nabla \\phi$.\n",
    "\n",
    "Källtäthet $\\rho (\\vec{r}) = \\nabla \\cdot \\vec{F} = - \\Delta \\phi$.\n",
    "\n",
    "För detta fält insåg vi att det blir problem med Gauss sats"
   ]
  },
  {
   "cell_type": "markdown",
   "metadata": {},
   "source": [
    "$$\n",
    "\\begin{equation}\n",
    "  \\int_V \\nabla \\cdot \\vec{F} \\mbox{d}V = \\oint_{\\partial V} \\vec{F} \\cdot \\mbox{d} \\vec{S},\n",
    "\\end{equation}\n",
    "$$"
   ]
  },
  {
   "cell_type": "markdown",
   "metadata": {},
   "source": [
    "eftersom $\\nabla \\cdot \\vec{F} = 0$ skulle ge $\\mathrm{VL} = 0$, men $\\mathrm{HL} = q$ om den inneslutna volymen $V$ innehåller origo. Problemet är att"
   ]
  },
  {
   "cell_type": "markdown",
   "metadata": {},
   "source": [
    "$$\n",
    "\\begin{equation}\n",
    "\\nabla \\cdot \\vec{F} = \n",
    "\\left\\{\n",
    "\\begin{array}{ll}\n",
    "0 & r \\neq 0 \\\\ \n",
    "\\infty & r=0 \n",
    "\\end{array}\n",
    "\\right.\n",
    "\\end{equation}\n",
    "$$"
   ]
  },
  {
   "cell_type": "markdown",
   "metadata": {},
   "source": [
    "En bättre beskrivning av en sådan källtäthet kommer härnäst...\n",
    "\n",
    "## 7. Deltafunktioner\n",
    "\n",
    "Kan vi approximera $\\nabla \\cdot \\vec{F} = \\rho (\\vec{r})$ på något sätt? T.ex."
   ]
  },
  {
   "cell_type": "markdown",
   "metadata": {},
   "source": [
    "$$\n",
    "\\begin{equation}\n",
    "\\rho = \n",
    "\\left\\{\n",
    "\\begin{array}{ll}\n",
    "c & r < \\varepsilon \\\\ \n",
    "0 & r > \\varepsilon\n",
    "\\end{array}\n",
    "\\right.\n",
    "\\end{equation}\n",
    "$$"
   ]
  },
  {
   "cell_type": "markdown",
   "metadata": {},
   "source": [
    "Dvs, en \"utsmetad\" punktladdning där vi väljer $c$ så att den totala laddningen är $q$, dvs"
   ]
  },
  {
   "cell_type": "markdown",
   "metadata": {},
   "source": [
    "$$\n",
    "\\begin{equation}\n",
    "\\rho = \n",
    "\\left\\{\n",
    "\\begin{array}{ll}\n",
    "\\frac{q}{\\frac{4\\pi}{3} \\varepsilon^3} & r < \\varepsilon \\\\ \n",
    "0 & r > \\varepsilon\n",
    "\\end{array}\n",
    "\\right.\n",
    "\\end{equation}\n",
    "$$"
   ]
  },
  {
   "cell_type": "markdown",
   "metadata": {},
   "source": [
    "* Vad blir gränsen då $\\varepsilon \\to 0^+$? \n",
    "\n",
    "* Det kan vi tyvärr inte definiera.\n",
    "\n",
    "* $\\rho(\\vec{r}) = \\lim_{\\varepsilon \\to 0^+} \\rho_\\varepsilon(\\vec{r})$ är inte en funktion; sekvensen av funktioner som erhålls genom att variera $\\varepsilon$ kallas för en distribution.\n",
    "\n",
    "## Deltafunktioner i en dimension\n",
    "\n",
    "### Punktkälla i $D=1$\n",
    "\n",
    "I en dimension kan vi definiera en punktkälla från potentialen"
   ]
  },
  {
   "cell_type": "markdown",
   "metadata": {},
   "source": [
    "$$\n",
    "\\begin{equation}\n",
    "\\phi(x) = -\\frac{q}{2} \\left| x \\right|\n",
    "\\end{equation}\n",
    "$$"
   ]
  },
  {
   "cell_type": "markdown",
   "metadata": {},
   "source": [
    "<!-- dom:FIGURE:[fig/pointcharge_pot_1dim.png, width=600 frac=0.8] -->\n",
    "<!-- begin figure -->\n",
    "\n",
    "<p></p>\n",
    "<img src=\"fig/pointcharge_pot_1dim.png\" width=600>\n",
    "\n",
    "<!-- end figure -->\n",
    "\n",
    "\n",
    "vilket ger fältet"
   ]
  },
  {
   "cell_type": "markdown",
   "metadata": {},
   "source": [
    "$$\n",
    "\\begin{equation}\n",
    "\\vec{F}(x) = -\\hat{x} \\frac{\\mbox{d}\\phi}{\\mbox{d}x} = \n",
    "\\left\\{\n",
    "\\begin{array}{ll}\n",
    "\\frac{q}{2} \\hat{x} & x > 0 \\\\ \n",
    "-\\frac{q}{2} \\hat{x} & x < 0 \\\\ \n",
    "\\end{array}\n",
    "\\right.\n",
    "\\end{equation}\n",
    "$$"
   ]
  },
  {
   "cell_type": "markdown",
   "metadata": {},
   "source": [
    "<!-- dom:FIGURE:[fig/pointcharge_field_1dim.png, width=600 frac=0.8] -->\n",
    "<!-- begin figure -->\n",
    "\n",
    "<p></p>\n",
    "<img src=\"fig/pointcharge_field_1dim.png\" width=600>\n",
    "\n",
    "<!-- end figure -->\n",
    "\n",
    "\n",
    "Vi kallar den enda komponenten av detta vektorfält för $F(x)$. Motsvarigheten till Gauss sats för detta endimensionella fält är"
   ]
  },
  {
   "cell_type": "markdown",
   "metadata": {},
   "source": [
    "$$\n",
    "\\begin{equation}\n",
    "\\int_a^b \\frac{\\mbox{d}F}{\\mbox{d}x} \\mbox{d}x  = F(b) - F(a) = \n",
    "\\left\\{\n",
    "\\begin{array}{ll}\n",
    "q, & \\mathrm{om~} a < 0 < b \\\\ \n",
    "0, & \\mathrm{annars} \\\\ \n",
    "\\end{array}\n",
    "\\right.\n",
    "\\end{equation}\n",
    "$$"
   ]
  },
  {
   "cell_type": "markdown",
   "metadata": {},
   "source": [
    "medan en naiv insättning av $\\mbox{d}F / \\mbox{d}x = 0$ i VL hade gett noll.\n",
    "\n",
    "Problemet är ju att $\\frac{\\mbox{d}F}{\\mbox{d}x} = 0$ för $x \\neq 0$, men $\\frac{\\mbox{d}F}{\\mbox{d}x} =  \\infty$ för $x = 0$. Vi kan uttrycka detta som en \"funktion\", $\\frac{\\mbox{d}F}{\\mbox{d}x} = q \\delta(x)$, som är noll då $x \\neq 0$ men som också uppfyller"
   ]
  },
  {
   "cell_type": "markdown",
   "metadata": {},
   "source": [
    "$$\n",
    "\\begin{equation}\n",
    "\\int_{a<0}^{b>0} \\delta(x) \\mbox{d}x = 1.\n",
    "\\end{equation}\n",
    "$$"
   ]
  },
  {
   "cell_type": "markdown",
   "metadata": {},
   "source": [
    "### Distributioner\n",
    "\n",
    "Vi konstruerar denna \"funktion\" som en gräns $\\varepsilon \\to 0^+$ för"
   ]
  },
  {
   "cell_type": "markdown",
   "metadata": {},
   "source": [
    "$$\n",
    "\\begin{equation}\n",
    "h_\\varepsilon(x)\n",
    "= \n",
    "\\left\\{\n",
    "\\begin{array}{ll}\n",
    "0 & |x| > \\frac{\\varepsilon}{2} \\\\ \n",
    "\\frac{1}{\\varepsilon} & |x| < \\frac{\\varepsilon}{2} \\\\ \n",
    "\\end{array}\n",
    "\\right.\n",
    "\\end{equation}\n",
    "$$"
   ]
  },
  {
   "cell_type": "markdown",
   "metadata": {},
   "source": [
    "<!-- dom:FIGURE:[fig/delta_step.pdf, width=600 frac=0.8] -->\n",
    "<!-- begin figure -->\n",
    "\n",
    "<p></p>\n",
    "<img src=\"fig/delta_step.pdf\" width=600>\n",
    "\n",
    "<!-- end figure -->\n",
    "\n",
    "\n",
    "### Kontrollera\n",
    "\n",
    "$$\n",
    "\\lim_{\\varepsilon \\to 0} h_\\varepsilon(x) = 0,\n",
    "$$\n",
    "för $x \\neq 0$. Dessutom har vi\n",
    "$$\n",
    "\\lim_{\\varepsilon \\to 0} \\int_{a<0}^{b>0} h_\\varepsilon(x) \\mbox{d}x \n",
    "= \\lim_{\\varepsilon \\to 0} \\int_{-\\varepsilon/2}^{\\varepsilon/2} \\frac{1}{\\varepsilon} \\mbox{d}x\n",
    "= \\lim_{\\varepsilon \\to 0} 1 = 1.\n",
    "$$\n",
    "---------------------------------------\n",
    "\n",
    "Men det finns också andra möjligheter"
   ]
  },
  {
   "cell_type": "markdown",
   "metadata": {},
   "source": [
    "$$\n",
    "\\begin{equation}\n",
    "h_\\varepsilon(x) = \\frac{\\exp(-x^2 / \\varepsilon^2)}{\\sqrt{\\pi} \\varepsilon}, \n",
    "\\end{equation}\n",
    "$$"
   ]
  },
  {
   "cell_type": "markdown",
   "metadata": {},
   "source": [
    "$$\n",
    "\\begin{equation}  \n",
    "h_\\varepsilon(x) = \\frac{\\varepsilon}{\\pi (x^2 + \\varepsilon^2)}, \n",
    "\\end{equation}\n",
    "$$"
   ]
  },
  {
   "cell_type": "markdown",
   "metadata": {},
   "source": [
    "<!-- Equation labels as ordinary links -->\n",
    "<div id=\"eq:sinxdelta\"></div>\n",
    "\n",
    "$$\n",
    "\\begin{equation}  \n",
    "h_\\varepsilon(x) = \\frac{\\sin(x/\\varepsilon)}{\\pi x} \\label{eq:sinxdelta} \\tag{1}.\n",
    "\\end{equation}\n",
    "$$"
   ]
  },
  {
   "cell_type": "code",
   "execution_count": 1,
   "metadata": {
    "collapsed": false
   },
   "outputs": [],
   "source": [
    "import numpy as np\n",
    "import pylab as p\n",
    "\n",
    "# Delta function approximation 1 - 4\n",
    "def h(eps,x,case):\n",
    "    if case==0:\n",
    "        h = np.zeros(len(x))\n",
    "        h [abs(x) < eps] = 1/eps\n",
    "        return h\n",
    "    elif case==1:\n",
    "        return np.exp(-x**2/eps**2) / (np.sqrt(np.pi)*eps)\n",
    "    elif case==2:\n",
    "        return eps / (np.pi * (x**2 + eps**2))\n",
    "    elif case==3:\n",
    "        return np.sin(x/eps) / (np.sqrt(np.pi)*x)\n",
    "    \n",
    "# End initialization\n",
    "\n",
    "# Start plot\n",
    "x=np.linspace(-1,1,200)\n",
    "for case in range(4):\n",
    "    p.figure(figsize=(6,6))\n",
    "    for eps in np.linspace(0.5,0.1,5):\n",
    "        p.plot(x,h(eps,x,case))\n",
    "    p.xlabel(r'$x$')\n",
    "    p.ylabel(r'$h_{%i,\\epsilon}(x)$' %case)"
   ]
  },
  {
   "cell_type": "markdown",
   "metadata": {},
   "source": [
    "<!-- dom:FIGURE:[fig/deltas.png, width=600 frac=0.95] -->\n",
    "<!-- begin figure -->\n",
    "\n",
    "<p></p>\n",
    "<img src=\"fig/deltas.png\" width=600>\n",
    "\n",
    "<!-- end figure -->\n",
    "\n",
    "\n",
    "Samtliga dessa utgör en *sekvens av funktioner* (en *distribution*) från vilka vi kan definiera *Diracs deltafunktion*"
   ]
  },
  {
   "cell_type": "markdown",
   "metadata": {},
   "source": [
    "$$\n",
    "\\begin{equation}\n",
    "\\delta(x) = \\lim_{\\varepsilon \\to 0^+} h_\\varepsilon(x)\n",
    "\\end{equation}\n",
    "$$"
   ]
  },
  {
   "cell_type": "markdown",
   "metadata": {},
   "source": [
    "med de definierande egenskaperna"
   ]
  },
  {
   "cell_type": "markdown",
   "metadata": {},
   "source": [
    "$$\n",
    "\\begin{equation}\n",
    "\\delta(x) = 0, \\quad x \\neq 0 \n",
    "\\end{equation}\n",
    "$$"
   ]
  },
  {
   "cell_type": "markdown",
   "metadata": {},
   "source": [
    "$$\n",
    "\\begin{equation}  \n",
    "f(0) = \\int_a^b f(x) \\delta(x) \\mbox{d}x,\n",
    "\\end{equation}\n",
    "$$"
   ]
  },
  {
   "cell_type": "markdown",
   "metadata": {},
   "source": [
    "där $f(x)$ är en välbeteende funktion och $\\left[ a,b \\right]$ inkluderar 0. Ett specialfall av ovanstående är"
   ]
  },
  {
   "cell_type": "markdown",
   "metadata": {},
   "source": [
    "$$\n",
    "\\begin{equation}\n",
    "\\int_{-\\infty}^{+\\infty} \\delta(x) \\mbox{d}x = 1\n",
    "\\end{equation}\n",
    "$$"
   ]
  },
  {
   "cell_type": "markdown",
   "metadata": {},
   "source": [
    "------------------------------\n",
    "\n",
    "### Exempel\n",
    "\n",
    "-----------------------\n",
    "\n",
    "Kontrollera att vi erhåller Diracs deltafunktion från sekvensen $h_\\varepsilon(x) = \\frac{\\exp(-x^2 / \\varepsilon^2)}{\\sqrt{\\pi} \\varepsilon}$.\n",
    "\n",
    "*Lösning*:\n",
    "För $x \\neq 0$ gäller"
   ]
  },
  {
   "cell_type": "markdown",
   "metadata": {},
   "source": [
    "$$\n",
    "\\begin{equation}\n",
    "h_\\varepsilon(x) \n",
    "= \\frac{1}{\\sqrt{\\pi} \\varepsilon \\exp(x^2 / \\varepsilon^2)}\n",
    "= \\frac{1}{\\sqrt{\\pi} \\varepsilon \\left[ 1 + \\frac{x^2}{\\varepsilon^2} + \\frac{1}{2}\\left(\\frac{x^2}{\\varepsilon^2}\\right)^2 + \\ldots \\right] } \\nonumber \n",
    "\\end{equation}\n",
    "$$"
   ]
  },
  {
   "cell_type": "markdown",
   "metadata": {},
   "source": [
    "<!-- Equation labels as ordinary links -->\n",
    "<div id=\"eq:heps0\"></div>\n",
    "\n",
    "$$\n",
    "\\begin{equation}  \n",
    "= \\frac{\\varepsilon}{\\sqrt{\\pi}} \\frac{1}{\\left( x^2 + \\varepsilon^2 + \\frac{x^4}{2\\varepsilon^2} + \\ldots \\right)} \\to 0 \\quad \\mathrm{då~} \\varepsilon \\to 0^+\n",
    "\\label{eq:heps0} \\tag{2}\n",
    "\\end{equation}\n",
    "$$"
   ]
  },
  {
   "cell_type": "markdown",
   "metadata": {},
   "source": [
    "Vidare har vi integralen $\\int_{-\\infty}^\\infty e^{-x^2 / \\varepsilon^2} \\mbox{d}x = \\sqrt{\\pi \\varepsilon^2}$ (se tabell över definita integraler, eventuellt Beta 7.5-41). Detta ger"
   ]
  },
  {
   "cell_type": "markdown",
   "metadata": {},
   "source": [
    "<!-- Equation labels as ordinary links -->\n",
    "<div id=\"eq:heps1\"></div>\n",
    "\n",
    "$$\n",
    "\\begin{equation}\n",
    "\\lim_{\\varepsilon \\to 0^+}\n",
    "\\int_{-\\infty}^{+\\infty} \\frac{\\exp(-x^2 / \\varepsilon^2)}{\\sqrt{\\pi} \\varepsilon} \\mbox{d}x = \\lim_{\\varepsilon \\to 0} \\frac{\\sqrt{\\pi \\varepsilon^2}}{\\sqrt{\\pi} \\varepsilon} = 1, \\quad \\mathrm{för~} \\varepsilon>0.\n",
    "\\label{eq:heps1} \\tag{3}\n",
    "\\end{equation}\n",
    "$$"
   ]
  },
  {
   "cell_type": "markdown",
   "metadata": {},
   "source": [
    "För att vara helt korrekta skall vi egentligen visa den mer allmänna egenskapen $\\int_a^b f(x) \\delta(x) \\mbox{d}x = f(0)$ för en väl beteende funktion $f(x)$. Eftersom ekv. [(2)](#eq:heps0) gäller, och $f(x)$ inte utgör något problem, kan vi utöka integrationsintervallet och istället studera"
   ]
  },
  {
   "cell_type": "markdown",
   "metadata": {},
   "source": [
    "$$\n",
    "\\begin{equation}\n",
    "\\int_{-\\infty}^{+\\infty} f(x) \\delta(x) \\mbox{d}x = f(0).\n",
    "\\end{equation}\n",
    "$$"
   ]
  },
  {
   "cell_type": "markdown",
   "metadata": {},
   "source": [
    "Vi Taylorutvecklar, $f(x) = f(0) + f'(0)x + f''(0)x^2/2+\\ldots$, och konstaterar att"
   ]
  },
  {
   "cell_type": "markdown",
   "metadata": {},
   "source": [
    "$$\n",
    "\\begin{equation}\n",
    "\\lim_{\\varepsilon \\to 0} \\int_{-\\infty}^{+\\infty} f(0) h_\\varepsilon(x) \\mbox{d}x = f(0) \\lim_{\\varepsilon \\to 0} \\int_{-\\infty}^{+\\infty} h_\\varepsilon(x) \\mbox{d}x = f(0),\n",
    "\\end{equation}\n",
    "$$"
   ]
  },
  {
   "cell_type": "markdown",
   "metadata": {},
   "source": [
    "enligt vad vi visat ovan [(3)](#eq:heps1). Det återstår att visa att"
   ]
  },
  {
   "cell_type": "markdown",
   "metadata": {},
   "source": [
    "<!-- Equation labels as ordinary links -->\n",
    "<div id=\"eq:xnheps0\"></div>\n",
    "\n",
    "$$\n",
    "\\begin{equation}\n",
    "\\lim_{\\varepsilon \\to 0} \\int_{-\\infty}^{+\\infty} x^n h_\\varepsilon(x) \\mbox{d}x = 0,\n",
    "\\label{eq:xnheps0} \\tag{4}\n",
    "\\end{equation}\n",
    "$$"
   ]
  },
  {
   "cell_type": "markdown",
   "metadata": {},
   "source": [
    "för alla heltal $n>0$. I vårt fall har vi en jämn funktion $h_\\varepsilon(x)$ vilket gör att ekv. [(4)](#eq:xnheps0) är trivialt uppfyllt för udda $n$ då integranden blir udda. För jämna $n=2k$ finner vi (se t.ex. Beta 7.5-42)"
   ]
  },
  {
   "cell_type": "markdown",
   "metadata": {},
   "source": [
    "$$\n",
    "\\begin{equation}\n",
    "\\lim_{\\varepsilon \\to 0^+}\n",
    "\\int_{-\\infty}^{+\\infty} x^{2k} \\frac{\\exp(-x^2 / \\varepsilon^2)}{\\sqrt{\\pi} \\varepsilon} \\mbox{d}x = \\lim_{\\varepsilon \\to 0} \\frac{2}{\\sqrt{\\pi} \\varepsilon} \\frac{(2k-1)!!}{2^{k+1}} \\sqrt{\\pi} \\varepsilon \\varepsilon^{2k} = 0, \\quad \\mathrm{för~} \\varepsilon>0.\n",
    "\\end{equation}\n",
    "$$"
   ]
  },
  {
   "cell_type": "markdown",
   "metadata": {},
   "source": [
    "Alltså har vi visat att"
   ]
  },
  {
   "cell_type": "markdown",
   "metadata": {},
   "source": [
    "$$\n",
    "\\begin{equation}\n",
    "\\lim_{\\varepsilon \\to 0^+}\n",
    "\\int_{a<0}^{b>0} f(x) \\frac{\\exp(-x^2 / \\varepsilon^2)}{\\sqrt{\\pi} \\varepsilon} \\mbox{d}x = f(0), \\quad \\mathrm{för~} \\varepsilon>0.\n",
    "\\end{equation}\n",
    "$$"
   ]
  },
  {
   "cell_type": "markdown",
   "metadata": {},
   "source": [
    "-----------------------------------------------\n",
    "\n",
    "## Egenskaper hos Diracs deltafunktion\n",
    "\n",
    "* Jämn: $$\\delta(-x) = \\delta(x)$$\n",
    "\n",
    "* Skalning: \n",
    "\n",
    "$$\n",
    "\\delta(ax) = \\frac{1}{|a|} \\delta(x).\n",
    "$$ \n",
    "\n",
    "[Comment 1: Visas enklast genom att göra substitutionen $y=x a$ i uttrycket $\\int_{-\\infty}^{+\\infty} f(x) \\delta(ax) \\mbox{d}x$. Var noga med tecknet på integrationsgränserna.]\n",
    "* Translation: \n",
    "\n",
    "$$\n",
    "\\int_{-\\infty}^{+\\infty} f(x) \\delta(x-x_0) \\mbox{d}x = f(x_0).\n",
    "$$\n",
    "[Comment 2: visas genom substitutionen $y=x-x_0$.]\n",
    "* Derivata \n",
    "\n",
    "$$\n",
    "\\int_{-\\infty}^{+\\infty} f(x) \\delta'(x-x_0) \\mbox{d}x = -\\int_{-\\infty}^{+\\infty} f'(x) \\delta(x-x_0) \\mbox{d}x = -f'(x_0),\n",
    "$$\n",
    "vilket kan betraktas som definitionen av derivatan $\\delta'(x)$.\n",
    "\n",
    "[Comment 3: Visas genom partiell integration med någon av funktionssekvenserna som definierar deltafunktionen.]\n",
    "* Kan generaliseras till andra dimensioner. Vi skriver generellt $\\delta^{(D)}(\\vec{r})$, där vi skall tolka superskriptet som antalet dimensioner. T.ex. har vi för $D=3$ \n",
    "\n",
    "$$\n",
    "\\delta^{(3)}(\\vec{r}) = \\delta(x) \\delta(y) \\delta(z).\n",
    "$$\n",
    "I sfäriska koordinater blir detta\n",
    "$$\n",
    "\\iiint f(\\vec{r}) \\delta^{(3)}(\\vec{r} - \\vec{r}_0) r^2 \\sin\\theta \\mbox{d}r \\mbox{d}\\theta \\mbox{d}\\phi = f(\\vec{r}_0).\n",
    "$$\n",
    "Med vissa förbehåll kan deltafunktionen i kroklinjiga koordinater skrivas\n",
    "$$\n",
    "\\delta^{(3)}(\\vec{r} - \\vec{r}_0) = \\frac{1}{h_1(\\vec{r}_0) h_2(\\vec{r}_0) h_3(\\vec{r}_0)} \\delta(u_1-u_{1,0}) \\delta(u_2-u_{2,0}) \\delta(u_3-u_{3,0}).\n",
    "$$\n",
    "\n",
    "## Deltafunktioner i högre dimensioner\n",
    "\n",
    "Vi startar med punktkällan i origo: $\\vec{F} = \\frac{q}{4 \\pi r^2} \\hat{e}_r$, och den problematiska volymsintegralen\n",
    "$$\n",
    "\\int_V \\nabla \\cdot \\vec{F} \\mbox{d}V,\n",
    "$$\n",
    "som borde bli lika med $q$ om $V$ omfattar origo. Detta kan vi åstadkomma genom att införa $\\nabla \\cdot \\vec{F} = q \\delta^3(x) = q \\delta(x)\\delta(y)\\delta(z)$ eftersom\n",
    "$$\n",
    "\\iiint \\mbox{d}x \\mbox{d}y \\mbox{d}z \\delta(x)\\delta(y)\\delta(z) = 1.\n",
    "$$\n",
    "Ännu bättre blir det om vi jobbar konsekvent med sfäriska koordinater. Inför ett *regulariserat* fält"
   ]
  },
  {
   "cell_type": "markdown",
   "metadata": {},
   "source": [
    "$$\n",
    "\\begin{equation}\n",
    "\\vec{F}_\\varepsilon(\\vec{r}) = \\frac{q}{4 \\pi (r^2 + \\varepsilon^2)} \\hat{e}_r\n",
    "\\end{equation}\n",
    "$$"
   ]
  },
  {
   "cell_type": "markdown",
   "metadata": {},
   "source": [
    "som uppenbarligen går mot $\\vec{F}$ då $\\varepsilon \\to 0^+$.\n",
    "\n",
    "Divergensen blir ($\\nabla \\cdot \\vec{F} = \\frac{1}{r^2} \\frac{\\partial}{\\partial r} (r^2 F_r) + \\ldots$)"
   ]
  },
  {
   "cell_type": "markdown",
   "metadata": {},
   "source": [
    "$$\n",
    "\\begin{equation}\n",
    "\\nabla \\cdot \\vec{F}_\\varepsilon(\\vec{r}) = \\frac{q}{4 \\pi r^2} \\underbrace{\\frac{\\partial}{\\partial r} \\left( \\frac{r^2}{r^2 + \\varepsilon^2} \\right)}_{=\\frac{2r}{r^2 + \\varepsilon^2} - \\frac{2 r r^2}{(r^2 + \\varepsilon^2)^2} = \\frac{2 r \\varepsilon^2}{(r^2 + \\varepsilon^2)^2}} \n",
    "\\end{equation}\n",
    "$$"
   ]
  },
  {
   "cell_type": "markdown",
   "metadata": {},
   "source": [
    "$$\n",
    "\\begin{equation}  \n",
    "= \\frac{q \\varepsilon^2}{2 \\pi} \\frac{1}{r(r^2 + \\varepsilon^2)^2} \\to 0 \\quad \\mathrm{då} \\; \\varepsilon \\to 0.\n",
    "\\end{equation}\n",
    "$$"
   ]
  },
  {
   "cell_type": "markdown",
   "metadata": {},
   "source": [
    "Utan styrkan $q$ kallar vi denna sekvens av funktioner för $h_\\varepsilon(\\vec{r})$ och påstår att $\\lim_{\\varepsilon \\to 0} h_\\varepsilon(\\vec{r}) = \\delta^3(\\vec{r})$. Utför integralen"
   ]
  },
  {
   "cell_type": "markdown",
   "metadata": {},
   "source": [
    "$$\n",
    "\\begin{equation}\n",
    "\\int_V \\nabla \\cdot \\vec{F}_\\varepsilon \\mbox{d} V = \\int_V q h_\\varepsilon(\\vec{r}) \\mbox{d} V = \\frac{ q \\varepsilon^2}{2 \\pi} 4\\pi \\int_0^\\infty r^2 \\mbox{d} r \\frac{1}{r(r^2 + \\varepsilon^2)^2} \n",
    "\\end{equation}\n",
    "$$"
   ]
  },
  {
   "cell_type": "markdown",
   "metadata": {},
   "source": [
    "$$\n",
    "\\begin{equation}  \n",
    "= 2 q \\varepsilon^2 \\left[ -\\frac{1}{2} \\frac{1}{r^2 + \\varepsilon^2} \\right]_0^\\infty = 2 q \\varepsilon^2 \\frac{1}{2 \\varepsilon^2} = q\n",
    "\\end{equation}\n",
    "$$"
   ]
  },
  {
   "cell_type": "markdown",
   "metadata": {},
   "source": [
    "Alltså har vi visat att\n",
    "* $\\lim_{\\varepsilon \\to 0} h_\\varepsilon(\\vec{r}) = 0$ för $r \\neq 0$.\n",
    "\n",
    "* $\\int_{\\mathbf{R}^3} h_\\varepsilon(\\vec{r}) \\mbox{d}V = 1$\n",
    "\n",
    "Alltså skriver vi källtätheten \n",
    "$$\n",
    "\\rho(\\vec{r}) = \\nabla \\cdot \\vec{F} = -\\Delta \\phi = q \\delta^3(\\vec{r}).\n",
    "$$\n",
    "\n",
    "### Linjekälla\n",
    "\n",
    "Linjekällan $\\vec{F} = \\frac{k}{2 \\pi \\rho} \\hat{e}_\\rho$ (motsvarar en punktkälla i $D=2$).\n",
    "Källtätheten kan skrivas\n",
    "$$\n",
    "\\nabla \\cdot \\vec{F} = k \\delta^2(\\vec{\\rho}) \\left( = k \\delta(x) \\delta(y) \\right).\n",
    "$$\n",
    "Studera t.ex. normalytintegralen genom en cylinder med höjden $L$ runt linjekällan\n",
    "$$\n",
    "\\int_S \\vec{F} \\cdot \\mbox{d}\\vec{S} = \\int_{S+S_0+S_L} \\vec{F} \\cdot \\mbox{d}\\vec{S} = \\int_V \\nabla \\cdot \\vec{F} \\mbox{d} V = \\int_0^L \\mbox{d} z \\int \\mbox{d}x \\mbox{d}y k \\delta(x)\\delta(y) = \\int_0^L \\mbox{d} z k = k L.\n",
    "$$\n",
    "där vi först har slutit ytan genom att införa ytorna $S_0$ och $S_L$ som är cirkelskivor vid botten och toppen och som har normalytintegralen noll eftersom fältet är vinkelrät mot normalen.\n",
    "\n",
    "### Virveltråd\n",
    "\n",
    "Vi kan resonera på liknande sätt för en virveltråd $\\vec{F} = \\frac{J}{2 \\pi \\rho} \\hat{e}_\\phi$. Stokes sats säger att\n",
    "$$\n",
    "\\int_{\\partial S} \\vec{F} \\cdot \\mbox{d} \\vec{r} = \\int_S (\\nabla \\times \\vec{F}) \\cdot \\mbox{d} \\vec{S},\n",
    "$$\n",
    "där vi kan räkna ut $\\mathrm{VL} = J$ (t.ex. för en cirkel runt virveltråden). För detta fält är det rotationen som är problematisk. Notera att detta är en vektor.\n",
    "$$\n",
    "\\nabla \\times \\vec{F} = J \\delta^2(\\vec{\\rho}) \\hat{z} = \\vec{J} \\delta(x)\\delta(y).\n",
    "$$\n",
    "\n",
    "### Exempel: tillämpning av deltafunktionen; Fouriertransform och ortogonalitet.\n",
    "\n",
    "-----------------------\n",
    "\n",
    "Givet en funktion $f(x)$ definieras dess Fouriertransform som\n",
    "$$\n",
    "\\tilde f(k)=\\frac{1}{\\sqrt{2\\pi}}\\int_{-\\infty}^\\infty dx\\,e^{-ikx}f(x)\n",
    "$$\n",
    "Den inversa transformen ger frekvenssönderläggningen av $f(x)$, i detta fall motsvaras \"frekvensen\" av vågtalet $k$:\n",
    "$$\n",
    "f(x)=\\frac{1}{\\sqrt{2\\pi}}\\int_{-\\infty}^\\infty dk\\,e^{ikx}\\tilde f(k)\n",
    "$$\n",
    "(normeringen har valts för att åstadkomma symmetri mellan de två uttrycken).\n",
    "\n",
    "Genom att sätta in det första uttrycket i det andra får man, under förutättning att man kan byta integrationsordning,\n",
    "$$\n",
    "f(x)=\\frac{1}{\\pi}\\int_{-\\infty}^\\infty dk\\,e^{ikx}\n",
    "\\int_{-\\infty}^\\infty dx'\\,e^{-ikx'}f(x')=\n",
    "\\frac{1}{2\\pi}\\int_{-\\infty}^\\infty dx'\n",
    "\\left(\\,\\int_{-\\infty}^\\infty dk\\,e^{ik(x-x')}\\right)f(x')\n",
    "$$\n",
    "\n",
    "Uttrycket inom parenteser i det sista ledet beror bara på $x-x'$, och om resultatet skall bli $f(x)$ måste det vara en deltafunktion lika med $2\\pi\\delta(x-x')$. Dvs"
   ]
  },
  {
   "cell_type": "markdown",
   "metadata": {},
   "source": [
    "<!-- Equation labels as ordinary links -->\n",
    "<div id=\"eq:expdelta\"></div>\n",
    "\n",
    "$$\n",
    "\\begin{equation}\n",
    "\\delta(x-x') = \\frac{1}{2\\pi} \\int_{-\\infty}^\\infty dk\\,e^{ik(x-x')}.\n",
    "\\label{eq:expdelta} \\tag{5}\n",
    "\\end{equation}\n",
    "$$"
   ]
  },
  {
   "cell_type": "markdown",
   "metadata": {},
   "source": [
    "Genom att byta vågtalet $k$ och koordinaten $x$ får man också $2\\pi \\delta(k-k') = \\int_{-\\infty}^\\infty dx\\,e^{i(k-k')x}$. Detta sätt att skriva deltafunktionen kunde vi också ha anat från ekv. [(1)](#eq:sinxdelta) genom att byta \n",
    "$$\n",
    "\\lim_{\\varepsilon \\to 0} \\frac{\\sin(x/\\varepsilon)}{\\pi x} \\Rightarrow \\lim_{n \\to \\infty} \\frac{\\sin(n x)}{\\pi x}.\n",
    "$$\n",
    "Här kan man nämligen göra omskrivningen"
   ]
  },
  {
   "cell_type": "markdown",
   "metadata": {},
   "source": [
    "$$\n",
    "\\begin{equation}\n",
    "\\int_{-n}^n e^{i x t} dt = \\left[ \\frac{e^{ixt}}{ix} \\right]_{-n}^n \n",
    "= \\left[ \\frac{\\cos(xt)+i\\sin(xt)}{ix} \\right]_{-n}^n \n",
    "= 2 \\frac{\\sin(nx)}{x},\n",
    "\\end{equation}\n",
    "$$"
   ]
  },
  {
   "cell_type": "markdown",
   "metadata": {},
   "source": [
    "så att vi får"
   ]
  },
  {
   "cell_type": "markdown",
   "metadata": {},
   "source": [
    "$$\n",
    "\\begin{equation}\n",
    "\\delta(x) = \\lim_{n \\to \\infty} \\frac{1}{2\\pi} \\int_{-n}^n e^{i x t} dt,\n",
    "\\end{equation}\n",
    "$$"
   ]
  },
  {
   "cell_type": "markdown",
   "metadata": {},
   "source": [
    "vilket är analogt med ekv. [(5)](#eq:expdelta)\n",
    "\n",
    "Funktionerna $e_k(x)=\\frac{1}{\\sqrt{2\\pi}}e^{ikx}$ kan alltså ses som ortogonala och \"deltafunktionsnormerade\" med ortogonalitetsrelationen\n",
    "$$\n",
    "\\int_{-\\infty}^\\infty dx\\,e^{\\mathstrut}_k(x)e^*_{k'}(x)=\\delta(k-k')\n",
    "$$\n",
    "\n",
    "Man kan bekräfta resultatet genom att göra beräkningen explicit \n",
    "för de regulariserade funktionerna $e_{k,\\varepsilon}(x)={1\\over\\sqrt{2\\pi}}e^{ikx-\\varepsilon^2x^2}$ och låta $\\varepsilon\\rightarrow0$ (se uppgift 7.15). \n",
    "\n",
    "----------------------------------------------"
   ]
  }
 ],
 "metadata": {},
 "nbformat": 4,
 "nbformat_minor": 0
}
