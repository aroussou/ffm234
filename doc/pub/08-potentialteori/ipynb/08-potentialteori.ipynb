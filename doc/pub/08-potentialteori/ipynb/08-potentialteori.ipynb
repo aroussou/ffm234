{
 "cells": [
  {
   "cell_type": "markdown",
   "metadata": {},
   "source": [
    "<!-- dom:TITLE: FFM232, Klassisk fysik och vektorfält - Föreläsningsanteckningar -->\n",
    "# FFM232, Klassisk fysik och vektorfält - Föreläsningsanteckningar\n",
    "<!-- dom:AUTHOR: [Christian Forssén](http://fy.chalmers.se/subatom/tsp/), Institutionen för fysik, Chalmers, Göteborg, Sverige -->\n",
    "<!-- Author: --> **[Christian Forssén](http://fy.chalmers.se/subatom/tsp/), Institutionen för fysik, Chalmers, Göteborg, Sverige**\n",
    "\n",
    "Date: **Oct 3, 2016**\n",
    "\n",
    "# 8. Potentialteori\n",
    "\n",
    "## Konservativa fält och potentialer\n",
    "\n",
    "Vi har definierat ett konservativt fält som ett fält $\\vec{F}$ sådant att"
   ]
  },
  {
   "cell_type": "markdown",
   "metadata": {},
   "source": [
    "$$\n",
    "\\begin{equation}\n",
    "  \\oint_C \\vec{F}\\cdot \\mbox{d}\\vec{r} = 0\n",
    "\\end{equation}\n",
    "$$"
   ]
  },
  {
   "cell_type": "markdown",
   "metadata": {},
   "source": [
    "för varje sluten kurva $C$.  Enligt Stokes sats följer det nu att ett fält som har $\\nabla \\times \\vec{F} = 0$ överallt i ett enkelt sammanhängande område är konservativt. Vi har sedan antagit att vi kan skriva"
   ]
  },
  {
   "cell_type": "markdown",
   "metadata": {},
   "source": [
    "$$\n",
    "\\begin{equation}\n",
    "\\vec{F} = - \\nabla \\phi,\n",
    "\\end{equation}\n",
    "$$"
   ]
  },
  {
   "cell_type": "markdown",
   "metadata": {},
   "source": [
    "där $\\phi$ kallas för det konservativa fältets potential. Gäller då \n",
    "$$\n",
    "\\nabla \\times \\vec{F} = 0 \\, \\Longleftrightarrow \\, \\vec{F} = - \\nabla \\phi \\, ??\n",
    "$$\n",
    "Nej, det har vi ännu inte visat! Vi har att $\\vec{F} = - \\nabla \\phi \\, \\Rightarrow \\, \\nabla \\times \\vec{F} = 0 $ eftersom $\\nabla \\times ( \\nabla \\phi) = 0$ (se nedan), men det omvända gäller inte per automatik. Vi har ännu inte visat att konservativa fält alltid kan skrivas som $-\\nabla \\phi$.\n",
    "\n",
    "### Bevis av $\\nabla \\times ( \\nabla \\phi) = 0$ mha indexnotation\n",
    "\n",
    "-----------------------\n",
    "\n",
    "Vi kan visa att $\\nabla \\times ( \\nabla \\phi) = 0$ mha indexnotation: Vektorn $\\left[ \\nabla \\times ( \\nabla \\phi) \\right]_i = \\epsilon_{ijk} \\partial_j \\partial_k \\phi = 0$ eftersom den resulterande summan med nio termer $\\sum_{j,k=1}^3$ har två nollskilda som tar ut varandra. T.ex. för $i=1$ fås $\\partial_2\\partial_3 \\phi - \\partial_3\\partial_2 \\phi = 0$.\n",
    "\n",
    "----------------------------------------------\n",
    "\n",
    "Definitionen av ett konservativt fält gör dock att vi kan definiera en potential från"
   ]
  },
  {
   "cell_type": "markdown",
   "metadata": {},
   "source": [
    "$$\n",
    "\\begin{equation}\n",
    "  \\int_{\\vec{r}_1}^{\\vec{r}_2} \\vec{F} \\cdot \\mbox{d} \\vec{r} = \\phi\\left( \\vec{r}_1 \\right) - \\phi\\left( \\vec{r}_2 \\right).\n",
    "\\end{equation}\n",
    "$$"
   ]
  },
  {
   "cell_type": "markdown",
   "metadata": {},
   "source": [
    "Notera tecknet på potentialskillnaden i HL. Det hade gått lika bra med det omvända, men just denna konvention stämmer överens med energitolkningen i klassisk mekanik.\n",
    "\n",
    "Vi ser nu att förändringen av potentialen mellan punkterna $\\vec{r}$ och $\\vec{r} + \\mbox{d}\\vec{r}$ är"
   ]
  },
  {
   "cell_type": "markdown",
   "metadata": {},
   "source": [
    "$$\n",
    "\\begin{equation}\n",
    "  \\mbox{d}\\phi = -\\vec{F}\\cdot \\mbox{d}\\vec{r},\n",
    "\\end{equation}\n",
    "$$"
   ]
  },
  {
   "cell_type": "markdown",
   "metadata": {},
   "source": [
    "men denna förändring kan också skrivas som"
   ]
  },
  {
   "cell_type": "markdown",
   "metadata": {},
   "source": [
    "$$\n",
    "\\begin{equation}\n",
    "  \\mbox{d}\\phi = \\nabla \\phi \\cdot \\mbox{d}\\vec{r}.\n",
    "\\end{equation}\n",
    "$$"
   ]
  },
  {
   "cell_type": "markdown",
   "metadata": {},
   "source": [
    "Det följer därmed att det finns en potential $\\phi$ så att det konservativa fältet $\\vec{F}$ kan skrivas"
   ]
  },
  {
   "cell_type": "markdown",
   "metadata": {},
   "source": [
    "$$\n",
    "\\begin{equation}\n",
    "  \\vec{F} = -\\nabla \\phi.\n",
    "\\end{equation}\n",
    "$$"
   ]
  },
  {
   "cell_type": "markdown",
   "metadata": {},
   "source": [
    "Faktum är att $\\phi$ inte är entydigt bestämd.  Man kan skapa en ny potential genom att addera en konstant till en potential: $\\phi \\mapsto \\phi + \\phi_0$.\n",
    "\n",
    "### Exempel: Arbete i klassisk mekanik\n",
    "\n",
    "-----------------------\n",
    "\n",
    "För ett konservativt kraftfält $\\vec{F}$ gäller att det uträttade arbetet längs en rörelsebana motsvarar en *ökning* av den kinetiska energin åtföljt av en motsvarade *minskning* av en potentiell energi så att den totala mekaniska energin $E = T + V$ är *konserverad*.\n",
    "\n",
    "[Comment 1: Notera att uträttat arbete kan vara negativt vilket isf innebär en minskning av den kinetiska energin och en ökning av den potentiella.]\n",
    "\n",
    "Arbetet som uträttas längs en kurva $C$ motsvaras av kurvintegralen"
   ]
  },
  {
   "cell_type": "markdown",
   "metadata": {},
   "source": [
    "$$\n",
    "\\begin{equation}\n",
    "\\int_C \\vec{F} \\cdot \\mbox{d}\\vec{r} = \\left\\{ \\begin{array}{l}\n",
    "\\vec{F} = m \\vec{a} = m \\frac{\\mbox{d}\\vec{v}}{\\mbox{d}t} \n",
    "\\end{equation}\n",
    "$$"
   ]
  },
  {
   "cell_type": "markdown",
   "metadata": {},
   "source": [
    "$$\n",
    "\\begin{equation} \n",
    "\\mbox{d}\\vec{r} = \\vec{v} \\mbox{d}t\n",
    "\\end{array} \n",
    ", \\quad \\frac{\\mbox{d}\\vec{v}}{\\mbox{d}t} \\cdot \\vec{v} = \\frac{1}{2}\\frac{\\mbox{d}}{\\mbox{d}t} (\\vec{v} \\cdot \\vec{v})\n",
    "\\right\\} \n",
    "\\end{equation}\n",
    "$$"
   ]
  },
  {
   "cell_type": "markdown",
   "metadata": {},
   "source": [
    "$$\n",
    "\\begin{equation} \n",
    "= \\frac{m}{2} \\int_{t_A}^{t_B} \\frac{\\mbox{d}}{\\mbox{d}t} (\\vec{v} \\cdot \\vec{v}) \\mbox{d}t = \\frac{m v_2^2}{2} - \\frac{m v_1^2}{2} = \\delta T.\n",
    "\\end{equation}\n",
    "$$"
   ]
  },
  {
   "cell_type": "markdown",
   "metadata": {},
   "source": [
    "Här har vi använt NII. Tidpunkterna $t_A$ och $t_B$ motsvarar start- respektive sluttiden för rörelsen.\n",
    "\n",
    "Ett exempel på ett sådant konservativt kraftfält är gravitationskraften nära jordytan: $\\vec{F} = - m g \\hat{z}$.\n",
    "\n",
    "Med vår nuvarande kunskap skulle vi uttrycka detta som $\\vec{F} = -\\nabla \\phi$, där vi alltså använder beteckningen $\\phi$ istället för $V$. För vårt exempel finner vi att potentialen $\\phi(\\vec{r}) = m g z$ uppfyller denna likhet.\n",
    "\n",
    "Vidare uppfyller kraftfältet $\\nabla \\times \\vec{F} = 0$. Vi kontrollerar detta för vårt exempel: \n",
    "$$\n",
    "\\begin{vmatrix}\n",
    "\\hat{x} & \\hat{y} & \\hat{z} \\\\\n",
    "\\frac{\\partial}{\\partial x} & \\frac{\\partial}{\\partial y} & \\frac{\\partial}{\\partial z} \\\\\n",
    "\\mbox{0}  &  \\mbox{0}  & -mg \\\\\n",
    "\\end{vmatrix}\n",
    "= 0\n",
    "$$\n",
    "\n",
    "Kurvintegralen\n",
    "$$\n",
    "\\int_C \\vec{F} \\cdot \\mbox{d}\\vec{r} = \\phi\\left( \\vec{r}_A \\right) - \\phi\\left( \\vec{r}_B \\right),\n",
    "$$\n",
    "där $A$ och $B$ är kurvans start- respektive slutpunkt. Här finner vi att potentialskillnaden $-\\delta \\phi = \\phi(z_A) - \\phi(z_B) = mg (z_A-z_B)$. Detta är alltså den negativa skillnaden i potentiell energi och vi får\n",
    "$$\n",
    "\\delta T = - \\delta \\phi \\quad \\Rightarrow \\quad \\delta(T+V) = 0.\n",
    "$$\n",
    "\n",
    "--------------------------------------------\n",
    "\n",
    "## Poissons och Laplaces ekvationer\n",
    "\n",
    "Konservativa vektorfält är alltså rotationsfria, men de kan fortfarande ha nollskild divergens. Denna kallas ofta för *källtäthet*"
   ]
  },
  {
   "cell_type": "markdown",
   "metadata": {},
   "source": [
    "$$\n",
    "\\begin{equation}\n",
    "\\rho(\\vec{r}) = \\nabla \\cdot \\vec{F},\n",
    "\\end{equation}\n",
    "$$"
   ]
  },
  {
   "cell_type": "markdown",
   "metadata": {},
   "source": [
    "och vi har stött på exempel där denna har tolkats i termer av elektrostatik och massflöde. Med $\\vec{F} = -\\nabla \\phi$ får vi *Poissons ekvation*"
   ]
  },
  {
   "cell_type": "markdown",
   "metadata": {},
   "source": [
    "$$\n",
    "\\begin{equation}\n",
    "\\nabla \\cdot \\nabla \\phi(\\vec{r}) = \\Delta \\phi(\\vec{r}) = -\\rho(\\vec{r}),\n",
    "\\end{equation}\n",
    "$$"
   ]
  },
  {
   "cell_type": "markdown",
   "metadata": {},
   "source": [
    "Specialfallet av denna ekvation utan källa, dvs divergensfritt, ger *Laplaces ekvation*"
   ]
  },
  {
   "cell_type": "markdown",
   "metadata": {},
   "source": [
    "$$\n",
    "\\begin{equation}\n",
    "\\Delta \\phi(\\vec{r}) = 0.\n",
    "\\end{equation}\n",
    "$$"
   ]
  },
  {
   "cell_type": "markdown",
   "metadata": {},
   "source": [
    "Kom ihåg att $\\Delta$ är Laplacianen vilken kan skrivas"
   ]
  },
  {
   "cell_type": "markdown",
   "metadata": {},
   "source": [
    "$$\n",
    "\\begin{equation}\n",
    "\\Delta \\phi = \\left( \\frac{\\partial^2}{\\partial x^2} + \\frac{\\partial^2}{\\partial y^2} + \\frac{\\partial^2}{\\partial z^2} \\right) \\phi,\n",
    "\\end{equation}\n",
    "$$"
   ]
  },
  {
   "cell_type": "markdown",
   "metadata": {},
   "source": [
    "i cartesiska koordinater. Den ser annorlunda ut i kroklinjiga koordinatsystem.\n",
    "\n",
    "[Comment 2: Notera att $\\vec{F} = -m g \\hat{z}$ är divergensfritt och att potentialen $\\phi = m g z$ uppfyller Laplaces ekvation $\\Delta \\phi = 0$.]\n",
    "\n",
    "[Rita 3: Skissa gärna hur ett fält som uppfyller Laplaces ekvation beter sig. Titta på ett fält $\\phi(x,y)$ och använd Taylorexpansion för att teckna beteendet nära en punkt $\\vec{r}_0$. Villkoret $\\frac{\\partial^2\\phi}{\\partial x^2} + \\frac{\\partial^2\\phi}{\\partial y^2} = 0$ ger en andragradskurva \n",
    "$$\n",
    "\\phi(\\vec{r}) =  c_0 + c_x (x-x_0) + c_y (y-y_0) + c_{xy} (x-x_0)(y-y_0)+ \\frac{c_{ii}}{2}(x-x_0)^2 - \\frac{c_{ii}}{2}(y-y_0)^2,\n",
    "$$\n",
    "där t.ex. $c_0 = \\phi(\\vec{r}_0)$, $c_x = d\\phi/dx(\\vec{r}_0)$, etc. Det viktiga är alltså att expansionen slutar med den kvadratiska termen och att dessa är lika, men motriktade, i $x$- och $y$-led.\n",
    "]\n",
    "\n",
    "Notera att Poissons och Laplaces ekvationer är exempel på *differentialekvationer*. För att lösa dessa i ett område behöver man också veta randvillkor för fältet $\\phi$. \n",
    "\n",
    "### Exempel: Lösningar till Laplaces ekvation\n",
    "\n",
    "------------------------\n",
    "\n",
    "<!-- dom:FIGURE:[fig/xy.png, width=600 frac=0.8] Lösningen ($\\phi = xy$) till Laplaces ekvation i två dimensioner på ett kvadratiskt område med randvillkor enligt figuren. <div id=\"fig:xy\"></div> -->\n",
    "<!-- begin figure -->\n",
    "<div id=\"fig:xy\"></div>\n",
    "\n",
    "<p>Lösningen ($\\phi = xy$) till Laplaces ekvation i två dimensioner på ett kvadratiskt område med randvillkor enligt figuren.</p>\n",
    "<img src=\"fig/xy.png\" width=600>\n",
    "\n",
    "<!-- end figure -->\n",
    "\n",
    "\n",
    "<!-- dom:FIGURE:[fig/x2y2.png, width=600 frac=0.8] Lösningen ($\\phi = x^2 - y^2$) till Laplaces ekvation i två dimensioner på ett cirkulärt område med vinkelberoende randvillkor enligt figuren. <div id=\"fig:x2y2\"></div> -->\n",
    "<!-- begin figure -->\n",
    "<div id=\"fig:x2y2\"></div>\n",
    "\n",
    "<p>Lösningen ($\\phi = x^2 - y^2$) till Laplaces ekvation i två dimensioner på ett cirkulärt område med vinkelberoende randvillkor enligt figuren.</p>\n",
    "<img src=\"fig/x2y2.png\" width=600>\n",
    "\n",
    "<!-- end figure -->\n",
    "\n",
    "\n",
    "Två exempel på lösningar till Laplaces ekvation i ett område med givna randvillkor visas i figurerna ref{fig:xy} och ref{fig:x2y2}.\n",
    "\n",
    "------------------------------------------------\n",
    "\n",
    "\n",
    "Vi kommer t.ex. se att (ett stationärt) temperaturfält uppfyller någon av dessa ekvationer (Laplaces ekvation om det inte finns en värmekälla). För att t.ex. räkna ut temperaturfältet inuti ett värmeisolerande fönster behöver vi veta randvillkor för fältet på glasets in- och utsida.\n",
    "\n",
    "Olika tekniker för lösning av dessa ekvationer presenteras i kapitel 9.\n",
    "\n",
    "## Divergensfria fält\n",
    "\n",
    "Kan man erhålla *divergensfria* fält från någon potential på liknande sätt som vi just gjorde för rotationsfria fält?\n",
    "\n",
    "Vi betraktar ett divergensfritt fält $\\vec{G}$\n",
    "$$\n",
    "\\nabla \\cdot \\vec{G} = 0,\n",
    "$$\n",
    "och nöjer oss med att konstatera att divergensfriheten uppenbarligen uppfylls om fältet kan skrivas"
   ]
  },
  {
   "cell_type": "markdown",
   "metadata": {},
   "source": [
    "$$\n",
    "\\begin{equation}\n",
    "\\vec{G} = \\nabla \\times \\vec{A}.\n",
    "\\end{equation}\n",
    "$$"
   ]
  },
  {
   "cell_type": "markdown",
   "metadata": {},
   "source": [
    "[Kommentar 4: Visa detta om ni är osäkra. Gärna med indexnotation.\n",
    "$$\n",
    "\\nabla \\cdot (\\nabla \\times \\vec{A}) = \\partial_i \\epsilon_{ijk} \\partial_j A_k,\n",
    "$$\n",
    "Vilket är en summa med 27 termer, vara sex är nollskilda och dessa tar ut varandra parvis.\n",
    "]\n",
    "\n",
    "Vektorfältet $\\vec{A}$ kallas då för en *vektorpotential*.\n",
    "\n",
    "### Standardexempel: Statiskt magnetfält\n",
    "\n",
    "------------------------\n",
    "\n",
    "Ett statiskt magnetfält $\\vec{B}(\\vec{r})$ är divergensfritt och uppfyller $\\vec{B}(\\vec{r}) = \\nabla \\times \\vec{A}(\\vec{r})$ där $\\vec{A}$ kallas för den elektromagnetiska vektorpotentialen.\n",
    "\n",
    "---------------------------------------------\n",
    "\n",
    "Vi fann tidigare att skalära potentialer hade en invarians genom att vi kunde addera en konstant term $\\phi \\mapsto \\phi + \\phi_0$ utan att ändra fältstyrkan.\n",
    "\n",
    "På samma sätt har vektorpotentialen en invarians"
   ]
  },
  {
   "cell_type": "markdown",
   "metadata": {},
   "source": [
    "$$\n",
    "\\begin{equation}\n",
    "\\vec{A}(\\vec{r}) \\mapsto \\vec{A}(\\vec{r}) + \\nabla \\Lambda(\\vec{r}),\n",
    "\\end{equation}\n",
    "$$"
   ]
  },
  {
   "cell_type": "markdown",
   "metadata": {},
   "source": [
    "där $\\Lambda$ kallas för en Gaugeparameter och invariansen kallas för *Gaugeinvarians*. \n",
    "\n",
    "[Kommentar 5: Detta må verka som en kuriositet, men just Gaugeinvarians är av fundamental betydelse för vår teoretiska förståelse av elektromagnetiska, svaga och starka krafter.]\n",
    "\n",
    "[Kommentar 6: Ofta använder man Gaugeinvariansen till att skapa en vektorpotential som är divergensfri. Dvs man väljer $\\Lambda$ så att $\\Delta \\Lambda = -\\nabla \\cdot \\vec{A}$.]\n",
    "\n",
    "Rotationen kallas ofta för virveltäthet\n",
    "$$\n",
    "\\nabla \\times \\vec{G} = \\vec{j} \\quad \\Rightarrow \\nabla \\times (\\nabla \\times \\vec{A}) = \\vec{j}.\n",
    "$$\n",
    "Vi använder sambandet $\\nabla \\times \\left( \\nabla \\times \\vec{A} \\right) = \\nabla \\left( \\nabla \\cdot \\vec{A} \\right) - \\Delta \\vec{A}$ vilket alltså ger\n",
    "$$\n",
    "\\Delta \\vec{A} - \\nabla \\left( \\nabla \\cdot \\vec{A} \\right) = -\\vec{j}.\n",
    "$$\n",
    "Genom att välja Gaugeparametern så att $\\nabla \\cdot \\vec{A} = 0$ får vi Poissons ekvation för vektorpotentialen"
   ]
  },
  {
   "cell_type": "markdown",
   "metadata": {},
   "source": [
    "$$\n",
    "\\begin{equation}\n",
    "\\Delta \\vec{A} = -\\vec{j}.\n",
    "\\end{equation}\n",
    "$$"
   ]
  },
  {
   "cell_type": "markdown",
   "metadata": {},
   "source": [
    "## Potentialer för godtyckliga vektorfält\n",
    "\n",
    "* Betrakta ett fält med både källor och virvlar, dvs $\\nabla \\cdot \\vec{H} = \\rho \\neq 0$ och $\\nabla \\times \\vec{H} = \\vec{j} \\neq 0$.\n",
    "\n",
    "* Detta allmänna vektorfält kan vi dela upp i två delar $\\vec{H} = \\vec{F} + \\vec{G}$ där"
   ]
  },
  {
   "cell_type": "markdown",
   "metadata": {},
   "source": [
    "$$\n",
    "\\begin{equation}\n",
    "\\nabla \\cdot \\vec{F} = \\rho \\quad  \\nabla \\cdot \\vec{G} = 0 \n",
    "\\end{equation}\n",
    "$$"
   ]
  },
  {
   "cell_type": "markdown",
   "metadata": {},
   "source": [
    "$$\n",
    "\\begin{equation} \n",
    "\\nabla \\times \\vec{F} = 0 \\quad  \\nabla \\times \\vec{G} = \\vec{j}\n",
    "\\end{equation}\n",
    "$$"
   ]
  },
  {
   "cell_type": "markdown",
   "metadata": {},
   "source": [
    "* Dvs, fältet $\\vec{H}$ kan skrivas som summan av ett rotationsfritt fält $\\vec{F}$ och ett divergensfritt fält $\\vec{G}$ som representeras av potentialerna $\\phi$ och $\\vec{A}$.\n",
    "\n",
    "$$\n",
    "\\vec{H} = \\vec{F} + \\vec{G} = -\\nabla \\phi + \\nabla \\times \\vec{A}.\n",
    "$$\n",
    "\n",
    "### Exempel: Stagnationsström, konservativt hastighetsfält\n",
    "\n",
    "---------------\n",
    "\n",
    "Betrakta (det rotationsfria) hastighetsfältet som ges av potentialen\n",
    "$$\n",
    "\\phi(x,y) = \\frac{A}{2}(x^2 - y^2),\n",
    "$$\n",
    "där $A$ är en positiv konstant. Hastighetsfältet blir\n",
    "$$\n",
    "\\vec{v} = -\\nabla \\phi \\quad \\Rightarrow \n",
    "\\left\\{\n",
    "\\begin{array}{l}\n",
    "v_x = -A x \\\\\n",
    "v_y = A y\n",
    "\\end{array}\n",
    "\\right.\n",
    "$$\n",
    "Vi noterar att detta fält också är divergensfritt. \n",
    "\n",
    "En fältbild (potential och fältlinjer) visas nedan. Notera att det finns områden där hastigheten är noll. Dessa kallas stagnationspunkter. Vi noterar också att fältlinjerna blir parallella med $x$- och $y$-axlarna när vi kommer tillräckligt nära. Vi kan därför tänka oss dessa som fasta väggar och att vårt hastighetsfält beskriver strömmen vid ett hörn.\n",
    "\n",
    "<!-- dom:FIGURE:[fig/stagnation_fieldplot.png, width=600 frac=0.8] -->\n",
    "<!-- begin figure -->\n",
    "\n",
    "<p></p>\n",
    "<img src=\"fig/stagnation_fieldplot.png\" width=600>\n",
    "\n",
    "<!-- end figure -->\n",
    "\n",
    "\n",
    "I verkligheten kommer dock friktionen nära väggen att skapa virvlar, och vår rotationsfria approximation ger en sämre beskrivning.\n",
    "\n",
    "------------------------------------\n",
    "\n",
    "## Standardexempel på käll- och virvelfördelningar\n",
    "\n",
    "### Punktkälla med styrkan $q$ i origo\n",
    "\n",
    "* vektorfält \n",
    "\n",
    "$$\n",
    "\\vec F=\\frac{q}{4\\pi r^2}\\hat r.\n",
    "$$\n",
    "* rotationsfritt, men med en källa $\\rho=q\\delta^3(\\vec{r})$. Fältet har en potential\n",
    "\n",
    "$$\n",
    "\\phi=\\frac{q}{4\\pi r},\n",
    "$$\n",
    "som uppfyller Poissons ekvation med källan $\\rho=q\\delta^3(\\vec{r})$, \n",
    "$$\n",
    "\\Delta\\phi=-q\\delta^3(\\vec{r}).\n",
    "$$\n",
    "\n",
    "### Linjekälla på $z$-axeln med konstant styrka $k$\n",
    "\n",
    "* vektorfält\n",
    "\n",
    "$$\n",
    "\\vec F=\\frac{k}{2\\pi\\varrho}\\hat\\varrho\n",
    "$$\n",
    "* Motsvarande potential är \n",
    "\n",
    "$$\n",
    "\\phi=-\\frac{k}{2\\pi}\\log\\frac{\\varrho}{\\varrho_0},\n",
    "$$\n",
    "* Potentialen uppfyller Poissons ekvation:\n",
    "\n",
    "$$\n",
    "\\Delta\\phi=-k\\delta^2(\\vec{\\varrho}).\n",
    "$$\n",
    "\n",
    "### Virveltråd på $z$-axeln med styrka $J$\n",
    "\n",
    "* fältet \n",
    "\n",
    "$$\n",
    "\\vec G=\\frac{J}{2\\pi\\varrho}\\hat\\varphi.\n",
    "$$\n",
    "* Vektorpotentialen är (t.ex., med tanke på gaugeinvarians)\n",
    "\n",
    "$$\n",
    "\\vec A=-\\frac{J\\hat z}{2\\pi}\\log\\frac{\\varrho}{\\varrho_0},\n",
    "$$\n",
    "(kontrollera; $\\nabla\\times\\vec A$ i cylindriska koordinater)\n",
    "$$\n",
    "\\nabla\\times\\vec A=\\frac{1}{\\varrho}\n",
    "\t\\begin{vmatrix}\n",
    "        \\hat\\varrho & \\varrho\\hat\\varphi & \\hat z \\\\ \\frac{\\partial}{\\partial \\varrho} & \n",
    "\\frac{\\partial}{\\partial \\varphi} &\n",
    "        \\frac{\\partial}{\\partial z} \\\\ 0\\mbox{} & 0\\mbox{} & -\\frac{J}{2\\pi}\\log\\varrho \\\\\n",
    "        \\end{vmatrix}\n",
    "           =\\frac{J}{2\\pi\\varrho}\\hat\\varphi.\n",
    "$$\n",
    "* Notera att denna vektorpotential uppfyller $\\nabla\\cdot\\vec A=0$, och därför ges virvelfördelningen av \n",
    "\n",
    "$$\n",
    "\\nabla \\times \\vec{G} = \\vec{\\jmath} = -\\Delta\\vec A.\n",
    "$$ \n",
    "* Poissons ekvation, \n",
    "\n",
    "$$\n",
    "\\Delta\\vec A=-J\\hat z\\delta^2(\\vec{\\varrho}).\n",
    "$$\n",
    "\n",
    "\n",
    "## Randvärdesproblem\n",
    "\n",
    "[Comment 7: Att ta reda på precis \"hur mycket\" villkor, och av vilket slag, man bör lägga på fältet på randen $\\partial V$ är ju ett matematiskt problem, men det matematiska svaret på frågan bör också vara ett svar inom fysik, så att en given fysikalisk förutsättning ger en unik lösning (fältkonfiguration).]\n",
    "\n",
    "* Vårt randvärdesproblem består av den partiella differentialekvationen $\\Delta\\phi=-\\rho$ samt några randvillkor \n",
    "\n",
    "* Vilka randvillkor ger en *unik* lösning? Eller hur skall \"bra\" randvillkor formuleras? \n",
    "\n",
    "* Antag att $\\phi_1$ och $\\phi_2$ båda är lösningar. \n",
    "\n",
    "* $\\psi=\\phi_1-\\phi_2$, uppfyller Laplaces ekvation, $\\Delta\\psi=0$. \n",
    "\n",
    "* En trivial lösning, $\\psi=\\mathrm{konstant}$, innebär att lösningen till Poissons ekvation är unik \n",
    "\n",
    "[Comment 8: Eftersom $\\phi_1$ och $\\phi_2$ ger samma vektorfält om de enbart skiljer på en konstant.]\n",
    "\n",
    "Betrakta nu identiteten\n",
    "$$\n",
    "\\nabla\\cdot(\\psi\\nabla\\psi)=\\nabla\\psi\\cdot\\nabla\\psi+\\psi\\Delta\\psi\n",
    "=\\nabla\\psi\\cdot\\nabla\\psi=|\\nabla\\psi|^2,\n",
    "$$\n",
    "som gäller när $\\Delta\\psi=0$. Tillämpa nu Gauss sats på vektorfältet $\\psi\\nabla\\psi$. \n",
    "$$\n",
    "\\int_V|\\nabla\\psi|^2dV=\\int_{\\partial V}\\psi\\nabla\\psi\\cdot d\\vec S.\n",
    "$$\n",
    "* VL är positivt semidefinit, och noll endast om $\\psi = \\mathrm{konstant}$. \n",
    "\n",
    "* Randvillkor som gör HL till noll innebär därför det vi vill.\n",
    "\n",
    "Ytintegralen i högerledet är \n",
    "$$\n",
    "\\int_{\\partial V}\\psi(\\nabla\\psi\\cdot\\vec n)dS.\n",
    "$$ \n",
    "Två faktorer i integranden: $\\psi$ och $\\nabla\\psi\\cdot\\vec n$. \n",
    "\n",
    "[Comment 9: Den andra faktorn är \"normalderivatan\" vid randen, alltså riktningsderivatan i normalens riktning.]\n",
    "\n",
    "[Comment 10: Lösningen till Laplaces ekvation är trivial (konstant) om den ena eller den andra är noll på randen.]\n",
    "\n",
    "### Dirichlets randvillkor:\n",
    "\n",
    "$$\n",
    "\\psi = 0 \\mathrm{~på~} \\partial V \\quad \\Rightarrow \\quad \\psi = 0 \\mathrm{~i~} V\n",
    "$$\n",
    "Detta ger att\n",
    "$$\n",
    "\\phi|_{\\partial V}=f,\n",
    "$$\n",
    "där $f$ är en funktion på randen\n",
    "\n",
    "### Neumanns randvillkor:\n",
    "\n",
    "$$\n",
    "(\\nabla\\psi) \\cdot \\vec n=0 \\mathrm{~på~} \\partial V \\quad \\Rightarrow \\quad \\psi = \\mathrm{konstant} \\mathrm{~i~} V\n",
    "$$\n",
    "Detta ger att\n",
    "$$\n",
    "(\\nabla\\phi)|_{\\partial V}\\cdot\\vec n=g,\n",
    "$$\n",
    "där $g$ är en funktion på randen. \n",
    "\n",
    "### Sammanfattning:\n",
    "\n",
    "Poissons ekvation i volymen $V$ med någon källfördelning $\\rho$ har en unik lösning (sånär\n",
    "som på en ointressant konstant) för dessa två typer av randvillkor."
   ]
  }
 ],
 "metadata": {},
 "nbformat": 4,
 "nbformat_minor": 0
}
